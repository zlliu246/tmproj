{
  "nbformat": 4,
  "nbformat_minor": 0,
  "metadata": {
    "colab": {
      "name": "legal squad bert finetune",
      "provenance": [],
      "collapsed_sections": [],
      "toc_visible": true,
      "machine_shape": "hm"
    },
    "kernelspec": {
      "display_name": "Python 3",
      "name": "python3"
    },
    "accelerator": "TPU",
    "widgets": {
      "application/vnd.jupyter.widget-state+json": {
        "5e28a88f25254ebcbdecb73bcf313492": {
          "model_module": "@jupyter-widgets/controls",
          "model_name": "HBoxModel",
          "state": {
            "_view_name": "HBoxView",
            "_dom_classes": [],
            "_model_name": "HBoxModel",
            "_view_module": "@jupyter-widgets/controls",
            "_model_module_version": "1.5.0",
            "_view_count": null,
            "_view_module_version": "1.5.0",
            "box_style": "",
            "layout": "IPY_MODEL_0e7417358c5f4cb387bfe788de69e1f9",
            "_model_module": "@jupyter-widgets/controls",
            "children": [
              "IPY_MODEL_2faf29831d974bc68ddfcdb535c83135",
              "IPY_MODEL_b2d4772548c24b2c83bfee78ff766c0d"
            ]
          }
        },
        "0e7417358c5f4cb387bfe788de69e1f9": {
          "model_module": "@jupyter-widgets/base",
          "model_name": "LayoutModel",
          "state": {
            "_view_name": "LayoutView",
            "grid_template_rows": null,
            "right": null,
            "justify_content": null,
            "_view_module": "@jupyter-widgets/base",
            "overflow": null,
            "_model_module_version": "1.2.0",
            "_view_count": null,
            "flex_flow": null,
            "width": null,
            "min_width": null,
            "border": null,
            "align_items": null,
            "bottom": null,
            "_model_module": "@jupyter-widgets/base",
            "top": null,
            "grid_column": null,
            "overflow_y": null,
            "overflow_x": null,
            "grid_auto_flow": null,
            "grid_area": null,
            "grid_template_columns": null,
            "flex": null,
            "_model_name": "LayoutModel",
            "justify_items": null,
            "grid_row": null,
            "max_height": null,
            "align_content": null,
            "visibility": null,
            "align_self": null,
            "height": null,
            "min_height": null,
            "padding": null,
            "grid_auto_rows": null,
            "grid_gap": null,
            "max_width": null,
            "order": null,
            "_view_module_version": "1.2.0",
            "grid_template_areas": null,
            "object_position": null,
            "object_fit": null,
            "grid_auto_columns": null,
            "margin": null,
            "display": null,
            "left": null
          }
        },
        "2faf29831d974bc68ddfcdb535c83135": {
          "model_module": "@jupyter-widgets/controls",
          "model_name": "FloatProgressModel",
          "state": {
            "_view_name": "ProgressView",
            "style": "IPY_MODEL_33d08e131bbe4520854155838ab7118c",
            "_dom_classes": [],
            "description": "Downloading: 100%",
            "_model_name": "FloatProgressModel",
            "bar_style": "success",
            "max": 231508,
            "_view_module": "@jupyter-widgets/controls",
            "_model_module_version": "1.5.0",
            "value": 231508,
            "_view_count": null,
            "_view_module_version": "1.5.0",
            "orientation": "horizontal",
            "min": 0,
            "description_tooltip": null,
            "_model_module": "@jupyter-widgets/controls",
            "layout": "IPY_MODEL_78f6e8538d164483ba5094f3bb2f2ba0"
          }
        },
        "b2d4772548c24b2c83bfee78ff766c0d": {
          "model_module": "@jupyter-widgets/controls",
          "model_name": "HTMLModel",
          "state": {
            "_view_name": "HTMLView",
            "style": "IPY_MODEL_ef4aec54613044cc90c4e1c44daaba2d",
            "_dom_classes": [],
            "description": "",
            "_model_name": "HTMLModel",
            "placeholder": "​",
            "_view_module": "@jupyter-widgets/controls",
            "_model_module_version": "1.5.0",
            "value": " 232k/232k [00:00&lt;00:00, 702kB/s]",
            "_view_count": null,
            "_view_module_version": "1.5.0",
            "description_tooltip": null,
            "_model_module": "@jupyter-widgets/controls",
            "layout": "IPY_MODEL_959de497bf164b6bb7435dbe175d2be3"
          }
        },
        "33d08e131bbe4520854155838ab7118c": {
          "model_module": "@jupyter-widgets/controls",
          "model_name": "ProgressStyleModel",
          "state": {
            "_view_name": "StyleView",
            "_model_name": "ProgressStyleModel",
            "description_width": "initial",
            "_view_module": "@jupyter-widgets/base",
            "_model_module_version": "1.5.0",
            "_view_count": null,
            "_view_module_version": "1.2.0",
            "bar_color": null,
            "_model_module": "@jupyter-widgets/controls"
          }
        },
        "78f6e8538d164483ba5094f3bb2f2ba0": {
          "model_module": "@jupyter-widgets/base",
          "model_name": "LayoutModel",
          "state": {
            "_view_name": "LayoutView",
            "grid_template_rows": null,
            "right": null,
            "justify_content": null,
            "_view_module": "@jupyter-widgets/base",
            "overflow": null,
            "_model_module_version": "1.2.0",
            "_view_count": null,
            "flex_flow": null,
            "width": null,
            "min_width": null,
            "border": null,
            "align_items": null,
            "bottom": null,
            "_model_module": "@jupyter-widgets/base",
            "top": null,
            "grid_column": null,
            "overflow_y": null,
            "overflow_x": null,
            "grid_auto_flow": null,
            "grid_area": null,
            "grid_template_columns": null,
            "flex": null,
            "_model_name": "LayoutModel",
            "justify_items": null,
            "grid_row": null,
            "max_height": null,
            "align_content": null,
            "visibility": null,
            "align_self": null,
            "height": null,
            "min_height": null,
            "padding": null,
            "grid_auto_rows": null,
            "grid_gap": null,
            "max_width": null,
            "order": null,
            "_view_module_version": "1.2.0",
            "grid_template_areas": null,
            "object_position": null,
            "object_fit": null,
            "grid_auto_columns": null,
            "margin": null,
            "display": null,
            "left": null
          }
        },
        "ef4aec54613044cc90c4e1c44daaba2d": {
          "model_module": "@jupyter-widgets/controls",
          "model_name": "DescriptionStyleModel",
          "state": {
            "_view_name": "StyleView",
            "_model_name": "DescriptionStyleModel",
            "description_width": "",
            "_view_module": "@jupyter-widgets/base",
            "_model_module_version": "1.5.0",
            "_view_count": null,
            "_view_module_version": "1.2.0",
            "_model_module": "@jupyter-widgets/controls"
          }
        },
        "959de497bf164b6bb7435dbe175d2be3": {
          "model_module": "@jupyter-widgets/base",
          "model_name": "LayoutModel",
          "state": {
            "_view_name": "LayoutView",
            "grid_template_rows": null,
            "right": null,
            "justify_content": null,
            "_view_module": "@jupyter-widgets/base",
            "overflow": null,
            "_model_module_version": "1.2.0",
            "_view_count": null,
            "flex_flow": null,
            "width": null,
            "min_width": null,
            "border": null,
            "align_items": null,
            "bottom": null,
            "_model_module": "@jupyter-widgets/base",
            "top": null,
            "grid_column": null,
            "overflow_y": null,
            "overflow_x": null,
            "grid_auto_flow": null,
            "grid_area": null,
            "grid_template_columns": null,
            "flex": null,
            "_model_name": "LayoutModel",
            "justify_items": null,
            "grid_row": null,
            "max_height": null,
            "align_content": null,
            "visibility": null,
            "align_self": null,
            "height": null,
            "min_height": null,
            "padding": null,
            "grid_auto_rows": null,
            "grid_gap": null,
            "max_width": null,
            "order": null,
            "_view_module_version": "1.2.0",
            "grid_template_areas": null,
            "object_position": null,
            "object_fit": null,
            "grid_auto_columns": null,
            "margin": null,
            "display": null,
            "left": null
          }
        },
        "51c7a77b203f4c6cb919fbb05f111b13": {
          "model_module": "@jupyter-widgets/controls",
          "model_name": "HBoxModel",
          "state": {
            "_view_name": "HBoxView",
            "_dom_classes": [],
            "_model_name": "HBoxModel",
            "_view_module": "@jupyter-widgets/controls",
            "_model_module_version": "1.5.0",
            "_view_count": null,
            "_view_module_version": "1.5.0",
            "box_style": "",
            "layout": "IPY_MODEL_782d0d664593493b99d89756124e891a",
            "_model_module": "@jupyter-widgets/controls",
            "children": [
              "IPY_MODEL_f9733723854d4ca781dbddd80533e015",
              "IPY_MODEL_250a89e24b794131bceba99794e6227c"
            ]
          }
        },
        "782d0d664593493b99d89756124e891a": {
          "model_module": "@jupyter-widgets/base",
          "model_name": "LayoutModel",
          "state": {
            "_view_name": "LayoutView",
            "grid_template_rows": null,
            "right": null,
            "justify_content": null,
            "_view_module": "@jupyter-widgets/base",
            "overflow": null,
            "_model_module_version": "1.2.0",
            "_view_count": null,
            "flex_flow": null,
            "width": null,
            "min_width": null,
            "border": null,
            "align_items": null,
            "bottom": null,
            "_model_module": "@jupyter-widgets/base",
            "top": null,
            "grid_column": null,
            "overflow_y": null,
            "overflow_x": null,
            "grid_auto_flow": null,
            "grid_area": null,
            "grid_template_columns": null,
            "flex": null,
            "_model_name": "LayoutModel",
            "justify_items": null,
            "grid_row": null,
            "max_height": null,
            "align_content": null,
            "visibility": null,
            "align_self": null,
            "height": null,
            "min_height": null,
            "padding": null,
            "grid_auto_rows": null,
            "grid_gap": null,
            "max_width": null,
            "order": null,
            "_view_module_version": "1.2.0",
            "grid_template_areas": null,
            "object_position": null,
            "object_fit": null,
            "grid_auto_columns": null,
            "margin": null,
            "display": null,
            "left": null
          }
        },
        "f9733723854d4ca781dbddd80533e015": {
          "model_module": "@jupyter-widgets/controls",
          "model_name": "FloatProgressModel",
          "state": {
            "_view_name": "ProgressView",
            "style": "IPY_MODEL_8e12978a64924069b7d1563519e1a433",
            "_dom_classes": [],
            "description": "Downloading: 100%",
            "_model_name": "FloatProgressModel",
            "bar_style": "success",
            "max": 466062,
            "_view_module": "@jupyter-widgets/controls",
            "_model_module_version": "1.5.0",
            "value": 466062,
            "_view_count": null,
            "_view_module_version": "1.5.0",
            "orientation": "horizontal",
            "min": 0,
            "description_tooltip": null,
            "_model_module": "@jupyter-widgets/controls",
            "layout": "IPY_MODEL_a198e9bacd4e4c7b97836a5d808d8669"
          }
        },
        "250a89e24b794131bceba99794e6227c": {
          "model_module": "@jupyter-widgets/controls",
          "model_name": "HTMLModel",
          "state": {
            "_view_name": "HTMLView",
            "style": "IPY_MODEL_0348480c45ae46c6b3938afb355d6bc3",
            "_dom_classes": [],
            "description": "",
            "_model_name": "HTMLModel",
            "placeholder": "​",
            "_view_module": "@jupyter-widgets/controls",
            "_model_module_version": "1.5.0",
            "value": " 466k/466k [00:00&lt;00:00, 534kB/s]",
            "_view_count": null,
            "_view_module_version": "1.5.0",
            "description_tooltip": null,
            "_model_module": "@jupyter-widgets/controls",
            "layout": "IPY_MODEL_c0c047ae2d114383a3a2b32a1bbd53f7"
          }
        },
        "8e12978a64924069b7d1563519e1a433": {
          "model_module": "@jupyter-widgets/controls",
          "model_name": "ProgressStyleModel",
          "state": {
            "_view_name": "StyleView",
            "_model_name": "ProgressStyleModel",
            "description_width": "initial",
            "_view_module": "@jupyter-widgets/base",
            "_model_module_version": "1.5.0",
            "_view_count": null,
            "_view_module_version": "1.2.0",
            "bar_color": null,
            "_model_module": "@jupyter-widgets/controls"
          }
        },
        "a198e9bacd4e4c7b97836a5d808d8669": {
          "model_module": "@jupyter-widgets/base",
          "model_name": "LayoutModel",
          "state": {
            "_view_name": "LayoutView",
            "grid_template_rows": null,
            "right": null,
            "justify_content": null,
            "_view_module": "@jupyter-widgets/base",
            "overflow": null,
            "_model_module_version": "1.2.0",
            "_view_count": null,
            "flex_flow": null,
            "width": null,
            "min_width": null,
            "border": null,
            "align_items": null,
            "bottom": null,
            "_model_module": "@jupyter-widgets/base",
            "top": null,
            "grid_column": null,
            "overflow_y": null,
            "overflow_x": null,
            "grid_auto_flow": null,
            "grid_area": null,
            "grid_template_columns": null,
            "flex": null,
            "_model_name": "LayoutModel",
            "justify_items": null,
            "grid_row": null,
            "max_height": null,
            "align_content": null,
            "visibility": null,
            "align_self": null,
            "height": null,
            "min_height": null,
            "padding": null,
            "grid_auto_rows": null,
            "grid_gap": null,
            "max_width": null,
            "order": null,
            "_view_module_version": "1.2.0",
            "grid_template_areas": null,
            "object_position": null,
            "object_fit": null,
            "grid_auto_columns": null,
            "margin": null,
            "display": null,
            "left": null
          }
        },
        "0348480c45ae46c6b3938afb355d6bc3": {
          "model_module": "@jupyter-widgets/controls",
          "model_name": "DescriptionStyleModel",
          "state": {
            "_view_name": "StyleView",
            "_model_name": "DescriptionStyleModel",
            "description_width": "",
            "_view_module": "@jupyter-widgets/base",
            "_model_module_version": "1.5.0",
            "_view_count": null,
            "_view_module_version": "1.2.0",
            "_model_module": "@jupyter-widgets/controls"
          }
        },
        "c0c047ae2d114383a3a2b32a1bbd53f7": {
          "model_module": "@jupyter-widgets/base",
          "model_name": "LayoutModel",
          "state": {
            "_view_name": "LayoutView",
            "grid_template_rows": null,
            "right": null,
            "justify_content": null,
            "_view_module": "@jupyter-widgets/base",
            "overflow": null,
            "_model_module_version": "1.2.0",
            "_view_count": null,
            "flex_flow": null,
            "width": null,
            "min_width": null,
            "border": null,
            "align_items": null,
            "bottom": null,
            "_model_module": "@jupyter-widgets/base",
            "top": null,
            "grid_column": null,
            "overflow_y": null,
            "overflow_x": null,
            "grid_auto_flow": null,
            "grid_area": null,
            "grid_template_columns": null,
            "flex": null,
            "_model_name": "LayoutModel",
            "justify_items": null,
            "grid_row": null,
            "max_height": null,
            "align_content": null,
            "visibility": null,
            "align_self": null,
            "height": null,
            "min_height": null,
            "padding": null,
            "grid_auto_rows": null,
            "grid_gap": null,
            "max_width": null,
            "order": null,
            "_view_module_version": "1.2.0",
            "grid_template_areas": null,
            "object_position": null,
            "object_fit": null,
            "grid_auto_columns": null,
            "margin": null,
            "display": null,
            "left": null
          }
        },
        "57659cbfaa0d439db85257f0f87db84a": {
          "model_module": "@jupyter-widgets/controls",
          "model_name": "HBoxModel",
          "state": {
            "_view_name": "HBoxView",
            "_dom_classes": [],
            "_model_name": "HBoxModel",
            "_view_module": "@jupyter-widgets/controls",
            "_model_module_version": "1.5.0",
            "_view_count": null,
            "_view_module_version": "1.5.0",
            "box_style": "",
            "layout": "IPY_MODEL_ad146d78aa9b4bb18d413355ac2c2b9c",
            "_model_module": "@jupyter-widgets/controls",
            "children": [
              "IPY_MODEL_91cca3e3b1be4737bd8bbe76d8283d1c",
              "IPY_MODEL_ee4c3914f5e84e5ea97a4e508af4ec92"
            ]
          }
        },
        "ad146d78aa9b4bb18d413355ac2c2b9c": {
          "model_module": "@jupyter-widgets/base",
          "model_name": "LayoutModel",
          "state": {
            "_view_name": "LayoutView",
            "grid_template_rows": null,
            "right": null,
            "justify_content": null,
            "_view_module": "@jupyter-widgets/base",
            "overflow": null,
            "_model_module_version": "1.2.0",
            "_view_count": null,
            "flex_flow": null,
            "width": null,
            "min_width": null,
            "border": null,
            "align_items": null,
            "bottom": null,
            "_model_module": "@jupyter-widgets/base",
            "top": null,
            "grid_column": null,
            "overflow_y": null,
            "overflow_x": null,
            "grid_auto_flow": null,
            "grid_area": null,
            "grid_template_columns": null,
            "flex": null,
            "_model_name": "LayoutModel",
            "justify_items": null,
            "grid_row": null,
            "max_height": null,
            "align_content": null,
            "visibility": null,
            "align_self": null,
            "height": null,
            "min_height": null,
            "padding": null,
            "grid_auto_rows": null,
            "grid_gap": null,
            "max_width": null,
            "order": null,
            "_view_module_version": "1.2.0",
            "grid_template_areas": null,
            "object_position": null,
            "object_fit": null,
            "grid_auto_columns": null,
            "margin": null,
            "display": null,
            "left": null
          }
        },
        "91cca3e3b1be4737bd8bbe76d8283d1c": {
          "model_module": "@jupyter-widgets/controls",
          "model_name": "FloatProgressModel",
          "state": {
            "_view_name": "ProgressView",
            "style": "IPY_MODEL_316d0d2a459c404d98c554956ec4b6f9",
            "_dom_classes": [],
            "description": "Downloading: 100%",
            "_model_name": "FloatProgressModel",
            "bar_style": "success",
            "max": 28,
            "_view_module": "@jupyter-widgets/controls",
            "_model_module_version": "1.5.0",
            "value": 28,
            "_view_count": null,
            "_view_module_version": "1.5.0",
            "orientation": "horizontal",
            "min": 0,
            "description_tooltip": null,
            "_model_module": "@jupyter-widgets/controls",
            "layout": "IPY_MODEL_1e94d70ad2b3445dacaf0cce76d343e1"
          }
        },
        "ee4c3914f5e84e5ea97a4e508af4ec92": {
          "model_module": "@jupyter-widgets/controls",
          "model_name": "HTMLModel",
          "state": {
            "_view_name": "HTMLView",
            "style": "IPY_MODEL_10425f8a72b84c98935a185894d0c16e",
            "_dom_classes": [],
            "description": "",
            "_model_name": "HTMLModel",
            "placeholder": "​",
            "_view_module": "@jupyter-widgets/controls",
            "_model_module_version": "1.5.0",
            "value": " 28.0/28.0 [00:00&lt;00:00, 535B/s]",
            "_view_count": null,
            "_view_module_version": "1.5.0",
            "description_tooltip": null,
            "_model_module": "@jupyter-widgets/controls",
            "layout": "IPY_MODEL_3d0cb6b492714f4185a70a07cb354f4a"
          }
        },
        "316d0d2a459c404d98c554956ec4b6f9": {
          "model_module": "@jupyter-widgets/controls",
          "model_name": "ProgressStyleModel",
          "state": {
            "_view_name": "StyleView",
            "_model_name": "ProgressStyleModel",
            "description_width": "initial",
            "_view_module": "@jupyter-widgets/base",
            "_model_module_version": "1.5.0",
            "_view_count": null,
            "_view_module_version": "1.2.0",
            "bar_color": null,
            "_model_module": "@jupyter-widgets/controls"
          }
        },
        "1e94d70ad2b3445dacaf0cce76d343e1": {
          "model_module": "@jupyter-widgets/base",
          "model_name": "LayoutModel",
          "state": {
            "_view_name": "LayoutView",
            "grid_template_rows": null,
            "right": null,
            "justify_content": null,
            "_view_module": "@jupyter-widgets/base",
            "overflow": null,
            "_model_module_version": "1.2.0",
            "_view_count": null,
            "flex_flow": null,
            "width": null,
            "min_width": null,
            "border": null,
            "align_items": null,
            "bottom": null,
            "_model_module": "@jupyter-widgets/base",
            "top": null,
            "grid_column": null,
            "overflow_y": null,
            "overflow_x": null,
            "grid_auto_flow": null,
            "grid_area": null,
            "grid_template_columns": null,
            "flex": null,
            "_model_name": "LayoutModel",
            "justify_items": null,
            "grid_row": null,
            "max_height": null,
            "align_content": null,
            "visibility": null,
            "align_self": null,
            "height": null,
            "min_height": null,
            "padding": null,
            "grid_auto_rows": null,
            "grid_gap": null,
            "max_width": null,
            "order": null,
            "_view_module_version": "1.2.0",
            "grid_template_areas": null,
            "object_position": null,
            "object_fit": null,
            "grid_auto_columns": null,
            "margin": null,
            "display": null,
            "left": null
          }
        },
        "10425f8a72b84c98935a185894d0c16e": {
          "model_module": "@jupyter-widgets/controls",
          "model_name": "DescriptionStyleModel",
          "state": {
            "_view_name": "StyleView",
            "_model_name": "DescriptionStyleModel",
            "description_width": "",
            "_view_module": "@jupyter-widgets/base",
            "_model_module_version": "1.5.0",
            "_view_count": null,
            "_view_module_version": "1.2.0",
            "_model_module": "@jupyter-widgets/controls"
          }
        },
        "3d0cb6b492714f4185a70a07cb354f4a": {
          "model_module": "@jupyter-widgets/base",
          "model_name": "LayoutModel",
          "state": {
            "_view_name": "LayoutView",
            "grid_template_rows": null,
            "right": null,
            "justify_content": null,
            "_view_module": "@jupyter-widgets/base",
            "overflow": null,
            "_model_module_version": "1.2.0",
            "_view_count": null,
            "flex_flow": null,
            "width": null,
            "min_width": null,
            "border": null,
            "align_items": null,
            "bottom": null,
            "_model_module": "@jupyter-widgets/base",
            "top": null,
            "grid_column": null,
            "overflow_y": null,
            "overflow_x": null,
            "grid_auto_flow": null,
            "grid_area": null,
            "grid_template_columns": null,
            "flex": null,
            "_model_name": "LayoutModel",
            "justify_items": null,
            "grid_row": null,
            "max_height": null,
            "align_content": null,
            "visibility": null,
            "align_self": null,
            "height": null,
            "min_height": null,
            "padding": null,
            "grid_auto_rows": null,
            "grid_gap": null,
            "max_width": null,
            "order": null,
            "_view_module_version": "1.2.0",
            "grid_template_areas": null,
            "object_position": null,
            "object_fit": null,
            "grid_auto_columns": null,
            "margin": null,
            "display": null,
            "left": null
          }
        }
      }
    }
  },
  "cells": [
    {
      "cell_type": "markdown",
      "metadata": {
        "id": "DCRvWDEKhsej"
      },
      "source": [
        "### https://towardsdatascience.com/how-to-fine-tune-a-q-a-transformer-86f91ec92997"
      ]
    },
    {
      "cell_type": "code",
      "metadata": {
        "colab": {
          "base_uri": "https://localhost:8080/"
        },
        "id": "cwOfoX_srAhC",
        "outputId": "7205a66b-be00-421e-d25c-b2478fe92fac"
      },
      "source": [
        "from google.colab import drive\n",
        "drive.mount('/content/gdrive')"
      ],
      "execution_count": 1,
      "outputs": [
        {
          "output_type": "stream",
          "text": [
            "Mounted at /content/gdrive\n"
          ],
          "name": "stdout"
        }
      ]
    },
    {
      "cell_type": "markdown",
      "metadata": {
        "id": "RqSrExuFpqBk"
      },
      "source": [
        "### Import Libraries"
      ]
    },
    {
      "cell_type": "code",
      "metadata": {
        "colab": {
          "base_uri": "https://localhost:8080/"
        },
        "id": "YsdZ2dGvpclQ",
        "outputId": "f8a7e74a-085d-4539-a47d-8c666afe8cf2"
      },
      "source": [
        "!pip install transformers"
      ],
      "execution_count": 2,
      "outputs": [
        {
          "output_type": "stream",
          "text": [
            "Collecting transformers\n",
            "\u001b[?25l  Downloading https://files.pythonhosted.org/packages/ed/d5/f4157a376b8a79489a76ce6cfe147f4f3be1e029b7144fa7b8432e8acb26/transformers-4.4.2-py3-none-any.whl (2.0MB)\n",
            "\u001b[K     |████████████████████████████████| 2.0MB 6.9MB/s \n",
            "\u001b[?25hRequirement already satisfied: regex!=2019.12.17 in /usr/local/lib/python3.7/dist-packages (from transformers) (2019.12.20)\n",
            "Requirement already satisfied: filelock in /usr/local/lib/python3.7/dist-packages (from transformers) (3.0.12)\n",
            "Requirement already satisfied: packaging in /usr/local/lib/python3.7/dist-packages (from transformers) (20.9)\n",
            "Collecting sacremoses\n",
            "\u001b[?25l  Downloading https://files.pythonhosted.org/packages/7d/34/09d19aff26edcc8eb2a01bed8e98f13a1537005d31e95233fd48216eed10/sacremoses-0.0.43.tar.gz (883kB)\n",
            "\u001b[K     |████████████████████████████████| 890kB 21.3MB/s \n",
            "\u001b[?25hRequirement already satisfied: tqdm>=4.27 in /usr/local/lib/python3.7/dist-packages (from transformers) (4.41.1)\n",
            "Requirement already satisfied: importlib-metadata; python_version < \"3.8\" in /usr/local/lib/python3.7/dist-packages (from transformers) (3.8.1)\n",
            "Collecting tokenizers<0.11,>=0.10.1\n",
            "\u001b[?25l  Downloading https://files.pythonhosted.org/packages/71/23/2ddc317b2121117bf34dd00f5b0de194158f2a44ee2bf5e47c7166878a97/tokenizers-0.10.1-cp37-cp37m-manylinux2010_x86_64.whl (3.2MB)\n",
            "\u001b[K     |████████████████████████████████| 3.2MB 38.2MB/s \n",
            "\u001b[?25hRequirement already satisfied: requests in /usr/local/lib/python3.7/dist-packages (from transformers) (2.23.0)\n",
            "Requirement already satisfied: numpy>=1.17 in /usr/local/lib/python3.7/dist-packages (from transformers) (1.19.5)\n",
            "Requirement already satisfied: pyparsing>=2.0.2 in /usr/local/lib/python3.7/dist-packages (from packaging->transformers) (2.4.7)\n",
            "Requirement already satisfied: six in /usr/local/lib/python3.7/dist-packages (from sacremoses->transformers) (1.15.0)\n",
            "Requirement already satisfied: click in /usr/local/lib/python3.7/dist-packages (from sacremoses->transformers) (7.1.2)\n",
            "Requirement already satisfied: joblib in /usr/local/lib/python3.7/dist-packages (from sacremoses->transformers) (1.0.1)\n",
            "Requirement already satisfied: zipp>=0.5 in /usr/local/lib/python3.7/dist-packages (from importlib-metadata; python_version < \"3.8\"->transformers) (3.4.1)\n",
            "Requirement already satisfied: typing-extensions>=3.6.4; python_version < \"3.8\" in /usr/local/lib/python3.7/dist-packages (from importlib-metadata; python_version < \"3.8\"->transformers) (3.7.4.3)\n",
            "Requirement already satisfied: urllib3!=1.25.0,!=1.25.1,<1.26,>=1.21.1 in /usr/local/lib/python3.7/dist-packages (from requests->transformers) (1.24.3)\n",
            "Requirement already satisfied: chardet<4,>=3.0.2 in /usr/local/lib/python3.7/dist-packages (from requests->transformers) (3.0.4)\n",
            "Requirement already satisfied: idna<3,>=2.5 in /usr/local/lib/python3.7/dist-packages (from requests->transformers) (2.10)\n",
            "Requirement already satisfied: certifi>=2017.4.17 in /usr/local/lib/python3.7/dist-packages (from requests->transformers) (2020.12.5)\n",
            "Building wheels for collected packages: sacremoses\n",
            "  Building wheel for sacremoses (setup.py) ... \u001b[?25l\u001b[?25hdone\n",
            "  Created wheel for sacremoses: filename=sacremoses-0.0.43-cp37-none-any.whl size=893262 sha256=a04dd62f2eb6d954d0cde652b9ae55cf83c54a7cdfbd3ff9ff24bbcca5407657\n",
            "  Stored in directory: /root/.cache/pip/wheels/29/3c/fd/7ce5c3f0666dab31a50123635e6fb5e19ceb42ce38d4e58f45\n",
            "Successfully built sacremoses\n",
            "Installing collected packages: sacremoses, tokenizers, transformers\n",
            "Successfully installed sacremoses-0.0.43 tokenizers-0.10.1 transformers-4.4.2\n"
          ],
          "name": "stdout"
        }
      ]
    },
    {
      "cell_type": "code",
      "metadata": {
        "colab": {
          "base_uri": "https://localhost:8080/"
        },
        "id": "PGZQIczTRoM5",
        "outputId": "e722bc19-f71f-4f45-cf3c-a061877fc19e"
      },
      "source": [
        "import json\n",
        "import os\n",
        "import re\n",
        "import sys\n",
        "import pandas as pd\n",
        "\n",
        "import requests\n",
        "import string\n",
        "import numpy as np\n",
        "!pip install colorama\n",
        "from colorama import Fore\n",
        "from tokenizers import BertWordPieceTokenizer\n",
        "from tqdm import tqdm\n",
        "from transformers import BertTokenizer, BertForQuestionAnswering\n",
        "import torch\n",
        "from torch.utils.data import TensorDataset, DataLoader, RandomSampler, SequentialSampler\n",
        "from sklearn.model_selection import train_test_split\n",
        "\n",
        "gpu = torch.device('cuda')"
      ],
      "execution_count": 3,
      "outputs": [
        {
          "output_type": "stream",
          "text": [
            "Collecting colorama\n",
            "  Downloading https://files.pythonhosted.org/packages/44/98/5b86278fbbf250d239ae0ecb724f8572af1c91f4a11edf4d36a206189440/colorama-0.4.4-py2.py3-none-any.whl\n",
            "Installing collected packages: colorama\n",
            "Successfully installed colorama-0.4.4\n"
          ],
          "name": "stdout"
        }
      ]
    },
    {
      "cell_type": "code",
      "metadata": {
        "colab": {
          "base_uri": "https://localhost:8080/",
          "height": 204
        },
        "id": "OTvdP3j5SK37",
        "outputId": "9f97e446-043d-44fd-89cf-e0d5c4d16b06"
      },
      "source": [
        "df = pd.read_csv('/content/gdrive/MyDrive/tmproj/legal_squad_data.csv')\n",
        "df.head()"
      ],
      "execution_count": 4,
      "outputs": [
        {
          "output_type": "execute_result",
          "data": {
            "text/html": [
              "<div>\n",
              "<style scoped>\n",
              "    .dataframe tbody tr th:only-of-type {\n",
              "        vertical-align: middle;\n",
              "    }\n",
              "\n",
              "    .dataframe tbody tr th {\n",
              "        vertical-align: top;\n",
              "    }\n",
              "\n",
              "    .dataframe thead th {\n",
              "        text-align: right;\n",
              "    }\n",
              "</style>\n",
              "<table border=\"1\" class=\"dataframe\">\n",
              "  <thead>\n",
              "    <tr style=\"text-align: right;\">\n",
              "      <th></th>\n",
              "      <th>Unnamed: 0</th>\n",
              "      <th>context_id</th>\n",
              "      <th>qna_id</th>\n",
              "      <th>context</th>\n",
              "      <th>question</th>\n",
              "      <th>answer_start</th>\n",
              "      <th>answer</th>\n",
              "    </tr>\n",
              "  </thead>\n",
              "  <tbody>\n",
              "    <tr>\n",
              "      <th>0</th>\n",
              "      <td>0</td>\n",
              "      <td>3196</td>\n",
              "      <td>56cee398aab44d1400b88bfb</td>\n",
              "      <td>In 1785, the assembly of the Congress of the C...</td>\n",
              "      <td>In what year did New York become the United St...</td>\n",
              "      <td>3</td>\n",
              "      <td>1785</td>\n",
              "    </tr>\n",
              "    <tr>\n",
              "      <th>1</th>\n",
              "      <td>1</td>\n",
              "      <td>3196</td>\n",
              "      <td>56cee398aab44d1400b88bfc</td>\n",
              "      <td>In 1785, the assembly of the Congress of the C...</td>\n",
              "      <td>Who was the United States' first President?</td>\n",
              "      <td>313</td>\n",
              "      <td>George Washington</td>\n",
              "    </tr>\n",
              "    <tr>\n",
              "      <th>2</th>\n",
              "      <td>2</td>\n",
              "      <td>3196</td>\n",
              "      <td>56cee398aab44d1400b88bfd</td>\n",
              "      <td>In 1785, the assembly of the Congress of the C...</td>\n",
              "      <td>In what building did the Supreme Court of the ...</td>\n",
              "      <td>517</td>\n",
              "      <td>Federal Hall</td>\n",
              "    </tr>\n",
              "    <tr>\n",
              "      <th>3</th>\n",
              "      <td>3</td>\n",
              "      <td>3196</td>\n",
              "      <td>56cee398aab44d1400b88bfe</td>\n",
              "      <td>In 1785, the assembly of the Congress of the C...</td>\n",
              "      <td>On what street did the writing of the Bill of ...</td>\n",
              "      <td>533</td>\n",
              "      <td>Wall Street</td>\n",
              "    </tr>\n",
              "    <tr>\n",
              "      <th>4</th>\n",
              "      <td>4</td>\n",
              "      <td>3196</td>\n",
              "      <td>56cee398aab44d1400b88bff</td>\n",
              "      <td>In 1785, the assembly of the Congress of the C...</td>\n",
              "      <td>What was the second largest city in the United...</td>\n",
              "      <td>578</td>\n",
              "      <td>Philadelphia</td>\n",
              "    </tr>\n",
              "  </tbody>\n",
              "</table>\n",
              "</div>"
            ],
            "text/plain": [
              "   Unnamed: 0  context_id  ... answer_start             answer\n",
              "0           0        3196  ...            3               1785\n",
              "1           1        3196  ...          313  George Washington\n",
              "2           2        3196  ...          517       Federal Hall\n",
              "3           3        3196  ...          533        Wall Street\n",
              "4           4        3196  ...          578       Philadelphia\n",
              "\n",
              "[5 rows x 7 columns]"
            ]
          },
          "metadata": {
            "tags": []
          },
          "execution_count": 4
        }
      ]
    },
    {
      "cell_type": "code",
      "metadata": {
        "colab": {
          "base_uri": "https://localhost:8080/"
        },
        "id": "ONtWX55Sb8KM",
        "outputId": "92081483-4af1-47a6-dc80-ced554682ff1"
      },
      "source": [
        "y = [{'text': row['answer'], 'answer_start': row['answer_start']} for idx, row in df.iterrows()]\n",
        "y[:4]"
      ],
      "execution_count": 5,
      "outputs": [
        {
          "output_type": "execute_result",
          "data": {
            "text/plain": [
              "[{'answer_start': 3, 'text': '1785'},\n",
              " {'answer_start': 313, 'text': 'George Washington'},\n",
              " {'answer_start': 517, 'text': 'Federal Hall'},\n",
              " {'answer_start': 533, 'text': 'Wall Street'}]"
            ]
          },
          "metadata": {
            "tags": []
          },
          "execution_count": 5
        }
      ]
    },
    {
      "cell_type": "code",
      "metadata": {
        "colab": {
          "base_uri": "https://localhost:8080/",
          "height": 419
        },
        "id": "tQyX3UqddU96",
        "outputId": "59343e54-643d-473f-93ba-fdc52ee0ed7e"
      },
      "source": [
        "df.loc[:,['context_id', 'qna_id', 'context', 'question']]"
      ],
      "execution_count": 6,
      "outputs": [
        {
          "output_type": "execute_result",
          "data": {
            "text/html": [
              "<div>\n",
              "<style scoped>\n",
              "    .dataframe tbody tr th:only-of-type {\n",
              "        vertical-align: middle;\n",
              "    }\n",
              "\n",
              "    .dataframe tbody tr th {\n",
              "        vertical-align: top;\n",
              "    }\n",
              "\n",
              "    .dataframe thead th {\n",
              "        text-align: right;\n",
              "    }\n",
              "</style>\n",
              "<table border=\"1\" class=\"dataframe\">\n",
              "  <thead>\n",
              "    <tr style=\"text-align: right;\">\n",
              "      <th></th>\n",
              "      <th>context_id</th>\n",
              "      <th>qna_id</th>\n",
              "      <th>context</th>\n",
              "      <th>question</th>\n",
              "    </tr>\n",
              "  </thead>\n",
              "  <tbody>\n",
              "    <tr>\n",
              "      <th>0</th>\n",
              "      <td>3196</td>\n",
              "      <td>56cee398aab44d1400b88bfb</td>\n",
              "      <td>In 1785, the assembly of the Congress of the C...</td>\n",
              "      <td>In what year did New York become the United St...</td>\n",
              "    </tr>\n",
              "    <tr>\n",
              "      <th>1</th>\n",
              "      <td>3196</td>\n",
              "      <td>56cee398aab44d1400b88bfc</td>\n",
              "      <td>In 1785, the assembly of the Congress of the C...</td>\n",
              "      <td>Who was the United States' first President?</td>\n",
              "    </tr>\n",
              "    <tr>\n",
              "      <th>2</th>\n",
              "      <td>3196</td>\n",
              "      <td>56cee398aab44d1400b88bfd</td>\n",
              "      <td>In 1785, the assembly of the Congress of the C...</td>\n",
              "      <td>In what building did the Supreme Court of the ...</td>\n",
              "    </tr>\n",
              "    <tr>\n",
              "      <th>3</th>\n",
              "      <td>3196</td>\n",
              "      <td>56cee398aab44d1400b88bfe</td>\n",
              "      <td>In 1785, the assembly of the Congress of the C...</td>\n",
              "      <td>On what street did the writing of the Bill of ...</td>\n",
              "    </tr>\n",
              "    <tr>\n",
              "      <th>4</th>\n",
              "      <td>3196</td>\n",
              "      <td>56cee398aab44d1400b88bff</td>\n",
              "      <td>In 1785, the assembly of the Congress of the C...</td>\n",
              "      <td>What was the second largest city in the United...</td>\n",
              "    </tr>\n",
              "    <tr>\n",
              "      <th>...</th>\n",
              "      <td>...</td>\n",
              "      <td>...</td>\n",
              "      <td>...</td>\n",
              "      <td>...</td>\n",
              "    </tr>\n",
              "    <tr>\n",
              "      <th>4852</th>\n",
              "      <td>86289</td>\n",
              "      <td>57344c34acc1501500babdc3</td>\n",
              "      <td>Nevertheless, although a distinction between l...</td>\n",
              "      <td>Where did synods prohibit all hunting at?</td>\n",
              "    </tr>\n",
              "    <tr>\n",
              "      <th>4853</th>\n",
              "      <td>86289</td>\n",
              "      <td>57344c34acc1501500babdc4</td>\n",
              "      <td>Nevertheless, although a distinction between l...</td>\n",
              "      <td>What did Benedict XIV declare about decrees pr...</td>\n",
              "    </tr>\n",
              "    <tr>\n",
              "      <th>4854</th>\n",
              "      <td>86289</td>\n",
              "      <td>5735ffae012e2f140011a115</td>\n",
              "      <td>Nevertheless, although a distinction between l...</td>\n",
              "      <td>Who can prohibit hunting to the clerics?</td>\n",
              "    </tr>\n",
              "    <tr>\n",
              "      <th>4855</th>\n",
              "      <td>86289</td>\n",
              "      <td>5735ffae012e2f140011a116</td>\n",
              "      <td>Nevertheless, although a distinction between l...</td>\n",
              "      <td>Declaration that decrees are not severe was do...</td>\n",
              "    </tr>\n",
              "    <tr>\n",
              "      <th>4856</th>\n",
              "      <td>86289</td>\n",
              "      <td>5735ffae012e2f140011a117</td>\n",
              "      <td>Nevertheless, although a distinction between l...</td>\n",
              "      <td>What did Synods at Milan, Avignon, Liege, Colo...</td>\n",
              "    </tr>\n",
              "  </tbody>\n",
              "</table>\n",
              "<p>4857 rows × 4 columns</p>\n",
              "</div>"
            ],
            "text/plain": [
              "      context_id  ...                                           question\n",
              "0           3196  ...  In what year did New York become the United St...\n",
              "1           3196  ...        Who was the United States' first President?\n",
              "2           3196  ...  In what building did the Supreme Court of the ...\n",
              "3           3196  ...  On what street did the writing of the Bill of ...\n",
              "4           3196  ...  What was the second largest city in the United...\n",
              "...          ...  ...                                                ...\n",
              "4852       86289  ...          Where did synods prohibit all hunting at?\n",
              "4853       86289  ...  What did Benedict XIV declare about decrees pr...\n",
              "4854       86289  ...           Who can prohibit hunting to the clerics?\n",
              "4855       86289  ...  Declaration that decrees are not severe was do...\n",
              "4856       86289  ...  What did Synods at Milan, Avignon, Liege, Colo...\n",
              "\n",
              "[4857 rows x 4 columns]"
            ]
          },
          "metadata": {
            "tags": []
          },
          "execution_count": 6
        }
      ]
    },
    {
      "cell_type": "code",
      "metadata": {
        "id": "0Hm4kLKJSfA2"
      },
      "source": [
        "X_train, X_test, y_train, y_test = train_test_split(df.loc[:,['context_id', 'qna_id', 'context', 'question']], y, test_size=0.33, random_state=42)\n",
        "train_contexts, train_questions, train_answers = list(X_train['context']), list(X_train['question']), y_train\n",
        "val_contexts, val_questions, val_answers = list(X_test['context']), list(X_test['question']), y_test"
      ],
      "execution_count": 7,
      "outputs": []
    },
    {
      "cell_type": "code",
      "metadata": {
        "colab": {
          "base_uri": "https://localhost:8080/",
          "height": 69
        },
        "id": "Izke1lPMe4xg",
        "outputId": "11880484-dc6c-47c1-d4a1-075794e3f212"
      },
      "source": [
        "train_contexts[0]"
      ],
      "execution_count": 8,
      "outputs": [
        {
          "output_type": "execute_result",
          "data": {
            "application/vnd.google.colaboratory.intrinsic+json": {
              "type": "string"
            },
            "text/plain": [
              "'Switzerland was the last Western republic to grant women the right to vote. Some Swiss cantons approved this in 1959, while at the federal level it was achieved in 1971 and, after resistance, in the last canton Appenzell Innerrhoden (one of only two remaining Landsgemeinde) in 1990. After obtaining suffrage at the federal level, women quickly rose in political significance, with the first woman on the seven member Federal Council executive being Elisabeth Kopp, who served from 1984–1989, and the first female president being Ruth Dreifuss in 1999.'"
            ]
          },
          "metadata": {
            "tags": []
          },
          "execution_count": 8
        }
      ]
    },
    {
      "cell_type": "code",
      "metadata": {
        "colab": {
          "base_uri": "https://localhost:8080/",
          "height": 35
        },
        "id": "9HyzVBEEexvb",
        "outputId": "a6e02df1-a22e-4abe-cf1b-8f23155c3aa3"
      },
      "source": [
        "train_questions[0]"
      ],
      "execution_count": 9,
      "outputs": [
        {
          "output_type": "execute_result",
          "data": {
            "application/vnd.google.colaboratory.intrinsic+json": {
              "type": "string"
            },
            "text/plain": [
              "'Who did Switzerland finally grant the right to vote to following the rest of the Western republic?'"
            ]
          },
          "metadata": {
            "tags": []
          },
          "execution_count": 9
        }
      ]
    },
    {
      "cell_type": "code",
      "metadata": {
        "colab": {
          "base_uri": "https://localhost:8080/"
        },
        "id": "GdeW4HfFexyj",
        "outputId": "3d13b626-e785-4215-8284-11780f88cab3"
      },
      "source": [
        "train_answers[0]"
      ],
      "execution_count": 10,
      "outputs": [
        {
          "output_type": "execute_result",
          "data": {
            "text/plain": [
              "{'answer_start': 51, 'text': 'women'}"
            ]
          },
          "metadata": {
            "tags": []
          },
          "execution_count": 10
        }
      ]
    },
    {
      "cell_type": "code",
      "metadata": {
        "id": "DJZ1TEYJebOi"
      },
      "source": [
        "def add_end_idx(answers, contexts):\n",
        "    # loop through each answer-context pair\n",
        "    for answer, context in zip(answers, contexts):\n",
        "        # gold_text refers to the answer we are expecting to find in context\n",
        "        gold_text = answer['text']\n",
        "        # we already know the start index\n",
        "        start_idx = answer['answer_start']\n",
        "        # and ideally this would be the end index...\n",
        "        end_idx = start_idx + len(gold_text)\n",
        "\n",
        "        # ...however, sometimes squad answers are off by a character or two\n",
        "        if context[start_idx:end_idx] == gold_text:\n",
        "            # if the answer is not off :)\n",
        "            answer['answer_end'] = end_idx\n",
        "        else:\n",
        "            # this means the answer is off by 1-2 tokens\n",
        "            for n in [1, 2]:\n",
        "                if context[start_idx-n:end_idx-n] == gold_text:\n",
        "                    answer['answer_start'] = start_idx - n\n",
        "                    answer['answer_end'] = end_idx - n\n",
        "            \n",
        "# and apply the function to our two answer lists\n",
        "add_end_idx(train_answers, train_contexts)\n",
        "add_end_idx(val_answers, val_contexts)"
      ],
      "execution_count": 11,
      "outputs": []
    },
    {
      "cell_type": "code",
      "metadata": {
        "colab": {
          "base_uri": "https://localhost:8080/",
          "height": 164,
          "referenced_widgets": [
            "5e28a88f25254ebcbdecb73bcf313492",
            "0e7417358c5f4cb387bfe788de69e1f9",
            "2faf29831d974bc68ddfcdb535c83135",
            "b2d4772548c24b2c83bfee78ff766c0d",
            "33d08e131bbe4520854155838ab7118c",
            "78f6e8538d164483ba5094f3bb2f2ba0",
            "ef4aec54613044cc90c4e1c44daaba2d",
            "959de497bf164b6bb7435dbe175d2be3",
            "51c7a77b203f4c6cb919fbb05f111b13",
            "782d0d664593493b99d89756124e891a",
            "f9733723854d4ca781dbddd80533e015",
            "250a89e24b794131bceba99794e6227c",
            "8e12978a64924069b7d1563519e1a433",
            "a198e9bacd4e4c7b97836a5d808d8669",
            "0348480c45ae46c6b3938afb355d6bc3",
            "c0c047ae2d114383a3a2b32a1bbd53f7",
            "57659cbfaa0d439db85257f0f87db84a",
            "ad146d78aa9b4bb18d413355ac2c2b9c",
            "91cca3e3b1be4737bd8bbe76d8283d1c",
            "ee4c3914f5e84e5ea97a4e508af4ec92",
            "316d0d2a459c404d98c554956ec4b6f9",
            "1e94d70ad2b3445dacaf0cce76d343e1",
            "10425f8a72b84c98935a185894d0c16e",
            "3d0cb6b492714f4185a70a07cb354f4a"
          ]
        },
        "id": "-JZMAngoebRK",
        "outputId": "0a69cd90-2eba-4ccf-def9-c796c9c73952"
      },
      "source": [
        "from transformers import DistilBertTokenizerFast\n",
        "# initialize the tokenizer\n",
        "tokenizer = DistilBertTokenizerFast.from_pretrained('distilbert-base-uncased')\n",
        "# tokenize\n",
        "train_encodings = tokenizer(train_contexts, train_questions, truncation=True, padding=True)\n",
        "val_encodings = tokenizer(val_contexts, val_questions, truncation=True, padding=True)"
      ],
      "execution_count": 12,
      "outputs": [
        {
          "output_type": "display_data",
          "data": {
            "application/vnd.jupyter.widget-view+json": {
              "model_id": "5e28a88f25254ebcbdecb73bcf313492",
              "version_minor": 0,
              "version_major": 2
            },
            "text/plain": [
              "HBox(children=(FloatProgress(value=0.0, description='Downloading', max=231508.0, style=ProgressStyle(descripti…"
            ]
          },
          "metadata": {
            "tags": []
          }
        },
        {
          "output_type": "stream",
          "text": [
            "\n"
          ],
          "name": "stdout"
        },
        {
          "output_type": "display_data",
          "data": {
            "application/vnd.jupyter.widget-view+json": {
              "model_id": "51c7a77b203f4c6cb919fbb05f111b13",
              "version_minor": 0,
              "version_major": 2
            },
            "text/plain": [
              "HBox(children=(FloatProgress(value=0.0, description='Downloading', max=466062.0, style=ProgressStyle(descripti…"
            ]
          },
          "metadata": {
            "tags": []
          }
        },
        {
          "output_type": "stream",
          "text": [
            "\n"
          ],
          "name": "stdout"
        },
        {
          "output_type": "display_data",
          "data": {
            "application/vnd.jupyter.widget-view+json": {
              "model_id": "57659cbfaa0d439db85257f0f87db84a",
              "version_minor": 0,
              "version_major": 2
            },
            "text/plain": [
              "HBox(children=(FloatProgress(value=0.0, description='Downloading', max=28.0, style=ProgressStyle(description_w…"
            ]
          },
          "metadata": {
            "tags": []
          }
        },
        {
          "output_type": "stream",
          "text": [
            "\n"
          ],
          "name": "stdout"
        }
      ]
    },
    {
      "cell_type": "code",
      "metadata": {
        "id": "EyIcamrSebTw"
      },
      "source": [
        "def add_token_positions(encodings, answers):\n",
        "    # initialize lists to contain the token indices of answer start/end\n",
        "    start_positions = []\n",
        "    end_positions = []\n",
        "    for i in range(len(answers)):\n",
        "        # append start/end token position using char_to_token method\n",
        "        start_positions.append(encodings.char_to_token(i, answers[i]['answer_start']))\n",
        "        end_positions.append(encodings.char_to_token(i, answers[i]['answer_end']))\n",
        "\n",
        "        # if start position is None, the answer passage has been truncated\n",
        "        if start_positions[-1] is None:\n",
        "            start_positions[-1] = tokenizer.model_max_length\n",
        "        # end position cannot be found, char_to_token found space, so shift position until found\n",
        "        shift = 1\n",
        "        while end_positions[-1] is None:\n",
        "            end_positions[-1] = encodings.char_to_token(i, answers[i]['answer_end'] - shift)\n",
        "            shift += 1\n",
        "    # update our encodings object with the new token-based start/end positions\n",
        "    encodings.update({'start_positions': start_positions, 'end_positions': end_positions})\n",
        "\n",
        "# apply function to our data\n",
        "add_token_positions(train_encodings, train_answers)\n",
        "add_token_positions(val_encodings, val_answers)"
      ],
      "execution_count": 13,
      "outputs": []
    },
    {
      "cell_type": "code",
      "metadata": {
        "id": "NV8quzb7ebWW"
      },
      "source": [
        "import torch\n",
        "\n",
        "class SquadDataset(torch.utils.data.Dataset):\n",
        "    def __init__(self, encodings):\n",
        "        self.encodings = encodings\n",
        "\n",
        "    def __getitem__(self, idx):\n",
        "        return {key: torch.tensor(val[idx]) for key, val in self.encodings.items()}\n",
        "\n",
        "    def __len__(self):\n",
        "        return len(self.encodings.input_ids)\n",
        "\n",
        "# build datasets for both our training and validation sets\n",
        "train_dataset = SquadDataset(train_encodings)\n",
        "val_dataset = SquadDataset(val_encodings)"
      ],
      "execution_count": 14,
      "outputs": []
    },
    {
      "cell_type": "code",
      "metadata": {
        "colab": {
          "base_uri": "https://localhost:8080/"
        },
        "id": "zYolg97bgbSR",
        "outputId": "da9a31ac-f593-40f9-e25e-85a30869af05"
      },
      "source": [
        "from transformers import DistilBertForQuestionAnswering\n",
        "model = DistilBertForQuestionAnswering.from_pretrained('distilbert-base-uncased')"
      ],
      "execution_count": 22,
      "outputs": [
        {
          "output_type": "stream",
          "text": [
            "Some weights of the model checkpoint at distilbert-base-uncased were not used when initializing DistilBertForQuestionAnswering: ['vocab_transform.weight', 'vocab_transform.bias', 'vocab_layer_norm.weight', 'vocab_layer_norm.bias', 'vocab_projector.weight', 'vocab_projector.bias']\n",
            "- This IS expected if you are initializing DistilBertForQuestionAnswering from the checkpoint of a model trained on another task or with another architecture (e.g. initializing a BertForSequenceClassification model from a BertForPreTraining model).\n",
            "- This IS NOT expected if you are initializing DistilBertForQuestionAnswering from the checkpoint of a model that you expect to be exactly identical (initializing a BertForSequenceClassification model from a BertForSequenceClassification model).\n",
            "Some weights of DistilBertForQuestionAnswering were not initialized from the model checkpoint at distilbert-base-uncased and are newly initialized: ['qa_outputs.weight', 'qa_outputs.bias']\n",
            "You should probably TRAIN this model on a down-stream task to be able to use it for predictions and inference.\n"
          ],
          "name": "stderr"
        }
      ]
    },
    {
      "cell_type": "code",
      "metadata": {
        "colab": {
          "base_uri": "https://localhost:8080/"
        },
        "id": "KRKMrE3Jebbn",
        "outputId": "f8767154-1174-40e9-8705-9096a7a13330"
      },
      "source": [
        "from torch.utils.data import DataLoader\n",
        "from transformers import AdamW\n",
        "from tqdm import tqdm\n",
        "\n",
        "# setup GPU/CPU\n",
        "device = torch.device('cuda') if torch.cuda.is_available() else torch.device('cpu')\n",
        "# move model over to detected device\n",
        "model.to(device)\n",
        "# activate training mode of model\n",
        "model.train()\n",
        "# initialize adam optimizer with weight decay (reduces chance of overfitting)\n",
        "optim = AdamW(model.parameters(), lr=5e-5)\n",
        "\n",
        "# initialize data loader for training data\n",
        "train_loader = DataLoader(train_dataset, batch_size=16, shuffle=True)\n",
        "\n",
        "for epoch in range(3):\n",
        "    # set model to train mode\n",
        "    model.train()\n",
        "    # setup loop (we use tqdm for the progress bar)\n",
        "    loop = tqdm(train_loader, leave=True)\n",
        "    for batch in loop:\n",
        "        # initialize calculated gradients (from prev step)\n",
        "        optim.zero_grad()\n",
        "        # pull all the tensor batches required for training\n",
        "        input_ids = batch['input_ids'].to(device)\n",
        "        attention_mask = batch['attention_mask'].to(device)\n",
        "        start_positions = batch['start_positions'].to(device)\n",
        "        end_positions = batch['end_positions'].to(device)\n",
        "        # train model on batch and return outputs (incl. loss)\n",
        "        outputs = model(input_ids, attention_mask=attention_mask,\n",
        "                        start_positions=start_positions,\n",
        "                        end_positions=end_positions)\n",
        "        # extract loss\n",
        "        loss = outputs[0]\n",
        "        # calculate loss for every parameter that needs grad update\n",
        "        loss.backward()\n",
        "        # update parameters\n",
        "        optim.step()\n",
        "        # print relevant info to progress bar\n",
        "        loop.set_description(f'Epoch {epoch}')\n",
        "        loop.set_postfix(loss=loss.item())"
      ],
      "execution_count": null,
      "outputs": [
        {
          "output_type": "stream",
          "text": [
            "\n",
            "\n",
            "  0%|          | 0/204 [00:00<?, ?it/s]\u001b[A\u001b[A\n",
            "\n",
            "Epoch 0:   0%|          | 0/204 [00:04<?, ?it/s]\u001b[A\u001b[A\n",
            "\n",
            "Epoch 0:   0%|          | 0/204 [00:04<?, ?it/s, loss=6.41]\u001b[A\u001b[A\n",
            "\n",
            "Epoch 0:   0%|          | 1/204 [00:04<14:04,  4.16s/it, loss=6.41]\u001b[A\u001b[A\n",
            "\n",
            "Epoch 0:   0%|          | 1/204 [00:07<14:04,  4.16s/it, loss=6.41]\u001b[A\u001b[A\n",
            "\n",
            "Epoch 0:   0%|          | 1/204 [00:07<14:04,  4.16s/it, loss=6.15]\u001b[A\u001b[A\n",
            "\n",
            "Epoch 0:   1%|          | 2/204 [00:07<13:29,  4.01s/it, loss=6.15]\u001b[A\u001b[A\n",
            "\n",
            "Epoch 0:   1%|          | 2/204 [00:11<13:29,  4.01s/it, loss=6.15]\u001b[A\u001b[A\n",
            "\n",
            "Epoch 0:   1%|          | 2/204 [00:11<13:29,  4.01s/it, loss=6.02]\u001b[A\u001b[A\n",
            "\n",
            "Epoch 0:   1%|▏         | 3/204 [00:11<12:53,  3.85s/it, loss=6.02]\u001b[A\u001b[A\n",
            "\n",
            "Epoch 0:   1%|▏         | 3/204 [00:14<12:53,  3.85s/it, loss=6.02]\u001b[A\u001b[A\n",
            "\n",
            "Epoch 0:   1%|▏         | 3/204 [00:14<12:53,  3.85s/it, loss=5.88]\u001b[A\u001b[A\n",
            "\n",
            "Epoch 0:   2%|▏         | 4/204 [00:14<12:33,  3.77s/it, loss=5.88]\u001b[A\u001b[A\n",
            "\n",
            "Epoch 0:   2%|▏         | 4/204 [00:18<12:33,  3.77s/it, loss=5.88]\u001b[A\u001b[A\n",
            "\n",
            "Epoch 0:   2%|▏         | 4/204 [00:18<12:33,  3.77s/it, loss=5.72]\u001b[A\u001b[A\n",
            "\n",
            "Epoch 0:   2%|▏         | 5/204 [00:18<12:23,  3.74s/it, loss=5.72]\u001b[A\u001b[A\n",
            "\n",
            "Epoch 0:   2%|▏         | 5/204 [00:22<12:23,  3.74s/it, loss=5.72]\u001b[A\u001b[A\n",
            "\n",
            "Epoch 0:   2%|▏         | 5/204 [00:22<12:23,  3.74s/it, loss=5.7] \u001b[A\u001b[A\n",
            "\n",
            "Epoch 0:   3%|▎         | 6/204 [00:22<12:12,  3.70s/it, loss=5.7]\u001b[A\u001b[A\n",
            "\n",
            "Epoch 0:   3%|▎         | 6/204 [00:25<12:12,  3.70s/it, loss=5.7]\u001b[A\u001b[A\n",
            "\n",
            "Epoch 0:   3%|▎         | 6/204 [00:25<12:12,  3.70s/it, loss=5.43]\u001b[A\u001b[A\n",
            "\n",
            "Epoch 0:   3%|▎         | 7/204 [00:25<11:59,  3.65s/it, loss=5.43]\u001b[A\u001b[A\n",
            "\n",
            "Epoch 0:   3%|▎         | 7/204 [00:29<11:59,  3.65s/it, loss=5.43]\u001b[A\u001b[A\n",
            "\n",
            "Epoch 0:   3%|▎         | 7/204 [00:29<11:59,  3.65s/it, loss=5.39]\u001b[A\u001b[A\n",
            "\n",
            "Epoch 0:   4%|▍         | 8/204 [00:29<11:45,  3.60s/it, loss=5.39]\u001b[A\u001b[A\n",
            "\n",
            "Epoch 0:   4%|▍         | 8/204 [00:32<11:45,  3.60s/it, loss=5.39]\u001b[A\u001b[A\n",
            "\n",
            "Epoch 0:   4%|▍         | 8/204 [00:32<11:45,  3.60s/it, loss=5.38]\u001b[A\u001b[A\n",
            "\n",
            "Epoch 0:   4%|▍         | 9/204 [00:32<11:36,  3.57s/it, loss=5.38]\u001b[A\u001b[A\n",
            "\n",
            "Epoch 0:   4%|▍         | 9/204 [00:36<11:36,  3.57s/it, loss=5.38]\u001b[A\u001b[A\n",
            "\n",
            "Epoch 0:   4%|▍         | 9/204 [00:36<11:36,  3.57s/it, loss=5.37]\u001b[A\u001b[A\n",
            "\n",
            "Epoch 0:   5%|▍         | 10/204 [00:36<11:27,  3.54s/it, loss=5.37]\u001b[A\u001b[A\n",
            "\n",
            "Epoch 0:   5%|▍         | 10/204 [00:39<11:27,  3.54s/it, loss=5.37]\u001b[A\u001b[A\n",
            "\n",
            "Epoch 0:   5%|▍         | 10/204 [00:39<11:27,  3.54s/it, loss=4.88]\u001b[A\u001b[A\n",
            "\n",
            "Epoch 0:   5%|▌         | 11/204 [00:39<11:22,  3.54s/it, loss=4.88]\u001b[A\u001b[A\n",
            "\n",
            "Epoch 0:   5%|▌         | 11/204 [00:43<11:22,  3.54s/it, loss=4.88]\u001b[A\u001b[A\n",
            "\n",
            "Epoch 0:   5%|▌         | 11/204 [00:43<11:22,  3.54s/it, loss=5.2] \u001b[A\u001b[A\n",
            "\n",
            "Epoch 0:   6%|▌         | 12/204 [00:43<11:16,  3.52s/it, loss=5.2]\u001b[A\u001b[A\n",
            "\n",
            "Epoch 0:   6%|▌         | 12/204 [00:46<11:16,  3.52s/it, loss=5.2]\u001b[A\u001b[A\n",
            "\n",
            "Epoch 0:   6%|▌         | 12/204 [00:46<11:16,  3.52s/it, loss=5.39]\u001b[A\u001b[A\n",
            "\n",
            "Epoch 0:   6%|▋         | 13/204 [00:46<11:13,  3.53s/it, loss=5.39]\u001b[A\u001b[A\n",
            "\n",
            "Epoch 0:   6%|▋         | 13/204 [00:50<11:13,  3.53s/it, loss=5.39]\u001b[A\u001b[A\n",
            "\n",
            "Epoch 0:   6%|▋         | 13/204 [00:50<11:13,  3.53s/it, loss=4.68]\u001b[A\u001b[A\n",
            "\n",
            "Epoch 0:   7%|▋         | 14/204 [00:50<11:09,  3.53s/it, loss=4.68]\u001b[A\u001b[A\n",
            "\n",
            "Epoch 0:   7%|▋         | 14/204 [00:53<11:09,  3.53s/it, loss=4.68]\u001b[A\u001b[A\n",
            "\n",
            "Epoch 0:   7%|▋         | 14/204 [00:53<11:09,  3.53s/it, loss=4.81]\u001b[A\u001b[A\n",
            "\n",
            "Epoch 0:   7%|▋         | 15/204 [00:53<11:02,  3.50s/it, loss=4.81]\u001b[A\u001b[A\n",
            "\n",
            "Epoch 0:   7%|▋         | 15/204 [00:57<11:02,  3.50s/it, loss=4.81]\u001b[A\u001b[A\n",
            "\n",
            "Epoch 0:   7%|▋         | 15/204 [00:57<11:02,  3.50s/it, loss=4.44]\u001b[A\u001b[A\n",
            "\n",
            "Epoch 0:   8%|▊         | 16/204 [00:57<10:59,  3.51s/it, loss=4.44]\u001b[A\u001b[A\n",
            "\n",
            "Epoch 0:   8%|▊         | 16/204 [01:00<10:59,  3.51s/it, loss=4.44]\u001b[A\u001b[A\n",
            "\n",
            "Epoch 0:   8%|▊         | 16/204 [01:00<10:59,  3.51s/it, loss=4.48]\u001b[A\u001b[A\n",
            "\n",
            "Epoch 0:   8%|▊         | 17/204 [01:00<11:00,  3.53s/it, loss=4.48]\u001b[A\u001b[A\n",
            "\n",
            "Epoch 0:   8%|▊         | 17/204 [01:04<11:00,  3.53s/it, loss=4.48]\u001b[A\u001b[A\n",
            "\n",
            "Epoch 0:   8%|▊         | 17/204 [01:04<11:00,  3.53s/it, loss=4.57]\u001b[A\u001b[A\n",
            "\n",
            "Epoch 0:   9%|▉         | 18/204 [01:04<10:58,  3.54s/it, loss=4.57]\u001b[A\u001b[A\n",
            "\n",
            "Epoch 0:   9%|▉         | 18/204 [01:07<10:58,  3.54s/it, loss=4.57]\u001b[A\u001b[A\n",
            "\n",
            "Epoch 0:   9%|▉         | 18/204 [01:07<10:58,  3.54s/it, loss=4.35]\u001b[A\u001b[A\n",
            "\n",
            "Epoch 0:   9%|▉         | 19/204 [01:07<10:52,  3.53s/it, loss=4.35]\u001b[A\u001b[A\n",
            "\n",
            "Epoch 0:   9%|▉         | 19/204 [01:11<10:52,  3.53s/it, loss=4.35]\u001b[A\u001b[A\n",
            "\n",
            "Epoch 0:   9%|▉         | 19/204 [01:11<10:52,  3.53s/it, loss=4.42]\u001b[A\u001b[A\n",
            "\n",
            "Epoch 0:  10%|▉         | 20/204 [01:11<10:47,  3.52s/it, loss=4.42]\u001b[A\u001b[A\n",
            "\n",
            "Epoch 0:  10%|▉         | 20/204 [01:14<10:47,  3.52s/it, loss=4.42]\u001b[A\u001b[A\n",
            "\n",
            "Epoch 0:  10%|▉         | 20/204 [01:14<10:47,  3.52s/it, loss=4.33]\u001b[A\u001b[A\n",
            "\n",
            "Epoch 0:  10%|█         | 21/204 [01:14<10:44,  3.52s/it, loss=4.33]\u001b[A\u001b[A\n",
            "\n",
            "Epoch 0:  10%|█         | 21/204 [01:18<10:44,  3.52s/it, loss=4.33]\u001b[A\u001b[A\n",
            "\n",
            "Epoch 0:  10%|█         | 21/204 [01:18<10:44,  3.52s/it, loss=4.38]\u001b[A\u001b[A\n",
            "\n",
            "Epoch 0:  11%|█         | 22/204 [01:18<10:40,  3.52s/it, loss=4.38]\u001b[A\u001b[A\n",
            "\n",
            "Epoch 0:  11%|█         | 22/204 [01:21<10:40,  3.52s/it, loss=4.38]\u001b[A\u001b[A\n",
            "\n",
            "Epoch 0:  11%|█         | 22/204 [01:21<10:40,  3.52s/it, loss=4.16]\u001b[A\u001b[A\n",
            "\n",
            "Epoch 0:  11%|█▏        | 23/204 [01:21<10:37,  3.52s/it, loss=4.16]\u001b[A\u001b[A\n",
            "\n",
            "Epoch 0:  11%|█▏        | 23/204 [01:25<10:37,  3.52s/it, loss=4.16]\u001b[A\u001b[A\n",
            "\n",
            "Epoch 0:  11%|█▏        | 23/204 [01:25<10:37,  3.52s/it, loss=4.55]\u001b[A\u001b[A\n",
            "\n",
            "Epoch 0:  12%|█▏        | 24/204 [01:25<10:30,  3.50s/it, loss=4.55]\u001b[A\u001b[A\n",
            "\n",
            "Epoch 0:  12%|█▏        | 24/204 [01:28<10:30,  3.50s/it, loss=4.55]\u001b[A\u001b[A\n",
            "\n",
            "Epoch 0:  12%|█▏        | 24/204 [01:28<10:30,  3.50s/it, loss=4.57]\u001b[A\u001b[A\n",
            "\n",
            "Epoch 0:  12%|█▏        | 25/204 [01:28<10:26,  3.50s/it, loss=4.57]\u001b[A\u001b[A\n",
            "\n",
            "Epoch 0:  12%|█▏        | 25/204 [01:32<10:26,  3.50s/it, loss=4.57]\u001b[A\u001b[A\n",
            "\n",
            "Epoch 0:  12%|█▏        | 25/204 [01:32<10:26,  3.50s/it, loss=4.31]\u001b[A\u001b[A\n",
            "\n",
            "Epoch 0:  13%|█▎        | 26/204 [01:32<10:23,  3.50s/it, loss=4.31]\u001b[A\u001b[A\n",
            "\n",
            "Epoch 0:  13%|█▎        | 26/204 [01:35<10:23,  3.50s/it, loss=4.31]\u001b[A\u001b[A\n",
            "\n",
            "Epoch 0:  13%|█▎        | 26/204 [01:35<10:23,  3.50s/it, loss=4.05]\u001b[A\u001b[A\n",
            "\n",
            "Epoch 0:  13%|█▎        | 27/204 [01:35<10:17,  3.49s/it, loss=4.05]\u001b[A\u001b[A\n",
            "\n",
            "Epoch 0:  13%|█▎        | 27/204 [01:39<10:17,  3.49s/it, loss=4.05]\u001b[A\u001b[A\n",
            "\n",
            "Epoch 0:  13%|█▎        | 27/204 [01:39<10:17,  3.49s/it, loss=4.18]\u001b[A\u001b[A\n",
            "\n",
            "Epoch 0:  14%|█▎        | 28/204 [01:39<10:13,  3.49s/it, loss=4.18]\u001b[A\u001b[A\n",
            "\n",
            "Epoch 0:  14%|█▎        | 28/204 [01:42<10:13,  3.49s/it, loss=4.18]\u001b[A\u001b[A\n",
            "\n",
            "Epoch 0:  14%|█▎        | 28/204 [01:42<10:13,  3.49s/it, loss=4.05]\u001b[A\u001b[A\n",
            "\n",
            "Epoch 0:  14%|█▍        | 29/204 [01:42<10:12,  3.50s/it, loss=4.05]\u001b[A\u001b[A\n",
            "\n",
            "Epoch 0:  14%|█▍        | 29/204 [01:46<10:12,  3.50s/it, loss=4.05]\u001b[A\u001b[A\n",
            "\n",
            "Epoch 0:  14%|█▍        | 29/204 [01:46<10:12,  3.50s/it, loss=4.1] \u001b[A\u001b[A\n",
            "\n",
            "Epoch 0:  15%|█▍        | 30/204 [01:46<10:08,  3.50s/it, loss=4.1]\u001b[A\u001b[A\n",
            "\n",
            "Epoch 0:  15%|█▍        | 30/204 [01:50<10:08,  3.50s/it, loss=4.1]\u001b[A\u001b[A\n",
            "\n",
            "Epoch 0:  15%|█▍        | 30/204 [01:50<10:08,  3.50s/it, loss=4.04]\u001b[A\u001b[A\n",
            "\n",
            "Epoch 0:  15%|█▌        | 31/204 [01:50<10:18,  3.57s/it, loss=4.04]\u001b[A\u001b[A\n",
            "\n",
            "Epoch 0:  15%|█▌        | 31/204 [01:55<10:18,  3.57s/it, loss=4.04]\u001b[A\u001b[A\n",
            "\n",
            "Epoch 0:  15%|█▌        | 31/204 [01:55<10:18,  3.57s/it, loss=3.98]\u001b[A\u001b[A\n",
            "\n",
            "Epoch 0:  16%|█▌        | 32/204 [01:55<11:36,  4.05s/it, loss=3.98]\u001b[A\u001b[A\n",
            "\n",
            "Epoch 0:  16%|█▌        | 32/204 [01:59<11:36,  4.05s/it, loss=3.98]\u001b[A\u001b[A\n",
            "\n",
            "Epoch 0:  16%|█▌        | 32/204 [01:59<11:36,  4.05s/it, loss=4.33]\u001b[A\u001b[A\n",
            "\n",
            "Epoch 0:  16%|█▌        | 33/204 [01:59<11:23,  4.00s/it, loss=4.33]\u001b[A\u001b[A\n",
            "\n",
            "Epoch 0:  16%|█▌        | 33/204 [02:02<11:23,  4.00s/it, loss=4.33]\u001b[A\u001b[A\n",
            "\n",
            "Epoch 0:  16%|█▌        | 33/204 [02:02<11:23,  4.00s/it, loss=3.69]\u001b[A\u001b[A\n",
            "\n",
            "Epoch 0:  17%|█▋        | 34/204 [02:02<10:56,  3.86s/it, loss=3.69]\u001b[A\u001b[A\n",
            "\n",
            "Epoch 0:  17%|█▋        | 34/204 [02:06<10:56,  3.86s/it, loss=3.69]\u001b[A\u001b[A\n",
            "\n",
            "Epoch 0:  17%|█▋        | 34/204 [02:06<10:56,  3.86s/it, loss=3.94]\u001b[A\u001b[A\n",
            "\n",
            "Epoch 0:  17%|█▋        | 35/204 [02:06<10:32,  3.74s/it, loss=3.94]\u001b[A\u001b[A\n",
            "\n",
            "Epoch 0:  17%|█▋        | 35/204 [02:09<10:32,  3.74s/it, loss=3.94]\u001b[A\u001b[A\n",
            "\n",
            "Epoch 0:  17%|█▋        | 35/204 [02:09<10:32,  3.74s/it, loss=4.36]\u001b[A\u001b[A\n",
            "\n",
            "Epoch 0:  18%|█▊        | 36/204 [02:09<10:19,  3.69s/it, loss=4.36]\u001b[A\u001b[A\n",
            "\n",
            "Epoch 0:  18%|█▊        | 36/204 [02:13<10:19,  3.69s/it, loss=4.36]\u001b[A\u001b[A\n",
            "\n",
            "Epoch 0:  18%|█▊        | 36/204 [02:13<10:19,  3.69s/it, loss=3.98]\u001b[A\u001b[A\n",
            "\n",
            "Epoch 0:  18%|█▊        | 37/204 [02:13<10:13,  3.67s/it, loss=3.98]\u001b[A\u001b[A\n",
            "\n",
            "Epoch 0:  18%|█▊        | 37/204 [02:16<10:13,  3.67s/it, loss=3.98]\u001b[A\u001b[A\n",
            "\n",
            "Epoch 0:  18%|█▊        | 37/204 [02:16<10:13,  3.67s/it, loss=4.09]\u001b[A\u001b[A\n",
            "\n",
            "Epoch 0:  19%|█▊        | 38/204 [02:16<10:01,  3.62s/it, loss=4.09]\u001b[A\u001b[A\n",
            "\n",
            "Epoch 0:  19%|█▊        | 38/204 [02:20<10:01,  3.62s/it, loss=4.09]\u001b[A\u001b[A\n",
            "\n",
            "Epoch 0:  19%|█▊        | 38/204 [02:20<10:01,  3.62s/it, loss=3.87]\u001b[A\u001b[A\n",
            "\n",
            "Epoch 0:  19%|█▉        | 39/204 [02:20<09:56,  3.61s/it, loss=3.87]\u001b[A\u001b[A\n",
            "\n",
            "Epoch 0:  19%|█▉        | 39/204 [02:23<09:56,  3.61s/it, loss=3.87]\u001b[A\u001b[A\n",
            "\n",
            "Epoch 0:  19%|█▉        | 39/204 [02:23<09:56,  3.61s/it, loss=4.07]\u001b[A\u001b[A\n",
            "\n",
            "Epoch 0:  20%|█▉        | 40/204 [02:23<09:47,  3.58s/it, loss=4.07]\u001b[A\u001b[A\n",
            "\n",
            "Epoch 0:  20%|█▉        | 40/204 [02:27<09:47,  3.58s/it, loss=4.07]\u001b[A\u001b[A\n",
            "\n",
            "Epoch 0:  20%|█▉        | 40/204 [02:27<09:47,  3.58s/it, loss=3.63]\u001b[A\u001b[A\n",
            "\n",
            "Epoch 0:  20%|██        | 41/204 [02:27<09:41,  3.57s/it, loss=3.63]\u001b[A\u001b[A\n",
            "\n",
            "Epoch 0:  20%|██        | 41/204 [02:30<09:41,  3.57s/it, loss=3.63]\u001b[A\u001b[A\n",
            "\n",
            "Epoch 0:  20%|██        | 41/204 [02:30<09:41,  3.57s/it, loss=3.96]\u001b[A\u001b[A\n",
            "\n",
            "Epoch 0:  21%|██        | 42/204 [02:30<09:33,  3.54s/it, loss=3.96]\u001b[A\u001b[A\n",
            "\n",
            "Epoch 0:  21%|██        | 42/204 [02:34<09:33,  3.54s/it, loss=3.96]\u001b[A\u001b[A\n",
            "\n",
            "Epoch 0:  21%|██        | 42/204 [02:34<09:33,  3.54s/it, loss=3.59]\u001b[A\u001b[A\n",
            "\n",
            "Epoch 0:  21%|██        | 43/204 [02:34<09:28,  3.53s/it, loss=3.59]\u001b[A\u001b[A\n",
            "\n",
            "Epoch 0:  21%|██        | 43/204 [02:37<09:28,  3.53s/it, loss=3.59]\u001b[A\u001b[A\n",
            "\n",
            "Epoch 0:  21%|██        | 43/204 [02:37<09:28,  3.53s/it, loss=3.82]\u001b[A\u001b[A\n",
            "\n",
            "Epoch 0:  22%|██▏       | 44/204 [02:37<09:21,  3.51s/it, loss=3.82]\u001b[A\u001b[A\n",
            "\n",
            "Epoch 0:  22%|██▏       | 44/204 [02:41<09:21,  3.51s/it, loss=3.82]\u001b[A\u001b[A\n",
            "\n",
            "Epoch 0:  22%|██▏       | 44/204 [02:41<09:21,  3.51s/it, loss=3.67]\u001b[A\u001b[A\n",
            "\n",
            "Epoch 0:  22%|██▏       | 45/204 [02:41<09:18,  3.51s/it, loss=3.67]\u001b[A\u001b[A\n",
            "\n",
            "Epoch 0:  22%|██▏       | 45/204 [02:44<09:18,  3.51s/it, loss=3.67]\u001b[A\u001b[A\n",
            "\n",
            "Epoch 0:  22%|██▏       | 45/204 [02:44<09:18,  3.51s/it, loss=4]   \u001b[A\u001b[A\n",
            "\n",
            "Epoch 0:  23%|██▎       | 46/204 [02:44<09:13,  3.50s/it, loss=4]\u001b[A\u001b[A\n",
            "\n",
            "Epoch 0:  23%|██▎       | 46/204 [02:48<09:13,  3.50s/it, loss=4]\u001b[A\u001b[A\n",
            "\n",
            "Epoch 0:  23%|██▎       | 46/204 [02:48<09:13,  3.50s/it, loss=3.97]\u001b[A\u001b[A\n",
            "\n",
            "Epoch 0:  23%|██▎       | 47/204 [02:48<09:09,  3.50s/it, loss=3.97]\u001b[A\u001b[A\n",
            "\n",
            "Epoch 0:  23%|██▎       | 47/204 [02:51<09:09,  3.50s/it, loss=3.97]\u001b[A\u001b[A\n",
            "\n",
            "Epoch 0:  23%|██▎       | 47/204 [02:51<09:09,  3.50s/it, loss=3.77]\u001b[A\u001b[A\n",
            "\n",
            "Epoch 0:  24%|██▎       | 48/204 [02:51<09:07,  3.51s/it, loss=3.77]\u001b[A\u001b[A\n",
            "\n",
            "Epoch 0:  24%|██▎       | 48/204 [02:55<09:07,  3.51s/it, loss=3.77]\u001b[A\u001b[A\n",
            "\n",
            "Epoch 0:  24%|██▎       | 48/204 [02:55<09:07,  3.51s/it, loss=3.7] \u001b[A\u001b[A\n",
            "\n",
            "Epoch 0:  24%|██▍       | 49/204 [02:55<09:03,  3.51s/it, loss=3.7]\u001b[A\u001b[A\n",
            "\n",
            "Epoch 0:  24%|██▍       | 49/204 [02:59<09:03,  3.51s/it, loss=3.7]\u001b[A\u001b[A\n",
            "\n",
            "Epoch 0:  24%|██▍       | 49/204 [02:59<09:03,  3.51s/it, loss=3.65]\u001b[A\u001b[A\n",
            "\n",
            "Epoch 0:  25%|██▍       | 50/204 [02:59<09:04,  3.53s/it, loss=3.65]\u001b[A\u001b[A\n",
            "\n",
            "Epoch 0:  25%|██▍       | 50/204 [03:02<09:04,  3.53s/it, loss=3.65]\u001b[A\u001b[A\n",
            "\n",
            "Epoch 0:  25%|██▍       | 50/204 [03:02<09:04,  3.53s/it, loss=3.74]\u001b[A\u001b[A\n",
            "\n",
            "Epoch 0:  25%|██▌       | 51/204 [03:02<08:59,  3.53s/it, loss=3.74]\u001b[A\u001b[A\n",
            "\n",
            "Epoch 0:  25%|██▌       | 51/204 [03:06<08:59,  3.53s/it, loss=3.74]\u001b[A\u001b[A\n",
            "\n",
            "Epoch 0:  25%|██▌       | 51/204 [03:06<08:59,  3.53s/it, loss=3.76]\u001b[A\u001b[A\n",
            "\n",
            "Epoch 0:  25%|██▌       | 52/204 [03:06<08:54,  3.51s/it, loss=3.76]\u001b[A\u001b[A\n",
            "\n",
            "Epoch 0:  25%|██▌       | 52/204 [03:09<08:54,  3.51s/it, loss=3.76]\u001b[A\u001b[A\n",
            "\n",
            "Epoch 0:  25%|██▌       | 52/204 [03:09<08:54,  3.51s/it, loss=3.67]\u001b[A\u001b[A\n",
            "\n",
            "Epoch 0:  26%|██▌       | 53/204 [03:09<08:47,  3.49s/it, loss=3.67]\u001b[A\u001b[A\n",
            "\n",
            "Epoch 0:  26%|██▌       | 53/204 [03:12<08:47,  3.49s/it, loss=3.67]\u001b[A\u001b[A\n",
            "\n",
            "Epoch 0:  26%|██▌       | 53/204 [03:12<08:47,  3.49s/it, loss=3.69]\u001b[A\u001b[A\n",
            "\n",
            "Epoch 0:  26%|██▋       | 54/204 [03:12<08:45,  3.50s/it, loss=3.69]\u001b[A\u001b[A\n",
            "\n",
            "Epoch 0:  26%|██▋       | 54/204 [03:16<08:45,  3.50s/it, loss=3.69]\u001b[A\u001b[A\n",
            "\n",
            "Epoch 0:  26%|██▋       | 54/204 [03:16<08:45,  3.50s/it, loss=3.45]\u001b[A\u001b[A\n",
            "\n",
            "Epoch 0:  27%|██▋       | 55/204 [03:16<08:44,  3.52s/it, loss=3.45]\u001b[A\u001b[A\n",
            "\n",
            "Epoch 0:  27%|██▋       | 55/204 [03:20<08:44,  3.52s/it, loss=3.45]\u001b[A\u001b[A\n",
            "\n",
            "Epoch 0:  27%|██▋       | 55/204 [03:20<08:44,  3.52s/it, loss=3.87]\u001b[A\u001b[A\n",
            "\n",
            "Epoch 0:  27%|██▋       | 56/204 [03:20<08:41,  3.52s/it, loss=3.87]\u001b[A\u001b[A\n",
            "\n",
            "Epoch 0:  27%|██▋       | 56/204 [03:23<08:41,  3.52s/it, loss=3.87]\u001b[A\u001b[A\n",
            "\n",
            "Epoch 0:  27%|██▋       | 56/204 [03:23<08:41,  3.52s/it, loss=3.75]\u001b[A\u001b[A\n",
            "\n",
            "Epoch 0:  28%|██▊       | 57/204 [03:23<08:36,  3.51s/it, loss=3.75]\u001b[A\u001b[A\n",
            "\n",
            "Epoch 0:  28%|██▊       | 57/204 [03:27<08:36,  3.51s/it, loss=3.75]\u001b[A\u001b[A\n",
            "\n",
            "Epoch 0:  28%|██▊       | 57/204 [03:27<08:36,  3.51s/it, loss=3.45]\u001b[A\u001b[A\n",
            "\n",
            "Epoch 0:  28%|██▊       | 58/204 [03:27<08:31,  3.50s/it, loss=3.45]\u001b[A\u001b[A\n",
            "\n",
            "Epoch 0:  28%|██▊       | 58/204 [03:30<08:31,  3.50s/it, loss=3.45]\u001b[A\u001b[A\n",
            "\n",
            "Epoch 0:  28%|██▊       | 58/204 [03:30<08:31,  3.50s/it, loss=3.6] \u001b[A\u001b[A\n",
            "\n",
            "Epoch 0:  29%|██▉       | 59/204 [03:30<08:25,  3.49s/it, loss=3.6]\u001b[A\u001b[A\n",
            "\n",
            "Epoch 0:  29%|██▉       | 59/204 [03:33<08:25,  3.49s/it, loss=3.6]\u001b[A\u001b[A\n",
            "\n",
            "Epoch 0:  29%|██▉       | 59/204 [03:33<08:25,  3.49s/it, loss=3.6]\u001b[A\u001b[A\n",
            "\n",
            "Epoch 0:  29%|██▉       | 60/204 [03:33<08:21,  3.48s/it, loss=3.6]\u001b[A\u001b[A\n",
            "\n",
            "Epoch 0:  29%|██▉       | 60/204 [03:37<08:21,  3.48s/it, loss=3.6]\u001b[A\u001b[A\n",
            "\n",
            "Epoch 0:  29%|██▉       | 60/204 [03:37<08:21,  3.48s/it, loss=3.99]\u001b[A\u001b[A\n",
            "\n",
            "Epoch 0:  30%|██▉       | 61/204 [03:37<08:17,  3.48s/it, loss=3.99]\u001b[A\u001b[A\n",
            "\n",
            "Epoch 0:  30%|██▉       | 61/204 [03:40<08:17,  3.48s/it, loss=3.99]\u001b[A\u001b[A\n",
            "\n",
            "Epoch 0:  30%|██▉       | 61/204 [03:40<08:17,  3.48s/it, loss=3.5] \u001b[A\u001b[A\n",
            "\n",
            "Epoch 0:  30%|███       | 62/204 [03:40<08:12,  3.47s/it, loss=3.5]\u001b[A\u001b[A\n",
            "\n",
            "Epoch 0:  30%|███       | 62/204 [03:44<08:12,  3.47s/it, loss=3.5]\u001b[A\u001b[A\n",
            "\n",
            "Epoch 0:  30%|███       | 62/204 [03:44<08:12,  3.47s/it, loss=3.61]\u001b[A\u001b[A\n",
            "\n",
            "Epoch 0:  31%|███       | 63/204 [03:44<08:09,  3.47s/it, loss=3.61]\u001b[A\u001b[A\n",
            "\n",
            "Epoch 0:  31%|███       | 63/204 [03:47<08:09,  3.47s/it, loss=3.61]\u001b[A\u001b[A\n",
            "\n",
            "Epoch 0:  31%|███       | 63/204 [03:47<08:09,  3.47s/it, loss=3.92]\u001b[A\u001b[A\n",
            "\n",
            "Epoch 0:  31%|███▏      | 64/204 [03:47<08:05,  3.47s/it, loss=3.92]\u001b[A\u001b[A\n",
            "\n",
            "Epoch 0:  31%|███▏      | 64/204 [03:51<08:05,  3.47s/it, loss=3.92]\u001b[A\u001b[A\n",
            "\n",
            "Epoch 0:  31%|███▏      | 64/204 [03:51<08:05,  3.47s/it, loss=3.39]\u001b[A\u001b[A\n",
            "\n",
            "Epoch 0:  32%|███▏      | 65/204 [03:51<08:03,  3.48s/it, loss=3.39]\u001b[A\u001b[A\n",
            "\n",
            "Epoch 0:  32%|███▏      | 65/204 [03:54<08:03,  3.48s/it, loss=3.39]\u001b[A\u001b[A\n",
            "\n",
            "Epoch 0:  32%|███▏      | 65/204 [03:54<08:03,  3.48s/it, loss=3.47]\u001b[A\u001b[A\n",
            "\n",
            "Epoch 0:  32%|███▏      | 66/204 [03:54<07:59,  3.47s/it, loss=3.47]\u001b[A\u001b[A\n",
            "\n",
            "Epoch 0:  32%|███▏      | 66/204 [03:58<07:59,  3.47s/it, loss=3.47]\u001b[A\u001b[A\n",
            "\n",
            "Epoch 0:  32%|███▏      | 66/204 [03:58<07:59,  3.47s/it, loss=3.6] \u001b[A\u001b[A\n",
            "\n",
            "Epoch 0:  33%|███▎      | 67/204 [03:58<07:57,  3.49s/it, loss=3.6]\u001b[A\u001b[A\n",
            "\n",
            "Epoch 0:  33%|███▎      | 67/204 [04:01<07:57,  3.49s/it, loss=3.6]\u001b[A\u001b[A\n",
            "\n",
            "Epoch 0:  33%|███▎      | 67/204 [04:01<07:57,  3.49s/it, loss=3.85]\u001b[A\u001b[A\n",
            "\n",
            "Epoch 0:  33%|███▎      | 68/204 [04:01<07:57,  3.51s/it, loss=3.85]\u001b[A\u001b[A\n",
            "\n",
            "Epoch 0:  33%|███▎      | 68/204 [04:05<07:57,  3.51s/it, loss=3.85]\u001b[A\u001b[A\n",
            "\n",
            "Epoch 0:  33%|███▎      | 68/204 [04:05<07:57,  3.51s/it, loss=3.28]\u001b[A\u001b[A\n",
            "\n",
            "Epoch 0:  34%|███▍      | 69/204 [04:05<07:52,  3.50s/it, loss=3.28]\u001b[A\u001b[A\n",
            "\n",
            "Epoch 0:  34%|███▍      | 69/204 [04:08<07:52,  3.50s/it, loss=3.28]\u001b[A\u001b[A\n",
            "\n",
            "Epoch 0:  34%|███▍      | 69/204 [04:08<07:52,  3.50s/it, loss=3.82]\u001b[A\u001b[A\n",
            "\n",
            "Epoch 0:  34%|███▍      | 70/204 [04:08<07:48,  3.50s/it, loss=3.82]\u001b[A\u001b[A\n",
            "\n",
            "Epoch 0:  34%|███▍      | 70/204 [04:12<07:48,  3.50s/it, loss=3.82]\u001b[A\u001b[A\n",
            "\n",
            "Epoch 0:  34%|███▍      | 70/204 [04:12<07:48,  3.50s/it, loss=3.69]\u001b[A\u001b[A\n",
            "\n",
            "Epoch 0:  35%|███▍      | 71/204 [04:12<07:45,  3.50s/it, loss=3.69]\u001b[A\u001b[A\n",
            "\n",
            "Epoch 0:  35%|███▍      | 71/204 [04:15<07:45,  3.50s/it, loss=3.69]\u001b[A\u001b[A\n",
            "\n",
            "Epoch 0:  35%|███▍      | 71/204 [04:15<07:45,  3.50s/it, loss=3.88]\u001b[A\u001b[A\n",
            "\n",
            "Epoch 0:  35%|███▌      | 72/204 [04:15<07:42,  3.50s/it, loss=3.88]\u001b[A\u001b[A\n",
            "\n",
            "Epoch 0:  35%|███▌      | 72/204 [04:19<07:42,  3.50s/it, loss=3.88]\u001b[A\u001b[A\n",
            "\n",
            "Epoch 0:  35%|███▌      | 72/204 [04:19<07:42,  3.50s/it, loss=3.41]\u001b[A\u001b[A\n",
            "\n",
            "Epoch 0:  36%|███▌      | 73/204 [04:19<07:39,  3.51s/it, loss=3.41]\u001b[A\u001b[A\n",
            "\n",
            "Epoch 0:  36%|███▌      | 73/204 [04:22<07:39,  3.51s/it, loss=3.41]\u001b[A\u001b[A\n",
            "\n",
            "Epoch 0:  36%|███▌      | 73/204 [04:22<07:39,  3.51s/it, loss=3.56]\u001b[A\u001b[A\n",
            "\n",
            "Epoch 0:  36%|███▋      | 74/204 [04:22<07:35,  3.50s/it, loss=3.56]\u001b[A\u001b[A\n",
            "\n",
            "Epoch 0:  36%|███▋      | 74/204 [04:26<07:35,  3.50s/it, loss=3.56]\u001b[A\u001b[A\n",
            "\n",
            "Epoch 0:  36%|███▋      | 74/204 [04:26<07:35,  3.50s/it, loss=3.29]\u001b[A\u001b[A\n",
            "\n",
            "Epoch 0:  37%|███▋      | 75/204 [04:26<07:31,  3.50s/it, loss=3.29]\u001b[A\u001b[A\n",
            "\n",
            "Epoch 0:  37%|███▋      | 75/204 [04:29<07:31,  3.50s/it, loss=3.29]\u001b[A\u001b[A\n",
            "\n",
            "Epoch 0:  37%|███▋      | 75/204 [04:29<07:31,  3.50s/it, loss=3.9] \u001b[A\u001b[A\n",
            "\n",
            "Epoch 0:  37%|███▋      | 76/204 [04:29<07:26,  3.49s/it, loss=3.9]\u001b[A\u001b[A\n",
            "\n",
            "Epoch 0:  37%|███▋      | 76/204 [04:33<07:26,  3.49s/it, loss=3.9]\u001b[A\u001b[A\n",
            "\n",
            "Epoch 0:  37%|███▋      | 76/204 [04:33<07:26,  3.49s/it, loss=3.37]\u001b[A\u001b[A\n",
            "\n",
            "Epoch 0:  38%|███▊      | 77/204 [04:33<07:24,  3.50s/it, loss=3.37]\u001b[A\u001b[A\n",
            "\n",
            "Epoch 0:  38%|███▊      | 77/204 [04:36<07:24,  3.50s/it, loss=3.37]\u001b[A\u001b[A\n",
            "\n",
            "Epoch 0:  38%|███▊      | 77/204 [04:36<07:24,  3.50s/it, loss=3.67]\u001b[A\u001b[A\n",
            "\n",
            "Epoch 0:  38%|███▊      | 78/204 [04:36<07:21,  3.50s/it, loss=3.67]\u001b[A\u001b[A\n",
            "\n",
            "Epoch 0:  38%|███▊      | 78/204 [04:40<07:21,  3.50s/it, loss=3.67]\u001b[A\u001b[A\n",
            "\n",
            "Epoch 0:  38%|███▊      | 78/204 [04:40<07:21,  3.50s/it, loss=3.73]\u001b[A\u001b[A\n",
            "\n",
            "Epoch 0:  39%|███▊      | 79/204 [04:40<07:17,  3.50s/it, loss=3.73]\u001b[A\u001b[A\n",
            "\n",
            "Epoch 0:  39%|███▊      | 79/204 [04:43<07:17,  3.50s/it, loss=3.73]\u001b[A\u001b[A\n",
            "\n",
            "Epoch 0:  39%|███▊      | 79/204 [04:43<07:17,  3.50s/it, loss=3.56]\u001b[A\u001b[A\n",
            "\n",
            "Epoch 0:  39%|███▉      | 80/204 [04:43<07:13,  3.49s/it, loss=3.56]\u001b[A\u001b[A\n",
            "\n",
            "Epoch 0:  39%|███▉      | 80/204 [04:47<07:13,  3.49s/it, loss=3.56]\u001b[A\u001b[A\n",
            "\n",
            "Epoch 0:  39%|███▉      | 80/204 [04:47<07:13,  3.49s/it, loss=3.62]\u001b[A\u001b[A\n",
            "\n",
            "Epoch 0:  40%|███▉      | 81/204 [04:47<07:09,  3.49s/it, loss=3.62]\u001b[A\u001b[A\n",
            "\n",
            "Epoch 0:  40%|███▉      | 81/204 [04:50<07:09,  3.49s/it, loss=3.62]\u001b[A\u001b[A\n",
            "\n",
            "Epoch 0:  40%|███▉      | 81/204 [04:50<07:09,  3.49s/it, loss=3.14]\u001b[A\u001b[A\n",
            "\n",
            "Epoch 0:  40%|████      | 82/204 [04:50<07:05,  3.49s/it, loss=3.14]\u001b[A\u001b[A\n",
            "\n",
            "Epoch 0:  40%|████      | 82/204 [04:54<07:05,  3.49s/it, loss=3.14]\u001b[A\u001b[A\n",
            "\n",
            "Epoch 0:  40%|████      | 82/204 [04:54<07:05,  3.49s/it, loss=3.35]\u001b[A\u001b[A\n",
            "\n",
            "Epoch 0:  41%|████      | 83/204 [04:54<07:00,  3.47s/it, loss=3.35]\u001b[A\u001b[A\n",
            "\n",
            "Epoch 0:  41%|████      | 83/204 [04:57<07:00,  3.47s/it, loss=3.35]\u001b[A\u001b[A\n",
            "\n",
            "Epoch 0:  41%|████      | 83/204 [04:57<07:00,  3.47s/it, loss=3.62]\u001b[A\u001b[A\n",
            "\n",
            "Epoch 0:  41%|████      | 84/204 [04:57<06:56,  3.47s/it, loss=3.62]\u001b[A\u001b[A\n",
            "\n",
            "Epoch 0:  41%|████      | 84/204 [05:01<06:56,  3.47s/it, loss=3.62]\u001b[A\u001b[A\n",
            "\n",
            "Epoch 0:  41%|████      | 84/204 [05:01<06:56,  3.47s/it, loss=3.53]\u001b[A\u001b[A\n",
            "\n",
            "Epoch 0:  42%|████▏     | 85/204 [05:01<06:54,  3.48s/it, loss=3.53]\u001b[A\u001b[A\n",
            "\n",
            "Epoch 0:  42%|████▏     | 85/204 [05:04<06:54,  3.48s/it, loss=3.53]\u001b[A\u001b[A\n",
            "\n",
            "Epoch 0:  42%|████▏     | 85/204 [05:04<06:54,  3.48s/it, loss=3.23]\u001b[A\u001b[A\n",
            "\n",
            "Epoch 0:  42%|████▏     | 86/204 [05:04<06:54,  3.51s/it, loss=3.23]\u001b[A\u001b[A\n",
            "\n",
            "Epoch 0:  42%|████▏     | 86/204 [05:08<06:54,  3.51s/it, loss=3.23]\u001b[A\u001b[A\n",
            "\n",
            "Epoch 0:  42%|████▏     | 86/204 [05:08<06:54,  3.51s/it, loss=3.37]\u001b[A\u001b[A\n",
            "\n",
            "Epoch 0:  43%|████▎     | 87/204 [05:08<06:49,  3.50s/it, loss=3.37]\u001b[A\u001b[A\n",
            "\n",
            "Epoch 0:  43%|████▎     | 87/204 [05:11<06:49,  3.50s/it, loss=3.37]\u001b[A\u001b[A\n",
            "\n",
            "Epoch 0:  43%|████▎     | 87/204 [05:11<06:49,  3.50s/it, loss=3.32]\u001b[A\u001b[A\n",
            "\n",
            "Epoch 0:  43%|████▎     | 88/204 [05:11<06:44,  3.49s/it, loss=3.32]\u001b[A\u001b[A\n",
            "\n",
            "Epoch 0:  43%|████▎     | 88/204 [05:15<06:44,  3.49s/it, loss=3.32]\u001b[A\u001b[A\n",
            "\n",
            "Epoch 0:  43%|████▎     | 88/204 [05:15<06:44,  3.49s/it, loss=2.92]\u001b[A\u001b[A\n",
            "\n",
            "Epoch 0:  44%|████▎     | 89/204 [05:15<06:42,  3.50s/it, loss=2.92]\u001b[A\u001b[A\n",
            "\n",
            "Epoch 0:  44%|████▎     | 89/204 [05:18<06:42,  3.50s/it, loss=2.92]\u001b[A\u001b[A\n",
            "\n",
            "Epoch 0:  44%|████▎     | 89/204 [05:18<06:42,  3.50s/it, loss=3.36]\u001b[A\u001b[A\n",
            "\n",
            "Epoch 0:  44%|████▍     | 90/204 [05:18<06:39,  3.50s/it, loss=3.36]\u001b[A\u001b[A\n",
            "\n",
            "Epoch 0:  44%|████▍     | 90/204 [05:22<06:39,  3.50s/it, loss=3.36]\u001b[A\u001b[A\n",
            "\n",
            "Epoch 0:  44%|████▍     | 90/204 [05:22<06:39,  3.50s/it, loss=3.89]\u001b[A\u001b[A\n",
            "\n",
            "Epoch 0:  45%|████▍     | 91/204 [05:22<06:35,  3.50s/it, loss=3.89]\u001b[A\u001b[A\n",
            "\n",
            "Epoch 0:  45%|████▍     | 91/204 [05:25<06:35,  3.50s/it, loss=3.89]\u001b[A\u001b[A\n",
            "\n",
            "Epoch 0:  45%|████▍     | 91/204 [05:25<06:35,  3.50s/it, loss=3.21]\u001b[A\u001b[A\n",
            "\n",
            "Epoch 0:  45%|████▌     | 92/204 [05:25<06:29,  3.48s/it, loss=3.21]\u001b[A\u001b[A\n",
            "\n",
            "Epoch 0:  45%|████▌     | 92/204 [05:29<06:29,  3.48s/it, loss=3.21]\u001b[A\u001b[A\n",
            "\n",
            "Epoch 0:  45%|████▌     | 92/204 [05:29<06:29,  3.48s/it, loss=3.33]\u001b[A\u001b[A\n",
            "\n",
            "Epoch 0:  46%|████▌     | 93/204 [05:29<06:27,  3.49s/it, loss=3.33]\u001b[A\u001b[A\n",
            "\n",
            "Epoch 0:  46%|████▌     | 93/204 [05:32<06:27,  3.49s/it, loss=3.33]\u001b[A\u001b[A\n",
            "\n",
            "Epoch 0:  46%|████▌     | 93/204 [05:32<06:27,  3.49s/it, loss=3.82]\u001b[A\u001b[A\n",
            "\n",
            "Epoch 0:  46%|████▌     | 94/204 [05:32<06:25,  3.50s/it, loss=3.82]\u001b[A\u001b[A\n",
            "\n",
            "Epoch 0:  46%|████▌     | 94/204 [05:36<06:25,  3.50s/it, loss=3.82]\u001b[A\u001b[A\n",
            "\n",
            "Epoch 0:  46%|████▌     | 94/204 [05:36<06:25,  3.50s/it, loss=3.26]\u001b[A\u001b[A\n",
            "\n",
            "Epoch 0:  47%|████▋     | 95/204 [05:36<06:21,  3.50s/it, loss=3.26]\u001b[A\u001b[A\n",
            "\n",
            "Epoch 0:  47%|████▋     | 95/204 [05:39<06:21,  3.50s/it, loss=3.26]\u001b[A\u001b[A\n",
            "\n",
            "Epoch 0:  47%|████▋     | 95/204 [05:39<06:21,  3.50s/it, loss=3.07]\u001b[A\u001b[A\n",
            "\n",
            "Epoch 0:  47%|████▋     | 96/204 [05:39<06:16,  3.48s/it, loss=3.07]\u001b[A\u001b[A\n",
            "\n",
            "Epoch 0:  47%|████▋     | 96/204 [05:43<06:16,  3.48s/it, loss=3.07]\u001b[A\u001b[A\n",
            "\n",
            "Epoch 0:  47%|████▋     | 96/204 [05:43<06:16,  3.48s/it, loss=3.13]\u001b[A\u001b[A\n",
            "\n",
            "Epoch 0:  48%|████▊     | 97/204 [05:43<06:13,  3.49s/it, loss=3.13]\u001b[A\u001b[A\n",
            "\n",
            "Epoch 0:  48%|████▊     | 97/204 [05:46<06:13,  3.49s/it, loss=3.13]\u001b[A\u001b[A\n",
            "\n",
            "Epoch 0:  48%|████▊     | 97/204 [05:46<06:13,  3.49s/it, loss=3.55]\u001b[A\u001b[A\n",
            "\n",
            "Epoch 0:  48%|████▊     | 98/204 [05:46<06:09,  3.49s/it, loss=3.55]\u001b[A\u001b[A\n",
            "\n",
            "Epoch 0:  48%|████▊     | 98/204 [05:50<06:09,  3.49s/it, loss=3.55]\u001b[A\u001b[A\n",
            "\n",
            "Epoch 0:  48%|████▊     | 98/204 [05:50<06:09,  3.49s/it, loss=2.87]\u001b[A\u001b[A\n",
            "\n",
            "Epoch 0:  49%|████▊     | 99/204 [05:50<06:05,  3.48s/it, loss=2.87]\u001b[A\u001b[A\n",
            "\n",
            "Epoch 0:  49%|████▊     | 99/204 [05:53<06:05,  3.48s/it, loss=2.87]\u001b[A\u001b[A\n",
            "\n",
            "Epoch 0:  49%|████▊     | 99/204 [05:53<06:05,  3.48s/it, loss=3.28]\u001b[A\u001b[A\n",
            "\n",
            "Epoch 0:  49%|████▉     | 100/204 [05:53<06:01,  3.48s/it, loss=3.28]\u001b[A\u001b[A\n",
            "\n",
            "Epoch 0:  49%|████▉     | 100/204 [05:57<06:01,  3.48s/it, loss=3.28]\u001b[A\u001b[A\n",
            "\n",
            "Epoch 0:  49%|████▉     | 100/204 [05:57<06:01,  3.48s/it, loss=3.12]\u001b[A\u001b[A\n",
            "\n",
            "Epoch 0:  50%|████▉     | 101/204 [05:57<05:57,  3.48s/it, loss=3.12]\u001b[A\u001b[A\n",
            "\n",
            "Epoch 0:  50%|████▉     | 101/204 [06:00<05:57,  3.48s/it, loss=3.12]\u001b[A\u001b[A\n",
            "\n",
            "Epoch 0:  50%|████▉     | 101/204 [06:00<05:57,  3.48s/it, loss=3.46]\u001b[A\u001b[A\n",
            "\n",
            "Epoch 0:  50%|█████     | 102/204 [06:00<05:57,  3.50s/it, loss=3.46]\u001b[A\u001b[A\n",
            "\n",
            "Epoch 0:  50%|█████     | 102/204 [06:04<05:57,  3.50s/it, loss=3.46]\u001b[A\u001b[A\n",
            "\n",
            "Epoch 0:  50%|█████     | 102/204 [06:04<05:57,  3.50s/it, loss=3.34]\u001b[A\u001b[A\n",
            "\n",
            "Epoch 0:  50%|█████     | 103/204 [06:04<05:56,  3.53s/it, loss=3.34]\u001b[A\u001b[A\n",
            "\n",
            "Epoch 0:  50%|█████     | 103/204 [06:07<05:56,  3.53s/it, loss=3.34]\u001b[A\u001b[A\n",
            "\n",
            "Epoch 0:  50%|█████     | 103/204 [06:07<05:56,  3.53s/it, loss=3.43]\u001b[A\u001b[A\n",
            "\n",
            "Epoch 0:  51%|█████     | 104/204 [06:07<05:51,  3.52s/it, loss=3.43]\u001b[A\u001b[A\n",
            "\n",
            "Epoch 0:  51%|█████     | 104/204 [06:11<05:51,  3.52s/it, loss=3.43]\u001b[A\u001b[A\n",
            "\n",
            "Epoch 0:  51%|█████     | 104/204 [06:11<05:51,  3.52s/it, loss=3.07]\u001b[A\u001b[A\n",
            "\n",
            "Epoch 0:  51%|█████▏    | 105/204 [06:11<05:45,  3.49s/it, loss=3.07]\u001b[A\u001b[A\n",
            "\n",
            "Epoch 0:  51%|█████▏    | 105/204 [06:14<05:45,  3.49s/it, loss=3.07]\u001b[A\u001b[A\n",
            "\n",
            "Epoch 0:  51%|█████▏    | 105/204 [06:14<05:45,  3.49s/it, loss=3.02]\u001b[A\u001b[A\n",
            "\n",
            "Epoch 0:  52%|█████▏    | 106/204 [06:14<05:43,  3.50s/it, loss=3.02]\u001b[A\u001b[A\n",
            "\n",
            "Epoch 0:  52%|█████▏    | 106/204 [06:18<05:43,  3.50s/it, loss=3.02]\u001b[A\u001b[A\n",
            "\n",
            "Epoch 0:  52%|█████▏    | 106/204 [06:18<05:43,  3.50s/it, loss=3.06]\u001b[A\u001b[A\n",
            "\n",
            "Epoch 0:  52%|█████▏    | 107/204 [06:18<05:38,  3.49s/it, loss=3.06]\u001b[A\u001b[A\n",
            "\n",
            "Epoch 0:  52%|█████▏    | 107/204 [06:21<05:38,  3.49s/it, loss=3.06]\u001b[A\u001b[A\n",
            "\n",
            "Epoch 0:  52%|█████▏    | 107/204 [06:21<05:38,  3.49s/it, loss=3.13]\u001b[A\u001b[A\n",
            "\n",
            "Epoch 0:  53%|█████▎    | 108/204 [06:21<05:35,  3.49s/it, loss=3.13]\u001b[A\u001b[A\n",
            "\n",
            "Epoch 0:  53%|█████▎    | 108/204 [06:25<05:35,  3.49s/it, loss=3.13]\u001b[A\u001b[A\n",
            "\n",
            "Epoch 0:  53%|█████▎    | 108/204 [06:25<05:35,  3.49s/it, loss=4.01]\u001b[A\u001b[A\n",
            "\n",
            "Epoch 0:  53%|█████▎    | 109/204 [06:25<05:30,  3.48s/it, loss=4.01]\u001b[A\u001b[A\n",
            "\n",
            "Epoch 0:  53%|█████▎    | 109/204 [06:28<05:30,  3.48s/it, loss=4.01]\u001b[A\u001b[A\n",
            "\n",
            "Epoch 0:  53%|█████▎    | 109/204 [06:28<05:30,  3.48s/it, loss=2.84]\u001b[A\u001b[A\n",
            "\n",
            "Epoch 0:  54%|█████▍    | 110/204 [06:28<05:28,  3.50s/it, loss=2.84]\u001b[A\u001b[A\n",
            "\n",
            "Epoch 0:  54%|█████▍    | 110/204 [06:32<05:28,  3.50s/it, loss=2.84]\u001b[A\u001b[A\n",
            "\n",
            "Epoch 0:  54%|█████▍    | 110/204 [06:32<05:28,  3.50s/it, loss=3.18]\u001b[A\u001b[A\n",
            "\n",
            "Epoch 0:  54%|█████▍    | 111/204 [06:32<05:24,  3.48s/it, loss=3.18]\u001b[A\u001b[A\n",
            "\n",
            "Epoch 0:  54%|█████▍    | 111/204 [06:35<05:24,  3.48s/it, loss=3.18]\u001b[A\u001b[A\n",
            "\n",
            "Epoch 0:  54%|█████▍    | 111/204 [06:35<05:24,  3.48s/it, loss=2.71]\u001b[A\u001b[A\n",
            "\n",
            "Epoch 0:  55%|█████▍    | 112/204 [06:35<05:19,  3.48s/it, loss=2.71]\u001b[A\u001b[A\n",
            "\n",
            "Epoch 0:  55%|█████▍    | 112/204 [06:38<05:19,  3.48s/it, loss=2.71]\u001b[A\u001b[A\n",
            "\n",
            "Epoch 0:  55%|█████▍    | 112/204 [06:38<05:19,  3.48s/it, loss=2.8] \u001b[A\u001b[A\n",
            "\n",
            "Epoch 0:  55%|█████▌    | 113/204 [06:38<05:16,  3.48s/it, loss=2.8]\u001b[A\u001b[A\n",
            "\n",
            "Epoch 0:  55%|█████▌    | 113/204 [06:42<05:16,  3.48s/it, loss=2.8]\u001b[A\u001b[A\n",
            "\n",
            "Epoch 0:  55%|█████▌    | 113/204 [06:42<05:16,  3.48s/it, loss=3.53]\u001b[A\u001b[A\n",
            "\n",
            "Epoch 0:  56%|█████▌    | 114/204 [06:42<05:12,  3.48s/it, loss=3.53]\u001b[A\u001b[A\n",
            "\n",
            "Epoch 0:  56%|█████▌    | 114/204 [06:45<05:12,  3.48s/it, loss=3.53]\u001b[A\u001b[A\n",
            "\n",
            "Epoch 0:  56%|█████▌    | 114/204 [06:45<05:12,  3.48s/it, loss=3.01]\u001b[A\u001b[A\n",
            "\n",
            "Epoch 0:  56%|█████▋    | 115/204 [06:45<05:08,  3.47s/it, loss=3.01]\u001b[A\u001b[A\n",
            "\n",
            "Epoch 0:  56%|█████▋    | 115/204 [06:49<05:08,  3.47s/it, loss=3.01]\u001b[A\u001b[A\n",
            "\n",
            "Epoch 0:  56%|█████▋    | 115/204 [06:49<05:08,  3.47s/it, loss=2.99]\u001b[A\u001b[A\n",
            "\n",
            "Epoch 0:  57%|█████▋    | 116/204 [06:49<05:05,  3.47s/it, loss=2.99]\u001b[A\u001b[A\n",
            "\n",
            "Epoch 0:  57%|█████▋    | 116/204 [06:52<05:05,  3.47s/it, loss=2.99]\u001b[A\u001b[A\n",
            "\n",
            "Epoch 0:  57%|█████▋    | 116/204 [06:52<05:05,  3.47s/it, loss=3.43]\u001b[A\u001b[A\n",
            "\n",
            "Epoch 0:  57%|█████▋    | 117/204 [06:52<05:03,  3.48s/it, loss=3.43]\u001b[A\u001b[A\n",
            "\n",
            "Epoch 0:  57%|█████▋    | 117/204 [06:56<05:03,  3.48s/it, loss=3.43]\u001b[A\u001b[A\n",
            "\n",
            "Epoch 0:  57%|█████▋    | 117/204 [06:56<05:03,  3.48s/it, loss=3.12]\u001b[A\u001b[A\n",
            "\n",
            "Epoch 0:  58%|█████▊    | 118/204 [06:56<04:58,  3.48s/it, loss=3.12]\u001b[A\u001b[A\n",
            "\n",
            "Epoch 0:  58%|█████▊    | 118/204 [06:59<04:58,  3.48s/it, loss=3.12]\u001b[A\u001b[A\n",
            "\n",
            "Epoch 0:  58%|█████▊    | 118/204 [06:59<04:58,  3.48s/it, loss=3.63]\u001b[A\u001b[A\n",
            "\n",
            "Epoch 0:  58%|█████▊    | 119/204 [06:59<04:58,  3.51s/it, loss=3.63]\u001b[A\u001b[A\n",
            "\n",
            "Epoch 0:  58%|█████▊    | 119/204 [07:03<04:58,  3.51s/it, loss=3.63]\u001b[A\u001b[A\n",
            "\n",
            "Epoch 0:  58%|█████▊    | 119/204 [07:03<04:58,  3.51s/it, loss=3.28]\u001b[A\u001b[A\n",
            "\n",
            "Epoch 0:  59%|█████▉    | 120/204 [07:03<04:56,  3.53s/it, loss=3.28]\u001b[A\u001b[A\n",
            "\n",
            "Epoch 0:  59%|█████▉    | 120/204 [07:06<04:56,  3.53s/it, loss=3.28]\u001b[A\u001b[A\n",
            "\n",
            "Epoch 0:  59%|█████▉    | 120/204 [07:06<04:56,  3.53s/it, loss=3.29]\u001b[A\u001b[A\n",
            "\n",
            "Epoch 0:  59%|█████▉    | 121/204 [07:06<04:50,  3.51s/it, loss=3.29]\u001b[A\u001b[A\n",
            "\n",
            "Epoch 0:  59%|█████▉    | 121/204 [07:10<04:50,  3.51s/it, loss=3.29]\u001b[A\u001b[A\n",
            "\n",
            "Epoch 0:  59%|█████▉    | 121/204 [07:10<04:50,  3.51s/it, loss=2.66]\u001b[A\u001b[A\n",
            "\n",
            "Epoch 0:  60%|█████▉    | 122/204 [07:10<04:49,  3.53s/it, loss=2.66]\u001b[A\u001b[A\n",
            "\n",
            "Epoch 0:  60%|█████▉    | 122/204 [07:14<04:49,  3.53s/it, loss=2.66]\u001b[A\u001b[A\n",
            "\n",
            "Epoch 0:  60%|█████▉    | 122/204 [07:14<04:49,  3.53s/it, loss=2.96]\u001b[A\u001b[A\n",
            "\n",
            "Epoch 0:  60%|██████    | 123/204 [07:14<04:46,  3.53s/it, loss=2.96]\u001b[A\u001b[A\n",
            "\n",
            "Epoch 0:  60%|██████    | 123/204 [07:17<04:46,  3.53s/it, loss=2.96]\u001b[A\u001b[A\n",
            "\n",
            "Epoch 0:  60%|██████    | 123/204 [07:17<04:46,  3.53s/it, loss=2.74]\u001b[A\u001b[A\n",
            "\n",
            "Epoch 0:  61%|██████    | 124/204 [07:17<04:43,  3.55s/it, loss=2.74]\u001b[A\u001b[A\n",
            "\n",
            "Epoch 0:  61%|██████    | 124/204 [07:21<04:43,  3.55s/it, loss=2.74]\u001b[A\u001b[A\n",
            "\n",
            "Epoch 0:  61%|██████    | 124/204 [07:21<04:43,  3.55s/it, loss=3.09]\u001b[A\u001b[A\n",
            "\n",
            "Epoch 0:  61%|██████▏   | 125/204 [07:21<04:40,  3.56s/it, loss=3.09]\u001b[A\u001b[A\n",
            "\n",
            "Epoch 0:  61%|██████▏   | 125/204 [07:24<04:40,  3.56s/it, loss=3.09]\u001b[A\u001b[A\n",
            "\n",
            "Epoch 0:  61%|██████▏   | 125/204 [07:24<04:40,  3.56s/it, loss=2.5] \u001b[A\u001b[A\n",
            "\n",
            "Epoch 0:  62%|██████▏   | 126/204 [07:24<04:36,  3.54s/it, loss=2.5]\u001b[A\u001b[A\n",
            "\n",
            "Epoch 0:  62%|██████▏   | 126/204 [07:28<04:36,  3.54s/it, loss=2.5]\u001b[A\u001b[A\n",
            "\n",
            "Epoch 0:  62%|██████▏   | 126/204 [07:28<04:36,  3.54s/it, loss=2.42]\u001b[A\u001b[A\n",
            "\n",
            "Epoch 0:  62%|██████▏   | 127/204 [07:28<04:31,  3.52s/it, loss=2.42]\u001b[A\u001b[A\n",
            "\n",
            "Epoch 0:  62%|██████▏   | 127/204 [07:31<04:31,  3.52s/it, loss=2.42]\u001b[A\u001b[A\n",
            "\n",
            "Epoch 0:  62%|██████▏   | 127/204 [07:31<04:31,  3.52s/it, loss=3.24]\u001b[A\u001b[A\n",
            "\n",
            "Epoch 0:  63%|██████▎   | 128/204 [07:31<04:27,  3.51s/it, loss=3.24]\u001b[A\u001b[A\n",
            "\n",
            "Epoch 0:  63%|██████▎   | 128/204 [07:35<04:27,  3.51s/it, loss=3.24]\u001b[A\u001b[A\n",
            "\n",
            "Epoch 0:  63%|██████▎   | 128/204 [07:35<04:27,  3.51s/it, loss=2.96]\u001b[A\u001b[A\n",
            "\n",
            "Epoch 0:  63%|██████▎   | 129/204 [07:35<04:22,  3.50s/it, loss=2.96]\u001b[A\u001b[A\n",
            "\n",
            "Epoch 0:  63%|██████▎   | 129/204 [07:38<04:22,  3.50s/it, loss=2.96]\u001b[A\u001b[A\n",
            "\n",
            "Epoch 0:  63%|██████▎   | 129/204 [07:38<04:22,  3.50s/it, loss=3.92]\u001b[A\u001b[A\n",
            "\n",
            "Epoch 0:  64%|██████▎   | 130/204 [07:38<04:18,  3.49s/it, loss=3.92]\u001b[A\u001b[A\n",
            "\n",
            "Epoch 0:  64%|██████▎   | 130/204 [07:42<04:18,  3.49s/it, loss=3.92]\u001b[A\u001b[A\n",
            "\n",
            "Epoch 0:  64%|██████▎   | 130/204 [07:42<04:18,  3.49s/it, loss=2.91]\u001b[A\u001b[A\n",
            "\n",
            "Epoch 0:  64%|██████▍   | 131/204 [07:42<04:16,  3.51s/it, loss=2.91]\u001b[A\u001b[A\n",
            "\n",
            "Epoch 0:  64%|██████▍   | 131/204 [07:45<04:16,  3.51s/it, loss=2.91]\u001b[A\u001b[A\n",
            "\n",
            "Epoch 0:  64%|██████▍   | 131/204 [07:45<04:16,  3.51s/it, loss=3.24]\u001b[A\u001b[A\n",
            "\n",
            "Epoch 0:  65%|██████▍   | 132/204 [07:45<04:11,  3.50s/it, loss=3.24]\u001b[A\u001b[A\n",
            "\n",
            "Epoch 0:  65%|██████▍   | 132/204 [07:49<04:11,  3.50s/it, loss=3.24]\u001b[A\u001b[A\n",
            "\n",
            "Epoch 0:  65%|██████▍   | 132/204 [07:49<04:11,  3.50s/it, loss=3.69]\u001b[A\u001b[A\n",
            "\n",
            "Epoch 0:  65%|██████▌   | 133/204 [07:49<04:08,  3.50s/it, loss=3.69]\u001b[A\u001b[A\n",
            "\n",
            "Epoch 0:  65%|██████▌   | 133/204 [07:52<04:08,  3.50s/it, loss=3.69]\u001b[A\u001b[A\n",
            "\n",
            "Epoch 0:  65%|██████▌   | 133/204 [07:52<04:08,  3.50s/it, loss=3]   \u001b[A\u001b[A\n",
            "\n",
            "Epoch 0:  66%|██████▌   | 134/204 [07:52<04:04,  3.49s/it, loss=3]\u001b[A\u001b[A\n",
            "\n",
            "Epoch 0:  66%|██████▌   | 134/204 [07:56<04:04,  3.49s/it, loss=3]\u001b[A\u001b[A\n",
            "\n",
            "Epoch 0:  66%|██████▌   | 134/204 [07:56<04:04,  3.49s/it, loss=3.65]\u001b[A\u001b[A\n",
            "\n",
            "Epoch 0:  66%|██████▌   | 135/204 [07:56<03:59,  3.48s/it, loss=3.65]\u001b[A\u001b[A\n",
            "\n",
            "Epoch 0:  66%|██████▌   | 135/204 [07:59<03:59,  3.48s/it, loss=3.65]\u001b[A\u001b[A\n",
            "\n",
            "Epoch 0:  66%|██████▌   | 135/204 [07:59<03:59,  3.48s/it, loss=3.69]\u001b[A\u001b[A\n",
            "\n",
            "Epoch 0:  67%|██████▋   | 136/204 [07:59<03:57,  3.49s/it, loss=3.69]\u001b[A\u001b[A\n",
            "\n",
            "Epoch 0:  67%|██████▋   | 136/204 [08:03<03:57,  3.49s/it, loss=3.69]\u001b[A\u001b[A\n",
            "\n",
            "Epoch 0:  67%|██████▋   | 136/204 [08:03<03:57,  3.49s/it, loss=3.11]\u001b[A\u001b[A\n",
            "\n",
            "Epoch 0:  67%|██████▋   | 137/204 [08:03<03:53,  3.49s/it, loss=3.11]\u001b[A\u001b[A\n",
            "\n",
            "Epoch 0:  67%|██████▋   | 137/204 [08:06<03:53,  3.49s/it, loss=3.11]\u001b[A\u001b[A\n",
            "\n",
            "Epoch 0:  67%|██████▋   | 137/204 [08:06<03:53,  3.49s/it, loss=3.16]\u001b[A\u001b[A\n",
            "\n",
            "Epoch 0:  68%|██████▊   | 138/204 [08:06<03:49,  3.48s/it, loss=3.16]\u001b[A\u001b[A\n",
            "\n",
            "Epoch 0:  68%|██████▊   | 138/204 [08:10<03:49,  3.48s/it, loss=3.16]\u001b[A\u001b[A\n",
            "\n",
            "Epoch 0:  68%|██████▊   | 138/204 [08:10<03:49,  3.48s/it, loss=3.04]\u001b[A\u001b[A\n",
            "\n",
            "Epoch 0:  68%|██████▊   | 139/204 [08:10<03:46,  3.48s/it, loss=3.04]\u001b[A\u001b[A\n",
            "\n",
            "Epoch 0:  68%|██████▊   | 139/204 [08:13<03:46,  3.48s/it, loss=3.04]\u001b[A\u001b[A\n",
            "\n",
            "Epoch 0:  68%|██████▊   | 139/204 [08:13<03:46,  3.48s/it, loss=3.29]\u001b[A\u001b[A\n",
            "\n",
            "Epoch 0:  69%|██████▊   | 140/204 [08:13<03:43,  3.48s/it, loss=3.29]\u001b[A\u001b[A\n",
            "\n",
            "Epoch 0:  69%|██████▊   | 140/204 [08:17<03:43,  3.48s/it, loss=3.29]\u001b[A\u001b[A\n",
            "\n",
            "Epoch 0:  69%|██████▊   | 140/204 [08:17<03:43,  3.48s/it, loss=2.94]\u001b[A\u001b[A\n",
            "\n",
            "Epoch 0:  69%|██████▉   | 141/204 [08:17<03:41,  3.51s/it, loss=2.94]\u001b[A\u001b[A\n",
            "\n",
            "Epoch 0:  69%|██████▉   | 141/204 [08:20<03:41,  3.51s/it, loss=2.94]\u001b[A\u001b[A\n",
            "\n",
            "Epoch 0:  69%|██████▉   | 141/204 [08:20<03:41,  3.51s/it, loss=2.59]\u001b[A\u001b[A\n",
            "\n",
            "Epoch 0:  70%|██████▉   | 142/204 [08:20<03:38,  3.53s/it, loss=2.59]\u001b[A\u001b[A"
          ],
          "name": "stderr"
        }
      ]
    },
    {
      "cell_type": "code",
      "metadata": {
        "id": "QHwiZl3oebeN"
      },
      "source": [
        ""
      ],
      "execution_count": null,
      "outputs": []
    },
    {
      "cell_type": "code",
      "metadata": {
        "id": "mvJ9QOqIebg3"
      },
      "source": [
        ""
      ],
      "execution_count": null,
      "outputs": []
    },
    {
      "cell_type": "code",
      "metadata": {
        "id": "z2hTw4mdebje"
      },
      "source": [
        ""
      ],
      "execution_count": null,
      "outputs": []
    },
    {
      "cell_type": "code",
      "metadata": {
        "id": "XGvFQ8EoebmJ"
      },
      "source": [
        ""
      ],
      "execution_count": null,
      "outputs": []
    },
    {
      "cell_type": "code",
      "metadata": {
        "id": "dI41MFXUebou"
      },
      "source": [
        ""
      ],
      "execution_count": null,
      "outputs": []
    },
    {
      "cell_type": "code",
      "metadata": {
        "id": "BLVEMRKVebrY"
      },
      "source": [
        ""
      ],
      "execution_count": null,
      "outputs": []
    },
    {
      "cell_type": "code",
      "metadata": {
        "id": "JlpB3kSNebt-"
      },
      "source": [
        ""
      ],
      "execution_count": null,
      "outputs": []
    },
    {
      "cell_type": "code",
      "metadata": {
        "id": "mIcnIcfmebwn"
      },
      "source": [
        ""
      ],
      "execution_count": null,
      "outputs": []
    },
    {
      "cell_type": "code",
      "metadata": {
        "id": "bTvujqkpebzR"
      },
      "source": [
        ""
      ],
      "execution_count": null,
      "outputs": []
    },
    {
      "cell_type": "code",
      "metadata": {
        "id": "r7qB5S8ybwz1"
      },
      "source": [
        ""
      ],
      "execution_count": null,
      "outputs": []
    },
    {
      "cell_type": "code",
      "metadata": {
        "id": "_YLpnY2Tbw2b"
      },
      "source": [
        ""
      ],
      "execution_count": null,
      "outputs": []
    },
    {
      "cell_type": "code",
      "metadata": {
        "id": "DHa26Uj5bw4-"
      },
      "source": [
        ""
      ],
      "execution_count": null,
      "outputs": []
    },
    {
      "cell_type": "code",
      "metadata": {
        "id": "9cuhxPsWbw7d"
      },
      "source": [
        ""
      ],
      "execution_count": null,
      "outputs": []
    },
    {
      "cell_type": "code",
      "metadata": {
        "id": "HNVUnasibw98"
      },
      "source": [
        ""
      ],
      "execution_count": null,
      "outputs": []
    },
    {
      "cell_type": "code",
      "metadata": {
        "id": "gxAbfx33TQP5"
      },
      "source": [
        ""
      ],
      "execution_count": null,
      "outputs": []
    },
    {
      "cell_type": "code",
      "metadata": {
        "id": "FvSlKPi9TQTF"
      },
      "source": [
        ""
      ],
      "execution_count": null,
      "outputs": []
    },
    {
      "cell_type": "code",
      "metadata": {
        "id": "32awgUduRoXF"
      },
      "source": [
        ""
      ],
      "execution_count": null,
      "outputs": []
    },
    {
      "cell_type": "code",
      "metadata": {
        "id": "muGWr-UDRoZo"
      },
      "source": [
        ""
      ],
      "execution_count": null,
      "outputs": []
    },
    {
      "cell_type": "code",
      "metadata": {
        "id": "QzoCYzMeRocI"
      },
      "source": [
        ""
      ],
      "execution_count": null,
      "outputs": []
    },
    {
      "cell_type": "code",
      "metadata": {
        "id": "Lp0TaZgBRoet"
      },
      "source": [
        ""
      ],
      "execution_count": null,
      "outputs": []
    },
    {
      "cell_type": "code",
      "metadata": {
        "id": "VTOb5WxxRohY"
      },
      "source": [
        ""
      ],
      "execution_count": null,
      "outputs": []
    },
    {
      "cell_type": "code",
      "metadata": {
        "id": "QvY0OjFGRoj4"
      },
      "source": [
        ""
      ],
      "execution_count": null,
      "outputs": []
    },
    {
      "cell_type": "code",
      "metadata": {
        "id": "BxjTxM9iRomY"
      },
      "source": [
        ""
      ],
      "execution_count": null,
      "outputs": []
    },
    {
      "cell_type": "code",
      "metadata": {
        "id": "gHqITki_Roo4"
      },
      "source": [
        ""
      ],
      "execution_count": null,
      "outputs": []
    },
    {
      "cell_type": "code",
      "metadata": {
        "id": "lS5pLnhtRord"
      },
      "source": [
        ""
      ],
      "execution_count": null,
      "outputs": []
    },
    {
      "cell_type": "code",
      "metadata": {
        "id": "bkBHKmfaRot6"
      },
      "source": [
        ""
      ],
      "execution_count": null,
      "outputs": []
    },
    {
      "cell_type": "code",
      "metadata": {
        "id": "9jF9ySvwRowd"
      },
      "source": [
        ""
      ],
      "execution_count": null,
      "outputs": []
    },
    {
      "cell_type": "code",
      "metadata": {
        "id": "u9ML9gvERozF"
      },
      "source": [
        ""
      ],
      "execution_count": null,
      "outputs": []
    },
    {
      "cell_type": "code",
      "metadata": {
        "id": "d2vAGemKLhy4"
      },
      "source": [
        ""
      ],
      "execution_count": null,
      "outputs": []
    }
  ]
}