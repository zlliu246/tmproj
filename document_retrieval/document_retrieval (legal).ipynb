{
 "cells": [
  {
   "cell_type": "markdown",
   "metadata": {
    "id": "RqSrExuFpqBk"
   },
   "source": [
    "## Import Libraries"
   ]
  },
  {
   "cell_type": "code",
   "execution_count": 187,
   "metadata": {
    "colab": {
     "base_uri": "https://localhost:8080/"
    },
    "id": "YsdZ2dGvpclQ",
    "outputId": "7dfb6f39-d032-4f72-e19a-09bf6c2f71c1"
   },
   "outputs": [
    {
     "name": "stderr",
     "output_type": "stream",
     "text": [
      "[nltk_data] Downloading package stopwords to\n",
      "[nltk_data]     C:\\Users\\User\\AppData\\Roaming\\nltk_data...\n",
      "[nltk_data]   Package stopwords is already up-to-date!\n",
      "[nltk_data] Downloading package wordnet to\n",
      "[nltk_data]     C:\\Users\\User\\AppData\\Roaming\\nltk_data...\n",
      "[nltk_data]   Package wordnet is already up-to-date!\n",
      "[nltk_data] Downloading package punkt to\n",
      "[nltk_data]     C:\\Users\\User\\AppData\\Roaming\\nltk_data...\n",
      "[nltk_data]   Package punkt is already up-to-date!\n"
     ]
    }
   ],
   "source": [
    "import nltk\n",
    "from nltk.stem import WordNetLemmatizer\n",
    "from nltk.stem import PorterStemmer\n",
    "wordnet_lemmatizer = WordNetLemmatizer()\n",
    "ps = PorterStemmer()\n",
    "\n",
    "import string\n",
    "import torch\n",
    "# import pickle5 as pickle\n",
    "import pickle\n",
    "from heapq import nlargest\n",
    "import sys\n",
    "import spacy\n",
    "# !pip install truecase\n",
    "import truecase\n",
    "from spacy import displacy\n",
    "from collections import Counter\n",
    "from nltk.tag import StanfordNERTagger\n",
    "import en_core_web_sm\n",
    "nlp = en_core_web_sm.load()\n",
    "from pprint import pprint\n",
    "# !pip install unidecode\n",
    "from unidecode import unidecode\n",
    "import pandas as pd\n",
    "from sklearn.feature_extraction.text import CountVectorizer, TfidfVectorizer\n",
    "from sklearn.metrics.pairwise import cosine_similarity, linear_kernel, euclidean_distances\n",
    "import warnings\n",
    "from tqdm._tqdm_notebook import tqdm_notebook\n",
    "from scipy.spatial import distance\n",
    "import numpy as np\n",
    "import re\n",
    "# !pip install sentence_transformers\n",
    "from sentence_transformers import SentenceTransformer\n",
    "from nltk.corpus import stopwords\n",
    "from nltk.tokenize import sent_tokenize, word_tokenize\n",
    "from nltk.cluster.util import cosine_distance\n",
    "import tensorflow as tf\n",
    "import transformers\n",
    "from sent2vec.vectorizer import Vectorizer as S2vectorizer\n",
    "tqdm_notebook.pandas()\n",
    "warnings.filterwarnings(\"ignore\")\n",
    "nltk.download('stopwords')\n",
    "nltk.download('wordnet')\n",
    "nltk.download('punkt')\n",
    "import networkx as nx\n",
    "\n",
    "#import pipelines\n",
    "from transformers import pipeline\n",
    "nlp2 = pipeline(\"question-answering\")\n",
    "\n",
    "pd.set_option('display.max_colwidth', 0)\n",
    "pd.set_option('display.max_columns', 0)"
   ]
  },
  {
   "cell_type": "markdown",
   "metadata": {
    "id": "lzXoa8Q7r5Eb"
   },
   "source": [
    "## Preprocessing"
   ]
  },
  {
   "cell_type": "code",
   "execution_count": 211,
   "metadata": {
    "id": "Q5165fbRr4P8"
   },
   "outputs": [],
   "source": [
    "stop_words = stopwords.words(\"english\")\n",
    "\n",
    "def clean_normalcase_stop_lem(text):\n",
    "    text = re.sub('[%s]' % re.escape(string.punctuation), ' ', text)\n",
    "    text = re.sub('\\s{2,}', \" \", text)\n",
    "    text = unidecode(text)\n",
    "    text = ' '.join([wordnet_lemmatizer.lemmatize(i) for i in text.split()])\n",
    "    return text\n",
    "\n",
    "def clean_normalcase_nostop_lem(text):\n",
    "    text = ' '.join([wordnet_lemmatizer.lemmatize(word) for word in text.split() if word not in stop_words])\n",
    "    text = re.sub('[%s]' % re.escape(string.punctuation), ' ', text)\n",
    "    text = re.sub('\\s{2,}', \" \", text)\n",
    "    text = unidecode(text)\n",
    "    return text\n",
    "\n",
    "def clean_lowercase_stop_lem(text):\n",
    "    text = re.sub('[%s]' % re.escape(string.punctuation), ' ', text)\n",
    "    text = re.sub('\\s{2,}', \" \", text)\n",
    "    text = unidecode(text)\n",
    "    text = ' '.join([wordnet_lemmatizer.lemmatize(i) for i in text.split()])\n",
    "    return text.lower()\n",
    "\n",
    "def clean_lowercase_nostop_lem(text):\n",
    "    text = ' '.join([wordnet_lemmatizer.lemmatize(word) for word in text.split() if word not in stop_words])\n",
    "#     text = ' '.join([ps.stem(word) for word in text.split() if word not in stop_words])\n",
    "    text = re.sub('[%s]' % re.escape(string.punctuation), ' ', text)\n",
    "    text = re.sub('\\s{2,}', \" \", text)\n",
    "    text = unidecode(text)\n",
    "    return text.lower()\n",
    "\n",
    "def clean_lowercase_nostop(text):\n",
    "    text = ' '.join([word for word in text.split() if word not in stop_words])\n",
    "#     text = ' '.join([ps.stem(word) for word in text.split() if word not in stop_words])\n",
    "    text = re.sub('[%s]' % re.escape(string.punctuation), ' ', text)\n",
    "    text = re.sub('\\s{2,}', \" \", text)\n",
    "    text = unidecode(text)\n",
    "    return text.lower()"
   ]
  },
  {
   "cell_type": "markdown",
   "metadata": {
    "id": "QJ5lkkvRq3PP"
   },
   "source": [
    "## NER Generation"
   ]
  },
  {
   "cell_type": "code",
   "execution_count": 212,
   "metadata": {
    "colab": {
     "base_uri": "https://localhost:8080/"
    },
    "id": "drU_S8tppcwS",
    "outputId": "a61d2263-1b34-4b77-b76a-c8d72f442f18"
   },
   "outputs": [
    {
     "name": "stdout",
     "output_type": "stream",
     "text": [
      "[('America', 'GPE')]\n"
     ]
    }
   ],
   "source": [
    "pprint([(X.text, X.label_) for X in nlp(\"America is a country\").ents])"
   ]
  },
  {
   "cell_type": "code",
   "execution_count": 213,
   "metadata": {
    "id": "ONIOaCZHpcxo"
   },
   "outputs": [],
   "source": [
    "def generate_ners(text):\n",
    "    result = set()\n",
    "    for X in nlp(text).ents:\n",
    "        result.add(unidecode(X.text.lower()))\n",
    "    print(f\"NERs: {result}\")\n",
    "    print('------------------')\n",
    "    return result"
   ]
  },
  {
   "cell_type": "code",
   "execution_count": 214,
   "metadata": {},
   "outputs": [],
   "source": [
    "df = pd.read_csv('../data/legal_squad_data.csv')"
   ]
  },
  {
   "cell_type": "code",
   "execution_count": 1,
   "metadata": {
    "id": "VyQO0o4Upcy3"
   },
   "outputs": [
    {
     "ename": "NameError",
     "evalue": "name 'df' is not defined",
     "output_type": "error",
     "traceback": [
      "\u001b[0;31m---------------------------------------------------------------------------\u001b[0m",
      "\u001b[0;31mNameError\u001b[0m                                 Traceback (most recent call last)",
      "\u001b[0;32m<ipython-input-1-88fd4c8df880>\u001b[0m in \u001b[0;36m<module>\u001b[0;34m\u001b[0m\n\u001b[0;32m----> 1\u001b[0;31m \u001b[0mdf\u001b[0m \u001b[0;34m=\u001b[0m \u001b[0mdf\u001b[0m\u001b[0;34m.\u001b[0m\u001b[0mdrop_duplicates\u001b[0m\u001b[0;34m(\u001b[0m\u001b[0msubset\u001b[0m\u001b[0;34m=\u001b[0m\u001b[0;34m[\u001b[0m\u001b[0;34m'context'\u001b[0m\u001b[0;34m]\u001b[0m\u001b[0;34m)\u001b[0m\u001b[0;34m\u001b[0m\u001b[0;34m\u001b[0m\u001b[0m\n\u001b[0m\u001b[1;32m      2\u001b[0m \u001b[0;31m# df = df.dropna(subset=['doc'])\u001b[0m\u001b[0;34m\u001b[0m\u001b[0;34m\u001b[0m\u001b[0;34m\u001b[0m\u001b[0m\n\u001b[1;32m      3\u001b[0m \u001b[0mdf\u001b[0m\u001b[0;34m[\u001b[0m\u001b[0;34m'ners'\u001b[0m\u001b[0;34m]\u001b[0m \u001b[0;34m=\u001b[0m \u001b[0mdf\u001b[0m\u001b[0;34m[\u001b[0m\u001b[0;34m'context'\u001b[0m\u001b[0;34m]\u001b[0m\u001b[0;34m.\u001b[0m\u001b[0mprogress_apply\u001b[0m\u001b[0;34m(\u001b[0m\u001b[0mgenerate_ners\u001b[0m\u001b[0;34m)\u001b[0m\u001b[0;34m\u001b[0m\u001b[0;34m\u001b[0m\u001b[0m\n\u001b[1;32m      4\u001b[0m \u001b[0;31m# df['context'] = df['context'].apply(lambda x: str(x).lower())\u001b[0m\u001b[0;34m\u001b[0m\u001b[0;34m\u001b[0m\u001b[0;34m\u001b[0m\u001b[0m\n",
      "\u001b[0;31mNameError\u001b[0m: name 'df' is not defined"
     ]
    }
   ],
   "source": [
    "df = df.drop_duplicates(subset=['context'])\n",
    "# df = df.dropna(subset=['doc'])\n",
    "df['ners'] = df['context'].progress_apply(generate_ners)\n",
    "# df['context'] = df['context'].apply(lambda x: str(x).lower())"
   ]
  },
  {
   "cell_type": "markdown",
   "metadata": {},
   "source": [
    "## Extractive Summarisation"
   ]
  },
  {
   "cell_type": "code",
   "execution_count": 216,
   "metadata": {
    "id": "MDWaBI2d4nDN"
   },
   "outputs": [],
   "source": [
    "def extractive_summariser(text):\n",
    "\n",
    "    length = 3\n",
    "\n",
    "    # Remove punctuation\n",
    "    nopunc = [char for char in text if char not in string.punctuation]\n",
    "    nopunc = ''.join(nopunc)\n",
    "    # Remove stopwords\n",
    "    processed_text =[word for word in nopunc.split() if word.lower() not in nltk.corpus.stopwords.words('english')]\n",
    "\n",
    "    # Create a dictionary to store word frequency\n",
    "    word_freq = {}\n",
    "    # Enter each word and its number of occurrences\n",
    "    for word in processed_text:\n",
    "        if word not in word_freq:\n",
    "              word_freq[word] = 1\n",
    "        else:\n",
    "              word_freq[word] = word_freq[word] + 1\n",
    "\n",
    "    # Divide all frequencies by max frequency to give store of (0, 1]\n",
    "    max_freq = max(word_freq.values())\n",
    "    for word in word_freq.keys():\n",
    "        word_freq[word] = (word_freq[word]/max_freq)\n",
    "\n",
    "    # Create a list of the sentences in the text\n",
    "    sent_list = nltk.sent_tokenize(text)\n",
    "    # Create an empty dictionary to store sentence scores\n",
    "    sent_score = {}\n",
    "    for sent in sent_list:\n",
    "        for word in nltk.word_tokenize(sent.lower()):\n",
    "            if word in word_freq.keys():\n",
    "                if sent not in sent_score.keys():\n",
    "                    sent_score[sent] = word_freq[word]\n",
    "                else:\n",
    "                    sent_score[sent] = sent_score[sent] + word_freq[word]\n",
    "\n",
    "    summary_sents = nlargest(length, sent_score, key = sent_score.get)\n",
    "    summary = ' '.join(summary_sents)\n",
    "    return summary"
   ]
  },
  {
   "cell_type": "code",
   "execution_count": 217,
   "metadata": {
    "id": "eLk6MzxJziK0"
   },
   "outputs": [
    {
     "data": {
      "application/vnd.jupyter.widget-view+json": {
       "model_id": "c0ae90a9c2e34bd482db2329358368fe",
       "version_major": 2,
       "version_minor": 0
      },
      "text/plain": [
       "  0%|          | 0/1080 [00:00<?, ?it/s]"
      ]
     },
     "metadata": {},
     "output_type": "display_data"
    },
    {
     "data": {
      "application/vnd.jupyter.widget-view+json": {
       "model_id": "357be33ac16e4f238247e1cc7a5be10c",
       "version_major": 2,
       "version_minor": 0
      },
      "text/plain": [
       "  0%|          | 0/1080 [00:00<?, ?it/s]"
      ]
     },
     "metadata": {},
     "output_type": "display_data"
    },
    {
     "data": {
      "application/vnd.jupyter.widget-view+json": {
       "model_id": "36d23210d73f4942a32f7e032155bc99",
       "version_major": 2,
       "version_minor": 0
      },
      "text/plain": [
       "  0%|          | 0/1080 [00:00<?, ?it/s]"
      ]
     },
     "metadata": {},
     "output_type": "display_data"
    },
    {
     "data": {
      "application/vnd.jupyter.widget-view+json": {
       "model_id": "f88dd2a835de45148f40d6823d753b6a",
       "version_major": 2,
       "version_minor": 0
      },
      "text/plain": [
       "  0%|          | 0/1080 [00:00<?, ?it/s]"
      ]
     },
     "metadata": {},
     "output_type": "display_data"
    },
    {
     "data": {
      "application/vnd.jupyter.widget-view+json": {
       "model_id": "8126c5007b66493c8b61d3ddd4ec9e66",
       "version_major": 2,
       "version_minor": 0
      },
      "text/plain": [
       "  0%|          | 0/1080 [00:00<?, ?it/s]"
      ]
     },
     "metadata": {},
     "output_type": "display_data"
    }
   ],
   "source": [
    "df['cleaned_lowercase_nostop'] = df['context'].progress_apply(clean_lowercase_nostop)\n",
    "df['cleaned_normalcase_stop_lem'] = df['context'].progress_apply(clean_normalcase_stop_lem)\n",
    "df['cleaned_normalcase_nostop_lem'] = df['context'].progress_apply(clean_normalcase_nostop_lem)\n",
    "df['cleaned_lowercase_stop_lem'] = df['context'].progress_apply(clean_lowercase_stop_lem)\n",
    "df['cleaned_lowercase_nostop_lem'] = df['context'].progress_apply(clean_lowercase_nostop_lem)\n",
    "df['ner_combined'] = df['ners'].apply(lambda x: ' '.join(x).strip('[').strip(']').replace(',',''))"
   ]
  },
  {
   "cell_type": "code",
   "execution_count": 218,
   "metadata": {
    "id": "c5HHI7E9zrbn"
   },
   "outputs": [
    {
     "data": {
      "application/vnd.jupyter.widget-view+json": {
       "model_id": "d78b518f9ad9488785cb2d80795a53bd",
       "version_major": 2,
       "version_minor": 0
      },
      "text/plain": [
       "  0%|          | 0/1080 [00:00<?, ?it/s]"
      ]
     },
     "metadata": {},
     "output_type": "display_data"
    },
    {
     "data": {
      "application/vnd.jupyter.widget-view+json": {
       "model_id": "ab75b8f9730e446ebcad4bfe1285f433",
       "version_major": 2,
       "version_minor": 0
      },
      "text/plain": [
       "  0%|          | 0/1080 [00:00<?, ?it/s]"
      ]
     },
     "metadata": {},
     "output_type": "display_data"
    }
   ],
   "source": [
    "df['extractive_summarized_3_sent'] = df['context'].progress_apply(extractive_summariser)\n",
    "df['extractive_summarized_3_sent'] = df['extractive_summarized_3_sent'].progress_apply(clean_lowercase_nostop_lem)"
   ]
  },
  {
   "cell_type": "markdown",
   "metadata": {},
   "source": [
    "## Save Data"
   ]
  },
  {
   "cell_type": "code",
   "execution_count": 262,
   "metadata": {
    "id": "dD-EYxSz8O2k"
   },
   "outputs": [],
   "source": [
    "pickle.dump(df, open(\"../data/legal_doc_retrieval_cleaned_3_apr.pkl\", \"wb\"))"
   ]
  },
  {
   "cell_type": "markdown",
   "metadata": {
    "id": "A9do35dYsIcD"
   },
   "source": [
    "## Load Data\n",
    "Start from here"
   ]
  },
  {
   "cell_type": "code",
   "execution_count": 263,
   "metadata": {
    "id": "_jZUX6KWsKUp"
   },
   "outputs": [],
   "source": [
    "df = pickle.load( open( \"../data/legal_doc_retrieval_cleaned_3_apr.pkl\", \"rb\" ) )"
   ]
  },
  {
   "cell_type": "code",
   "execution_count": 2,
   "metadata": {
    "colab": {
     "base_uri": "https://localhost:8080/",
     "height": 1000
    },
    "id": "6i0LZY8y8amt",
    "outputId": "bcf4a4c3-cf51-4fac-920f-b92d78c26754"
   },
   "outputs": [
    {
     "ename": "NameError",
     "evalue": "name 'df' is not defined",
     "output_type": "error",
     "traceback": [
      "\u001b[0;31m---------------------------------------------------------------------------\u001b[0m",
      "\u001b[0;31mNameError\u001b[0m                                 Traceback (most recent call last)",
      "\u001b[0;32m<ipython-input-2-00cf07b74dcd>\u001b[0m in \u001b[0;36m<module>\u001b[0;34m\u001b[0m\n\u001b[0;32m----> 1\u001b[0;31m \u001b[0mdf\u001b[0m\u001b[0;34m\u001b[0m\u001b[0;34m\u001b[0m\u001b[0m\n\u001b[0m",
      "\u001b[0;31mNameError\u001b[0m: name 'df' is not defined"
     ]
    }
   ],
   "source": [
    "df"
   ]
  },
  {
   "cell_type": "code",
   "execution_count": 223,
   "metadata": {},
   "outputs": [],
   "source": [
    "context_docid_mapping = {}\n",
    "for idx, rows in df.iterrows():\n",
    "    context_docid_mapping[rows['context']] = idx\n",
    "    \n",
    "summarised_docid_mapping = {}\n",
    "for idx, rows in df.iterrows():\n",
    "    summarised_docid_mapping[rows['extractive_summarized_3_sent']] = idx"
   ]
  },
  {
   "cell_type": "markdown",
   "metadata": {
    "id": "-0MHgYFYsxad"
   },
   "source": [
    "## Model 1: NER TF-IDF"
   ]
  },
  {
   "cell_type": "code",
   "execution_count": 265,
   "metadata": {},
   "outputs": [],
   "source": [
    "ner_df = df[df['ner_combined'].isna() == False]"
   ]
  },
  {
   "cell_type": "code",
   "execution_count": 266,
   "metadata": {
    "id": "pieeptGapc0N"
   },
   "outputs": [],
   "source": [
    "# TF-IDF Vectorizer for ner_combined column\n",
    "ner_vectorizer = TfidfVectorizer(ngram_range=(1,2))\n",
    "ner_tfidf_matrix = ner_vectorizer.fit_transform(ner_df['ner_combined'])"
   ]
  },
  {
   "cell_type": "code",
   "execution_count": 267,
   "metadata": {
    "colab": {
     "base_uri": "https://localhost:8080/",
     "height": 35
    },
    "id": "VyEA17yXpc1j",
    "outputId": "f7928510-8457-416a-e9f0-1f362d40d3c2"
   },
   "outputs": [
    {
     "data": {
      "text/plain": [
       "'united states'"
      ]
     },
     "execution_count": 267,
     "metadata": {},
     "output_type": "execute_result"
    }
   ],
   "source": [
    "# Query preprocessing for NER document retrieval\n",
    "def query_to_ner_str(query):\n",
    "    result = re.sub('[%s]' % re.escape(string.punctuation), '', query)\n",
    "    result = re.sub('\\s{2,}', \" \", result)\n",
    "    result = ' '.join([word for word in result.split() if word.lower() not in stop_words])\n",
    "    result = ' '.join([X.text.lower() for X in nlp(truecase.get_true_case(result)).ents])\n",
    "\n",
    "    if result == '':\n",
    "        return None\n",
    "    return result\n",
    "\n",
    "# Testing query_to_ner_str function\n",
    "query_to_ner_str('what is criminal law in united states?')"
   ]
  },
  {
   "cell_type": "code",
   "execution_count": 268,
   "metadata": {
    "id": "Z4laTKndpc24"
   },
   "outputs": [],
   "source": [
    "def tfidf(df, vectorizer, tfidf_matrix, query, ner=False):\n",
    "    if ner:\n",
    "        query = query_to_ner_str(query)\n",
    "    else:\n",
    "        query = clean_query_lem(query)\n",
    "\n",
    "    if query is None:\n",
    "        return []\n",
    "    \n",
    "    doc_ids = get_similar_docs(df, vectorizer, tfidf_matrix, query)\n",
    "    \n",
    "    return doc_ids"
   ]
  },
  {
   "cell_type": "code",
   "execution_count": 269,
   "metadata": {
    "id": "pPBae4q5pc4Z"
   },
   "outputs": [],
   "source": [
    "def get_similar_docs(df, tfidfvectorizer, docs_tfidf_matrix, query):\n",
    "    \"\"\"\n",
    "    vectorizer: TfIdfVectorizer model\n",
    "    docs_tfidf: tfidf vectors for all docs\n",
    "    query: query\n",
    "\n",
    "    return: doc with highest tf-idf cosine similarity\n",
    "    \"\"\"\n",
    "    query_tfidf = tfidfvectorizer.transform([query])\n",
    "    cosineSimilarities = cosine_similarity(query_tfidf, docs_tfidf_matrix).flatten()\n",
    "    max_sim = max(cosineSimilarities)\n",
    "    \n",
    "    if max_sim < 0.05: # not sure whether to set this threshold as some correct answers are like 0.1 similarity\n",
    "#         print(\"No Matches\")\n",
    "        return []\n",
    "    else:\n",
    "        threshold = 0.6 * max_sim\n",
    "    \n",
    "    top_doc_ids = set()\n",
    "    for idx, val in enumerate(cosineSimilarities):\n",
    "        if val >= threshold:\n",
    "            top_doc_ids.add((df.iloc[idx]['context_id'],val))\n",
    "            \n",
    "    top_doc_ids = sorted(top_doc_ids, key=lambda x: x[1], reverse=True)[:5]\n",
    "            \n",
    "#     print(f\"Top Docs: {top_doc_ids}\\n\")\n",
    "            \n",
    "    return [i[0] for i in top_doc_ids]"
   ]
  },
  {
   "cell_type": "code",
   "execution_count": 270,
   "metadata": {
    "colab": {
     "base_uri": "https://localhost:8080/"
    },
    "id": "2ZEuMM2Npc5x",
    "outputId": "68a968a0-eb56-4fb3-c4ff-e36eb446aaf3"
   },
   "outputs": [
    {
     "name": "stdout",
     "output_type": "stream",
     "text": [
      "[43261, 16887, 53552, 8352]\n",
      "\n",
      "1. Criminal law involves the prosecution by the state of wrongful acts which are considered to be so serious that they are a breach of the sovereign's peace (and cannot be deterred or remedied by mere lawsuits between private parties). Generally, crimes can result in incarceration, but torts (see below) cannot. The majority of the crimes committed in the United States are prosecuted and punished at the state level. Federal criminal law focuses on areas specifically relevant to the federal government like evading payment of federal income tax, mail theft, or physical attacks on federal officials, as well as interstate crimes like drug trafficking and wire fraud.\n",
      "\n",
      "\n",
      "2. One significant part of treaty making is that signing a treaty implies recognition that the other side is a sovereign state and that the agreement being considered is enforceable under international law. Hence, nations can be very careful about terming an agreement to be a treaty. For example, within the United States, agreements between states are compacts and agreements between states and the federal government or between agencies of the government are memoranda of understanding.\n",
      "\n",
      "\n",
      "3. A political party is typically led by a party leader (the most powerful member and spokesperson representing the party), a party secretary (who maintains the daily work and records of party meetings), party treasurer (who is responsible for membership dues) and party chair (who forms strategies for recruiting and retaining party members, and also chairs party meetings). Most of the above positions are also members of the party executive, the leading organization which sets policy for the entire party at the national level. The structure is far more decentralized in the United States because of the separation of powers, federalism and the multiplicity of economic interests and religious sects. Even state parties are decentralized as county and other local committees are largely independent of state central committees. The national party leader in the U.S. will be the president, if the party holds that office, or a prominent member of Congress in opposition (although a big-state governor may aspire to that role). Officially, each party has a chairman for its national committee who is a prominent spokesman, organizer and fund-raiser, but without the status of prominent elected office holders.\n",
      "\n",
      "\n",
      "4. Separation of powers is a political doctrine originating in the writings of Montesquieu in The Spirit of the Laws where he urged for a constitutional government with three separate branches of government. Each of the three branches would have defined abilities to check the powers of the other branches. This idea was called separation of powers. This philosophy heavily influenced the writing of the United States Constitution, according to which the Legislative, Executive, and Judicial branches of the United States government are kept distinct in order to prevent abuse of power. This United States form of separation of powers is associated with a system of checks and balances.\n",
      "\n",
      "\n"
     ]
    }
   ],
   "source": [
    "query = 'what is criminal law in united states?'\n",
    "retrieved_doc_ids = tfidf(ner_df, ner_vectorizer, ner_tfidf_matrix, query, ner=True)\n",
    "\n",
    "print(retrieved_doc_ids)\n",
    "print()\n",
    "retrieved_paras = []\n",
    "for idx, val in enumerate(retrieved_doc_ids, start=1):\n",
    "    para = ner_df[ner_df['context_id'] == val]['context'].values[0]\n",
    "    print(f\"{idx}. {para}\\n\")\n",
    "    print()"
   ]
  },
  {
   "cell_type": "markdown",
   "metadata": {
    "id": "HzL7wscAs3Fb"
   },
   "source": [
    "## Model 2: Paragraph TF-IDF"
   ]
  },
  {
   "cell_type": "code",
   "execution_count": 271,
   "metadata": {
    "colab": {
     "base_uri": "https://localhost:8080/",
     "height": 35
    },
    "id": "CJ5idSWepc-F",
    "outputId": "974c011d-07e8-48ea-de88-5ccfe532126a"
   },
   "outputs": [
    {
     "data": {
      "text/plain": [
       "'criminal law united state'"
      ]
     },
     "execution_count": 271,
     "metadata": {},
     "output_type": "execute_result"
    }
   ],
   "source": [
    "# Query preprocessing for paragraph document retrieval\n",
    "def clean_query_lem(query):\n",
    "    result = re.sub('[%s]' % re.escape(string.punctuation), '', query)\n",
    "    result = re.sub('\\s{2,}', \" \", result).lower()\n",
    "    result = ' '.join([wordnet_lemmatizer.lemmatize(word) for word in result.split() if word not in stop_words])\n",
    "\n",
    "    if result == '':\n",
    "        return None\n",
    "    return result\n",
    "\n",
    "# Testing query_to_ner_str function\n",
    "clean_query_lem('what is criminal law in united states?')"
   ]
  },
  {
   "cell_type": "code",
   "execution_count": 272,
   "metadata": {},
   "outputs": [
    {
     "data": {
      "text/plain": [
       "'criminal law united states'"
      ]
     },
     "execution_count": 272,
     "metadata": {},
     "output_type": "execute_result"
    }
   ],
   "source": [
    "# Query preprocessing for paragraph document retrieval\n",
    "def clean_query_nolem(query):\n",
    "    result = re.sub('[%s]' % re.escape(string.punctuation), '', query)\n",
    "    result = re.sub('\\s{2,}', \" \", result).lower()\n",
    "    result = ' '.join([word for word in result.split() if word not in stop_words])\n",
    "\n",
    "    if result == '':\n",
    "        return None\n",
    "    return result\n",
    "\n",
    "# Testing query_to_ner_str function\n",
    "clean_query_nolem('what is criminal law in united states?')"
   ]
  },
  {
   "cell_type": "code",
   "execution_count": 273,
   "metadata": {
    "id": "A4wBOZ3bpc8q"
   },
   "outputs": [],
   "source": [
    "# TF-IDF Vectorizer for cleaned_lowercase_nostop_lem column\n",
    "para_vectorizer = TfidfVectorizer(ngram_range=(1,2))\n",
    "para_tfidf_matrix = para_vectorizer.fit_transform(df['cleaned_lowercase_nostop_lem'])"
   ]
  },
  {
   "cell_type": "code",
   "execution_count": 274,
   "metadata": {
    "colab": {
     "base_uri": "https://localhost:8080/"
    },
    "id": "oXpFv8CqpdBj",
    "outputId": "fc5cfb20-6b3d-40fd-a977-4a1b8fc1d62d"
   },
   "outputs": [
    {
     "name": "stdout",
     "output_type": "stream",
     "text": [
      "[43261, 43233, 43077, 41186, 43129]\n",
      "\n",
      "1. Criminal law involves the prosecution by the state of wrongful acts which are considered to be so serious that they are a breach of the sovereign's peace (and cannot be deterred or remedied by mere lawsuits between private parties). Generally, crimes can result in incarceration, but torts (see below) cannot. The majority of the crimes committed in the United States are prosecuted and punished at the state level. Federal criminal law focuses on areas specifically relevant to the federal government like evading payment of federal income tax, mail theft, or physical attacks on federal officials, as well as interstate crimes like drug trafficking and wire fraud.\n",
      "\n",
      "\n",
      "2. The fifty American states are separate sovereigns, with their own state constitutions, state governments, and state courts. All states have a legislative branch which enacts state statutes, an executive branch that promulgates state regulations pursuant to statutory authorization, and a judicial branch that applies, interprets, and occasionally overturns both state statutes and regulations, as well as local ordinances. They retain plenary power to make laws covering anything not preempted by the federal Constitution, federal statutes, or international treaties ratified by the federal Senate. Normally, state supreme courts are the final interpreters of state constitutions and state law, unless their interpretation itself presents a federal issue, in which case a decision may be appealed to the U.S. Supreme Court by way of a petition for writ of certiorari. State laws have dramatically diverged in the centuries since independence, to the extent that the United States cannot be regarded as one legal system as to the majority of types of law traditionally under state control, but must be regarded as 50 separate systems of tort law, family law, property law, contract law, criminal law, and so on.\n",
      "\n",
      "\n",
      "3. The law of the United States comprises many levels of codified and uncodified forms of law, of which the most important is the United States Constitution, the foundation of the federal government of the United States. The Constitution sets out the boundaries of federal law, which consists of acts of Congress, treaties ratified by the Senate, regulations promulgated by the executive branch, and case law originating from the federal judiciary. The United States Code is the official compilation and codification of general and permanent federal statutory law.\n",
      "\n",
      "\n",
      "4. Patent infringement typically is caused by using or selling a patented invention without permission from the patent holder. The scope of the patented invention or the extent of protection is defined in the claims of the granted patent. There is safe harbor in many jurisdictions to use a patented invention for research. This safe harbor does not exist in the US unless the research is done for purely philosophical purposes, or in order to gather data in order to prepare an application for regulatory approval of a drug. In general, patent infringement cases are handled under civil law (e.g., in the United States) but several jurisdictions incorporate infringement in criminal law also (for example, Argentina, China, France, Japan, Russia, South Korea).\n",
      "\n",
      "\n",
      "5. Tort law covers the entire imaginable spectrum of wrongs which humans can inflict upon each other, and of course, partially overlaps with wrongs also punishable by criminal law. Although the American Law Institute has attempted to standardize tort law through the development of several versions of the Restatement of Torts, many states have chosen to adopt only certain sections of the Restatements and to reject others. Thus, because of its immense size and diversity, American tort law cannot be easily summarized.\n",
      "\n",
      "\n"
     ]
    }
   ],
   "source": [
    "query = 'what is criminal law in united states?'\n",
    "retrieved_doc_ids = tfidf(df, para_vectorizer, para_tfidf_matrix, query)\n",
    "\n",
    "print(retrieved_doc_ids)\n",
    "print()\n",
    "retrieved_paras = []\n",
    "for idx, val in enumerate(retrieved_doc_ids, start=1):\n",
    "    para = df[df['context_id'] == val]['context'].values[0]\n",
    "    print(f\"{idx}. {para}\\n\")\n",
    "    print()"
   ]
  },
  {
   "cell_type": "markdown",
   "metadata": {},
   "source": [
    "## Model 3: Summary TF-IDF"
   ]
  },
  {
   "cell_type": "code",
   "execution_count": 275,
   "metadata": {},
   "outputs": [],
   "source": [
    "# TF-IDF Vectorizer for cleaned_lowercase_nostop_lem column\n",
    "summarised_vectorizer = TfidfVectorizer(ngram_range=(1,2))\n",
    "summarised_tfidf_matrix = summarised_vectorizer.fit_transform(df['extractive_summarized_3_sent'])"
   ]
  },
  {
   "cell_type": "code",
   "execution_count": 276,
   "metadata": {},
   "outputs": [
    {
     "name": "stdout",
     "output_type": "stream",
     "text": [
      "[43261, 43233, 43077, 41186, 43129]\n",
      "\n",
      "1. Criminal law involves the prosecution by the state of wrongful acts which are considered to be so serious that they are a breach of the sovereign's peace (and cannot be deterred or remedied by mere lawsuits between private parties). Generally, crimes can result in incarceration, but torts (see below) cannot. The majority of the crimes committed in the United States are prosecuted and punished at the state level. Federal criminal law focuses on areas specifically relevant to the federal government like evading payment of federal income tax, mail theft, or physical attacks on federal officials, as well as interstate crimes like drug trafficking and wire fraud.\n",
      "\n",
      "\n",
      "2. The fifty American states are separate sovereigns, with their own state constitutions, state governments, and state courts. All states have a legislative branch which enacts state statutes, an executive branch that promulgates state regulations pursuant to statutory authorization, and a judicial branch that applies, interprets, and occasionally overturns both state statutes and regulations, as well as local ordinances. They retain plenary power to make laws covering anything not preempted by the federal Constitution, federal statutes, or international treaties ratified by the federal Senate. Normally, state supreme courts are the final interpreters of state constitutions and state law, unless their interpretation itself presents a federal issue, in which case a decision may be appealed to the U.S. Supreme Court by way of a petition for writ of certiorari. State laws have dramatically diverged in the centuries since independence, to the extent that the United States cannot be regarded as one legal system as to the majority of types of law traditionally under state control, but must be regarded as 50 separate systems of tort law, family law, property law, contract law, criminal law, and so on.\n",
      "\n",
      "\n",
      "3. The law of the United States comprises many levels of codified and uncodified forms of law, of which the most important is the United States Constitution, the foundation of the federal government of the United States. The Constitution sets out the boundaries of federal law, which consists of acts of Congress, treaties ratified by the Senate, regulations promulgated by the executive branch, and case law originating from the federal judiciary. The United States Code is the official compilation and codification of general and permanent federal statutory law.\n",
      "\n",
      "\n",
      "4. Patent infringement typically is caused by using or selling a patented invention without permission from the patent holder. The scope of the patented invention or the extent of protection is defined in the claims of the granted patent. There is safe harbor in many jurisdictions to use a patented invention for research. This safe harbor does not exist in the US unless the research is done for purely philosophical purposes, or in order to gather data in order to prepare an application for regulatory approval of a drug. In general, patent infringement cases are handled under civil law (e.g., in the United States) but several jurisdictions incorporate infringement in criminal law also (for example, Argentina, China, France, Japan, Russia, South Korea).\n",
      "\n",
      "\n",
      "5. Tort law covers the entire imaginable spectrum of wrongs which humans can inflict upon each other, and of course, partially overlaps with wrongs also punishable by criminal law. Although the American Law Institute has attempted to standardize tort law through the development of several versions of the Restatement of Torts, many states have chosen to adopt only certain sections of the Restatements and to reject others. Thus, because of its immense size and diversity, American tort law cannot be easily summarized.\n",
      "\n",
      "\n"
     ]
    }
   ],
   "source": [
    "query = 'what is criminal law in united states?'\n",
    "retrieved_doc_ids = tfidf(df, summarised_vectorizer, summarised_tfidf_matrix, query)\n",
    "\n",
    "print(retrieved_doc_ids)\n",
    "print()\n",
    "retrieved_paras = []\n",
    "for idx, val in enumerate(retrieved_doc_ids, start=1):\n",
    "    para = df[df['context_id'] == val]['context'].values[0]\n",
    "    print(f\"{idx}. {para}\\n\")\n",
    "    print()"
   ]
  },
  {
   "cell_type": "markdown",
   "metadata": {
    "id": "MQTn6mCUtFVJ"
   },
   "source": [
    "## Model 4: NER + Paragraph TF-IDF"
   ]
  },
  {
   "cell_type": "code",
   "execution_count": 277,
   "metadata": {
    "id": "LLU-vinopdC_"
   },
   "outputs": [],
   "source": [
    "def two_step_tfidf(df, ner_df, ner_vectorizer, ner_tfidf_matrix, para_vectorizer, para_tfidf_matrix, query, col):\n",
    "    if col == 'para':\n",
    "        col = 'cleaned_lowercase_nostop_lem'\n",
    "    elif col == 'summary':\n",
    "        col = 'extractive_summarized_3_sent'\n",
    "    else:\n",
    "        print(\"Invalid col type. Specify 'para' or 'summary'.\")\n",
    "        return\n",
    "    \n",
    "    df = df.reset_index()\n",
    "    ner_str = query_to_ner_str(query)\n",
    "    ner_docs = []\n",
    "    \n",
    "    cleaned = clean_query_lem(query)\n",
    "\n",
    "    if cleaned is None:\n",
    "        return []\n",
    "\n",
    "    if ner_str:    \n",
    "#         print('========== EXECUTING NER TF-IDF ==========')\n",
    "#         print(f\"NER String: {ner_str}\\n\")\n",
    "\n",
    "        ner_matching_ids = get_similar_docs(ner_df, ner_vectorizer, ner_tfidf_matrix, ner_str)\n",
    "\n",
    "        if ner_matching_ids:\n",
    "            narrowed_paras_df = ner_df[ner_df['context_id'].isin(i for i in ner_matching_ids)]\n",
    "            para_index = narrowed_paras_df['context_id'].values\n",
    "            \n",
    "          # Re-run para_vectorizer and para_tfidf on narrowed down documents\n",
    "            para_vectorizer = TfidfVectorizer(ngram_range=(1,2))\n",
    "            para_tfidf_matrix = para_vectorizer.fit_transform(narrowed_paras_df[col])\n",
    "        else:\n",
    "            para_index = df['context_id'].values\n",
    "    else:\n",
    "        para_index = df['context_id'].values\n",
    "        \n",
    "#     print('=== EXECUTING PARA TF-IDF ===')\n",
    "#     print(f\"Query String: {cleaned}\\n\")\n",
    "    query_tfidf = para_vectorizer.transform([cleaned])\n",
    "    cosineSimilarities = cosine_similarity(query_tfidf, para_tfidf_matrix).flatten()\n",
    "    max_sim = max(cosineSimilarities)\n",
    "    \n",
    "    if max_sim < 0.05: # not sure whether to set this threshold as some correct answers are like 0.1 similarity\n",
    "#         print(\"No Matches\")\n",
    "        return []\n",
    "    else:\n",
    "        threshold = 0.4 * max_sim\n",
    "\n",
    "    top_doc_ids = set()\n",
    "    for idx, val in enumerate(cosineSimilarities):\n",
    "        if val >= threshold:\n",
    "            top_doc_ids.add((para_index[idx],val))\n",
    "            \n",
    "    top_doc_ids = sorted(top_doc_ids, key=lambda x: x[1], reverse=True)[:5]\n",
    "            \n",
    "#     print(f\"Top Docs: {top_doc_ids}\\n\")\n",
    "            \n",
    "    return [i[0] for i in top_doc_ids]"
   ]
  },
  {
   "cell_type": "code",
   "execution_count": 278,
   "metadata": {
    "colab": {
     "base_uri": "https://localhost:8080/"
    },
    "id": "_C21r7Q-tFqx",
    "outputId": "0ae377b5-c30c-4108-8c79-89124c9ba4fe"
   },
   "outputs": [
    {
     "name": "stdout",
     "output_type": "stream",
     "text": [
      "[43261, 16887]\n",
      "\n",
      "1. Criminal law involves the prosecution by the state of wrongful acts which are considered to be so serious that they are a breach of the sovereign's peace (and cannot be deterred or remedied by mere lawsuits between private parties). Generally, crimes can result in incarceration, but torts (see below) cannot. The majority of the crimes committed in the United States are prosecuted and punished at the state level. Federal criminal law focuses on areas specifically relevant to the federal government like evading payment of federal income tax, mail theft, or physical attacks on federal officials, as well as interstate crimes like drug trafficking and wire fraud.\n",
      "\n",
      "\n",
      "2. One significant part of treaty making is that signing a treaty implies recognition that the other side is a sovereign state and that the agreement being considered is enforceable under international law. Hence, nations can be very careful about terming an agreement to be a treaty. For example, within the United States, agreements between states are compacts and agreements between states and the federal government or between agencies of the government are memoranda of understanding.\n",
      "\n",
      "\n"
     ]
    }
   ],
   "source": [
    "query = \"what is criminal law in united states?\"\n",
    "retrieved_doc_ids = two_step_tfidf(df, ner_df, ner_vectorizer, ner_tfidf_matrix, para_vectorizer, para_tfidf_matrix, query, 'para')\n",
    "\n",
    "print(retrieved_doc_ids)\n",
    "print()\n",
    "retrieved_paras = []\n",
    "for idx, val in enumerate(retrieved_doc_ids, start=1):\n",
    "    para = df[df['context_id'] == val]['context'].values[0]\n",
    "    print(f\"{idx}. {para}\\n\")\n",
    "    print()"
   ]
  },
  {
   "cell_type": "markdown",
   "metadata": {},
   "source": [
    "## Model 5: NER + Summarised TFIDF"
   ]
  },
  {
   "cell_type": "code",
   "execution_count": 279,
   "metadata": {},
   "outputs": [
    {
     "name": "stdout",
     "output_type": "stream",
     "text": [
      "[43261, 16887]\n",
      "\n",
      "1. Criminal law involves the prosecution by the state of wrongful acts which are considered to be so serious that they are a breach of the sovereign's peace (and cannot be deterred or remedied by mere lawsuits between private parties). Generally, crimes can result in incarceration, but torts (see below) cannot. The majority of the crimes committed in the United States are prosecuted and punished at the state level. Federal criminal law focuses on areas specifically relevant to the federal government like evading payment of federal income tax, mail theft, or physical attacks on federal officials, as well as interstate crimes like drug trafficking and wire fraud.\n",
      "\n",
      "\n",
      "2. One significant part of treaty making is that signing a treaty implies recognition that the other side is a sovereign state and that the agreement being considered is enforceable under international law. Hence, nations can be very careful about terming an agreement to be a treaty. For example, within the United States, agreements between states are compacts and agreements between states and the federal government or between agencies of the government are memoranda of understanding.\n",
      "\n",
      "\n"
     ]
    }
   ],
   "source": [
    "query = \"what is criminal law in united states?\"\n",
    "retrieved_doc_ids = two_step_tfidf(df, ner_df, ner_vectorizer, ner_tfidf_matrix, summarised_vectorizer, summarised_tfidf_matrix, query, 'summary')\n",
    "\n",
    "print(retrieved_doc_ids)\n",
    "print()\n",
    "retrieved_paras = []\n",
    "for idx, val in enumerate(retrieved_doc_ids, start=1):\n",
    "    para = df[df['context_id'] == val]['context'].values[0]\n",
    "    print(f\"{idx}. {para}\\n\")\n",
    "    print()"
   ]
  },
  {
   "cell_type": "markdown",
   "metadata": {
    "id": "RHx3VhrNtrsZ"
   },
   "source": [
    "## Model 6: Latent Semantic Indexing (LSI) on Paragraph\n",
    "https://github.com/arpytanshu/latent-semantic-indexing/blob/master/LSI.py"
   ]
  },
  {
   "cell_type": "code",
   "execution_count": 359,
   "metadata": {
    "id": "yeAzClwUtHd6"
   },
   "outputs": [],
   "source": [
    "from numpy.linalg import svd, norm\n",
    "from nltk.stem.snowball import EnglishStemmer\n",
    "from collections import defaultdict, Counter\n",
    "import random"
   ]
  },
  {
   "cell_type": "code",
   "execution_count": 360,
   "metadata": {},
   "outputs": [],
   "source": [
    "# para_id_map = {}\n",
    "# for idx, row in df.iterrows():\n",
    "#     para_id_map[row['cleaned_lowercase_nostop_lem']] = row['context_id']"
   ]
  },
  {
   "cell_type": "code",
   "execution_count": 425,
   "metadata": {
    "id": "Yu52QommtsnR"
   },
   "outputs": [],
   "source": [
    "class LSI:\n",
    "    def __repr__(self):\n",
    "        return 'LSI( terms:{}, documents:{}, index_ready:{})'.format(self.index.__len__(),\n",
    "                                                                     self.documents.__len__(),\n",
    "                                                                     not(self.__update_index))\n",
    "    \n",
    "    def __init__(self, tokenizer=nltk.word_tokenize,\n",
    "                 stemmer=EnglishStemmer,\n",
    "                 stopwords=nltk.corpus.stopwords.words('english'),\n",
    "                 variance=0.9):\n",
    "        '''\n",
    "        >>> queries cannot work unless __update_index is false.        \n",
    "        '''\n",
    "        self.stemmer = stemmer()\n",
    "        self.tokenizer = tokenizer\n",
    "        self.stopwords = stopwords\n",
    "        \n",
    "        self.documents = {}\n",
    "        self.index = defaultdict(Counter)\n",
    "        \n",
    "        self.A = None # term document matrix\n",
    "        self.U = None # output of svd\n",
    "        self.S = None # output of svd\n",
    "        self.V = None # output of svd\n",
    "        \n",
    "        self.term_rep = np.array(None) # reduced representation of terms after svd\n",
    "        self.doc_rep = np.array(None)  # reduced representation of documents after svd\n",
    "        \n",
    "        self.__update_index = True\n",
    "        self._term_index_in_A = {}\n",
    "        self._document_index_in_A = {}\n",
    "        \n",
    "        self.k = None # reduced dimension after SVD\n",
    "        self.variance = variance # variance to retain after SVD\n",
    "            \n",
    "        \n",
    "    def add_doc(self, document, document_id):\n",
    "        '''\n",
    "        add terms into vocabulary.\n",
    "        add document \n",
    "        '''\n",
    "        if document_id in self.documents:\n",
    "            print('document_id : {} already indexed.'.format(document_id))\n",
    "            return False\n",
    "        \n",
    "        for token in [t.lower() for t in self.tokenizer(document) if t.isalpha()]:\n",
    "            if token in self.stopwords:\n",
    "                continue;\n",
    "            if self.stemmer:\n",
    "                token = self.stemmer.stem(token)\n",
    "                \n",
    "            # add this token to defaultdict(Counter)\n",
    "            # this document's count is increased by 1 for this token's Counter\n",
    "            self.index[token].update({document_id:1})\n",
    "        \n",
    "        self.__update_index = True # update flag to rebuild index\n",
    "        self.documents[document_id] = document # add document to documents\n",
    "        return True\n",
    "    \n",
    "    \n",
    "    def _svd_A(self):\n",
    "        '''\n",
    "        Perform SVD on A and update the U,S,V matrices\n",
    "        '''\n",
    "        self.U, self.S, self.V = svd(self.A)\n",
    "        \n",
    "    \n",
    "    def _get_k_for_svd(self):\n",
    "        '''\n",
    "        Finds the value for k after SVD such that specified variance is retained\n",
    "        returns k : int\n",
    "        '''\n",
    "        if (self.S is not None):\n",
    "            sum = 0\n",
    "            k = 0\n",
    "            while(sum < self.variance):\n",
    "                k -=- 1\n",
    "                sum = self.S[:k].sum() / self.S.sum()\n",
    "            self.k = k\n",
    "            return True\n",
    "        else:\n",
    "            print('S is not populated.')\n",
    "            return False\n",
    "\n",
    "    def rebuild_index(self):\n",
    "        '''\n",
    "        >>> set _update_index to false when index is built\n",
    "        '''\n",
    "        terms = list(self.index.keys())\n",
    "        documents = list(self.documents.keys())\n",
    "        self.A = np.zeros((terms.__len__(), documents.__len__()), dtype='int8')\n",
    "\n",
    "        self._document_index_in_A = {doc:ix for ix,doc in enumerate(documents)}\n",
    "        self._term_index_in_A = {term:ix for ix,term in enumerate(terms)}\n",
    "        \n",
    "        for term in terms:\n",
    "            counter = self.index[term]\n",
    "            term_ix = self._term_index_in_A[term]\n",
    "            doc_ids = list(self.index[term].keys())\n",
    "            doc_vals = [counter[x] for x in doc_ids]\n",
    "            doc_ixs = [self._document_index_in_A[x] for x in doc_ids]\n",
    "            for ix,doc_id in enumerate(doc_ixs):\n",
    "                self.A[term_ix][doc_id] = doc_vals[ix]\n",
    "        print('Term-Document frequency matrix is ready.')\n",
    "        print('Proceeding to do SVD on the matrix.')\n",
    "        \n",
    "        self._svd_A()\n",
    "        self._get_k_for_svd()\n",
    "        \n",
    "        self.doc_rep = self.V[:self.k,:]\n",
    "        self.term_rep = self.U[:,:self.k]\n",
    "\n",
    "        print('Index Rebuilt. Setting __update_index to False. Queries can now be performed.')\n",
    "        self.__update_index = False\n",
    "        \n",
    "    def _calc_query_doc_affinity_score(self, query_vector):\n",
    "        '''\n",
    "        calculates the query - document affinity score\n",
    "        '''\n",
    "        try:\n",
    "            one_by_query_vector_norm_ = (1/norm(query_vector))\n",
    "        except ZeroDivisionError:\n",
    "            one_by_query_vector_norm_ = (1/1e-4)\n",
    "        affinity_scores = (np.dot(query_vector,self.doc_rep) / norm(self.doc_rep, axis=0)) * one_by_query_vector_norm_\n",
    "        return affinity_scores\n",
    "    \n",
    "    def query(self, query_string, top=5):\n",
    "        query_string = clean_query_lem(query_string)\n",
    "        \n",
    "        if(self.__update_index == True):\n",
    "            print('Index is not updated. Use rebuild_index()')\n",
    "            return False\n",
    "        \n",
    "        query_vector = []\n",
    "        for token in [t.lower() for t in self.tokenizer(query_string) if t.isalpha()]:\n",
    "            if token in self.stopwords:\n",
    "                continue;\n",
    "            if self.stemmer:\n",
    "                token = self.stemmer.stem(token)\n",
    "            try:\n",
    "                query_vector.append(self.term_rep[self._term_index_in_A[token], :])\n",
    "            except KeyError:\n",
    "                query_vector.append(np.array([0.0] * self.k))\n",
    "        \n",
    "        query_vector_mean = np.array(query_vector).mean(axis=0)\n",
    "        affinity_scores = self._calc_query_doc_affinity_score(query_vector_mean)\n",
    "              \n",
    "        res_doc_index = (-affinity_scores).argsort()[:top]\n",
    "        results = []\n",
    "        for index in res_doc_index:\n",
    "            if 'numpy.ndarray' in str(type(index)): # tie\n",
    "                index = random.choice(index)\n",
    "            res_doc_id = list(self._document_index_in_A.keys())[index]\n",
    "            results.append(df.iloc[res_doc_id]['context_id'])\n",
    "            \n",
    "        return results"
   ]
  },
  {
   "cell_type": "code",
   "execution_count": 416,
   "metadata": {
    "id": "vWMqxG8UttxX"
   },
   "outputs": [],
   "source": [
    "def build_lsi(col):\n",
    "    if col == 'para':\n",
    "        col = 'cleaned_lowercase_nostop_lem'\n",
    "    elif col == 'summary':\n",
    "        col = 'extractive_summarized_3_sent'\n",
    "    else:\n",
    "        print(\"Invalid col type. Specify 'para' or 'summary'.\")\n",
    "        return\n",
    "    \n",
    "    lsi = LSI()\n",
    "\n",
    "    for index, row in df.iterrows():\n",
    "        lsi.add_doc(row[col], index)\n",
    "        \n",
    "    lsi.rebuild_index()\n",
    "    \n",
    "    return lsi\n",
    "    \n",
    "def lsi(query, lsi_model):\n",
    "    docs = lsi_model.query(query)\n",
    "    return docs"
   ]
  },
  {
   "cell_type": "code",
   "execution_count": 395,
   "metadata": {},
   "outputs": [
    {
     "name": "stdout",
     "output_type": "stream",
     "text": [
      "Term-Document frequency matrix is ready.\n",
      "Proceeding to do SVD on the matrix.\n",
      "Index Rebuilt. Setting __update_index to False. Queries can now be performed.\n"
     ]
    }
   ],
   "source": [
    "para_lsi_model = build_lsi('para')"
   ]
  },
  {
   "cell_type": "code",
   "execution_count": 410,
   "metadata": {},
   "outputs": [
    {
     "name": "stdout",
     "output_type": "stream",
     "text": [
      "[35374, 17044, 7310, 46158, 84447]\n",
      "\n",
      "1. Candidates for Freemasonry will have met most active members of the Lodge they are joining before they are initiated. The process varies between jurisdictions, but the candidate will typically have been introduced by a friend at a Lodge social function, or at some form of open evening in the Lodge. In modern times, interested people often track down a local Lodge through the Internet. The onus is on candidates to ask to join; while candidates may be encouraged to ask, they are never invited. Once the initial inquiry is made, an interview usually follows to determine the candidate's suitability. If the candidate decides to proceed from here, the Lodge ballots on the application before he (or she, depending on the Masonic Jurisdiction) can be accepted.\n",
      "\n",
      "\n",
      "2. In some rare cases, such as with Ethiopia and Qing Dynasty China, the local governments were able to use the treaties to at least mitigate the impact of European colonization. This involved learning the intricacies of European diplomatic customs and then using the treaties to prevent a power from overstepping their agreement or by playing different powers against each other.\n",
      "\n",
      "\n",
      "3. On March 27, 2015 Sassou Nguesso announced that his government would hold a referendum to change the country's 2002 constitution and allow him to run for a third consecutive term in office. On October 25 the government held a referendum to allow Sassou Nguesso to run in the next election. The government claimed that the proposal as approved by 92 percent of voters with 72 percent of eligible voters participating. The opposition, who had boycotted the referendum claimed that the government's statistics were false and that the vote was a sham.\n",
      "\n",
      "\n",
      "4. In 1965, Paul VI decided on the creation of a joint working group with the World Council of Churches to map all possible avenues of dialogue and cooperation. In the following three years, eight sessions were held which resulted in many joint proposals. It was proposed to work closely together in areas of social justice and development and Third World Issues such as hunger and poverty. On the religious side, it was agreed to share together in the Week of Prayer for Christian Unity, to be held every year. The joint working group was to prepare texts which were to be used by all Christians. On 19 July 1968, the meeting of the World Council of Churches took place in Uppsala, Sweden, which Pope Paul called a sign of the times. He sent his blessing in an ecumenical manner: \"May the Lord bless everything you do for the case of Christian Unity.\" The World Council of Churches decided on including Catholic theologians in its committees, provided they have the backing of the Vatican.\n",
      "\n",
      "\n",
      "5. A police force is a constituted body of persons empowered by the state to enforce the law, protect property, and limit civil disorder. Their powers include the legitimized use of force. The term is most commonly associated with police services of a sovereign state that are authorized to exercise the police power of that state within a defined legal or territorial area of responsibility. Police forces are often defined as being separate from military or other organizations involved in the defense of the state against foreign aggressors; however, gendarmerie are military units charged with civil policing.\n",
      "\n",
      "\n"
     ]
    }
   ],
   "source": [
    "query = 'What were there 12,995 of in 2010?'\n",
    "retrieved_doc_ids = lsi(query, para_lsi_model)\n",
    "\n",
    "print(retrieved_doc_ids)\n",
    "print()\n",
    "retrieved_paras = []\n",
    "for idx, val in enumerate(retrieved_doc_ids, start=1):\n",
    "    para = df[df['context_id'] == val]['context'].values[0]\n",
    "    print(f\"{idx}. {para}\\n\")\n",
    "    print()"
   ]
  },
  {
   "cell_type": "markdown",
   "metadata": {
    "id": "RHx3VhrNtrsZ"
   },
   "source": [
    "## Model 7: Latent Semantic Indexing (LSI) on Summary\n",
    "https://github.com/arpytanshu/latent-semantic-indexing/blob/master/LSI.py"
   ]
  },
  {
   "cell_type": "code",
   "execution_count": 417,
   "metadata": {},
   "outputs": [],
   "source": [
    "summary_id_map = {}\n",
    "for idx, row in df.iterrows():\n",
    "    summary_id_map[row['extractive_summarized_3_sent']] = row['context_id']"
   ]
  },
  {
   "cell_type": "code",
   "execution_count": 426,
   "metadata": {},
   "outputs": [
    {
     "name": "stdout",
     "output_type": "stream",
     "text": [
      "Term-Document frequency matrix is ready.\n",
      "Proceeding to do SVD on the matrix.\n",
      "Index Rebuilt. Setting __update_index to False. Queries can now be performed.\n"
     ]
    }
   ],
   "source": [
    "summary_lsi_model = build_lsi('summary')"
   ]
  },
  {
   "cell_type": "code",
   "execution_count": 427,
   "metadata": {},
   "outputs": [
    {
     "name": "stdout",
     "output_type": "stream",
     "text": [
      "[32492, 59423, 59985, 52706, 59406]\n",
      "\n",
      "1. Cesare Beccaria, a jurist and one of the great Enlightenment writers, became famous for his masterpiece Of Crimes and Punishments (1764), which was later translated into 22 languages. Another prominent intellectual was Francesco Mario Pagano, who wrote important studies such as Saggi Politici (Political Essays, 1783), one of the major works of the Enlightenment in Naples, and Considerazioni sul processo criminale (Considerations on the criminal trial, 1787), which established him as an international authority on criminal law.\n",
      "\n",
      "\n",
      "2. Spain is a unitary state with a high level of decentralisation, often regarded as a federal system in all but name or a \"federation without federalism\". The country has been quoted as being \"an extraordinarily decentralized country\", with the central government accounting for just 18% of public spending, 38% for the regional governments, 13% for the local councils, and the remaining 31% for the social security system. The current Spanish constitution has been implemented in such a way that, in many respects, Spain can be compared to countries which are undeniably federal.\n",
      "\n",
      "\n",
      "3. Kinnock then resigned as leader and was replaced by John Smith. Smith's leadership once again saw the re-emergence of tension between those on the party's left and those identified as \"modernisers\", both of whom advocated radical revisions of the party's stance albeit in different ways. At the 1993 conference, Smith successfully changed the party rules and lessened the influence of the trade unions on the selection of candidates to stand for Parliament by introducing a one member, one vote system called \"OMOV\" — but only barely, after a barnstorming speech by John Prescott which required Smith to compromise on other individual negotiations.\n",
      "\n",
      "\n",
      "4. In Brazil, the Supreme Federal Tribunal (Supremo Tribunal Federal) is the highest court. It is both the constitutional court and the court of last resort in Brazilian law. It only reviews cases that may be unconstitutional or final habeas corpus pleads for criminal cases. It also judges, in original jurisdiction, cases involving members of congress, senators, ministers of state, members of the high courts and the President and Vice-President of the Republic. The Superior Court of Justice (Tribunal Superior de Justiça) reviews State and Federal Circuit courts decisions for civil law and criminal law cases, when dealing with federal law or conflicting rulings. The Superior Labour Tribunal (Tribunal Superior do Trabalho) reviews cases involving labour law. The Superior Electoral Tribunal (Tribunal Superior Eleitoral) is the court of last resort of electoral law, and also oversees general elections. The Superior Military Tribunal (Tribunal Superior Militar) is the highest court in matters of federal military law.\n",
      "\n",
      "\n",
      "5. Federations often employ the paradox of being a union of states, while still being states (or having aspects of statehood) in themselves. For example, James Madison (author of the US Constitution) wrote in Federalist Paper No. 39 that the US Constitution \"is in strictness neither a national nor a federal constitution; but a composition of both. In its foundation, it is federal, not national; in the sources from which the ordinary powers of the Government are drawn, it is partly federal, and partly national...\" This stems from the fact that states in the US maintain all sovereignty that they do not yield to the federation by their own consent. This was reaffirmed by the Tenth Amendment to the United States Constitution, which reserves all powers and rights that are not delegated to the Federal Government as left to the States and to the people.\n",
      "\n",
      "\n"
     ]
    }
   ],
   "source": [
    "query = 'What were there 12,995 of in 2010?'\n",
    "retrieved_doc_ids = lsi(query, summary_lsi_model)\n",
    "\n",
    "print(retrieved_doc_ids)\n",
    "print()\n",
    "retrieved_paras = []\n",
    "for idx, val in enumerate(retrieved_doc_ids, start=1):\n",
    "    para = df[df['context_id'] == val]['context'].values[0]\n",
    "    print(f\"{idx}. {para}\\n\")\n",
    "    print()"
   ]
  },
  {
   "cell_type": "markdown",
   "metadata": {
    "id": "jU_cJX4u-SVb"
   },
   "source": [
    "## Model 8: Sentence Embedding (Doc2Vec) on Paragraph"
   ]
  },
  {
   "cell_type": "code",
   "execution_count": 295,
   "metadata": {},
   "outputs": [],
   "source": [
    "from gensim.models.doc2vec import Doc2Vec, TaggedDocument\n",
    "\n",
    "def build_doc2vec(col):\n",
    "    if col == 'para':\n",
    "        col = 'cleaned_lowercase_nostop_lem'\n",
    "    elif col == 'summary':\n",
    "        col = 'extractive_summarized_3_sent'\n",
    "    else:\n",
    "        print(\"Invalid col type. Specify 'para' or 'summary'.\")\n",
    "        return\n",
    "    doc2vec_df = df.reset_index()\n",
    "    tagged_data = []\n",
    "    for idx, d in doc2vec_df.iterrows():\n",
    "        tagged_data.append(TaggedDocument(d[col].split(), [idx]))\n",
    "    \n",
    "    doc2vec_model = Doc2Vec(tagged_data, vector_size = 20, min_count = 2, epochs = 20)\n",
    "    \n",
    "    return doc2vec_model\n",
    "\n",
    "def doc2vec(query, doc2vec_model):    \n",
    "    test_query = word_tokenize(query.lower())\n",
    "    test_query_vector = doc2vec_model.infer_vector(test_query)\n",
    "    doc2vec_mostsimilar = doc2vec_model.docvecs.most_similar([test_query_vector])[:5]\n",
    "    result = []\n",
    "    for i in doc2vec_mostsimilar:\n",
    "        result.append(df.iloc[i[0]]['context_id'])\n",
    "    return result"
   ]
  },
  {
   "cell_type": "code",
   "execution_count": 296,
   "metadata": {
    "id": "MN9I9aaeHt4M"
   },
   "outputs": [],
   "source": [
    "para_doc2vec_model = build_doc2vec('para')"
   ]
  },
  {
   "cell_type": "code",
   "execution_count": 301,
   "metadata": {},
   "outputs": [
    {
     "name": "stdout",
     "output_type": "stream",
     "text": [
      "[84621, 32129, 32134, 32060, 32093]\n",
      "\n",
      "1. After the Holocaust, which had been perpetrated by the Nazi Germany and its allies prior to and during World War II, Lemkin successfully campaigned for the universal acceptance of international laws defining and forbidding genocides. In 1946, the first session of the United Nations General Assembly adopted a resolution that \"affirmed\" that genocide was a crime under international law, but did not provide a legal definition of the crime. In 1948, the UN General Assembly adopted the Convention on the Prevention and Punishment of the Crime of Genocide (CPPCG) which defined the crime of genocide for the first time.\n",
      "\n",
      "\n",
      "2. In 1977, the Supreme Court's Coker v. Georgia decision barred the death penalty for rape of an adult woman, and implied that the death penalty was inappropriate for any offense against another person other than murder. Prior to the decision, the death penalty for rape of an adult had been gradually phased out in the United States, and at the time of the decision, the State of Georgia and the U.S. Federal government were the only two jurisdictions to still retain the death penalty for that offense. However, three states maintained the death penalty for child rape, as the Coker decision only imposed a ban on executions for the rape of an adult woman. In 2008, the Kennedy v. Louisiana decision barred the death penalty for child rape. The result of these two decisions means that the death penalty in the United States is largely restricted to cases where the defendant took the life of another human being. The current federal kidnapping statute, however, may be exempt because the death penalty applies if the victim dies in the perpetrator's custody, not necessarily by his hand, thus stipulating a resulting death, which was the wording of the objection. In addition, the Federal government retains the death penalty for non-murder offenses that are considered crimes against the state, including treason, espionage, and crimes under military jurisdiction.\n",
      "\n",
      "\n",
      "3. Four states in the modern era, Nebraska in 2008, New York and Kansas in 2004, and Massachusetts in 1984, had their statutes ruled unconstitutional by state courts. The death rows of New York and Massachusetts were disestablished, and attempts to restore the death penalty were unsuccessful. Kansas successfully appealed State v. Kleypas, the Kansas Supreme Court decision that declared the state's death penalty statute unconstitutional, to the United States Supreme Court. Nebraska's death penalty statute was rendered ineffective on February 8, 2008 when the required method, electrocution, was ruled unconstitutional by the Nebraska Supreme Court. In 2009, Nebraska enacted a bill that changed its method of execution to lethal injection.\n",
      "\n",
      "\n",
      "4. Puerto Rico's constitution expressly forbids capital punishment, stating \"The death penalty shall not exist\", setting it apart from all U.S. states and territories other than Michigan, which also has a constitutional prohibition (eleven other states and the District of Columbia have abolished capital punishment through statutory law). However, capital punishment is still applicable to offenses committed in Puerto Rico, if they fall under the jurisdiction of the federal government, though federal death penalty prosecutions there have generated significant controversy.\n",
      "\n",
      "\n",
      "5. Traditionally, Section 1983 was of limited use for a state prisoner under sentence of death because the Supreme Court has held that habeas corpus, not Section 1983, is the only vehicle by which a state prisoner can challenge his judgment of death. In the 2006 Hill v. McDonough case, however, the United States Supreme Court approved the use of Section 1983 as a vehicle for challenging a state's method of execution as cruel and unusual punishment in violation of the Eighth Amendment. The theory is that a prisoner bringing such a challenge is not attacking directly his judgment of death, but rather the means by which that the judgment will be carried out. Therefore, the Supreme Court held in the Hill case that a prisoner can use Section 1983 rather than habeas corpus to bring the lawsuit. Yet, as Clarence Hill's own case shows, lower federal courts have often refused to hear suits challenging methods of execution on the ground that the prisoner brought the claim too late and only for the purposes of delay. Further, the Court's decision in Baze v. Rees, upholding a lethal injection method used by many states, has drastically narrowed the opportunity for relief through Section 1983.\n",
      "\n",
      "\n"
     ]
    }
   ],
   "source": [
    "query = 'what is criminal law in america?'\n",
    "retrieved_doc_ids = doc2vec(query, para_doc2vec_model)\n",
    "\n",
    "print(retrieved_doc_ids)\n",
    "print()\n",
    "retrieved_paras = []\n",
    "for idx, val in enumerate(retrieved_doc_ids, start=1):\n",
    "    para = df[df['context_id'] == val]['context'].values[0]\n",
    "    print(f\"{idx}. {para}\\n\")\n",
    "    print()"
   ]
  },
  {
   "cell_type": "markdown",
   "metadata": {
    "id": "jU_cJX4u-SVb"
   },
   "source": [
    "## Model 9: Sentence Embedding (Doc2Vec) on Summary"
   ]
  },
  {
   "cell_type": "code",
   "execution_count": 302,
   "metadata": {
    "colab": {
     "base_uri": "https://localhost:8080/"
    },
    "id": "estheDCt-T0X",
    "outputId": "ab10b1b3-0c33-42ed-c6ba-3b5ef738c5db"
   },
   "outputs": [],
   "source": [
    "summary_doc2vec_model = build_doc2vec('summary')"
   ]
  },
  {
   "cell_type": "code",
   "execution_count": 307,
   "metadata": {},
   "outputs": [
    {
     "name": "stdout",
     "output_type": "stream",
     "text": [
      "[81497, 43225, 84635, 43220, 32064]\n",
      "\n",
      "1. The incorporation of the First Amendment establishment clause in the landmark case of Everson v. Board of Education has impacted the subsequent interpretation of the separation of church and state in regard to the state governments. Although upholding the state law in that case, which provided for public busing to private religious schools, the Supreme Court held that the First Amendment establishment clause was fully applicable to the state governments. A more recent case involving the application of this principle against the states was Board of Education of Kiryas Joel Village School District v. Grumet (1994).\n",
      "\n",
      "\n",
      "2. Under the doctrine of Erie Railroad Co. v. Tompkins (1938), there is no general federal common law. Although federal courts can create federal common law in the form of case law, such law must be linked one way or another to the interpretation of a particular federal constitutional provision, statute, or regulation (which in turn was enacted as part of the Constitution or after). Federal courts lack the plenary power possessed by state courts to simply make up law, which the latter are able to do in the absence of constitutional or statutory provisions replacing the common law. Only in a few narrow limited areas, like maritime law, has the Constitution expressly authorized the continuation of English common law at the federal level (meaning that in those areas federal courts can continue to make law as they see fit, subject to the limitations of stare decisis).\n",
      "\n",
      "\n",
      "3. In the same judgement the ECHR reviewed the judgements of several international and municipal courts judgements. It noted that International Criminal Tribunal for the Former Yugoslavia and the International Court of Justice had agreed with the narrow interpretation, that biological-physical destruction was necessary for an act to qualify as genocide. The ECHR also noted that at the time of its judgement, apart from courts in Germany which had taken a broad view, that there had been few cases of genocide under other Convention States municipal laws and that \"There are no reported cases in which the courts of these States have defined the type of group destruction the perpetrator must have intended in order to be found guilty of genocide\".\n",
      "\n",
      "\n",
      "4. In turn, according to Kozinski's analysis, the contemporary rule of binding precedent became possible in the U.S. in the nineteenth century only after the creation of a clear court hierarchy (under the Judiciary Acts), and the beginning of regular verbatim publication of U.S. appellate decisions by West Publishing. The rule gradually developed, case-by-case, as an extension of the judiciary's public policy of effective judicial administration (that is, in order to efficiently exercise the judicial power). The rule of precedent is generally justified today as a matter of public policy, first, as a matter of fundamental fairness, and second, because in the absence of case law, it would be completely unworkable for every minor issue in every legal case to be briefed, argued, and decided from first principles (such as relevant statutes, constitutional provisions, and underlying public policies), which in turn would create hopeless inefficiency, instability, and unpredictability, and thereby undermine the rule of law.\n",
      "\n",
      "\n",
      "5. Capital punishment was suspended in the United States from 1972 through 1976 primarily as a result of the Supreme Court's decision in Furman v. Georgia. The last pre-Furman execution was that of Luis Monge on June 2, 1967. In this case, the court found that the death penalty was being imposed in an unconstitutional manner, on the grounds of cruel and unusual punishment in violation of the Eighth Amendment to the United States Constitution. The Supreme Court has never ruled the death penalty to be per se unconstitutional.\n",
      "\n",
      "\n"
     ]
    }
   ],
   "source": [
    "query = 'what is criminal law in america?'\n",
    "retrieved_doc_ids = doc2vec(query, summary_doc2vec_model)\n",
    "\n",
    "print(retrieved_doc_ids)\n",
    "print()\n",
    "retrieved_paras = []\n",
    "for idx, val in enumerate(retrieved_doc_ids, start=1):\n",
    "    para = df[df['context_id'] == val]['context'].values[0]\n",
    "    print(f\"{idx}. {para}\\n\")\n",
    "    print()"
   ]
  },
  {
   "cell_type": "markdown",
   "metadata": {
    "id": "cpC5910RJknb"
   },
   "source": [
    "## Model 10: Sentence Embedding (InferSent) on Paragraph"
   ]
  },
  {
   "cell_type": "code",
   "execution_count": 308,
   "metadata": {
    "colab": {
     "base_uri": "https://localhost:8080/"
    },
    "id": "cFM70qOc-T7W",
    "outputId": "9d68d6f3-652c-4f30-a794-385796558b5d"
   },
   "outputs": [],
   "source": [
    "from models import InferSent\n",
    "V = 2\n",
    "MODEL_PATH = 'infersent/infersent2.pkl'\n",
    "params_model = {'bsize': 64, 'word_emb_dim': 300, 'enc_lstm_dim': 2048,\n",
    "                'pool_type': 'max', 'dpout_model': 0.0, 'version': V}\n",
    "infersent_para = InferSent(params_model)\n",
    "infersent_para.load_state_dict(torch.load(MODEL_PATH))\n",
    "\n",
    "W2V_PATH = 'pretrained_embeddings/crawl-300d-2M.vec'\n",
    "infersent_para.set_w2v_path(W2V_PATH)"
   ]
  },
  {
   "cell_type": "code",
   "execution_count": 309,
   "metadata": {
    "id": "YbKpgqhj-T-6"
   },
   "outputs": [
    {
     "name": "stdout",
     "output_type": "stream",
     "text": [
      "Found 10542(/11343) words with w2v vectors\n",
      "Vocab size : 10542\n"
     ]
    }
   ],
   "source": [
    "sentences = list(df['cleaned_lowercase_nostop_lem'])\n",
    "infersent_para.build_vocab(sentences, tokenize=True)"
   ]
  },
  {
   "cell_type": "code",
   "execution_count": 170,
   "metadata": {
    "id": "D5iMX59iKxTP"
   },
   "outputs": [],
   "source": [
    "infersent_para_embeddings = infersent_para.encode(sentences, tokenize=True)"
   ]
  },
  {
   "cell_type": "code",
   "execution_count": 176,
   "metadata": {},
   "outputs": [],
   "source": [
    "# pickle.dump(infersent_para_embeddings, open( \"saved_models/infersent_para_embeddings.p\", \"wb\" ) )"
   ]
  },
  {
   "cell_type": "code",
   "execution_count": 310,
   "metadata": {},
   "outputs": [],
   "source": [
    "infersent_para_embeddings = pickle.load( open( \"saved_models/infersent_para_embeddings.p\", \"rb\" ) )"
   ]
  },
  {
   "cell_type": "code",
   "execution_count": 315,
   "metadata": {},
   "outputs": [],
   "source": [
    "def cosine(u, v):\n",
    "    return np.dot(u, v) / (np.linalg.norm(u) * np.linalg.norm(v))\n",
    "\n",
    "def infersent(query, model, embeddings):\n",
    "    query_vec = model.encode([query])[0]\n",
    "    similarity = []\n",
    "    counter = 0\n",
    "    for idx, row in df.iterrows():\n",
    "        sim = cosine(query_vec, embeddings[counter])\n",
    "        similarity.append((idx, sim))\n",
    "        counter += 1\n",
    "\n",
    "    doc_ids = [i[0] for i in sorted(similarity, key=lambda x: x[1], reverse=True)[:5]]\n",
    "    result = []\n",
    "    for i in doc_ids:\n",
    "        result.append(df.iloc[i]['context_id'])\n",
    "    return result"
   ]
  },
  {
   "cell_type": "code",
   "execution_count": 316,
   "metadata": {},
   "outputs": [
    {
     "name": "stdout",
     "output_type": "stream",
     "text": [
      "[32156, 32074, 32055, 66868, 32031]\n",
      "\n",
      "1. In total, 156 prisoners have been either acquitted, or received pardons or commutations on the basis of possible innocence, between 1973 to 2015. Death penalty opponents often argue that this statistic shows how perilously close states have come to undertaking wrongful executions; proponents point out that the statistic refers only to those exonerated in law, and that the truly innocent may be a smaller number. Statistics likely understate the actual problem of wrongful convictions because once an execution has occurred there is often insufficient motivation and finance to keep a case open, and it becomes unlikely at that point that the miscarriage of justice will ever be exposed.\n",
      "\n",
      "\n",
      "2. In 1976, contemporaneously with Woodson and Roberts, the Court decided Gregg v. Georgia and upheld a procedure in which the trial of capital crimes was bifurcated into guilt-innocence and sentencing phases. At the first proceeding, the jury decides the defendant's guilt; if the defendant is innocent or otherwise not convicted of first-degree murder, the death penalty will not be imposed. At the second hearing, the jury determines whether certain statutory aggravating factors exist, whether any mitigating factors exist, and, in many jurisdictions, weigh the aggravating and mitigating factors in assessing the ultimate penalty – either death or life in prison, either with or without parole.\n",
      "\n",
      "\n",
      "3. Within the context of the overall murder rate, the death penalty cannot be said to be widely or routinely used in the United States; in recent years the average has been about one execution for about every 700 murders committed, or 1 execution for about every 325 murder convictions. However, 32 of the 50 states still execute people. Among them, Alabama has the highest per capita rate of death sentences. This is due to judges overriding life imprisonment sentences and imposing the death penalty. No other states allow this.\n",
      "\n",
      "\n",
      "4. Capital punishment has existed in Tennessee at various times since statehood. Before 1913 the method of execution was hanging. From 1913 to 1915 there was a hiatus on executions but they were reinstated in 1916 when electrocution became the new method. From 1972 to 1978, after the Supreme Court ruled (Furman v. Georgia) capital punishment unconstitutional, there were no further executions. Capital punishment was restarted in 1978, although those prisoners awaiting execution between 1960 and 1978 had their sentences mostly commuted to life in prison. From 1916 to 1960 the state executed 125 inmates. For a variety of reasons there were no further executions until 2000. Since 2000, Tennessee has executed six prisoners and has 73 prisoners on death row (as of April 2015).\n",
      "\n",
      "\n",
      "5. If a defendant is sentenced to death at the trial level, the case then goes into a direct review. The direct review process is a typical legal appeal. An appellate court examines the record of evidence presented in the trial court and the law that the lower court applied and decides whether the decision was legally sound or not. Direct review of a capital sentencing hearing will result in one of three outcomes. If the appellate court finds that no significant legal errors occurred in the capital sentencing hearing, the appellate court will affirm the judgment, or let the sentence stand. If the appellate court finds that significant legal errors did occur, then it will reverse the judgment, or nullify the sentence and order a new capital sentencing hearing. Lastly, if the appellate court finds that no reasonable juror could find the defendant eligible for the death penalty, a rarity, then it will order the defendant acquitted, or not guilty, of the crime for which he/she was given the death penalty, and order him sentenced to the next most severe punishment for which the offense is eligible. About 60 percent survive the process of direct review intact.\n",
      "\n",
      "\n"
     ]
    }
   ],
   "source": [
    "query = \"Between 1973 and 2015, how amny prisoners were acquitted or received pardons or commutations of their death sentences due to possible innocence?\"\n",
    "retrieved_doc_ids = infersent(query, infersent_para, infersent_para_embeddings)\n",
    "\n",
    "print(retrieved_doc_ids)\n",
    "print()\n",
    "retrieved_paras = []\n",
    "for idx, val in enumerate(retrieved_doc_ids, start=1):\n",
    "    para = df[df['context_id'] == val]['context'].values[0]\n",
    "    print(f\"{idx}. {para}\\n\")\n",
    "    print()"
   ]
  },
  {
   "cell_type": "markdown",
   "metadata": {
    "id": "cpC5910RJknb"
   },
   "source": [
    "## Model 11: Sentence Embedding (InferSent) on Summary"
   ]
  },
  {
   "cell_type": "code",
   "execution_count": 317,
   "metadata": {
    "colab": {
     "base_uri": "https://localhost:8080/"
    },
    "id": "cFM70qOc-T7W",
    "outputId": "9d68d6f3-652c-4f30-a794-385796558b5d"
   },
   "outputs": [],
   "source": [
    "V = 2\n",
    "MODEL_PATH = 'infersent/infersent2.pkl'\n",
    "params_model = {'bsize': 64, 'word_emb_dim': 300, 'enc_lstm_dim': 2048,\n",
    "                'pool_type': 'max', 'dpout_model': 0.0, 'version': V}\n",
    "infersent_summary = InferSent(params_model)\n",
    "infersent_summary.load_state_dict(torch.load(MODEL_PATH))\n",
    "\n",
    "W2V_PATH = 'pretrained_embeddings/crawl-300d-2M.vec'\n",
    "infersent_summary.set_w2v_path(W2V_PATH)"
   ]
  },
  {
   "cell_type": "code",
   "execution_count": 318,
   "metadata": {
    "id": "YbKpgqhj-T-6"
   },
   "outputs": [
    {
     "name": "stdout",
     "output_type": "stream",
     "text": [
      "Found 9061(/9647) words with w2v vectors\n",
      "Vocab size : 9061\n"
     ]
    }
   ],
   "source": [
    "sentences = list(df['extractive_summarized_3_sent'])\n",
    "infersent_summary.build_vocab(sentences, tokenize=True)"
   ]
  },
  {
   "cell_type": "code",
   "execution_count": 319,
   "metadata": {
    "id": "D5iMX59iKxTP"
   },
   "outputs": [],
   "source": [
    "infersent_summary_embeddings = infersent_summary.encode(sentences, tokenize=True)"
   ]
  },
  {
   "cell_type": "code",
   "execution_count": 320,
   "metadata": {},
   "outputs": [],
   "source": [
    "# pickle.dump(infersent_summary_embeddings, open( \"saved_models/infersent_summary_embeddings.p\", \"wb\" ) )"
   ]
  },
  {
   "cell_type": "code",
   "execution_count": 321,
   "metadata": {},
   "outputs": [],
   "source": [
    "infersent_summary_embeddings = pickle.load( open( \"saved_models/infersent_summary_embeddings.p\", \"rb\" ) )"
   ]
  },
  {
   "cell_type": "code",
   "execution_count": 322,
   "metadata": {},
   "outputs": [
    {
     "name": "stdout",
     "output_type": "stream",
     "text": [
      "[32156, 32074, 32055, 66868, 84693]\n",
      "\n",
      "1. In total, 156 prisoners have been either acquitted, or received pardons or commutations on the basis of possible innocence, between 1973 to 2015. Death penalty opponents often argue that this statistic shows how perilously close states have come to undertaking wrongful executions; proponents point out that the statistic refers only to those exonerated in law, and that the truly innocent may be a smaller number. Statistics likely understate the actual problem of wrongful convictions because once an execution has occurred there is often insufficient motivation and finance to keep a case open, and it becomes unlikely at that point that the miscarriage of justice will ever be exposed.\n",
      "\n",
      "\n",
      "2. In 1976, contemporaneously with Woodson and Roberts, the Court decided Gregg v. Georgia and upheld a procedure in which the trial of capital crimes was bifurcated into guilt-innocence and sentencing phases. At the first proceeding, the jury decides the defendant's guilt; if the defendant is innocent or otherwise not convicted of first-degree murder, the death penalty will not be imposed. At the second hearing, the jury determines whether certain statutory aggravating factors exist, whether any mitigating factors exist, and, in many jurisdictions, weigh the aggravating and mitigating factors in assessing the ultimate penalty – either death or life in prison, either with or without parole.\n",
      "\n",
      "\n",
      "3. Within the context of the overall murder rate, the death penalty cannot be said to be widely or routinely used in the United States; in recent years the average has been about one execution for about every 700 murders committed, or 1 execution for about every 325 murder convictions. However, 32 of the 50 states still execute people. Among them, Alabama has the highest per capita rate of death sentences. This is due to judges overriding life imprisonment sentences and imposing the death penalty. No other states allow this.\n",
      "\n",
      "\n",
      "4. Capital punishment has existed in Tennessee at various times since statehood. Before 1913 the method of execution was hanging. From 1913 to 1915 there was a hiatus on executions but they were reinstated in 1916 when electrocution became the new method. From 1972 to 1978, after the Supreme Court ruled (Furman v. Georgia) capital punishment unconstitutional, there were no further executions. Capital punishment was restarted in 1978, although those prisoners awaiting execution between 1960 and 1978 had their sentences mostly commuted to life in prison. From 1916 to 1960 the state executed 125 inmates. For a variety of reasons there were no further executions until 2000. Since 2000, Tennessee has executed six prisoners and has 73 prisoners on death row (as of April 2015).\n",
      "\n",
      "\n",
      "5. Because the universal acceptance of international laws which in 1948 defined and forbade genocide with the promulgation of the Convention on the Prevention and Punishment of the Crime of Genocide (CPPCG), those criminals who were prosecuted after the war in international courts for taking part in the Holocaust were found guilty of crimes against humanity and other more specific crimes like murder. Nevertheless, the Holocaust is universally recognized to have been a genocide and the term, that had been coined the year before by Raphael Lemkin, appeared in the indictment of the 24 Nazi leaders, Count 3, which stated that all the defendants had \"conducted deliberate and systematic genocide—namely, the extermination of racial and national groups...\"\n",
      "\n",
      "\n"
     ]
    }
   ],
   "source": [
    "query = \"Between 1973 and 2015, how amny prisoners were acquitted or received pardons or commutations of their death sentences due to possible innocence?\"\n",
    "retrieved_doc_ids = infersent(query, infersent_summary, infersent_summary_embeddings)\n",
    "\n",
    "print(retrieved_doc_ids)\n",
    "print()\n",
    "retrieved_paras = []\n",
    "for idx, val in enumerate(retrieved_doc_ids, start=1):\n",
    "    para = df[df['context_id'] == val]['context'].values[0]\n",
    "    print(f\"{idx}. {para}\\n\")\n",
    "    print()"
   ]
  },
  {
   "cell_type": "markdown",
   "metadata": {},
   "source": [
    "## Model 12: Para FAISS"
   ]
  },
  {
   "cell_type": "code",
   "execution_count": 562,
   "metadata": {},
   "outputs": [],
   "source": [
    "para_question_pairs = df.loc[:, ['cleaned_lowercase_nostop', 'question']]\n",
    "para_corpus = para_question_pairs['cleaned_lowercase_nostop'].tolist()\n",
    "para_corpus = list(np.unique(para_corpus))"
   ]
  },
  {
   "cell_type": "code",
   "execution_count": 563,
   "metadata": {},
   "outputs": [],
   "source": [
    "def most_similar(word, topn=5):\n",
    "    word = nlp.vocab[str(word)]\n",
    "    queries = [\n",
    "      w for w in word.vocab \n",
    "      if w.is_lower == word.is_lower and w.prob >= -15 and np.count_nonzero(w.vector)\n",
    "    ]\n",
    "\n",
    "    by_similarity = sorted(queries, key=lambda w: word.similarity(w), reverse=True)\n",
    "    return [(w.lower_,w.similarity(word)) for w in by_similarity[:topn+1] if w.lower_ != word.lower_]"
   ]
  },
  {
   "cell_type": "code",
   "execution_count": 564,
   "metadata": {},
   "outputs": [],
   "source": [
    "from sentence_transformers import SentenceTransformer\n",
    "import scipy.spatial\n",
    "embedder = SentenceTransformer('bert-base-nli-mean-tokens')"
   ]
  },
  {
   "cell_type": "code",
   "execution_count": 565,
   "metadata": {},
   "outputs": [
    {
     "name": "stdout",
     "output_type": "stream",
     "text": [
      "Wall time: 5min 20s\n"
     ]
    }
   ],
   "source": [
    "%%time\n",
    "para_faiss_embeddings = embedder.encode(para_corpus)"
   ]
  },
  {
   "cell_type": "code",
   "execution_count": 573,
   "metadata": {},
   "outputs": [
    {
     "ename": "ModuleNotFoundError",
     "evalue": "No module named 'faiss'",
     "output_type": "error",
     "traceback": [
      "\u001b[1;31m---------------------------------------------------------------------------\u001b[0m",
      "\u001b[1;31mModuleNotFoundError\u001b[0m                       Traceback (most recent call last)",
      "\u001b[1;32m<ipython-input-573-fc4f2f454cf4>\u001b[0m in \u001b[0;36m<module>\u001b[1;34m\u001b[0m\n\u001b[0;32m      1\u001b[0m \u001b[1;31m# Candidate Genration using Faiss vector similarity search library\u001b[0m\u001b[1;33m\u001b[0m\u001b[1;33m\u001b[0m\u001b[1;33m\u001b[0m\u001b[0m\n\u001b[1;32m----> 2\u001b[1;33m \u001b[1;32mimport\u001b[0m \u001b[0mfaiss\u001b[0m\u001b[1;33m\u001b[0m\u001b[1;33m\u001b[0m\u001b[0m\n\u001b[0m\u001b[0;32m      3\u001b[0m \u001b[0md\u001b[0m \u001b[1;33m=\u001b[0m \u001b[1;36m768\u001b[0m\u001b[1;33m\u001b[0m\u001b[1;33m\u001b[0m\u001b[0m\n\u001b[0;32m      4\u001b[0m \u001b[0mindex\u001b[0m \u001b[1;33m=\u001b[0m \u001b[0mfaiss\u001b[0m\u001b[1;33m.\u001b[0m\u001b[0mIndexFlatL2\u001b[0m\u001b[1;33m(\u001b[0m\u001b[0md\u001b[0m\u001b[1;33m)\u001b[0m\u001b[1;33m\u001b[0m\u001b[1;33m\u001b[0m\u001b[0m\n\u001b[0;32m      5\u001b[0m \u001b[0mprint\u001b[0m\u001b[1;33m(\u001b[0m\u001b[0mindex\u001b[0m\u001b[1;33m.\u001b[0m\u001b[0mis_trained\u001b[0m\u001b[1;33m)\u001b[0m\u001b[1;33m\u001b[0m\u001b[1;33m\u001b[0m\u001b[0m\n",
      "\u001b[1;31mModuleNotFoundError\u001b[0m: No module named 'faiss'"
     ]
    }
   ],
   "source": [
    "# Candidate Genration using Faiss vector similarity search library\n",
    "import faiss\n",
    "d = 768\n",
    "index = faiss.IndexFlatL2(d)\n",
    "print(index.is_trained)\n",
    "index.add(np.stack(corpus_embeddings, axis=0))\n",
    "print(index.is_trained)\n",
    "print(index.ntotal)"
   ]
  },
  {
   "cell_type": "code",
   "execution_count": null,
   "metadata": {},
   "outputs": [],
   "source": [
    "# queries = ['What is the step by step guide to invest in share market in india?', 'How can Internet speed be increased by hacking through DNS?']\n",
    "orig_query = \"What is another name for the governing body of ministers?\"\n",
    "query = orig_query.lower()\n",
    "query = clean_lowercase_nostop(query)\n",
    "queries = [query]\n",
    "query_embeddings = embedder.encode(queries)"
   ]
  },
  {
   "cell_type": "code",
   "execution_count": null,
   "metadata": {},
   "outputs": [],
   "source": [
    "def faiss(query, embedder, faiss_index):\n",
    "    query = clean_query_nolem(query)\n",
    "    queries = [query]\n",
    "    query_embeddings = embedder.encode(queries)\n",
    "    k = 5\n",
    "    for query, query_embedding in zip(queries, query_embeddings):\n",
    "        distances, indices = index.search(np.asarray(query_embedding).reshape(1,768),k)\n",
    "        print(\"\\n======================\\n\")\n",
    "        print(\"Query:\", query)\n",
    "        print(\"\\nTop 5 most similar sentences in corpus:\")\n",
    "        for idx in range(0,5):\n",
    "            print(corpus[indices[0,idx]], \"(Distance: %.4f)\" % distances[0,idx])\n",
    "    result = []\n",
    "    for idx in range(0,5):\n",
    "        result.append(df.iloc[indices[0,idx]]['context_id'])\n",
    "    \n",
    "    return result"
   ]
  },
  {
   "cell_type": "code",
   "execution_count": null,
   "metadata": {},
   "outputs": [],
   "source": []
  },
  {
   "cell_type": "code",
   "execution_count": null,
   "metadata": {},
   "outputs": [],
   "source": []
  },
  {
   "cell_type": "code",
   "execution_count": null,
   "metadata": {},
   "outputs": [],
   "source": []
  },
  {
   "cell_type": "code",
   "execution_count": null,
   "metadata": {},
   "outputs": [],
   "source": []
  },
  {
   "cell_type": "code",
   "execution_count": null,
   "metadata": {},
   "outputs": [],
   "source": []
  },
  {
   "cell_type": "code",
   "execution_count": null,
   "metadata": {},
   "outputs": [],
   "source": []
  },
  {
   "cell_type": "code",
   "execution_count": null,
   "metadata": {},
   "outputs": [],
   "source": []
  },
  {
   "cell_type": "code",
   "execution_count": null,
   "metadata": {},
   "outputs": [],
   "source": []
  },
  {
   "cell_type": "code",
   "execution_count": null,
   "metadata": {},
   "outputs": [],
   "source": []
  },
  {
   "cell_type": "markdown",
   "metadata": {},
   "source": [
    "## Model 13: Summary FAISS"
   ]
  },
  {
   "cell_type": "code",
   "execution_count": null,
   "metadata": {},
   "outputs": [],
   "source": []
  },
  {
   "cell_type": "code",
   "execution_count": null,
   "metadata": {},
   "outputs": [],
   "source": []
  },
  {
   "cell_type": "code",
   "execution_count": null,
   "metadata": {},
   "outputs": [],
   "source": []
  },
  {
   "cell_type": "code",
   "execution_count": null,
   "metadata": {},
   "outputs": [],
   "source": []
  },
  {
   "cell_type": "code",
   "execution_count": null,
   "metadata": {},
   "outputs": [],
   "source": []
  },
  {
   "cell_type": "markdown",
   "metadata": {},
   "source": [
    "## Model Evaluation"
   ]
  },
  {
   "cell_type": "code",
   "execution_count": 428,
   "metadata": {},
   "outputs": [
    {
     "data": {
      "text/plain": [
       "{'In what year did New York become the United States capital?': 3196,\n",
       " \"Who was the United States' first President?\": 3196,\n",
       " 'In what building did the Supreme Court of the United States first sit?': 3196,\n",
       " 'On what street did the writing of the Bill of Rights occur?': 3196,\n",
       " 'What was the second largest city in the United States in 1790?': 3196,\n",
       " 'Which organization made New York the national capital in 1785?': 3196,\n",
       " 'New York City became the first what under the new Constitution of the United States?': 3196,\n",
       " 'The first president, George Washington, took office in what year?': 3196,\n",
       " 'By which year, did New York City become the largest city in the United States?': 3196,\n",
       " 'What individual established the National Review?': 3280,\n",
       " 'In what year was the National Review founded?': 3280,\n",
       " 'What public figure defended New York in January 2016?': 3280,\n",
       " 'A presidential candidate from what party derided the city for its liberalism?': 3280,\n",
       " 'The largest police presence in the US is NYPD with how many people?': 3629,\n",
       " 'NYPD officers have a nickname that is known as what?': 3629,\n",
       " 'What does the acronym NYPD stand for?': 3629,\n",
       " 'About how many police work for the NYPD?': 3629,\n",
       " 'What is the nickname given to New York City Police Department officers?': 3629,\n",
       " 'How many members are on the NYC city council?': 3794,\n",
       " 'How many terms can the mayjor of NYC serve in total?': 3794,\n",
       " \"What is the duration of a New York City councilperson's term?\": 3794,\n",
       " 'How many councilors sit on the City Council?': 3794,\n",
       " 'How many terms in a row can a person serve as mayor?': 3794,\n",
       " 'What is the official journal of New York City?': 3794,\n",
       " 'If someone serves three consecutive terms as mayor and wants to run again, how many years must they wait?': 3794,\n",
       " 'Which political party holds the majority of most office terms in NYC?': 3801,\n",
       " 'In 2008, what percentage of voters were democrats?': 3801,\n",
       " 'Which US president became the first to receive over 80 percent of NYC votes?': 3801,\n",
       " 'What was the last year that a republican candidate won all four boroughs of NYC?': 3801,\n",
       " 'Which president won all of NYC in 1924?': 3801,\n",
       " 'What party are most public officials of New York members of?': 3801,\n",
       " 'In November 2008, how many New Yorkers were registered as Democrats?': 3801,\n",
       " 'In what year was the last presidential election when a Republican won New York City?': 3801,\n",
       " 'How many boroughs did Barack Obama win in the 2012 presidential election?': 3801,\n",
       " 'What political party was Calvin Coolidge a member of?': 3801,\n",
       " 'What percent reduction of greenhouse gases does Mayor de Blasio want to see by 2050?': 3871,\n",
       " 'What is the name of a notable green office building in New York?': 3871,\n",
       " 'What legal case sought to compel the Environmental Protection Agency to regular greenhouse gases?': 3871,\n",
       " 'What numbered department of the Supreme Court is located in Brooklyn?': 3879,\n",
       " 'In what borough is the Appellate Division of the Supreme Court located?': 3879,\n",
       " 'What branch of government are the administrative courts a part of?': 3879,\n",
       " 'Four-fifths of the ZIP codes that provide the highest amount of political contributions in the United States are located in what borough?': 3887,\n",
       " 'What ZIP code was responsible for the greatest amount of contributions in the 2004 presidential election for both candidates?': 3887,\n",
       " 'How much money in cents does New York City receive for every dollar paid in federal taxes?': 3887,\n",
       " 'How much more money does the city give to the state of New York annually than it receives?': 3887,\n",
       " 'Each year, how much more money does New York City give to the federal government than it gets back?': 3887,\n",
       " \"Atticus Finch's integrity has become a model for which job?\": 4034,\n",
       " 'Atticus Finch is a model of what for legal professionals?': 4034,\n",
       " \"What famous governor signed legislation in honor of Donda West's death?\": 4732,\n",
       " 'What governor passed a law in honor of Donda West?': 4732,\n",
       " 'What was the name of the law passed by Arnold Schwarzenegger?': 4732,\n",
       " 'What paparazzi member did Kanye attack at LAX in 2013?': 4751,\n",
       " 'What was Kanye convicted for after his paparazzi attack?': 4751,\n",
       " 'What was the name of the man who was hassling West outside of LAX that West later attacked?': 4751,\n",
       " \"How many years' probation was Kanye supposed to serve for this altercation?\": 4751,\n",
       " 'He had to attend 24 sessions of what kind of therapy?': 4751,\n",
       " 'How many hours of community service did Kanye receive?': 4751,\n",
       " 'Who won season two of American Idol? ': 6005,\n",
       " 'Who came in second on season two of American Idol? ': 6005,\n",
       " 'What year did Vote for the Worst cease operations? ': 6005,\n",
       " 'How many more text votes were there in season eight of American Idol over season seven? ': 6005,\n",
       " 'Which season had the biggest voting controversy?': 6005,\n",
       " 'Which season had a voting controversy because of a huge increase in text votes?': 6005,\n",
       " 'Which voting concern has been present since the first season?': 6005,\n",
       " 'When did Vote for the Girls start?': 6005,\n",
       " 'When did Vote for the Worst close?': 6005,\n",
       " 'Who was made Secretary of State for Education in 1970?': 7221,\n",
       " 'What kind of school did Thatcher end the compulsion for existing schools to convert to?': 7221,\n",
       " 'What party was in power when Margaret Thatcher was made Secretary of State for Education?': 7221,\n",
       " 'What language was spoken in the area that became the Congo?': 7245,\n",
       " 'When did the Congo gain its independence from colonial rule?': 7245,\n",
       " 'Who is the ruler of the Congo?': 7245,\n",
       " 'What title does Nguesso hold?': 7245,\n",
       " 'Which politican left the presidential race after supporting a boycott by voters?': 7298,\n",
       " 'How long did the presidential term become under the new constitution?': 7298,\n",
       " 'When was the new constitution ratified?': 7298,\n",
       " \"When was an end brought to the fighting between the government and Ntumi's rebels?\": 7298,\n",
       " 'Who won the presidential election in 2009?': 7302,\n",
       " 'Which group provided oversight for the electoral process in 2009?': 7302,\n",
       " 'What kind of turnout did the Congolese Observatory of Human Rights experience in the 2009 elections?': 7302,\n",
       " \"What kind of political system has existed in Congo-Brazzaville since the '90s?\": 7305,\n",
       " 'Which party does Sassou belong to?': 7305,\n",
       " \"What is the French term for Sassou's political party?\": 7305,\n",
       " \"What has Sassou's regime attempted to censor?\": 7308,\n",
       " 'What country found bank accounts and real estate owned by the Sassou regime?': 7308,\n",
       " 'When did Sassou reveal that there would be a vote to alter the 2002 constitution?': 7310,\n",
       " 'Which term did the new constitution allow Sassou to pursue?': 7310,\n",
       " 'What branch of government does the prime minister lead?': 7385,\n",
       " 'What group is the prime minister usually in charge of?': 7385,\n",
       " 'In some political models like semi-presidential systems, what does the prime minister manage?': 7385,\n",
       " 'What is a parliamentary model on which other systems have been based?': 7388,\n",
       " 'What kind of role is the head of state in Westminster-based parliamentary governments?': 7388,\n",
       " 'What is a central duty of the prime minister?': 7390,\n",
       " 'What is it called when a monarch has a share of executive powers?': 7390,\n",
       " 'Using royal prerogative does not require the consent of which body?': 7390,\n",
       " 'What are two other job titles of the Prime Minister of the  UK?': 7393,\n",
       " 'In addition to being Prime Minister, what other role did Winston Churchill serve during World War II?': 7393,\n",
       " 'When was the title of prime minister first used?': 7395,\n",
       " 'Who coined the term prime minister?': 7395,\n",
       " 'What country did Richelieu serve as prime minister for?': 7395,\n",
       " 'Who started a tradition of naming the head ministers something other than prime minister?': 7395,\n",
       " 'Who occupied the role that would later become prime minister under Henry VIII?': 7401,\n",
       " 'Who held the equivalent of the post of prime minister under Queen Anne?': 7401,\n",
       " 'Who served as the head minister under Charles II?': 7401,\n",
       " 'From whom did ministers derive their power?': 7404,\n",
       " 'Who was responsible for naming people to serve in the cabinet?': 7404,\n",
       " 'Who are the two ministers used by Queen Anne simultaneously?': 7406,\n",
       " 'Who was exiled when he lost the favor of the monarch?': 7406,\n",
       " 'What 1688 event helped the parliament solidy its power against the monarch?': 7408,\n",
       " \"What 1689 law contributed to parliament's growing power?\": 7408,\n",
       " 'What body was incorporated into the government as a result of the Bill of Rights?': 7408,\n",
       " 'For how long did Robert Walpole serve as prime minister?': 7414,\n",
       " 'What party did Walpole belong to?': 7414,\n",
       " \"What concept took shape during Walpole's tenure as prime minister?\": 7414,\n",
       " 'What would a minister have to do if he did not publicly support a cabinet policy?': 7414,\n",
       " 'Who is another prime minister who reiterated the principles of cabinet solidarity?': 7414,\n",
       " 'Aside from Walpole, who else denied that there was no such thing as the prime minister?': 7419,\n",
       " 'Which kings tried to get power back to the monarchy?': 7419,\n",
       " 'During whose government did prime minister first see use on official state documents?': 7419,\n",
       " 'When was the position of prime minister finally formalized?': 7419,\n",
       " 'In the U.S. and governments modeled on it, who holds executive power?': 7423,\n",
       " 'Which non-elected official has held the longest term as prime minister?': 7424,\n",
       " 'When did Khalifa first take the post of prime minister?': 7424,\n",
       " 'What country does Khalifah serve for as prime minister?': 7424,\n",
       " \"What is the term for the head of China's government?\": 7429,\n",
       " 'What is another name for the Republic of China?': 7429,\n",
       " 'Whose consent is not required for the Taiwanese premier to take office?': 7429,\n",
       " 'What is the term for a situation in which the president and prime minister come from different political parties?': 7432,\n",
       " 'What can the French parliament cause in order to oust the prime minister?': 7432,\n",
       " 'Which constitution details the role and abilities of the prime minister?': 7434,\n",
       " 'What other considerations are included in the constitution of Bangladesh as regards the prime minister?': 7434,\n",
       " 'Which law first referred to the prime minister in Canada?': 7438,\n",
       " 'When was the Constitution Act passed?': 7438,\n",
       " 'The Constitution Act mentions the prime minister in the context of which kinds of other ministers?': 7438,\n",
       " 'What document details the role and abilities given to the prime minister of the Czech Republic?': 7441,\n",
       " 'When was prime minister first mentioned in a government document in the UK?': 7442,\n",
       " 'Who was the last prime minister to serve simultaneously as Chancellor of the Exchequer?': 7442,\n",
       " 'When did Balfour last hold the titles of prime minister and Chancellor of the Exchequer?': 7442,\n",
       " 'Which prime minister was appointed only one time?': 7445,\n",
       " 'When was Thatcher appointed prime minister?': 7445,\n",
       " 'When did Thatcher last hold power?': 7445,\n",
       " 'What did Margaret Thatcher reconfigure following each general election?': 7445,\n",
       " 'What is the name of the prime ministerial position in Ireland?': 7449,\n",
       " 'From where is the Irish prime minister usually selected?': 7449,\n",
       " 'When is the Irish Taoiseach renominated?': 7449,\n",
       " 'Most parliamentary governments need to have the support of what governmental body?': 7452,\n",
       " 'Which political division does not often utilize its power, if it has any?': 7452,\n",
       " 'What kind of referendum can the lower house of parliament take against the government?': 7452,\n",
       " 'Who can put a stop the parliamentary attempts at dissovling itself in some areas?': 7455,\n",
       " 'If the head of state prevents the dissolution of parliament, what needs to happen?': 7455,\n",
       " 'In contemporary parliamentary governments, which official is usually in charge of asking parliament to dissolve?': 7455,\n",
       " 'When was the convention of prime ministers initiating the dissolution of parliament started?': 7458,\n",
       " 'In Ireland, when was the power to dissolve parliament assigned to the prime minister?': 7458,\n",
       " 'The 1922 Irish Free State Constitution previously gave what body the power to dissolve parliament?': 7458,\n",
       " 'What was the Executive Council an alternate name for?': 7458,\n",
       " 'What process signals the need for the prime minister to resign in Australia?': 7462,\n",
       " 'What is the Russian term for prime minister?': 7463,\n",
       " 'What is the Israeli term for prime minister?': 7463,\n",
       " 'What is the term used in spain for prime minister?': 7463,\n",
       " 'What is the Irish term for prime minister?': 7463,\n",
       " 'What is the Italian term for the prime minister?': 7467,\n",
       " 'What is the native term for prime minister in Scandinavia?': 7467,\n",
       " 'What is a term that is used to mean prime minister?': 7469,\n",
       " 'Which countries use the term chancellor to denote the head of government?': 7469,\n",
       " \"What is the head of Monaco's government called?\": 7469,\n",
       " 'What is the term for the highest position in government in Vatican City?': 7469,\n",
       " \"What is the head of Iran's government called?\": 7469,\n",
       " 'What kind of government is in operation in the United Kingdom?': 7478,\n",
       " 'What are the heads of government in Wales, Scotland and Northern Ireland called?': 7478,\n",
       " 'What is the Indian term for Prime Minister?': 7478,\n",
       " 'What is the term for prime minister in Pakistan?': 7478,\n",
       " 'What does Wazir-e-Azam mean in English?': 7478,\n",
       " \"What is the head of government's office called in Canada?\": 7483,\n",
       " \"What is the head of government's office called in the UK?\": 7483,\n",
       " \"What's the only polytechnic school in New Zealand to be designated a university?\": 7589,\n",
       " 'What does Telewizja Polska operate?': 7685,\n",
       " \"What is EchoStar's platform?\": 7685,\n",
       " \"Which judge denied Telewizja Polska's attempt to block the use of Internet Archive contents as evidence?\": 7685,\n",
       " \"Which judge overturned Keys' ruling?\": 7685,\n",
       " 'In what year was the Union of Utrecht signed?': 7727,\n",
       " 'Who signed the Union of Utrecht?': 7727,\n",
       " 'What was the declaration of independence of the provinces from Philip II called?': 7727,\n",
       " 'In what year was the Act of Abjuration signed?': 7727,\n",
       " 'What was the purpose of the Union of Utrecht?': 7727,\n",
       " 'What was the 8th province of the Dutch Republic?': 7755,\n",
       " 'Why was the County of Drenthe denied representation by the States General?': 7755,\n",
       " 'The main executive official of the Provincial States was called what?': 7755,\n",
       " 'Who had more power during times of war than the raadspensionaris?': 7755,\n",
       " 'Who commanded the army?': 7755,\n",
       " 'Who was influenced by the Constitution of the Republic of the United Provinces?': 7770,\n",
       " 'Who described the Dutch confederacy as exhibiting \"Imbecility in the government; discord among the provinces; foreign influence and indignities; a precarious existence in peace, and peculiar calamities from war.\"': 7770,\n",
       " 'The American Declaration of Independence is similar to what?': 7770,\n",
       " 'What determines who is the Commander-in-Chief of the Armed forces?': 7950,\n",
       " 'Who does the Commander-in-Chief authorize to make decision regarding the Armed Forces for them?': 7950,\n",
       " 'What orders fall under the royal prerogative?': 7950,\n",
       " 'Who must sign these orders for them to be valid?': 7950,\n",
       " \"Who's advice is the monarch supposed to follow regarding these orders?\": 7950,\n",
       " 'Who is the only person who can judge a Cardinal in regards to laws of the church?': 8104,\n",
       " 'Which political practice did Montesquieu originate?': 8352,\n",
       " 'How many divisions of the government did Montesquieu call for?': 8352,\n",
       " 'What document was greatly informed by the idea of separation of powers?': 8352,\n",
       " 'What kind of oversight does the separation of powers help to promote?': 8352,\n",
       " 'What was the doctrine called that allowed the three branches of government to check the powers of each other?': 8352,\n",
       " 'Which Enlightenment thinker supported the idea of separation of powers?': 8357,\n",
       " 'Which Enlightenment thinker was against the separation of powers?': 8357,\n",
       " 'Who was a leading advocate of dividing government into different branches?': 8357,\n",
       " \"Whose thoughts were impacted by Montesquieu's philosophy?\": 8357,\n",
       " 'Who was an advocate of separation of powers?': 8357,\n",
       " 'Who was an opponent of separation of powers?': 8357,\n",
       " \"Who's writing were very influential on the design of the United States Constitution?  \": 8357,\n",
       " \"What country's government, on which the US government was modeled, did not formally implement separation of powers?\": 8364,\n",
       " 'What were the two main principles informing the government of the UK?': 8364,\n",
       " 'What term describes the status of the different branches of government in Maryland, Virginia, North Carolina and Georgia?': 8364,\n",
       " \"What country's government served as a model for the United States Government?\": 8364,\n",
       " 'In the 18th century what function, besides President, did the Delaware President serve? ': 8364,\n",
       " 'What is the only branch of U.S. government imbued with lawmaking abilities?': 8369,\n",
       " 'Which court case upheld the rule of nondelegation?': 8369,\n",
       " 'When was Clinton v. City of New York decided by the Supreme Court?': 8369,\n",
       " 'In the US who has the sole power to pass legislation?': 8369,\n",
       " 'What is the doctrine called that does not allow congress to pass on their power to pass laws to any other agency?': 8369,\n",
       " 'What was the court case that struck down the line item veto?': 8369,\n",
       " 'What year was Clinton v. City of New York decided by the supreme court?': 8369,\n",
       " 'What was one of the first times the Supreme Court tried a case regarding nondelegation?': 8376,\n",
       " 'In what year was Wayman v. Southard tried by the U.S. Supreme Court?': 8376,\n",
       " 'Who was Chief Justice of the Supreme Court when Wayman v. Southard reached the Supreme Court?': 8376,\n",
       " 'In Wayman v. Southard, what branch was accused of being given lawmaking abilities by Congress?': 8376,\n",
       " 'What is the name of the 1825 case where the supreme court held that congress could delegate their responsibilities to the court?': 8376,\n",
       " 'Who was chief justice of the supreme court under the Wayman v. Southard ruling?': 8376,\n",
       " 'When was the first time that a Congressional attempt at delegating lawmaking responsibility was found to be in violation of the Constitution?': 8382,\n",
       " 'The establishment of what body was the subject of A.L.A. Schechter Poultry Corp. v. United States?': 8382,\n",
       " 'In what year was A.L.A. Schechter v. United States tried before the Supreme Court?': 8382,\n",
       " 'In what year did the supreme court determine that delegating powers by congress was unconstitutional?': 8382,\n",
       " 'What was the supreme court case that was determined that congress could not allow the President to determine fair competition?': 8382,\n",
       " 'Which branches of the national military does the U.S. president command?': 8387,\n",
       " \"Whose approval is required for the president's appointees to take office?\": 8387,\n",
       " 'What is a Congressional means of removing presidential appointees?': 8387,\n",
       " 'What term can characterize the status of bodies like the War Claims Commission and the Interstate Commerce Commission?': 8387,\n",
       " 'Which of the three branches has the duty of Commander and Chief?': 8387,\n",
       " 'Who has the authority to make treaties?': 8387,\n",
       " 'What is it called when congress terminates an appointment of the President?': 8387,\n",
       " 'Who has over-sight of the Federal Trade Commission?': 8387,\n",
       " 'To what does congress attempt to limit executive officials?': 8395,\n",
       " 'What court case affirmed the mandates of the first and seventh sections of Article I of the Constitution?': 8395,\n",
       " 'When was INS v Chadha tried before the Supreme Court?': 8395,\n",
       " 'By what margin can congress over ride a Presidential veto?': 8395,\n",
       " 'In what branch is the ability to try legal cases placed?': 8399,\n",
       " 'Who nominates justices for the U.S. Supreme Court?': 8399,\n",
       " 'Who must approve presidential appointees to the Supreme Court?': 8399,\n",
       " 'What is the term for judicial institutions exercising their power?': 8399,\n",
       " 'What is the power given to the supreme court and lower courts called?': 8399,\n",
       " 'Who appoints a judge?': 8399,\n",
       " 'Who gives the President advice and consent for a judge appointment?': 8399,\n",
       " 'What kind of courts did congress establish?': 8406,\n",
       " 'What power are legislative courts not allowed to exercise?': 8406,\n",
       " 'Who can determine a date of adjournment if congress cannot agree?': 8408,\n",
       " 'Who can call congress into emergency session?': 8408,\n",
       " 'Who serves as president of the Senate?': 8408,\n",
       " 'Who has the power to issue a pardon?': 8411,\n",
       " 'Who has the power to issue a reprieve? ': 8411,\n",
       " 'Who is the commander and chief of the Army?': 8413,\n",
       " 'Who has the power to declare ware?': 8413,\n",
       " 'Who has the responsibility to confirm Generals and Admirals?': 8413,\n",
       " 'Who is responsible for judicial review?': 8416,\n",
       " 'What is the court case that established judicial review?': 8416,\n",
       " 'Which courts decisions are binding across the entire United States?': 8418,\n",
       " 'Who can limit judicial review of a law?': 8419,\n",
       " \"Who's judicial power does congress have the right to limit?\": 8419,\n",
       " 'Who presides over an impeachment trial?': 8421,\n",
       " 'Who wrote that the legislative branch was the predominate branch of government?': 8422,\n",
       " 'In which Federalist paper did James Madison state that the legislative branch of government was predominate?': 8422,\n",
       " 'Immediately following the civil war which branch of government was seen to have the greater amount of power?': 8424,\n",
       " 'How many bills did George Washington veto?': 8425,\n",
       " 'How many bills did James Monroe veto?': 8425,\n",
       " 'How many bills did Andrew Jackson veto': 8425,\n",
       " 'Who was the seventh President of the United States?': 8425,\n",
       " \"How many of Andrew Johnson's veto's were over turned by Congress\": 8429,\n",
       " 'What act did congress pass that gave the senate the right to approve the dismissal of a cabinet official?': 8429,\n",
       " 'Who was the first president to veto over 400 bills?': 8431,\n",
       " 'Under which President was the Tenure of Office Act repealed? ': 8431,\n",
       " 'Which President attempted to pack the supreme court?': 8433,\n",
       " 'Who had granted Franklin Roosevelt sweeping authority during the great depression?': 8433,\n",
       " 'Under what basis did Richard Nixon assert an expansion of the power of the President?': 8435,\n",
       " 'Who has congress delegated the responsibility of establishing the rules of conduct for the courts to? ': 8437,\n",
       " 'Who may license and regulate attorneys in Florida?': 8438,\n",
       " 'Who sets the procedures to be followed in the Florida court system?': 8438,\n",
       " \"What year marked the end of Schwarzenegger's second term in the governor's office?\": 8904,\n",
       " 'What political party did Schwarzenegger belong to?': 8904,\n",
       " 'What governor did Schwarzenegger replace?': 8904,\n",
       " \"What date marked the start of Schwarzenegger's second gubernatorial term?\": 8904,\n",
       " 'In what year did Schwarzenegger speak at the Republican National Convention?': 9000,\n",
       " \"What was the title of the anti-drug music video Schwarzenegger appeared in under the Reagan administration's sponsorship?\": 9001,\n",
       " 'In what presidential election year did Schwarzenegger make a name for himself as a prominent Republican?': 9001,\n",
       " 'Which candidate did Schwarzenegger appear with at a presidential campaign rally?': 9001,\n",
       " 'What nickname did George H.W. Bush give to Schwarzenegger?': 9004,\n",
       " 'What percentage of the October 2003 vote was in favor of a recall?': 9009,\n",
       " \"Who was Schwarzenegger's closest rival in the gubernatorial race of 2003?\": 9009,\n",
       " 'By about what number of votes did Schwarzenegger win the 2003 recall election in California?': 9009,\n",
       " \"What percentage of the vote did Schwarzenegger's opponent Bustamante receive?\": 9009,\n",
       " 'Who was the first governor of California who had been born in a foreign country?': 9009,\n",
       " 'What politician threatened to start working to recall Schwarzenegger right after he was elected?': 9014,\n",
       " 'What Saturday Night Live sketch was Schwarzenegger referencing when he called opposing politicians \"girlie men\"?': 9014,\n",
       " 'In what month of 2005 did Schwarzenegger hold a special election?': 9016,\n",
       " \"How many of Schwarzenegger's ballot initiatives were defeated in the special election of 2005?\": 9016,\n",
       " 'Who did Schwarzenegger choose as Chief of Staff?': 9018,\n",
       " 'In the 2006 gubernatorial election, who did Schwarzenegger run against?': 9019,\n",
       " 'Which city was Gavin Newsom mayor of when he said Schwarzenegger was turning Democrat?': 9019,\n",
       " 'What political office did people speculate Schwarzenegger might try for in 2010?': 9021,\n",
       " 'What author claimed Schwarzenegger is power-obsessed?': 9022,\n",
       " \"What's Schwarzenegger's father-in-law's name?\": 9022,\n",
       " 'Schwarzenegger shows up as the President of the United States in what 2007 animated movie?': 9022,\n",
       " 'Who did Schwarzenegger finally endorse in the 2008 Republican primary?': 9027,\n",
       " 'Which candidate withdrew from the presidential race in January of 2008?': 9027,\n",
       " 'On which two major issues did McCain and Schwarzenegger publicly agree?': 9027,\n",
       " 'Who sued Schwarzenegger and two of his employees for libel, settling in 2006?': 9039,\n",
       " 'What movie was Schwarzenegger promoting when the alleged incident took place?': 9039,\n",
       " \"What paper did Richardson claim was used by Schwarzenegger's publicist and aide to discredit her?\": 9039,\n",
       " 'What article, section, and clause of the Constitution requires U.S. presidents to be natural-born citizens?': 9052,\n",
       " 'In 2013, what newspaper claimed Schwarzenegger was considering a presidential campaign?': 9052,\n",
       " 'Michael Dorf is a law professor at what school?': 9052,\n",
       " 'Who was the first woman MP to take her seat in the British Parliament?': 9204,\n",
       " 'For what constituency was Nancy Astor elected?': 9204,\n",
       " 'On what date did Plymouth become a city?': 9204,\n",
       " 'In what year did Plymouth receive its first Lord Mayor?': 9204,\n",
       " 'What parish was incorporated into Plymouth in 1967?': 9204,\n",
       " 'What constituency did MP Michael Foot represent?': 9209,\n",
       " 'What position was Michael Foot noted to occupy in government?': 9209,\n",
       " 'What notable piece of legislation did Michael Foot contribute to?': 9209,\n",
       " 'What party did Michael Foot become a leader of?': 9209,\n",
       " 'In what town was Michael Foot born?': 9209,\n",
       " 'How many wards in Plymouth elect two councillors?': 9223,\n",
       " 'How many members are on the Plymouth council?': 9223,\n",
       " 'What fraction of the Plymouth council is elected each year?': 9223,\n",
       " 'With what French city is Plymouth twinned?': 9223,\n",
       " 'In what year did Plymouth twin with Plymouth in the United States?': 9223,\n",
       " 'What monarch bestowed the first Lord Mayor on Plymouth?': 9228,\n",
       " 'How many councillors choose the Lord Mayor?': 9228,\n",
       " 'What officeholder selects the Deputy Lord Mayor?': 9228,\n",
       " 'Who is the current Lord Mayor of Plymouth?': 9228,\n",
       " 'When were six employees found dead in a restaurants freezer?': 9916,\n",
       " 'When was Roger Dale Stafford executed?': 9916,\n",
       " 'Which government official blocked funding to the UNFPA?': 10255,\n",
       " 'What was the name of the official who blocked UNFPA funding?': 10255,\n",
       " 'How much funding was blocked?': 10255,\n",
       " 'Which branch of government denied the UNFPA funding?': 10255,\n",
       " 'How had the UNFPA funding been initially approved?': 10255,\n",
       " 'Who was demoted on February 8, 1955?': 10404,\n",
       " 'To what position was Malenkov demoted?': 10404,\n",
       " 'What position was held by Nikita Khrushchev?': 10404,\n",
       " 'Who benefited from the demotion of Malenkov?': 10404,\n",
       " 'What was the government of the RSFSR called up to 1946?': 10441,\n",
       " 'What was the RSFSR government called starting in 1946?': 10441,\n",
       " 'When the Soviet Union ended in 1991, what was the RSFSR government called?': 10441,\n",
       " 'Who led the first government of the RSFSR?': 10441,\n",
       " 'Who led the final government of the RSFSR?': 10441,\n",
       " \"In 1887 the US Government wanted to undo Bell's patent due to fraud and what?\": 10628,\n",
       " \"The US Government lost the bid to overturn Bell's patent in what court?\": 10628,\n",
       " 'How many years did Bell and the US Government fight in court?': 10628,\n",
       " 'What excuse did the judges have for the trial despite the fact that the patents had expired?': 10628,\n",
       " 'On what date did the US Government stop legal action?': 10628,\n",
       " 'Along with the Inns of Chancery, in what inns did British lawyers historically conduct business?': 10818,\n",
       " 'In what city are the Inns of Chancery located?': 10818,\n",
       " 'Outside England, what other country does the legal system founded around the Inns of Court operate in?': 10818,\n",
       " 'Where is the Red Lion located?': 11090,\n",
       " 'What notable feature of the Red Lion reflects its parliamentary connection?': 11090,\n",
       " 'Who owned the Punch Bowl with Guy Ritchie?': 11090,\n",
       " 'In what district of London was the Punch Bowl located?': 11090,\n",
       " 'What pub was visited by Freddie Mercury?': 11090,\n",
       " 'How many districts is the island of Saint Helena divided into?': 11482,\n",
       " 'What do the districts also serve as?': 11482,\n",
       " 'Who has executive authority in Saint Helena?': 11512,\n",
       " 'Who exercises the authority on behalf of the queen in Saint Helena?': 11512,\n",
       " 'Who is responsible for Defence and Foreign Affairs?': 11512,\n",
       " 'How many seats are in the Legislative Council of Saint Helena?': 11515,\n",
       " 'Who presides over the executive council?': 11515,\n",
       " 'The head of government on the island is who?': 11515,\n",
       " 'When were proposals for a Chief Councillor put on hold?': 11515,\n",
       " \"Who was the Senate's Majority Leader in 1958?\": 11980,\n",
       " 'The National Aeronautics and Space Act was established in what year?': 11980,\n",
       " 'What was NASA called before it became NASA?': 11980,\n",
       " 'The first US satellite was launched on what date?': 11980,\n",
       " 'What are the permanent sources of positive ecclesiastical law?': 12340,\n",
       " 'What are the impermanent sources of positive ecclesiastical law?': 12340,\n",
       " 'What is given to the universal positive law of the Roman Catholic Church by its leader?': 12340,\n",
       " \"What is the pope's official title?\": 12340,\n",
       " 'What three divisions of power often found in government does the pope hold?': 12340,\n",
       " 'What profesional roles from secular law does the Catholic Church also employ?': 12358,\n",
       " 'What is not present in the Catholic legal system as compared with non-religious law?': 12358,\n",
       " 'What does J.C.B. stand for?': 12358,\n",
       " 'What is the English equivalent of the term abbreviated by J.C.B.?': 12358,\n",
       " 'What is the Latin term for Licentiate of Canon Law?': 12358,\n",
       " 'What ancient law served as the precursor to the type of legislation seen in the Roman Catholics?': 12363,\n",
       " 'What word characterizes the type of procedure found in American and British courts?': 12363,\n",
       " 'What term characterizes the type of procedure used in Roman Church courts?': 12363,\n",
       " 'What is the English meaning of inquirere?': 12363,\n",
       " 'What school of thought serves as a model for canon theory?': 12372,\n",
       " 'Which philosopher is quoted by the Catechism?': 12372,\n",
       " 'What word is not specifically given meaning in the Code of the Church?': 12372,\n",
       " 'What does Aquinas define as the aim toward which law is working?': 12372,\n",
       " 'What term expresses the idea of law derived from Aquinas as interpreted by the Catechism?': 12372,\n",
       " 'Prior to 1917, what church was in a similar situation as the Eastern Catholic Churches as regards its legal system?': 12377,\n",
       " 'What was different about the Eastern Churches compared with the Western?': 12377,\n",
       " 'What was still a main factor in the Eastern Church laws?': 12377,\n",
       " 'When did Pius XI announce his goal of codifying the law of all Eastern Churches?': 12377,\n",
       " 'During what time period were the Codes for Eastern Churches made available, prior to the final version?': 12377,\n",
       " 'In what institution do church courts still have relevant functions in secular society?': 12392,\n",
       " 'In what century did Saxons and Normans separate?': 12392,\n",
       " 'What type of law is not found in ecclesiastical systems in the modern day?': 12392,\n",
       " 'At which universities were canon law degrees abolished?': 12392,\n",
       " 'Who was responsible for banning canon law education from Oxford and Cambridge?': 12392,\n",
       " 'What year was the national Communications act enacted?': 12449,\n",
       " 'What Act clears the way for a National Communications Regulator?': 12449,\n",
       " 'What types of stakeholders consulted on the bill to enact the National Communications Act?': 12449,\n",
       " 'The National Communications Act is expected to create and invironment favorable for what?': 12449,\n",
       " 'Continued infrastructure development results in more efficient what?': 12449,\n",
       " \"Since the early 1990's, Boston has had less of what type of crime?\": 13059,\n",
       " 'Boston police and local groups make an effort toprevent youth from doing what?': 13059,\n",
       " 'The Boston Miracle is the name for the reduction in what crime from 1990 to 1999?': 13059,\n",
       " 'What was the murder rate in Boston in 1990?': 13059,\n",
       " 'Where is the John F kennedy Federal office building located?': 13156,\n",
       " 'What court is located in Boston?': 13156,\n",
       " 'What is the name of the famous bank located in Boston?': 13156,\n",
       " 'Boston is split between how many congressional districts?': 13159,\n",
       " 'What district is the North 3/4 of the city located in?': 13159,\n",
       " 'Who represents the 7th district?': 13159,\n",
       " 'What year was Capuano elected?': 13159,\n",
       " 'What district is the South fourth of Boston located in?': 13159,\n",
       " 'In what year did Paramount Pictures purchase DreamWorks?': 13396,\n",
       " 'What Universal chairperson headed DreamWorks as of 2006?': 13396,\n",
       " 'Who became the chairperson in late 2009?': 13396,\n",
       " 'Who was the founder of Universal Partnerships & Licensing?': 13396,\n",
       " 'Who became chairperson of Universal Pictures in September 2013?': 13396,\n",
       " 'Has the world seen many or few changes in the observation of DST?': 13921,\n",
       " 'Countries might change their DST policy by enactments, adjustments, and what other type of policy changes?': 13921,\n",
       " \"Which political supporter of Willett's proposal had already used the half-hour version of DST at Sandringham?\": 13954,\n",
       " 'What was the name of the director of the Meteorological Office who opposed DST?': 13954,\n",
       " 'What year did Parliament first take a vote and decide against implementing daylight savings?': 13954,\n",
       " 'Who was responsible for bringing a bill proposing DST to the U.S. House of Representatives?': 13954,\n",
       " 'What percentage of Queensland voted against the daylight saving referendum in 1992?': 13971,\n",
       " \"What was the name of Queensland's political party set up solely to support their particular DST arrangement?\": 13971,\n",
       " 'In Australia, were rural or urban areas generally more strongly opposed to DST?': 13971,\n",
       " 'What member of Queensland Parliament was responsible for finally bringing the DST for South East Queensland referendum to a vote?': 13971,\n",
       " 'What did the LEAA say was reduced 10% to 13% in Washington, DC during daylight savings?': 14026,\n",
       " 'How many cities did the LEAA study before reaching their conclusion?': 14026,\n",
       " 'How many cities of those the LEAA studied showed any reduction in crime?': 14026,\n",
       " 'In what decade did the LEAA conduct their investigation of crime and DST?': 14026,\n",
       " 'NARA is responsible for what collection of archives?': 14258,\n",
       " 'What independent agency preserves the original copy of executive orders?': 14258,\n",
       " 'What is the official that oversees the operation of NARA?': 14260,\n",
       " 'What member of NARA has the ability to declare when the constitutional threshold of passage has ocurred?': 14260,\n",
       " 'What office publishes the Federal Register?': 14262,\n",
       " 'What office administers the Electoral College?': 14262,\n",
       " 'Which office publishes the Code of Federal Regulations?': 14262,\n",
       " 'Which office publishes the United States Statutes at Large?': 14262,\n",
       " 'OGIS provides what resource for the government and public?': 14269,\n",
       " 'What type of dispute does NARA typically resolve?': 14269,\n",
       " 'NARA is ordered by congress to review what type of policies?': 14269,\n",
       " 'What types of recommendations does NARA provide to congress?': 14269,\n",
       " 'What year was the National Archives Establishment established in?': 14273,\n",
       " 'In what year did NARA become an independent agency?': 14273,\n",
       " 'In what year was The National Archives merged with GSA?': 14273,\n",
       " 'Who was the first Archivist at the National Archives?': 14276,\n",
       " 'When did the first Archivist start at the National Archives?': 14276,\n",
       " 'What branch of the US government established the National Archives?': 14276,\n",
       " 'What commission merged the National Archives with GSA?': 14276,\n",
       " 'The Archivist took on what role after the incorporation of the Nation Archives into GSA?': 14276,\n",
       " 'What year was Executive Order 13526 created?': 14283,\n",
       " 'What Executive order created the National Declassification Center?': 14283,\n",
       " 'What was the aim of Executive Order 13526?': 14283,\n",
       " \"What is the full name for Nanjing's government?\": 14707,\n",
       " 'How many parties rule Nanjing?': 14707,\n",
       " 'What party rules Nanjing?': 14707,\n",
       " 'Who is considered to be the governor of Nanjing?': 14707,\n",
       " 'who is the executive leader of Nanjing, working under the secretary?': 14707,\n",
       " 'Who was the commissioner of the Arena Football League for the first half of 2008?': 14970,\n",
       " 'For how many years did David Baker serve as commissioner of the AFL?': 14970,\n",
       " 'On what date did Baker step down as commissioner of the AFL?': 14970,\n",
       " \"What Arena Football League event occurred two days after Baker's resignation?\": 14970,\n",
       " \"Who temporarily served in the commissioner's post after Baker's departure?\": 14970,\n",
       " 'How does the government of Bern operate?': 15357,\n",
       " 'How many councilors are there?': 15357,\n",
       " \"Who is Bern's mayor, or Stadtprasident?\": 15357,\n",
       " 'How after are the elections?': 15357,\n",
       " 'Where is the executive body held?': 15357,\n",
       " \"Who has the majority of the seats in Bern's City Council?\": 15362,\n",
       " 'What party also had the mayor as of 2015?': 15362,\n",
       " 'What is the Christian Democratic Party also known as?': 15362,\n",
       " 'Who holds the legislative power?': 15365,\n",
       " 'How many members are part of the City Parliament?': 15365,\n",
       " 'How often are elections held for the City Parliament?': 15365,\n",
       " 'Are the sessions of City Parliament private or public?': 15368,\n",
       " 'Which party has the absolute majority of the seats?': 15369,\n",
       " 'How many seats are there?': 15369,\n",
       " 'Which specific party has the most members in the City Parliament?': 15369,\n",
       " 'Where is the national parliment housed?': 15414,\n",
       " 'What is the Federal Palace called?': 15414,\n",
       " 'What is it called when government officials use their power for private gain?': 15654,\n",
       " 'One form of corruption involves the hiring of family members, which is called what?': 15655,\n",
       " 'Another form of corruption, the practice of usury, is called what?': 15655,\n",
       " 'Three forms of corruption that can promote criminal activities include drugs, money laundering, and what?': 15655,\n",
       " 'The repression of what is also considered political corruption?': 15655,\n",
       " 'Which crime costs over one trillion U.S. dollars every year, world-wide?': 15659,\n",
       " 'What does kleptocracy mean?': 15659,\n",
       " 'What does corruption undermine in politics?': 15664,\n",
       " 'What does corruption disregard in politics?': 15664,\n",
       " 'Political corruption in legislature reduces what, overall?': 15664,\n",
       " 'Corruption in what compromises the rule of law?': 15664,\n",
       " 'Corruption in what creates weak provision of services?': 15664,\n",
       " 'Selling or trading government position influence is called what?': 15724,\n",
       " 'Selling influence can involve third-parties and this is called what type of relation?': 15724,\n",
       " 'In some situations the third-party in an influence peddling crime may be not involved or may be what?': 15724,\n",
       " 'Where lobbying is controlled, what does it provide for consideration to determine improper influencing?': 15724,\n",
       " 'What article of the Criminal Law Convention on Corruption contains distinctive criteria to determine improper influence?': 15724,\n",
       " 'What is it called when a person is dishonest or corrupt for his own gain?': 15736,\n",
       " 'Parish pump politics is also called what?': 15736,\n",
       " 'Which crisis in Ireland involved bribery, cronyism and collusion?': 15736,\n",
       " 'Politicians who were at the end of their political careers were offered what kind of position with companies they were involved with politically?': 15736,\n",
       " 'Illegal interference with an election is called what?': 15740,\n",
       " 'Another term for electoral fraud is what?': 15740,\n",
       " 'Illegal voter registration, the miscounting of votes, and what at polls is considered voter fraud?': 15740,\n",
       " 'Who discovered the correlation that congressman who have less local press coverage work less for the people who elected them?': 15763,\n",
       " 'What newspaper stopped publishing in 2007?': 15763,\n",
       " 'Who was most likely to get reelected after the Post shut down?': 15763,\n",
       " 'Campaign spending and what fell after the Post stopped publishing?': 15763,\n",
       " 'In their pursuit of more money and power, corrupt dictators often ignore what?': 15804,\n",
       " \"How many concillors sit on Southampton's City Council?\": 16483,\n",
       " 'How man wards are there in Southampton?': 16483,\n",
       " 'How many councillors are assigned to each ward in Southampton?': 16483,\n",
       " 'In what month are council elections held?': 16483,\n",
       " 'In how many years of every four is a council election held in Southampton?': 16483,\n",
       " 'What must a party to a treaty do to prevent being held liable under international law?': 16782,\n",
       " 'What is comparable in domestic law to a treaty in international law?': 16782,\n",
       " 'Under what will a party to a treaty be held liable for failing to uphold their obligations?': 16782,\n",
       " 'What must be the attitude of a party towards assuming the legal obligations of the treaty?': 16782,\n",
       " 'What do we call the willingly-assumed burdens placed upon parties to both treaties and contracts?': 16782,\n",
       " 'What is shared by most treaties since the late 19th century?': 16792,\n",
       " 'What is the beginning of a typical treaty called?': 16792,\n",
       " 'Why are long sentences in a modern preamble formatted into multiple paragraphs?': 16792,\n",
       " 'Each paragraph of a modern preamble typically begins with which part of speech?': 16792,\n",
       " 'In addition to describing the parties and their joint objectives, what else does a modern preamble typically summarize?': 16792,\n",
       " 'What term describes a common clause in a treaty stating that the representatives of the parties have communicated their full powers?': 16797,\n",
       " \"What are the official documents appointing a party's representative to act on their behalf?\": 16797,\n",
       " 'In addition to their full names, what else is included in the preamble that identifies the parties to a treaty?': 16797,\n",
       " \"How must the full powers of a parties' representatives be found in order to enter into a treaty?\": 16797,\n",
       " 'Who else besides the parties themselves is typically identified in the preamble to a treaty?': 16797,\n",
       " 'What follows the preamble in a treaty?': 16802,\n",
       " 'What is contained in the numbered articles of a treaty?': 16802,\n",
       " 'What does each article heading usually encompass?': 16802,\n",
       " 'How might the articles in a long treaty be grouped?': 16802,\n",
       " 'The numbered articles of a treaty may be grouped by chapter heading in what kind of treaty?': 16802,\n",
       " 'What type of resolution to disputes is typically outlined in a treaty?': 16807,\n",
       " 'Which section of a treaty typically contains information about the whereabouts of the final authentic copies of a treaty?': 16807,\n",
       " 'Parties to a treaty might have disputes about what aspect of the articles of a treaty?': 16807,\n",
       " 'Which copies of a treaty have their locations outlined in most modern treaties?': 16807,\n",
       " 'Modern treaties typically outline the procedures for the peaceful resolution of what?': 16807,\n",
       " 'What is the formal name for the closing protocol of a treaty?': 16812,\n",
       " 'What typically follows the signatures in a treaty?': 16812,\n",
       " 'How is the date typically written in a treaty?': 16812,\n",
       " 'What is the nature of the different versions of a treaty executed in multiple languages?': 16812,\n",
       " 'A clause like \"in witness whereof\" or \"in faith whereof\" typically signals what in a treaty?': 16812,\n",
       " 'Whose signatures appear at the very end of a treaty?': 16817,\n",
       " 'Where might the text of a treaty be reprinted?': 16817,\n",
       " 'Who, upon reprinting, will often append the dates on which the treaty was ratified and came into effect?': 16817,\n",
       " 'Each party must have done what in order for the treaty to come into effect?': 16817,\n",
       " 'Even if signed  and ratified on the same date, the treaty might have done what on different dates?': 16817,\n",
       " 'Bilateral treaties are concluded between how many states or entities?': 16822,\n",
       " 'Is it possible for a bilateral treaty to have more than two parties?': 16822,\n",
       " 'The bilateral treaties between Switzerland and the European Union followed the Swiss rejection of what?': 16822,\n",
       " 'Does the bilateral treaty between Switzerland and the European Union establish rights or obligations amongst the EU and its member states?': 16822,\n",
       " 'The treaty between Switzerland and the European Union is an example of what kind of treaty?': 16822,\n",
       " \"What are caveats to a state's acceptance of a treaty?\": 16832,\n",
       " 'What are unilateral statements purporting to exclude or to modify the legal obligation and its effects on a state?': 16832,\n",
       " 'When must reservations be included in a treaty?': 16832,\n",
       " 'What are parties to a treaty forbidden to do after they have already joined a treaty?': 16832,\n",
       " 'A reserving party to a treaty may include a statement that attempts to do what to its legal obligations or their effects?': 16832,\n",
       " 'A more permissive rule regarding what emerged to encourage the largest number of states to join treaties?': 16837,\n",
       " 'Reservations are generally permitted so long as they are not what?': 16837,\n",
       " 'How did international law originally respond to treaty reservations?': 16837,\n",
       " 'Originally reservations were rejected under international law unless which parties of the treaty accepted them?': 16837,\n",
       " 'Because they are generally accepted under international law, a treaty must forbid reservations in what manner to prevent their adoption?': 16837,\n",
       " 'When a state adds reservations to a treaty, other parties to the treaty can respond to those reservations in what ways?': 16842,\n",
       " \"Who remains unaffected when a party's reservation is accepted by a second party?\": 16842,\n",
       " 'What happens to the parts of the treaty affected by a rejected reservation as they concern the reserving and rejecting parties?': 16842,\n",
       " \"What legal obligations exist between two state parties if one objects and opposes the other's reservations?\": 16842,\n",
       " \"If a state party objects and opposes another state's reservations it essentially refuses to acknowledge what?\": 16842,\n",
       " 'How many ways are there to amend an existing treaty?': 16847,\n",
       " 'What must state parties to a treaty repeat to adopt a formal amendment to the treaty?': 16847,\n",
       " 'What amendment process is generally reserved for changes that rectify obvious errors in the text?': 16847,\n",
       " 'Parties to an original treaty and an amended treaty are bound to what terms?': 16847,\n",
       " 'In addition to the often long and protracted nature of treaty renegotiation, what negative outcome might result from the process?': 16847,\n",
       " 'A treaty that puts all of its obligations in action simply by becoming a party to it is known as what?': 16862,\n",
       " 'What do non-self-executing treaties typically require from a party to enable it to fulfill its obligations?': 16862,\n",
       " 'What is \"implementing legislation\" that is required by a party to a treaty to enable it to fulfill its obligations under the treaty?': 16862,\n",
       " 'A treaty requiring local prosecution by a party for particular crimes is an example of which type of treaty?': 16862,\n",
       " 'Signing a self-executing treaty automatically does what for a party?': 16862,\n",
       " 'What type of treaty cannot be acted on without the proper change in domestic law?': 16867,\n",
       " 'A state party may be in default of its obligations under a non-self-executing treaty if its legislature fails to do what?': 16867,\n",
       " \"What institution of a party to a treaty must act to fulfill the party's obligations under a non-self-executing treaty?\": 16867,\n",
       " 'The often unclear division between a self-executing treaty and a non-self-executing treaty can lead to a treaty being what if disagreements exist within a party?': 16867,\n",
       " 'A treaty may be politicized due to disagreements within a party because the division between a self-executing treaty and a non-self-executing treaty can often be described as what?': 16867,\n",
       " 'What principle is often invoked by legal experts when interpreting the language of treaties?': 16872,\n",
       " 'The principle of maximum effectiveness interprets the language of treaties as having what effect to establish obligations between parties?': 16872,\n",
       " 'What states that treaties are to be interpreted \"in good faith\" according to the \"ordinary meaning given to the terms of the treaty in their context and in light of its object and purpose?\"': 16872,\n",
       " \"What property of treaties must often be interpreted when it's not clear?\": 16872,\n",
       " 'Besides unclear language what might also arise that necessitates the interpretation of the language of a treaty?': 16872,\n",
       " 'No one party to a treaty can do what to the other parties?': 16877,\n",
       " \"What may be implied of other parties fail to explicitly disavow a party's initially unilateral interpretation of a treaty?\": 16877,\n",
       " \"Consent for a party's unilateral interpretation of a treaty may be implied if that state has acted upon its view of the treat without what from another party?\": 16877,\n",
       " 'Consent by all parties to a treaty to a particular interpretation of the treaty has what legal effect?': 16877,\n",
       " 'The legal effect of adding another clause to a treaty that occurs when all parties to a treaty consent to a particular interpretation of the treaty is commonly known as what?': 16877,\n",
       " 'What are international tribunals and arbiters often called upon to resolve in regards to treaties?': 16882,\n",
       " 'What judicial bodies might be called upon to resolve disputes pertaining to the interpretation of treaties?': 16882,\n",
       " 'In addition to the final, signed treaty what else might arbiters review to establish the meaning of a treaty in context?': 16882,\n",
       " 'For what purpose might an international tribunal review the preparatory work from the negotiation and drafting of a treaty?': 16882,\n",
       " 'In addition to the preparatory work from the drafting and negotiation of a treaty, what might arbiters review when resolving a dispute over the interpretation of a treaty?': 16882,\n",
       " 'What are agreements between states within the United States called?': 16887,\n",
       " 'What are agreements between states and the federal government called within the United States?': 16887,\n",
       " 'In the United States, what are agreements between agencies of the federal government called?': 16887,\n",
       " 'Nations can be careful about terming an agreement a treaty because it has the effect of recognizing that the other side is a what?': 16887,\n",
       " 'Under what do all parties to a treaty recognize the provisions of the treaty are enforceable?': 16887,\n",
       " 'Parties to a treaty may disagree over a desire to create an obligation under what?': 16892,\n",
       " \"Discussions between what two countries have been influence by one party's desire to create an obligation under international law?\": 16892,\n",
       " \"Discussion between North Korea and the United States have been influenced by one party's desire to create obligations under international law with respect to what two topics?\": 16892,\n",
       " 'North Korea and the United States have been characterized by a disagreement over one parties desire to create what with respect to security guarantees and nuclear proliferation?': 16892,\n",
       " 'What is the Treaty of Waitangi internationally considered to be?': 16896,\n",
       " 'What other terms might be used to refer to a treaty?': 16896,\n",
       " 'What common terminological problem can sometimes lead to confusion surrounding a treaty?': 16896,\n",
       " \"What's an example of a treaty that is considered internationally to be documents under domestic law?\": 16896,\n",
       " 'Convention, protocol, and agreement are examples of examples of different kinds of what that can create confusion about a treaty?': 16896,\n",
       " 'Traditionally, what must a state do in order for an obligation to arise in international law?': 16901,\n",
       " 'What is the only barrier to withdrawal contained in many treaties?': 16901,\n",
       " 'Are treaties permanently binding upon the signatory parties?': 16901,\n",
       " 'What treaty will terminate if the number of parties falls below 40 as a result of denunciations?': 16901,\n",
       " 'Which article of the Vienna Convention on the Law of Treaties provides that there is a presumption that treaties cannot be unilaterally denounced?': 16901,\n",
       " 'What factor, in practice, allows a state to withdraw from any treaty at any time?': 16911,\n",
       " 'What really determines whether withdrawal from a treaty is permitted?': 16911,\n",
       " \"What might a state do in response to another state's withdrawal from a treaty?\": 16911,\n",
       " 'Although withdrawal from a treaty may not be possible in theory, when might it be possible anyway?': 16911,\n",
       " 'Because of sovereignty when may a state withdrawal from a treaty?': 16911,\n",
       " \"What happens to a state's obligations under a treaty upon its withdrawal from the treaty?\": 16916,\n",
       " 'What kind of treaty is terminated by the withdrawal of just one party?': 16916,\n",
       " \"What happens to a multilateral treaty's rights and obligations among the other parties when just one party withdraws?\": 16916,\n",
       " 'After what action by a state are its obligations under a treaty considered terminated?': 16916,\n",
       " \"Under what conditions could a single state's withdrawal result in the termination of a multilateral treaty?\": 16916,\n",
       " 'What may be invoked as grounds for permanently terminating a treaty?': 16921,\n",
       " 'In addition to terminating the treaty itself, what actions by the other parties might result from one party materially violating or beaching its obligations?': 16921,\n",
       " 'In addition to suspending their obligations under a treaty to the violating party, what may result from a material breach of treaty obligations?': 16921,\n",
       " 'Who may invoke a material breach committed by a party to a treaty to suspend their obligations to that party?': 16921,\n",
       " \"What temporary actions can parties of a treaty take in response to a material violation of a party's obligations?\": 16921,\n",
       " 'What might a tribunal or an arbiter be asked to determine regarding a breach of a treaty?': 16926,\n",
       " \"Using what to determine the seriousness of a breach can prevent a party from prematurely suspending its obligations due to another party's alleged material breach?\": 16926,\n",
       " 'Does a material breach necessarily suspend or terminate treaty relations?': 16926,\n",
       " 'What determines whether a breach automatically suspends or terminates treaty relations?': 16926,\n",
       " ' A treaty breach does not necessarily affect treaty relations depending on how serious the other parties view the breach and what other factor?': 16926,\n",
       " 'Some treaties contains provisions for what to happen if certain defined conditions are met?': 16931,\n",
       " \"What provision might a treaty include if it's meant to be only temporarily binding?\": 16931,\n",
       " 'In addition to passing an expiration date, what might cause a treaty to self-terminate?': 16931,\n",
       " 'What happens to a treaty that was designed to terminate under certain conditions when those conditions are actually met?': 16931,\n",
       " \"What may we assume the parties to a treaty intended the treaty's obligations to be if the treaty included an expiration date?\": 16931,\n",
       " 'What might result in a party to a treaty claiming a treaty should be terminated even absent an express provision for its termination?': 16936,\n",
       " 'A party cannot base its claim of a fundamental change in circumstances if the change was brought about by what?': 16936,\n",
       " 'The claim of a fundamental change in circumstances cannot be used to invalidate treaties that established or redrew what?': 16936,\n",
       " 'The radical transformation of what aspect of the obligations between the parties is a necessary condition for a claim of a fundamental change in circumstances to terminate a treaty?': 16936,\n",
       " 'In order to be considered a fundamental change, a change in circumstances must have been what at the time of the adoption of the treaty?': 16936,\n",
       " \"A party's consent to a treaty is invalid if it had been given by an agent or body without power to do so under what?\": 16956,\n",
       " 'For what does a strong presumption exist internationally that a head of state has acted within in entering into a treaty?': 16956,\n",
       " \"What is required to invalidate a party's consent due to a reluctance to inquire into the internal affairs and processes of other states?\": 16956,\n",
       " \"A manifest violation is required to invalidate a party's consent to a treaty due to a reluctance internationally to inquire into what aspects of other states?\": 16956,\n",
       " \"What might a party's consent to a treaty be considered if it has been given by an agent without the power under the state's domestic law to do so?\": 16956,\n",
       " \"If a state's representative ignored restrictions he is subject to by his sovereign, what might that state's consent to a treaty be considered to be?\": 16961,\n",
       " 'Who might place restrictions on a representative during negotiation of a treaty?': 16961,\n",
       " \"What must be true of the ignored restrictions placed on a representative by his sovereign in order for a state's consent to a treaty to be considered invalid?\": 16961,\n",
       " \"Who must have been notified of the ignored restrictions placed by a sovereign on his representative prior to the signing of a treaty in order for a state's consent to be considered invalid? \": 16961,\n",
       " 'The preamble of what states that treaties are a source of international law?': 16965,\n",
       " 'Which will prevail in a conflict between international and domestic law?': 16965,\n",
       " 'What are started to be a source of international law in the preamble in The Law of Treaties?': 16965,\n",
       " 'Approval under what law will not make an act or lack thereof legal if condemned under international law?': 16965,\n",
       " 'An act or lack thereof cannot be made legal under what law even if made legal under internal law?': 16965,\n",
       " 'Which articles of the Vienna Convention on the Law of Treaties set out the ways that treaties can be invalidated?': 16970,\n",
       " 'In addition to the circumstances by which a state party joined a treaty, why might a treaty be invalidated?': 16970,\n",
       " 'In addition to the content of the treaty itself, why might a treated by invalidated?': 16970,\n",
       " \"A treaty might be considered what if it's considered unenforceable and void under international law?\": 16970,\n",
       " 'Which processes simply alter the consent given by parties to a previously valid treaty rather than invalidating the consent completely?': 16970,\n",
       " \"What on behalf of a state cannot invalidate that state's consent to a treaty?\": 16975,\n",
       " 'Consent to a treaty will not be invalidated if what should have been evident?': 16975,\n",
       " 'What may be invalidated if there was an erroneous understanding of a fact or situation at the time of conclusion of a treaty?': 16975,\n",
       " \"An erroneous understanding of a fact or situation may only invalidate a state's consent to a treaty if what is also true about the erroneous understanding?\": 16975,\n",
       " 'What, if it formed the \"essential basis\" of a state\\'s consent to a treaty, may invalidate that consent?': 16975,\n",
       " 'What type of conduct of a party to a treaty can invalidate the consent of another party?': 16980,\n",
       " \"What type of action, either direct or indirect, of a state's representative by another type of party to a treaty can invalidate a state's consent?\": 16980,\n",
       " 'Coercion of a representative or a state itself will result in what happening to its consent to a treaty?': 16980,\n",
       " 'Coercion of a state or its what through the threat or use of force, if used to obtain the consent of that state to a treaty, will invalidate that consent?': 16980,\n",
       " \"What must  be true of coercion through the threat or use of force of a party to treaty for it to invalidate the state's consent to a treaty?\": 16980,\n",
       " 'What will a treaty be if it is in violation of a peremptory norm?': 16985,\n",
       " 'What type of norm is recognized as permitting no violations and so cannot be altered through treaty obligations?': 16985,\n",
       " 'What is true of acts such as genocide and piracy in regard to treaty law?': 16985,\n",
       " 'What distinguishes peremptory norms from other principles of customary law?': 16985,\n",
       " 'What is an example of a type of universally prohibited action that no state can legally assume an obligation to commit or permit through a treaty?': 16985,\n",
       " 'What is the judiciary organ of the United Nations?': 16990,\n",
       " 'What document states that treaties must be registered with the United Nations to be invoked before it or enforced in the International Court of Justice?': 16990,\n",
       " 'Why does the United Nations Charter state that treaties must be registered with the United Nations?': 16990,\n",
       " 'In which centuries did a proliferation of secret treaties occur that led the United Nations Charter to include an obligation to register treaties to be invoked before it?': 16990,\n",
       " \"What section of the United Nations Charter states that its members' obligation under the charter outweigh any competing obligations under other treaties?\": 16990,\n",
       " 'Treaties and their amendments must follow the official legal procedures of what body after their adoption?': 16995,\n",
       " 'Which office of the United Nations is in charge of applying its official legal procedures?': 16995,\n",
       " 'When must all treaties and their amendments follow the official legal procedures of the United Nations?': 16995,\n",
       " 'In addition to signature and ratification, what legal procedure of the United Nations must all treaties follow after their adoption?': 16995,\n",
       " 'What are three official legal procedures of the United Nations that all treaties must follow after their adoption?': 16995,\n",
       " 'The United Nations has been compared to what government in function and effectiveness?': 17000,\n",
       " 'In which aspects has the United Nations been compared to the pre-Constitutional United States Federal government?': 17000,\n",
       " 'The comparison of the United Nations to the pre-Constitutional United States Federal government gives us a comparison between what modern and historical legal topics of interest?': 17000,\n",
       " 'Modern treaty law can be compared in function and effectiveness to the historical Articles of Confederation by comparing the pre-Constitutional United States Federal government with what modern institution?': 17000,\n",
       " 'What legal document formed the basis of the pre-Constitutional Federal government of the United States?': 17000,\n",
       " 'What part of the Brazilian federal consitution states that the power to enter into treaties is vested in the president and that such treaties must be approved by Congress?': 17005,\n",
       " 'In practice the Brazilian president must get the prior approval of what body in order to negotiate and sign a treaty?': 17005,\n",
       " 'What Brazilian institution has ruled that a treaty must be incorporated into domestic law by means of a presidential decree?': 17005,\n",
       " 'In order for a treaty to be valid in Brazil, a presidential decree incorporating the treaty into domestic law must be published where in order to be valid?': 17005,\n",
       " 'In what office is the power to enter into treaties vested according to the Brazilian federal constitution?': 17005,\n",
       " 'The Brazilian Federal Supreme Court has ruled that treaties enjoy what position relative to ordinary legislation?': 17010,\n",
       " 'In what year did the Brazilian Supreme Court rule that treaties containing human rights provisions enjoy a status above ordinary legislation?': 17010,\n",
       " 'What amendment to the Brazilian constitution states that human rights treaties approved by means of a special procedure by Congress enjoy the same position as a constitutional amendment?': 17010,\n",
       " 'The hierarchical position of treaties relative to domestic legislation in Brazil determines whether the latter can do what to the former and vice versa?': 17010,\n",
       " 'What is the Portuguese term for ordinary laws?': 17010,\n",
       " 'What kind of clause does the United States constitution have that the Brazilian constitution does not have with the same effects?': 17015,\n",
       " 'A supremacy clause in a federal constitution is relevant to the discussion on the relation between treaties and what other type of legislation?': 17015,\n",
       " 'What clause of the United States Constitution is relevant to the discussion of the relation between treaties and U.S. legislation?': 17015,\n",
       " 'The Brazilian constitution does not have a supremacy clause that would be of interest to the relation between state legislation and what other legal agreements?': 17015,\n",
       " 'Treaties, executive agreements, congressional-executive agreements, and sole executive agreements are the same under international law but different with respect to what?': 17019,\n",
       " 'Under US law, what primarily distinguishes treaties, executive agreements, congressional-executive agreements, and sole executive agreements?': 17019,\n",
       " 'What percentage of United States Senators must give advice and consent in order for the US to enter a treaty?': 17019,\n",
       " 'What type of agreement may a US president enter by acting alone?': 17019,\n",
       " 'What type of agreement requires majority approval by both the House and the Senate before or after a treaty is signed by the United States president?': 17019,\n",
       " 'In the United States, what is the ratio of executive agreements to treaties?': 17024,\n",
       " 'What is it about the approval process of executive agreements might lead a US president to prefer them over treaties?': 17024,\n",
       " 'The president of the United States might prefer the formal treaty process on matters that require Congress to do what?': 17024,\n",
       " 'The president of the United States might prefer the formal treaty process for agreements that impose what type of legal obligations on the US?': 17024,\n",
       " 'The international deal between the US, other countries, and what controversial nation is not a treaty?': 17024,\n",
       " 'In what cases did the US Supreme Court rule that treaties do not have a privileged position over Acts of Congress?': 17029,\n",
       " 'The US Supreme Court ruled that treaties can be repealed or modified by what for the purposes of US law?': 17029,\n",
       " 'What Supreme Court case ruled that a treaty provision that conflicts with the US Constitution is null and void under US law?': 17029,\n",
       " 'The US Supreme Court ruled that treaties can be repealed or modified for the purposes of US law just like what by any subsequent Act of Congress?': 17029,\n",
       " 'Any treaty provision that conflicts with the US Constitution is considered what under US law?': 17029,\n",
       " 'Into what 3 lists are legislation subjects divided in India?': 17034,\n",
       " 'What type of legislative subjects can both the central legislative body and state legislatures make laws?': 17034,\n",
       " 'What is the central legislative body in India?': 17034,\n",
       " 'In order to implement international treaties, for what subjects can the Parliament of India legislate to override the general division of subject lists?': 17034,\n",
       " 'What subjects can only be legislated by the central legislative body in India?': 17034,\n",
       " 'In what two rare cases were local governments able to mitigate the impact of of European colonization through treaties?': 17044,\n",
       " 'What did Ethiopians learn in order to use treaties to prevent a European power from overstepping their agreement?': 17044,\n",
       " 'Both Ethiopia and Qing Dynasty China learned the intricacies of European diplomatic customs to mitigate what through treaties?': 17044,\n",
       " 'In addition to preventing a power from overstepping their agreement, how was Ethiopia able to mitigate the impact of European colonization?': 17044,\n",
       " 'Ethiopia and Qing Dynasty China were both able to prevent European powers from doing what to their agreements?': 17044,\n",
       " 'What legislative act provided that no Indian nation shall be acknowledged as an independent nation with whom the United States may contract by treaty?': 17054,\n",
       " 'By what did the US federal government provide contractual relations with Indian tribes following the Indian Appropriations Act of March 3, 1871?': 17054,\n",
       " 'Prior to what year did the United States regularly enter into treaties with Native Americans?': 17054,\n",
       " 'A rider to the Indian Appropriations Act of 1871 provided that no Indian nation shall be acknowledged as what?': 17054,\n",
       " 'A rider to the Indian Appropriations Act of 1871 provided that the US government could not do what with an Indian nation?': 17054,\n",
       " 'When was Tito sent to Vienna?': 17098,\n",
       " 'Who did Stalin have murdered in 1937?': 17098,\n",
       " 'Where was the Secretary-General of the CPY murdered?': 17098,\n",
       " 'Who became Secretary-General of the CPY after the prior one was murdered?': 17098,\n",
       " 'Who is known as \"Comrade Walter\"?': 17098,\n",
       " 'In what year was Tito reelected president of Yugoslavia for the sixth time?': 17252,\n",
       " 'Who elected Tito president in 1971?': 17252,\n",
       " 'How many sweeping constitutional amendments did Tito introduce in 1971?': 17252,\n",
       " 'Who was chosen as a premier in 1971 in Yugoslavia?': 17252,\n",
       " 'What branch of the Yugoslav government would retain control over foreign affairs, defense and internal security?': 17252,\n",
       " 'The grounds at what location were the site of \"diplomatic hunts\"?': 17335,\n",
       " 'What was the name of the yacht the Yugoslav president had at his disposal?': 17335,\n",
       " \"What company bought the presidential Boeing 727 after Tito's death?\": 17335,\n",
       " \"Where was the Galeb docked after Tito's death?\": 17335,\n",
       " 'What is the English translation of Galeb?': 17335,\n",
       " 'What is the governing system of the Marshall Islands?': 17572,\n",
       " 'How old must a citizen of the Marshall Islands be to vote?': 17572,\n",
       " 'How often are elections held in the Marshall Islands?': 17572,\n",
       " 'What is the name of the Marshall Islands legislature?': 17572,\n",
       " 'When was the most recent constitution of the Marshall Islands adopted?': 17572,\n",
       " 'What is the name of the upper house of the Marshall Islands Parliament?': 17577,\n",
       " 'Who comprises the upper house of the Marshall Islands Parliament?': 17577,\n",
       " 'How many ministers are in the Presidential Cabinet?': 17577,\n",
       " 'Along with the United Democratic Party, what party currently rules the Marshall Islands?': 17577,\n",
       " 'How many electoral districts exist in the Marshall Islands?': 17577,\n",
       " 'What body did the Marshall Islands join in 2007?': 17618,\n",
       " 'What is the significance of the Marshall Islands joining the International Labour Organization?': 17618,\n",
       " 'What may see benefits from the Marshalls joining the International Labour Organization?': 17618,\n",
       " 'When were the Nieszawa statutes granted?': 17824,\n",
       " 'What did the Nieszawa statues clarify?': 17824,\n",
       " 'THe nobility was protected from what?': 17824,\n",
       " 'Whos power was curbed?': 17824,\n",
       " 'Why did the szlachta demand privileges?': 17824,\n",
       " 'When did the first free election take place?': 17829,\n",
       " 'What was different about later elections then first free election?': 17829,\n",
       " 'Who only voted in the election of 1492?': 17829,\n",
       " 'Who won the election of 1492?': 17829,\n",
       " 'What dynasty was in reign during the election of 1492?': 17829,\n",
       " 'What class was polands nobility?': 17898,\n",
       " 'Who could rise into polish ennoblement?': 17898,\n",
       " 'How much influence did each szlachcic have over politics?': 17898,\n",
       " 'WHo could nullify all the proceedings of a given sejm?': 17898,\n",
       " 'What is is called to nullify proceedings?': 17898,\n",
       " 'Who controlled the country prior to 1984?': 18712,\n",
       " 'When were the first multi-party elections held?': 18712,\n",
       " 'What led to the Guinea-Bissau Civil War?': 18712,\n",
       " 'When was the president ousted?': 18712,\n",
       " 'Who was elected president in the 2000 election?': 18712,\n",
       " 'After the coup, when were presidential elections held?': 18722,\n",
       " 'At that time, who ran claiming to be the legitimate president of the country?': 18722,\n",
       " 'Who won the election?': 18722,\n",
       " 'Who did Vieira beat in a runoff election?': 18722,\n",
       " 'When was Vieira, a former president, deposed?': 18722,\n",
       " 'What was reported to be entering the country prior to the election?': 18727,\n",
       " 'What type of \"disturbances\" were reported during the campaign?': 18727,\n",
       " 'How did foreign election monitors describe the election?': 18727,\n",
       " 'What year was the election held?': 18727,\n",
       " 'Where the election monitors local, or foreign?': 18727,\n",
       " 'When was the parliamentary election held?': 18732,\n",
       " 'Who won a strong majority in the election?': 18732,\n",
       " 'How many seats did PAIGC win in the election?': 18732,\n",
       " 'Whose residence was attacked by members of the armed forces?': 18732,\n",
       " 'When did the attack on the residence occur?': 18732,\n",
       " \"When was a coup d'etat staged?\": 18742,\n",
       " \"Who staged the coup d'etat?\": 18742,\n",
       " \"Who assumed control of the country after the coup d'etat?\": 18742,\n",
       " 'Who did Kuruma negotiate with?': 18742,\n",
       " \"What was Kuruma's former position?\": 18742,\n",
       " 'What country is listed as a republic?': 18747,\n",
       " 'When had the government been highly centralized?': 18747,\n",
       " 'When was multi-party governance established?': 18747,\n",
       " 'Who is the head of state?': 18747,\n",
       " 'Who is the head of government?': 18747,\n",
       " 'How many members compose the legislature?': 18752,\n",
       " 'Is the legislature bicameral or unicameral?': 18752,\n",
       " 'How long do members serve in the legislature?': 18752,\n",
       " 'What is the head of the judicial system?': 18752,\n",
       " 'How many justices are on the Supreme Court?': 18752,\n",
       " 'The Bureau of Near Eastern Affairs is a division of what?': 19515,\n",
       " 'What is perhaps the most influential agency to still use the term Near East?': 19515,\n",
       " 'Secretary Clinton also calls the implementation of official diplomacy of the United States what?': 19515,\n",
       " 'What does USAID stand for?': 19538,\n",
       " 'What is the independant agency under the Department of State for the purpose of determining and distributing foreign aid called?': 19538,\n",
       " 'What term does USAID not use?': 19538,\n",
       " 'How are the politics of Zhejiang structured?': 19668,\n",
       " \"Who is the highest-ranking official in the People's Government of Zhejiang?\": 19668,\n",
       " 'Who is the Governor subordinate to?': 19668,\n",
       " 'What is the Zhejiang Communist Party of China (CPC) Provincial Committee Secretary provincially known as?': 19668,\n",
       " 'What type of party-government system are all governing institutions in Mainland China?': 19668,\n",
       " \"When was Tan Zhenlin's term as Zhenjiang's Communist Party Secretary?\": 19673,\n",
       " 'Who was the inaugural Communist Party Secretary of Zhenjiang?': 19673,\n",
       " 'When was the so-called February Countercurrent?': 19673,\n",
       " \"When was Jiang Hua's term?\": 19673,\n",
       " 'When was the case against the Gang of Four?': 19673,\n",
       " 'Who created the office of Minister of Defence?': 19767,\n",
       " 'When was the Ministry of Defence Act introduced?': 19767,\n",
       " 'When did Winstron Churchill form his government?': 19767,\n",
       " 'The new ministry, according to the Act of 1946, was headed by a Minister of Defence who possessed what?': 19767,\n",
       " 'Who stopped attending Cabinet with the passage of the Ministry of Defence Act of 1946?': 19767,\n",
       " 'Who is supported by civilian, scientific, and professional military advisors?': 19776,\n",
       " 'What is the Permanent Under-Secretary of State for Defence generally known as?': 19776,\n",
       " 'Where does the Permanent Secretary serve as the senior civil servant?': 19776,\n",
       " 'What is the role of the Permanent Secretary?': 19776,\n",
       " 'On what date did British Somaliland gain independence?': 20468,\n",
       " 'What was British Somaliland known as upon achieving independence?': 20468,\n",
       " 'What state formed the Somali Republic with British Somaliland?': 20468,\n",
       " 'On what date did the former British Somaliland and Italian Somaliland unite?': 20468,\n",
       " 'Who was the first President of the Somali Republic?': 20468,\n",
       " 'Along with Jama Korshel, who led the Supreme Revolutionary Council?': 20478,\n",
       " \"What was Jama Korshel's title?\": 20478,\n",
       " 'What was the military rank of Salaad Gabeyre Kediye?': 20478,\n",
       " 'What name did the Supreme Revolutionary Council give to Somalia?': 20478,\n",
       " 'Along with dissolving the Supreme Court and parliament, what action did the Supreme Revolutionary Council take?': 20478,\n",
       " 'What is the Somali system of customary law?': 20674,\n",
       " 'In the Xeer system, what are judges called?': 20678,\n",
       " 'What does xeer boggeyaal mean in English?': 20678,\n",
       " 'What does the Xeer system call attorneys?': 20678,\n",
       " 'By what term are witnesses known in the Xeer system?': 20678,\n",
       " 'What does the Xeer system call cops?': 20678,\n",
       " 'During what years did the Avignon Papacy occur?': 21086,\n",
       " 'What is another term for the Avignon Papacy?': 21086,\n",
       " 'When did the Great Schism end?': 21086,\n",
       " 'How many popes existed simultaneously after the Council of Constance?': 21086,\n",
       " 'Who was made pope in 1417?': 21086,\n",
       " 'Who described Bill Clinton as \"Black\"?': 21697,\n",
       " 'Who was offended by Clinton being referred to as black?': 21697,\n",
       " 'Who is Toni Morrison?': 21697,\n",
       " 'Why were people offended by this comment?': 21697,\n",
       " \"What horrible event was on-going during Clinton's term that made people upset?\": 21697,\n",
       " 'What major event did The Times reluctantly support in the nineteenth century despite being initially opposed?': 21791,\n",
       " 'The Times greatly supported what bill in 1832 which reduced corruption and increased the electorate?': 21791,\n",
       " 'Many demonstrations in the nineteenth century convinced The Times editorial board to finally support the repeal of what laws?': 21791,\n",
       " 'During the American Civil War, what classes of people did The Times support?': 21791,\n",
       " 'The Times favoured which political side of the American Civil War?': 21791,\n",
       " 'At the 1945 general election, The Times adopted a stance that was referred to by what name?': 21919,\n",
       " 'After 1945, The Times supported what party for 5 years afterwards?': 21919,\n",
       " 'What kind of political coalition did The Times support in 1974?': 21919,\n",
       " 'From the 1970s until 1997, The Times supported what political party?': 21919,\n",
       " 'After 1997, The Times declined from making any party endorsements however, they supported individual candidates known by what name?': 21919,\n",
       " 'In the 2001 general election, The Times declared support for what political party?': 21924,\n",
       " \"What is the name of the political party's leader that The Times supported in the 2001 general election?\": 21924,\n",
       " 'For the 2010 general election, which political party did The Times support?': 21924,\n",
       " 'What political party did the Tories have to form a coalition with in 2010?': 21924,\n",
       " 'What political party was re-elected by a landslide in 2001?': 21924,\n",
       " 'In what year did The Times make an endorsement for Barack Obama?': 21932,\n",
       " 'Who did The Times support in 2012 for the election of the U.S. president?': 21932,\n",
       " 'What kind of policy did The Times express reservation for when concerning the political stances of Barack Obama?': 21932,\n",
       " 'In what novel was The Times featured as an organ of a totalitarian ruling party?': 21949,\n",
       " 'What is the name of the author of Nineteen Eighty-Four?': 21949,\n",
       " 'What kind of future world did George Orwell create in his novel, Nineteen Eighty-Four?': 21949,\n",
       " 'In what year did India gain independence?': 22004,\n",
       " 'In what year was Delhi converted into a union territory?': 22004,\n",
       " 'What is the name of the act that caused the Union Territory of Delhi to become formally known as the National Capital Territory of Delhi?': 22004,\n",
       " 'The enforcement of the legislation of the Constitution Act began in what year?': 22004,\n",
       " 'In 1956, Delhi was converted into what type of territory?': 22004,\n",
       " 'The government structure of the New Delhi Municipal Council includes three members from what government body?': 22049,\n",
       " 'What government body is responsible for nominating five members to the New Delhi Municipal Council?': 22049,\n",
       " 'What government official is responsible for nominating two members to the New Delhi Municipal Council?': 22049,\n",
       " 'The Chief Minister of what NCT is responsible for nominating two members to the New Delhi Municipal Council? ': 22049,\n",
       " 'What is the name of the government structure created for New Delhi that is comprised of ten representatives?': 22049,\n",
       " \"What is the official title of Delhi's head of state?\": 22054,\n",
       " 'Who is responsible for appointing the Lieutenant Governor of the Union Territory of Delhi?': 22054,\n",
       " \"Which takes precedent when a law passed by Parliament conflicts with a law passed by Delhi's Legislative assembly?\": 22054,\n",
       " 'What government body advises the president on appointing a Lieutenant Governor?': 22054,\n",
       " 'Which government position is given most of the executive powers over Delhi?': 22054,\n",
       " 'The New Delhi town plan was chosen primarily to symbolize what?': 22132,\n",
       " 'The New Delhi town plan was influenced by what type of architecture?': 22132,\n",
       " 'What town plan was chosen with the chief consideration of displaying British power and superiority?': 22132,\n",
       " 'What is one type of architecture that heavily influenced the New Delhi town plan?': 22132,\n",
       " 'What event was hosted by Atlantic City in 1964?': 22535,\n",
       " 'Who was nominated for President during the 1964 Democratic National Convention?': 22535,\n",
       " 'Who was nominated for Vice President during the 1964 Democratic National Convention?': 22535,\n",
       " 'Who was the Governor of New Jersey in 1964?': 22535,\n",
       " 'Despite being in the midst of a long period of economic decline many felt that the Convention was only held in Atlantic city because of a friendship between what two men?': 22535,\n",
       " 'Who did Santa Anna order the reinstatement as comandante general?': 23329,\n",
       " 'What was the name of the federalist army officer who eventually came into power during the new election?': 23329,\n",
       " 'Who had actually won the original vote?': 23329,\n",
       " 'Who was his deputy?': 23329,\n",
       " 'Who refused to yield until troops were summoned?': 23329,\n",
       " 'In which year did Benito Juarez die?': 23349,\n",
       " 'The two candidates were heroes of what battle?': 23349,\n",
       " 'Which plan defended the \"No Re-election\" principle?': 23349,\n",
       " 'Which party rebelled against the administration?': 23349,\n",
       " 'Which city was occupied by the Lerdista forces?': 23349,\n",
       " 'Which nicknames were used to form the conservative and liberal elements?': 23385,\n",
       " 'Which was the third party?': 23385,\n",
       " 'In which year was the body installed?': 23385,\n",
       " 'Which party had gained control?': 23385,\n",
       " 'Who was the Durango governor?': 23385,\n",
       " 'Who was the first person elected under the new constitution?': 23404,\n",
       " 'Where was Gonzalez located when he was elected?': 23404,\n",
       " 'In which year did Gonzalez become commander of Chihuahua?': 23404,\n",
       " 'For whom was the revolution named?': 23404,\n",
       " 'Stringed laws were issued against what group?': 23404,\n",
       " 'Who supported the reaction against the government?': 23433,\n",
       " 'Who supported the restoration of President Pedraza?': 23433,\n",
       " 'Which state did Urrea prepare to invade?': 23433,\n",
       " 'Who threatened to retaliate?': 23433,\n",
       " 'Who was deposed under threat from conservative forces?': 23437,\n",
       " 'Who was established as the new governor?': 23437,\n",
       " 'Who decided to march on Chihuahua in response?': 23437,\n",
       " 'Which president was forced to flee?': 23437,\n",
       " 'Until which year did his extended term last?': 23437,\n",
       " 'In which year was the new constitution ratified?': 23442,\n",
       " 'The state was able to survive through which war?': 23442,\n",
       " 'The conservative movement occurred during which year?': 23442,\n",
       " '1000 men occupied which cities?': 23442,\n",
       " 'Who established himself as governor?': 23442,\n",
       " 'Under which governor was the education system unified?': 23467,\n",
       " 'Which system of measurement was standardized?': 23467,\n",
       " 'What was inaugurated in Chihuahua City on September 16, 1897?': 23467,\n",
       " 'The first large scale dam project was initiated on which river?': 23467,\n",
       " 'The internal stability was known as what?': 23471,\n",
       " 'During what years did the economic growth occur?': 23471,\n",
       " 'Who committed to a strict \"No Re-election\" policy when running for office?': 23471,\n",
       " 'Which class was frustrated with Diaz due to corruption?': 23471,\n",
       " 'Benito Juarez was reelected in which year?': 23519,\n",
       " 'Which state gave Juarez a particularly notably strong support?': 23519,\n",
       " 'Who was confirmed to be the president of the state of Chihuahua?': 23519,\n",
       " 'Which general turned himself over to Donato Guerra?': 23519,\n",
       " \"Which year's election was perceived to be fraudulent?\": 23519,\n",
       " 'The uneasy alliance between whom eventually won rebels the victory?': 23534,\n",
       " 'The fight against Huerta formally ended on which date?': 23534,\n",
       " 'In which city did Obregon sign a number of treaties?': 23534,\n",
       " 'Who made a triumphant entry into Mexico City on August 20, 1914?': 23534,\n",
       " 'During which year was the federal government unstable?': 23571,\n",
       " 'Who dissolved the government eventually?': 23571,\n",
       " 'With which type of government did Ortiz replace the old one?': 23571,\n",
       " 'Which new governor was arrested by Ochoa and Bustamente?': 23571,\n",
       " 'Who now headed the civil and military authorities?': 23571,\n",
       " 'Military command was given to whom based on his firmness?': 23576,\n",
       " 'The state was in a war with what group?': 23576,\n",
       " \"Who declared the state's civil and military forces should be combined during the campaign?\": 23576,\n",
       " 'In which year did Gonzalez receive renomination?': 23576,\n",
       " 'The officials in Mexico reduced the price of what food from six cents to two cents per pound?': 23594,\n",
       " 'Who led the revolt for the northern portion of the state?': 23594,\n",
       " 'Casavantes was successful in getting which Governor to exile?': 23594,\n",
       " 'Durango and Coahuila had a military confrontation over what natural resource?': 23594,\n",
       " 'Who was able to secure and stabilize the state eventually and gain the support of the people?': 23594,\n",
       " 'How did al-Mahdi maintain contact during his Occultation?': 23662,\n",
       " 'How did deputies represent al-Mahdi?': 23662,\n",
       " 'What would believers do when they had a problem?': 23662,\n",
       " 'What would the deputy endorse the concerns with?': 23662,\n",
       " \"What did the deputies collect in the Imam's behalf?\": 23662,\n",
       " ...}"
      ]
     },
     "execution_count": 428,
     "metadata": {},
     "output_type": "execute_result"
    }
   ],
   "source": [
    "question_docid_map = {}\n",
    "\n",
    "all_qna = pd.read_csv('../data/legal_squad_data.csv')\n",
    "for idx, row in all_qna.iterrows():\n",
    "    qn, doc_id = row['question'], row['context_id']\n",
    "    question_docid_map[qn] = doc_id\n",
    "\n",
    "question_docid_map"
   ]
  },
  {
   "cell_type": "code",
   "execution_count": 431,
   "metadata": {},
   "outputs": [
    {
     "name": "stdout",
     "output_type": "stream",
     "text": [
      "{'NER TFIDF': 1904, 'Para TFIDF': 3932, 'Summary TFIDF': 3430, 'NER+Para TFIDF': 3011, 'NER+Summary TFIDF': 2735, 'Para LSI': 3812, 'Summary LSI': 3358, 'Para Doc2Vec': 469, 'Summary Doc2Vec': 294, 'Para InferSent': 539, 'Summary InferSent': 654} 4855\r"
     ]
    }
   ],
   "source": [
    "model_names = ['NER TFIDF', 'Para TFIDF', 'Summary TFIDF', 'NER+Para TFIDF', 'NER+Summary TFIDF', 'Para LSI', 'Summary LSI', 'Para Doc2Vec', 'Summary Doc2Vec', 'Para InferSent', 'Summary InferSent']\n",
    "model_correct_retrievals = {}\n",
    "for i in model_names:\n",
    "    model_correct_retrievals[i] = 0\n",
    "\n",
    "counter = 0\n",
    "\n",
    "for query, doc_id in question_docid_map.items():\n",
    "#     print(f\"{doc_id}. {query}\", end='\\r')\n",
    "    if doc_id in tfidf(ner_df, ner_vectorizer, ner_tfidf_matrix, query):\n",
    "        model_correct_retrievals['NER TFIDF'] += 1\n",
    "        \n",
    "    if doc_id in tfidf(df, para_vectorizer, para_tfidf_matrix, query):\n",
    "        model_correct_retrievals['Para TFIDF'] += 1\n",
    "        \n",
    "    if doc_id in tfidf(df, summarised_vectorizer, summarised_tfidf_matrix, query):\n",
    "        model_correct_retrievals['Summary TFIDF'] += 1\n",
    "        \n",
    "    if doc_id in two_step_tfidf(df, ner_df, ner_vectorizer, ner_tfidf_matrix, para_vectorizer, para_tfidf_matrix, query, 'para'):\n",
    "        model_correct_retrievals['NER+Para TFIDF'] += 1\n",
    "        \n",
    "    if doc_id in two_step_tfidf(df, ner_df, ner_vectorizer, ner_tfidf_matrix, summarised_vectorizer, summarised_tfidf_matrix, query, 'summary'):\n",
    "        model_correct_retrievals['NER+Summary TFIDF'] += 1\n",
    "        \n",
    "    if doc_id in lsi(query, para_lsi_model):\n",
    "        model_correct_retrievals['Para LSI'] += 1\n",
    "        \n",
    "    if doc_id in lsi(query, summary_lsi_model):\n",
    "        model_correct_retrievals['Summary LSI'] += 1\n",
    "        \n",
    "    if doc_id in doc2vec(query, para_doc2vec_model):\n",
    "        model_correct_retrievals['Para Doc2Vec'] += 1\n",
    "        \n",
    "    if doc_id in doc2vec(query, summary_doc2vec_model):\n",
    "        model_correct_retrievals['Summary Doc2Vec'] += 1\n",
    "        \n",
    "    if doc_id in infersent(query, infersent_para, infersent_para_embeddings):\n",
    "        model_correct_retrievals['Para InferSent'] += 1\n",
    "        \n",
    "    if doc_id in infersent(query, infersent_summary, infersent_summary_embeddings):\n",
    "        model_correct_retrievals['Summary InferSent'] += 1\n",
    "        \n",
    "    counter += 1\n",
    "\n",
    "    print(model_correct_retrievals, counter, end='\\r')"
   ]
  },
  {
   "cell_type": "code",
   "execution_count": 439,
   "metadata": {},
   "outputs": [
    {
     "name": "stdout",
     "output_type": "stream",
     "text": [
      "Total number of samples: 4857\n",
      "------------------------------------\n",
      "Accuracy of Para TFIDF: 0.81\n",
      "Accuracy of Para LSI: 0.78\n",
      "Accuracy of Summary TFIDF: 0.71\n",
      "Accuracy of Summary LSI: 0.69\n",
      "Accuracy of NER+Para TFIDF: 0.62\n",
      "Accuracy of NER+Summary TFIDF: 0.56\n",
      "Accuracy of NER TFIDF: 0.39\n",
      "Accuracy of Summary InferSent: 0.13\n",
      "Accuracy of Para InferSent: 0.11\n",
      "Accuracy of Para Doc2Vec: 0.1\n",
      "Accuracy of Summary Doc2Vec: 0.06\n"
     ]
    }
   ],
   "source": [
    "num_samples = len(all_qna)\n",
    "\n",
    "print(f\"Total number of samples: {num_samples}\")\n",
    "print('------------------------------------')\n",
    "\n",
    "for model, val in sorted(model_correct_retrievals.items(), key=lambda item: item[1], reverse=True):\n",
    "    print(f\"Accuracy of {model}: {round(val/num_samples,2)}\")"
   ]
  },
  {
   "cell_type": "markdown",
   "metadata": {},
   "source": [
    "## Method 14: Ensemble of Para TFIDF + Para LSI"
   ]
  },
  {
   "cell_type": "code",
   "execution_count": 445,
   "metadata": {},
   "outputs": [
    {
     "name": "stdout",
     "output_type": "stream",
     "text": [
      "Term-Document frequency matrix is ready.\n",
      "Proceeding to do SVD on the matrix.\n",
      "Index Rebuilt. Setting __update_index to False. Queries can now be performed.\n"
     ]
    }
   ],
   "source": [
    "# Para TF-IDF Initialisation\n",
    "para_vectorizer = TfidfVectorizer(ngram_range=(1,2))\n",
    "para_tfidf_matrix = para_vectorizer.fit_transform(df['cleaned_lowercase_nostop_lem'])\n",
    "\n",
    "para_lsi_model = build_lsi('para')\n",
    "\n",
    "\n",
    "def ensemble_doc_retrieval(query):\n",
    "    ranking_dict = {}\n",
    "    weights = {1: 1, 2: 0.9, 3: 0.8, 4: 0.7, 5: 0.6}\n",
    "    \n",
    "    # Para TFIDF\n",
    "    tfidf_retrieved_doc_ids = tfidf(df, para_vectorizer, para_tfidf_matrix, query)\n",
    "    for idx, doc_id in enumerate(tfidf_retrieved_doc_ids, start=1):\n",
    "        if doc_id not in ranking_dict:\n",
    "            ranking_dict[doc_id] = weights[idx]\n",
    "        else:\n",
    "            ranking_dict[doc_id] += weights[idx]\n",
    "    \n",
    "    # Para LSI\n",
    "    lsi_retrieved_doc_ids = lsi(query, para_lsi_model)\n",
    "    for idx, doc_id in enumerate(lsi_retrieved_doc_ids, start=1):\n",
    "        if doc_id not in ranking_dict:\n",
    "            ranking_dict[doc_id] = weights[idx]\n",
    "        else:\n",
    "            ranking_dict[doc_id] += weights[idx]\n",
    "    \n",
    "    result = []\n",
    "    \n",
    "    for doc_id, score in sorted(ranking_dict.items(), key=lambda item: item[1], reverse=True):\n",
    "        result.append(doc_id)\n",
    "        \n",
    "    return result"
   ]
  },
  {
   "cell_type": "code",
   "execution_count": 443,
   "metadata": {},
   "outputs": [
    {
     "name": "stdout",
     "output_type": "stream",
     "text": [
      "85608 2\n",
      "77113 0.9\n",
      "69234 0.8\n",
      "18712 0.7\n",
      "7438 0.6\n"
     ]
    },
    {
     "data": {
      "text/plain": [
       "[85608, 77113, 69234, 18712, 7438]"
      ]
     },
     "execution_count": 443,
     "metadata": {},
     "output_type": "execute_result"
    }
   ],
   "source": [
    "ensemble_doc_retrieval('When was the second constitutional convention held?')"
   ]
  },
  {
   "cell_type": "markdown",
   "metadata": {},
   "source": [
    "## Evaluate Ensemble"
   ]
  },
  {
   "cell_type": "code",
   "execution_count": 446,
   "metadata": {},
   "outputs": [
    {
     "name": "stdout",
     "output_type": "stream",
     "text": [
      "{'NER TFIDF': 1904, 'Para TFIDF': 3932, 'Summary TFIDF': 3430, 'NER+Para TFIDF': 3011, 'NER+Summary TFIDF': 2735, 'Para LSI': 3812, 'Summary LSI': 3358, 'Para Doc2Vec': 469, 'Summary Doc2Vec': 294, 'Para InferSent': 539, 'Summary InferSent': 654, 'Ensemble': 4224} 48557 54518551877 19471950 195722372432 2540 257525893854\r"
     ]
    }
   ],
   "source": [
    "model_correct_retrievals['Ensemble'] = 0\n",
    "\n",
    "counter = 0\n",
    "\n",
    "for query, doc_id in question_docid_map.items():\n",
    "#     print(f\"{doc_id}. {query}\", end='\\r')\n",
    "    if doc_id in ensemble_doc_retrieval(query):\n",
    "        model_correct_retrievals['Ensemble'] += 1\n",
    "        \n",
    "    counter += 1\n",
    "\n",
    "    print(model_correct_retrievals, counter, end='\\r')"
   ]
  },
  {
   "cell_type": "code",
   "execution_count": 448,
   "metadata": {},
   "outputs": [
    {
     "name": "stdout",
     "output_type": "stream",
     "text": [
      "Total number of samples: 4857\n",
      "------------------------------------\n",
      "Accuracy of Ensemble: 0.87\n",
      "Accuracy of Para TFIDF: 0.81\n",
      "Accuracy of Para LSI: 0.78\n",
      "Accuracy of Summary TFIDF: 0.71\n",
      "Accuracy of Summary LSI: 0.69\n",
      "Accuracy of NER+Para TFIDF: 0.62\n",
      "Accuracy of NER+Summary TFIDF: 0.56\n",
      "Accuracy of NER TFIDF: 0.39\n",
      "Accuracy of Summary InferSent: 0.13\n",
      "Accuracy of Para InferSent: 0.11\n",
      "Accuracy of Para Doc2Vec: 0.1\n",
      "Accuracy of Summary Doc2Vec: 0.06\n"
     ]
    }
   ],
   "source": [
    "num_samples = len(all_qna)\n",
    "\n",
    "print(f\"Total number of samples: {num_samples}\")\n",
    "print('------------------------------------')\n",
    "\n",
    "for model, val in sorted(model_correct_retrievals.items(), key=lambda item: item[1], reverse=True):\n",
    "    print(f\"Accuracy of {model}: {round(val/num_samples,2)}\")"
   ]
  },
  {
   "cell_type": "markdown",
   "metadata": {},
   "source": [
    "## FAISS Evaluation for Gigi"
   ]
  },
  {
   "cell_type": "code",
   "execution_count": null,
   "metadata": {},
   "outputs": [],
   "source": [
    "model_correct_retrievals['FAISS'] = 0\n",
    "\n",
    "counter = 0\n",
    "\n",
    "for query, doc_id in question_docid_map.items():\n",
    "#     print(f\"{doc_id}. {query}\", end='\\r')\n",
    "    if doc_id in faiss(query, embedder, faiss_index):\n",
    "        model_correct_retrievals['FAISS'] += 1\n",
    "        \n",
    "    counter += 1\n",
    "\n",
    "    print(model_correct_retrievals, counter, end='\\r')"
   ]
  },
  {
   "cell_type": "code",
   "execution_count": null,
   "metadata": {},
   "outputs": [],
   "source": []
  },
  {
   "cell_type": "code",
   "execution_count": null,
   "metadata": {},
   "outputs": [],
   "source": []
  },
  {
   "cell_type": "code",
   "execution_count": null,
   "metadata": {},
   "outputs": [],
   "source": []
  },
  {
   "cell_type": "code",
   "execution_count": null,
   "metadata": {},
   "outputs": [],
   "source": []
  },
  {
   "cell_type": "code",
   "execution_count": null,
   "metadata": {},
   "outputs": [],
   "source": []
  },
  {
   "cell_type": "code",
   "execution_count": null,
   "metadata": {},
   "outputs": [],
   "source": []
  },
  {
   "cell_type": "code",
   "execution_count": null,
   "metadata": {},
   "outputs": [],
   "source": []
  },
  {
   "cell_type": "code",
   "execution_count": null,
   "metadata": {},
   "outputs": [],
   "source": []
  },
  {
   "cell_type": "code",
   "execution_count": null,
   "metadata": {},
   "outputs": [],
   "source": []
  },
  {
   "cell_type": "code",
   "execution_count": null,
   "metadata": {},
   "outputs": [],
   "source": []
  },
  {
   "cell_type": "code",
   "execution_count": null,
   "metadata": {},
   "outputs": [],
   "source": []
  },
  {
   "cell_type": "code",
   "execution_count": null,
   "metadata": {},
   "outputs": [],
   "source": []
  },
  {
   "cell_type": "code",
   "execution_count": null,
   "metadata": {},
   "outputs": [],
   "source": []
  },
  {
   "cell_type": "code",
   "execution_count": null,
   "metadata": {},
   "outputs": [],
   "source": []
  },
  {
   "cell_type": "code",
   "execution_count": null,
   "metadata": {},
   "outputs": [],
   "source": []
  },
  {
   "cell_type": "markdown",
   "metadata": {},
   "source": [
    "## Method 7: InferSent + K-Means Clustering"
   ]
  },
  {
   "cell_type": "code",
   "execution_count": 95,
   "metadata": {},
   "outputs": [],
   "source": [
    "import matplotlib.pyplot as plt\n",
    "from sklearn.cluster import KMeans\n",
    "from sklearn.metrics import silhouette_score\n",
    "from sklearn.preprocessing import StandardScaler\n",
    "from kneed import KneeLocator"
   ]
  },
  {
   "cell_type": "code",
   "execution_count": 96,
   "metadata": {},
   "outputs": [],
   "source": [
    "kmeans_kwargs = {\"init\": \"random\", \"n_init\": 10, \"max_iter\": 300, \"random_state\": 42}"
   ]
  },
  {
   "cell_type": "code",
   "execution_count": 98,
   "metadata": {},
   "outputs": [
    {
     "name": "stdout",
     "output_type": "stream",
     "text": [
      "Iteration: 1\n",
      "Iteration: 2\n",
      "Iteration: 3\n",
      "Iteration: 4\n",
      "Iteration: 5\n",
      "Iteration: 6\n",
      "Iteration: 7\n",
      "Iteration: 8\n",
      "Iteration: 9\n",
      "Iteration: 10\n"
     ]
    }
   ],
   "source": [
    "# A list holds the SSE values for each k\n",
    "sse = []\n",
    "for k in range(1, 11):\n",
    "    print(f\"Iteration: {k}\")\n",
    "    kmeans = KMeans(n_clusters=k, **kmeans_kwargs)\n",
    "    kmeans.fit(infersent_embeddings_loaded)\n",
    "    sse.append(kmeans.inertia_)"
   ]
  },
  {
   "cell_type": "code",
   "execution_count": 99,
   "metadata": {},
   "outputs": [
    {
     "data": {
      "image/png": "[encoded data removed]",
      "text/plain": [
       "<Figure size 432x288 with 1 Axes>"
      ]
     },
     "metadata": {},
     "output_type": "display_data"
    }
   ],
   "source": [
    "plt.style.use(\"fivethirtyeight\")\n",
    "plt.plot(range(1, 11), sse)\n",
    "plt.xticks(range(1, 11))\n",
    "plt.xlabel(\"Number of Clusters\")\n",
    "plt.ylabel(\"SSE\")\n",
    "plt.show()"
   ]
  },
  {
   "cell_type": "code",
   "execution_count": 100,
   "metadata": {},
   "outputs": [
    {
     "data": {
      "text/plain": [
       "4"
      ]
     },
     "execution_count": 100,
     "metadata": {},
     "output_type": "execute_result"
    }
   ],
   "source": [
    "kl = KneeLocator(range(1, 11), sse, curve=\"convex\", direction=\"decreasing\")\n",
    "kl.elbow"
   ]
  },
  {
   "cell_type": "code",
   "execution_count": 243,
   "metadata": {},
   "outputs": [],
   "source": [
    "# To do: label docs to cluster, match new query to cluster and retrieve docs in that cluster"
   ]
  },
  {
   "cell_type": "markdown",
   "metadata": {},
   "source": [
    "## ^ Not sure if this method makes sense? Like if we alr have the embeddings for each sentence, is there any benefit of clustering over direct cosine similarity?"
   ]
  },
  {
   "cell_type": "code",
   "execution_count": null,
   "metadata": {},
   "outputs": [],
   "source": []
  },
  {
   "cell_type": "markdown",
   "metadata": {},
   "source": [
    "## Method 8: Topic Modelling (LDA)\n",
    "https://www.machinelearningplus.com/nlp/topic-modeling-gensim-python/"
   ]
  },
  {
   "cell_type": "code",
   "execution_count": 101,
   "metadata": {},
   "outputs": [],
   "source": [
    "import re\n",
    "import numpy as np\n",
    "import pandas as pd\n",
    "from pprint import pprint\n",
    "\n",
    "# Gensim\n",
    "import gensim\n",
    "import gensim.corpora as corpora\n",
    "from gensim.utils import simple_preprocess\n",
    "from gensim.models import CoherenceModel\n",
    "\n",
    "# spacy for lemmatization\n",
    "import spacy\n",
    "\n",
    "# Plotting tools\n",
    "import pyLDAvis\n",
    "# import pyLDAvis.gensim  # don't skip this\n",
    "import matplotlib.pyplot as plt\n",
    "%matplotlib inline\n",
    "\n",
    "# Enable logging for gensim - optional\n",
    "import logging\n",
    "logging.basicConfig(format='%(asctime)s : %(levelname)s : %(message)s', level=logging.ERROR)\n",
    "\n",
    "import warnings\n",
    "warnings.filterwarnings(\"ignore\",category=DeprecationWarning)"
   ]
  },
  {
   "cell_type": "code",
   "execution_count": 102,
   "metadata": {},
   "outputs": [
    {
     "name": "stdout",
     "output_type": "stream",
     "text": [
      "[['first', 'president', 'united', 'state', 'george', 'washington', 'inaugurated', 'first', 'united', 'state', 'congress', 'supreme', 'court', 'united', 'state', 'assembled', 'first', 'time', 'united', 'state', 'bill', 'right', 'drafted', 'federal', 'hall', 'wall', 'street', 'new', 'york', 'last', 'capital', 'article', 'confederation', 'first', 'capital', 'constitution', 'united', 'state', 'assembly', 'congress', 'confederation', 'made', 'new', 'york', 'national', 'capital', 'shortly', 'war']]\n"
     ]
    }
   ],
   "source": [
    "sentences = list(df['extractive_summarized_3_sent'])\n",
    "\n",
    "def sent_to_words(sentences):\n",
    "    for sentence in sentences:\n",
    "        yield(gensim.utils.simple_preprocess(str(sentence), deacc=True))  # deacc=True removes punctuations\n",
    "\n",
    "data_words = list(sent_to_words(sentences))\n",
    "\n",
    "print(data_words[:1])"
   ]
  },
  {
   "cell_type": "code",
   "execution_count": 103,
   "metadata": {},
   "outputs": [
    {
     "name": "stdout",
     "output_type": "stream",
     "text": [
      "['first', 'president', 'united', 'state', 'george', 'washington', 'inaugurated', 'first', 'united', 'state', 'congress', 'supreme', 'court', 'united', 'state', 'assembled', 'first', 'time', 'united', 'state', 'bill', 'right', 'drafted', 'federal', 'hall', 'wall', 'street', 'new_york', 'last', 'capital', 'article', 'confederation', 'first', 'capital', 'constitution', 'united', 'state', 'assembly', 'congress', 'confederation', 'made', 'new_york', 'national', 'capital', 'shortly', 'war']\n"
     ]
    }
   ],
   "source": [
    "# Build the bigram and trigram models\n",
    "bigram = gensim.models.Phrases(data_words, min_count=5, threshold=100) # higher threshold fewer phrases.\n",
    "trigram = gensim.models.Phrases(bigram[data_words], threshold=100)  \n",
    "\n",
    "# Faster way to get a sentence clubbed as a trigram/bigram\n",
    "bigram_mod = gensim.models.phrases.Phraser(bigram)\n",
    "trigram_mod = gensim.models.phrases.Phraser(trigram)\n",
    "\n",
    "# See trigram example\n",
    "print(trigram_mod[bigram_mod[data_words[0]]])"
   ]
  },
  {
   "cell_type": "code",
   "execution_count": 104,
   "metadata": {},
   "outputs": [],
   "source": [
    "def make_bigrams(texts):\n",
    "    return [bigram_mod[doc] for doc in texts]"
   ]
  },
  {
   "cell_type": "code",
   "execution_count": 105,
   "metadata": {},
   "outputs": [],
   "source": [
    "# Form Bigrams\n",
    "data_words_bigrams = make_bigrams(data_words)"
   ]
  },
  {
   "cell_type": "code",
   "execution_count": 106,
   "metadata": {},
   "outputs": [
    {
     "name": "stdout",
     "output_type": "stream",
     "text": [
      "[['first', 'president', 'united', 'state', 'george', 'washington', 'inaugurated', 'first', 'united', 'state', 'congress', 'supreme', 'court', 'united', 'state', 'assembled', 'first', 'time', 'united', 'state', 'bill', 'right', 'drafted', 'federal', 'hall', 'wall', 'street', 'new_york', 'last', 'capital', 'article', 'confederation', 'first', 'capital', 'constitution', 'united', 'state', 'assembly', 'congress', 'confederation', 'made', 'new_york', 'national', 'capital', 'shortly', 'war']]\n"
     ]
    }
   ],
   "source": [
    "print(data_words_bigrams[:1])"
   ]
  },
  {
   "cell_type": "code",
   "execution_count": 107,
   "metadata": {},
   "outputs": [
    {
     "name": "stdout",
     "output_type": "stream",
     "text": [
      "[[(0, 1), (1, 1), (2, 1), (3, 1), (4, 3), (5, 2), (6, 2), (7, 1), (8, 1), (9, 1), (10, 1), (11, 4), (12, 1), (13, 1), (14, 1), (15, 1), (16, 1), (17, 1), (18, 2), (19, 1), (20, 1), (21, 1), (22, 5), (23, 1), (24, 1), (25, 1), (26, 5), (27, 1), (28, 1), (29, 1)]]\n"
     ]
    }
   ],
   "source": [
    "# Create Dictionary\n",
    "id2word = corpora.Dictionary(data_words_bigrams)\n",
    "\n",
    "# Create Corpus\n",
    "texts = data_words_bigrams\n",
    "\n",
    "# Term Document Frequency\n",
    "corpus = [id2word.doc2bow(text) for text in texts]\n",
    "\n",
    "# View\n",
    "print(corpus[:1])"
   ]
  },
  {
   "cell_type": "markdown",
   "metadata": {},
   "source": [
    "### Building LDA Mallet Model"
   ]
  },
  {
   "cell_type": "code",
   "execution_count": 109,
   "metadata": {},
   "outputs": [],
   "source": [
    "import os\n",
    "os.environ.update({'MALLET_HOME':'C:/Users/User/Documents/GitHub/tmproj/document_retrieval/lda_mallet/mallet-2.0.8/'})\n",
    "\n",
    "mallet_path = 'C:/Users/User/Documents/GitHub/tmproj/document_retrieval/lda_mallet/mallet-2.0.8/bin/mallet' # update this path"
   ]
  },
  {
   "cell_type": "markdown",
   "metadata": {},
   "source": [
    "### Training LDA Mallet with Optimal Number of Topics"
   ]
  },
  {
   "cell_type": "code",
   "execution_count": 110,
   "metadata": {},
   "outputs": [],
   "source": [
    "def compute_coherence_values(dictionary, corpus, texts, limit, start=2, step=3):\n",
    "    \"\"\"\n",
    "    Compute c_v coherence for various number of topics\n",
    "\n",
    "    Parameters:\n",
    "    ----------\n",
    "    dictionary : Gensim dictionary\n",
    "    corpus : Gensim corpus\n",
    "    texts : List of input texts\n",
    "    limit : Max num of topics\n",
    "\n",
    "    Returns:\n",
    "    -------\n",
    "    model_list : List of LDA topic models\n",
    "    coherence_values : Coherence values corresponding to the LDA model with respective number of topics\n",
    "    \"\"\"\n",
    "    coherence_values = []\n",
    "    model_list = []\n",
    "    for num_topics in range(start, limit, step):\n",
    "        model = gensim.models.wrappers.LdaMallet(mallet_path, corpus=corpus, num_topics=num_topics, id2word=id2word)\n",
    "        model_list.append(model)\n",
    "        coherencemodel = CoherenceModel(model=model, texts=texts, dictionary=dictionary, coherence='c_v')\n",
    "        coherence_values.append(coherencemodel.get_coherence())\n",
    "\n",
    "    return model_list, coherence_values"
   ]
  },
  {
   "cell_type": "code",
   "execution_count": 111,
   "metadata": {},
   "outputs": [],
   "source": [
    "# Can take a long time to run.\n",
    "model_list, coherence_values = compute_coherence_values(dictionary=id2word, corpus=corpus, texts=data_words_bigrams, start=2, limit=40, step=6)"
   ]
  },
  {
   "cell_type": "code",
   "execution_count": 310,
   "metadata": {},
   "outputs": [
    {
     "data": {
      "image/png": "[encoded data removed]",
      "text/plain": [
       "<Figure size 432x288 with 1 Axes>"
      ]
     },
     "metadata": {
      "needs_background": "light"
     },
     "output_type": "display_data"
    }
   ],
   "source": [
    "# Show graph\n",
    "limit=40; start=2; step=6;\n",
    "x = range(start, limit, step)\n",
    "plt.plot(x, coherence_values)\n",
    "plt.xlabel(\"Num Topics\")\n",
    "plt.ylabel(\"Coherence score\")\n",
    "plt.legend((\"coherence_values\"), loc='best')\n",
    "plt.show()"
   ]
  },
  {
   "cell_type": "code",
   "execution_count": 311,
   "metadata": {},
   "outputs": [
    {
     "name": "stdout",
     "output_type": "stream",
     "text": [
      "Num Topics = 2  has Coherence Value of 0.2558\n",
      "Num Topics = 8  has Coherence Value of 0.4835\n",
      "Num Topics = 14  has Coherence Value of 0.5382\n",
      "Num Topics = 20  has Coherence Value of 0.5612\n",
      "Num Topics = 26  has Coherence Value of 0.5837\n",
      "Num Topics = 32  has Coherence Value of 0.5734\n",
      "Num Topics = 38  has Coherence Value of 0.5792\n"
     ]
    }
   ],
   "source": [
    "# Print the coherence scores\n",
    "for m, cv in zip(x, coherence_values):\n",
    "    print(\"Num Topics =\", m, \" has Coherence Value of\", round(cv, 4))"
   ]
  },
  {
   "cell_type": "code",
   "execution_count": 312,
   "metadata": {},
   "outputs": [
    {
     "name": "stdout",
     "output_type": "stream",
     "text": [
      "[(9,\n",
      "  '0.023*\"john\" + 0.014*\"woman\" + 0.013*\"death\" + 0.013*\"king\" + '\n",
      "  '0.013*\"family\" + 0.010*\"royal\" + 0.010*\"men\" + 0.008*\"father\" + 0.008*\"son\" '\n",
      "  '+ 0.007*\"william\"'),\n",
      " (20,\n",
      "  '0.047*\"language\" + 0.035*\"term\" + 0.027*\"form\" + 0.022*\"english\" + '\n",
      "  '0.022*\"word\" + 0.019*\"character\" + 0.014*\"common\" + 0.012*\"standard\" + '\n",
      "  '0.011*\"meaning\" + 0.011*\"written\"'),\n",
      " (10,\n",
      "  '0.027*\"company\" + 0.025*\"million\" + 0.022*\"world\" + 0.020*\"country\" + '\n",
      "  '0.019*\"development\" + 0.014*\"economic\" + 0.014*\"industry\" + 0.012*\"market\" '\n",
      "  '+ 0.011*\"billion\" + 0.010*\"economy\"'),\n",
      " (16,\n",
      "  '0.029*\"th_century\" + 0.024*\"de\" + 0.021*\"early\" + 0.020*\"began\" + '\n",
      "  '0.019*\"india\" + 0.018*\"european\" + 0.017*\"europe\" + 0.016*\"late\" + '\n",
      "  '0.015*\"end\" + 0.014*\"established\"'),\n",
      " (23,\n",
      "  '0.047*\"population\" + 0.044*\"people\" + 0.024*\"american\" + 0.019*\"group\" + '\n",
      "  '0.018*\"community\" + 0.018*\"black\" + 0.018*\"number\" + 0.016*\"country\" + '\n",
      "  '0.015*\"white\" + 0.015*\"child\"'),\n",
      " (6,\n",
      "  '0.055*\"state\" + 0.033*\"law\" + 0.032*\"government\" + 0.023*\"party\" + '\n",
      "  '0.016*\"president\" + 0.016*\"court\" + 0.016*\"federal\" + 0.014*\"member\" + '\n",
      "  '0.013*\"political\" + 0.012*\"council\"'),\n",
      " (21,\n",
      "  '0.020*\"service\" + 0.015*\"medium\" + 0.013*\"television\" + 0.011*\"network\" + '\n",
      "  '0.011*\"time\" + 0.009*\"published\" + 0.009*\"announced\" + 0.008*\"based\" + '\n",
      "  '0.008*\"communication\" + 0.008*\"station\"'),\n",
      " (18,\n",
      "  '0.027*\"church\" + 0.018*\"religious\" + 0.018*\"god\" + 0.015*\"christian\" + '\n",
      "  '0.012*\"religion\" + 0.010*\"muslim\" + 0.010*\"movement\" + 0.010*\"tradition\" + '\n",
      "  '0.009*\"practice\" + 0.009*\"scholar\"'),\n",
      " (12,\n",
      "  '0.104*\"city\" + 0.015*\"new_york\" + 0.015*\"largest\" + 0.014*\"area\" + '\n",
      "  '0.014*\"park\" + 0.014*\"street\" + 0.012*\"town\" + 0.012*\"major\" + '\n",
      "  '0.012*\"district\" + 0.011*\"line\"'),\n",
      " (5,\n",
      "  '0.024*\"specie\" + 0.019*\"plant\" + 0.018*\"human\" + 0.018*\"found\" + '\n",
      "  '0.013*\"animal\" + 0.013*\"group\" + 0.012*\"life\" + 0.012*\"bird\" + '\n",
      "  '0.012*\"including\" + 0.011*\"number\"'),\n",
      " (7,\n",
      "  '0.029*\"force\" + 0.026*\"war\" + 0.024*\"army\" + 0.017*\"military\" + '\n",
      "  '0.015*\"general\" + 0.013*\"battle\" + 0.012*\"operation\" + 0.010*\"attack\" + '\n",
      "  '0.010*\"british\" + 0.009*\"air\"'),\n",
      " (17,\n",
      "  '0.033*\"music\" + 0.018*\"record\" + 0.013*\"work\" + 0.013*\"house\" + '\n",
      "  '0.012*\"number\" + 0.012*\"song\" + 0.011*\"popular\" + 0.011*\"artist\" + '\n",
      "  '0.010*\"single\" + 0.009*\"album\"'),\n",
      " (24,\n",
      "  '0.049*\"system\" + 0.014*\"computer\" + 0.013*\"data\" + 0.011*\"device\" + '\n",
      "  '0.010*\"design\" + 0.010*\"information\" + 0.009*\"standard\" + 0.009*\"window\" + '\n",
      "  '0.009*\"model\" + 0.008*\"line\"'),\n",
      " (25,\n",
      "  '0.020*\"light\" + 0.016*\"red\" + 0.012*\"color\" + 0.011*\"green\" + 0.010*\"cell\" '\n",
      "  '+ 0.010*\"led\" + 0.009*\"make\" + 0.009*\"gene\" + 0.009*\"effect\" + '\n",
      "  '0.008*\"structure\"'),\n",
      " (11,\n",
      "  '0.019*\"social\" + 0.014*\"theory\" + 0.011*\"work\" + 0.011*\"study\" + '\n",
      "  '0.010*\"human\" + 0.010*\"group\" + 0.010*\"society\" + 0.009*\"science\" + '\n",
      "  '0.009*\"scientific\" + 0.008*\"idea\"'),\n",
      " (0,\n",
      "  '0.032*\"th_century\" + 0.026*\"greek\" + 0.022*\"period\" + 0.021*\"modern\" + '\n",
      "  '0.019*\"early\" + 0.018*\"century\" + 0.017*\"roman\" + 0.015*\"culture\" + '\n",
      "  '0.013*\"bc\" + 0.012*\"building\"'),\n",
      " (4,\n",
      "  '0.022*\"water\" + 0.020*\"energy\" + 0.014*\"material\" + 0.012*\"form\" + '\n",
      "  '0.012*\"source\" + 0.008*\"process\" + 0.008*\"power\" + 0.008*\"made\" + '\n",
      "  '0.007*\"wood\" + 0.007*\"mass\"'),\n",
      " (13,\n",
      "  '0.027*\"order\" + 0.015*\"member\" + 0.014*\"policy\" + 0.014*\"organization\" + '\n",
      "  '0.014*\"public\" + 0.011*\"position\" + 0.010*\"issue\" + 0.009*\"act\" + '\n",
      "  '0.009*\"status\" + 0.009*\"australia\"'),\n",
      " (14,\n",
      "  '0.039*\"area\" + 0.026*\"island\" + 0.025*\"part\" + 0.024*\"north\" + '\n",
      "  '0.024*\"region\" + 0.024*\"south\" + 0.021*\"west\" + 0.019*\"state\" + '\n",
      "  '0.018*\"east\" + 0.015*\"northern\"'),\n",
      " (2,\n",
      "  '0.021*\"empire\" + 0.021*\"french\" + 0.020*\"german\" + 0.019*\"power\" + '\n",
      "  '0.018*\"france\" + 0.018*\"war\" + 0.013*\"germany\" + 0.012*\"part\" + '\n",
      "  '0.012*\"paris\" + 0.012*\"state\"')]\n"
     ]
    }
   ],
   "source": [
    "# Select the model and print the topics\n",
    "optimal_model = model_list[4]\n",
    "model_topics = optimal_model.show_topics(formatted=False)\n",
    "pprint(optimal_model.print_topics(num_words=10))"
   ]
  },
  {
   "cell_type": "code",
   "execution_count": 331,
   "metadata": {},
   "outputs": [],
   "source": [
    "## Save optimal LDA model as pkl file\n",
    "\n",
    "# pickle.dump(optimal_model, open(\"lda_mallet/lda_optimal_model_2_apr.pkl\", \"wb\"))"
   ]
  },
  {
   "cell_type": "code",
   "execution_count": 9,
   "metadata": {},
   "outputs": [],
   "source": [
    "# Load optimal LDA model\n",
    "optimal_lda_loaded = pickle.load(open(\"lda_mallet/lda_optimal_model_2_apr.pkl\", \"rb\"))"
   ]
  },
  {
   "cell_type": "markdown",
   "metadata": {},
   "source": [
    "### Finding the dominant topic in each sentence"
   ]
  },
  {
   "cell_type": "code",
   "execution_count": 19,
   "metadata": {},
   "outputs": [
    {
     "data": {
      "text/html": [
       "<div>\n",
       "<style scoped>\n",
       "    .dataframe tbody tr th:only-of-type {\n",
       "        vertical-align: middle;\n",
       "    }\n",
       "\n",
       "    .dataframe tbody tr th {\n",
       "        vertical-align: top;\n",
       "    }\n",
       "\n",
       "    .dataframe thead th {\n",
       "        text-align: right;\n",
       "    }\n",
       "</style>\n",
       "<table border=\"1\" class=\"dataframe\">\n",
       "  <thead>\n",
       "    <tr style=\"text-align: right;\">\n",
       "      <th></th>\n",
       "      <th>Document_No</th>\n",
       "      <th>Dominant_Topic</th>\n",
       "      <th>Topic_Perc_Contrib</th>\n",
       "      <th>Keywords</th>\n",
       "      <th>Text</th>\n",
       "    </tr>\n",
       "  </thead>\n",
       "  <tbody>\n",
       "    <tr>\n",
       "      <th>0</th>\n",
       "      <td>0</td>\n",
       "      <td>17.0</td>\n",
       "      <td>0.3502</td>\n",
       "      <td>music, record, work, house, number, song, popular, artist, single, album</td>\n",
       "      <td>[born, raised, houston, texas, performed, various, singing, dancing, competition, child, rose, fame, late, lead, singer, girl, group, destiny_child, hiatus, saw, release, beyonce, debut_album, dangerously, love, established, solo_artist, worldwide, earned, five, grammy_award, featured, billboard_hot, number, one, single, crazy, love, baby, boy, beyonce, giselle, knowles, carter, bi, jansei, bee, yon, say, born, september, american, singer_songwriter, record, producer, actress]</td>\n",
       "    </tr>\n",
       "    <tr>\n",
       "      <th>1</th>\n",
       "      <td>1</td>\n",
       "      <td>17.0</td>\n",
       "      <td>0.3887</td>\n",
       "      <td>music, record, work, house, number, song, popular, artist, single, album</td>\n",
       "      <td>[beyonce, took, hiatus, music, took, management, career, fourth, album, subsequently, mellower, tone, exploring, funk, pop, soul, marriage, rapper, jay, portrayal, etta, james, cadillac, record, influenced, third, album, sasha_fierce, saw, birth, alter, ego, sasha_fierce, earned, record, setting, six, grammy_award, including, song, year, single, lady_put, ring, critically, acclaimed, fifth, studio_album, beyonce, distinguished, previous, release, experimental, production, exploration, darker, theme]</td>\n",
       "    </tr>\n",
       "    <tr>\n",
       "      <th>2</th>\n",
       "      <td>2</td>\n",
       "      <td>17.0</td>\n",
       "      <td>0.2720</td>\n",
       "      <td>music, record, work, house, number, song, popular, artist, single, album</td>\n",
       "      <td>[throughout, career, spanning, year, sold, million, record, solo_artist, million, destiny_child, making, one, best_selling, music, artist, time, stage, dynamic, highly, choreographed, performance, led, critic, hailing, one, best, entertainer, contemporary, popular, music, self, described, modern, day, feminist, beyonce, creates, song, often, characterized, theme, love, relationship, monogamy, well, female, sexuality, empowerment]</td>\n",
       "    </tr>\n",
       "  </tbody>\n",
       "</table>\n",
       "</div>"
      ],
      "text/plain": [
       "   Document_No  ...                                                                                                                                                                                                                                                                                                                                                                                                                                                                                                                      Text\n",
       "0  0            ...  [born, raised, houston, texas, performed, various, singing, dancing, competition, child, rose, fame, late, lead, singer, girl, group, destiny_child, hiatus, saw, release, beyonce, debut_album, dangerously, love, established, solo_artist, worldwide, earned, five, grammy_award, featured, billboard_hot, number, one, single, crazy, love, baby, boy, beyonce, giselle, knowles, carter, bi, jansei, bee, yon, say, born, september, american, singer_songwriter, record, producer, actress]                       \n",
       "1  1            ...  [beyonce, took, hiatus, music, took, management, career, fourth, album, subsequently, mellower, tone, exploring, funk, pop, soul, marriage, rapper, jay, portrayal, etta, james, cadillac, record, influenced, third, album, sasha_fierce, saw, birth, alter, ego, sasha_fierce, earned, record, setting, six, grammy_award, including, song, year, single, lady_put, ring, critically, acclaimed, fifth, studio_album, beyonce, distinguished, previous, release, experimental, production, exploration, darker, theme]\n",
       "2  2            ...  [throughout, career, spanning, year, sold, million, record, solo_artist, million, destiny_child, making, one, best_selling, music, artist, time, stage, dynamic, highly, choreographed, performance, led, critic, hailing, one, best, entertainer, contemporary, popular, music, self, described, modern, day, feminist, beyonce, creates, song, often, characterized, theme, love, relationship, monogamy, well, female, sexuality, empowerment]                                                                       \n",
       "\n",
       "[3 rows x 5 columns]"
      ]
     },
     "execution_count": 19,
     "metadata": {},
     "output_type": "execute_result"
    }
   ],
   "source": [
    "def format_topics_sentences(ldamodel, corpus, texts):\n",
    "    # Init output\n",
    "    sent_topics_df = pd.DataFrame()\n",
    "\n",
    "    # Get main topic in each document\n",
    "    for i, row in enumerate(ldamodel[corpus]):\n",
    "        row = sorted(row, key=lambda x: (x[1]), reverse=True)\n",
    "        # Get the Dominant topic, Perc Contribution and Keywords for each document\n",
    "        for j, (topic_num, prop_topic) in enumerate(row):\n",
    "            if j == 0:  # => dominant topic\n",
    "                wp = ldamodel.show_topic(topic_num)\n",
    "                topic_keywords = \", \".join([word for word, prop in wp])\n",
    "                sent_topics_df = sent_topics_df.append(pd.Series([int(topic_num), round(prop_topic,4), topic_keywords]), ignore_index=True)\n",
    "            else:\n",
    "                break\n",
    "    sent_topics_df.columns = ['Dominant_Topic', 'Perc_Contribution', 'Topic_Keywords']\n",
    "\n",
    "    # Add original text to the end of the output\n",
    "    contents = pd.Series(texts)\n",
    "    sent_topics_df = pd.concat([sent_topics_df, contents], axis=1)\n",
    "    return(sent_topics_df)\n",
    "\n",
    "\n",
    "df_topic_sents_keywords = format_topics_sentences(ldamodel=optimal_lda_loaded, corpus=corpus, texts=data_words_bigrams)\n",
    "\n",
    "# Format\n",
    "df_dominant_topic = df_topic_sents_keywords.reset_index()\n",
    "df_dominant_topic.columns = ['Document_No', 'Dominant_Topic', 'Topic_Perc_Contrib', 'Keywords', 'Text']\n",
    "\n",
    "# Show\n",
    "df_dominant_topic.head(3)"
   ]
  },
  {
   "cell_type": "code",
   "execution_count": 20,
   "metadata": {},
   "outputs": [
    {
     "data": {
      "text/html": [
       "<div>\n",
       "<style scoped>\n",
       "    .dataframe tbody tr th:only-of-type {\n",
       "        vertical-align: middle;\n",
       "    }\n",
       "\n",
       "    .dataframe tbody tr th {\n",
       "        vertical-align: top;\n",
       "    }\n",
       "\n",
       "    .dataframe thead th {\n",
       "        text-align: right;\n",
       "    }\n",
       "</style>\n",
       "<table border=\"1\" class=\"dataframe\">\n",
       "  <thead>\n",
       "    <tr style=\"text-align: right;\">\n",
       "      <th></th>\n",
       "      <th>Dominant_Topic</th>\n",
       "      <th>Perc_Contribution</th>\n",
       "      <th>Topic_Keywords</th>\n",
       "      <th>0</th>\n",
       "    </tr>\n",
       "  </thead>\n",
       "  <tbody>\n",
       "    <tr>\n",
       "      <th>0</th>\n",
       "      <td>17.0</td>\n",
       "      <td>0.3502</td>\n",
       "      <td>music, record, work, house, number, song, popular, artist, single, album</td>\n",
       "      <td>[born, raised, houston, texas, performed, various, singing, dancing, competition, child, rose, fame, late, lead, singer, girl, group, destiny_child, hiatus, saw, release, beyonce, debut_album, dangerously, love, established, solo_artist, worldwide, earned, five, grammy_award, featured, billboard_hot, number, one, single, crazy, love, baby, boy, beyonce, giselle, knowles, carter, bi, jansei, bee, yon, say, born, september, american, singer_songwriter, record, producer, actress]</td>\n",
       "    </tr>\n",
       "    <tr>\n",
       "      <th>1</th>\n",
       "      <td>17.0</td>\n",
       "      <td>0.3887</td>\n",
       "      <td>music, record, work, house, number, song, popular, artist, single, album</td>\n",
       "      <td>[beyonce, took, hiatus, music, took, management, career, fourth, album, subsequently, mellower, tone, exploring, funk, pop, soul, marriage, rapper, jay, portrayal, etta, james, cadillac, record, influenced, third, album, sasha_fierce, saw, birth, alter, ego, sasha_fierce, earned, record, setting, six, grammy_award, including, song, year, single, lady_put, ring, critically, acclaimed, fifth, studio_album, beyonce, distinguished, previous, release, experimental, production, exploration, darker, theme]</td>\n",
       "    </tr>\n",
       "    <tr>\n",
       "      <th>2</th>\n",
       "      <td>17.0</td>\n",
       "      <td>0.2720</td>\n",
       "      <td>music, record, work, house, number, song, popular, artist, single, album</td>\n",
       "      <td>[throughout, career, spanning, year, sold, million, record, solo_artist, million, destiny_child, making, one, best_selling, music, artist, time, stage, dynamic, highly, choreographed, performance, led, critic, hailing, one, best, entertainer, contemporary, popular, music, self, described, modern, day, feminist, beyonce, creates, song, often, characterized, theme, love, relationship, monogamy, well, female, sexuality, empowerment]</td>\n",
       "    </tr>\n",
       "    <tr>\n",
       "      <th>3</th>\n",
       "      <td>17.0</td>\n",
       "      <td>0.1815</td>\n",
       "      <td>music, record, work, house, number, song, popular, artist, single, album</td>\n",
       "      <td>[beyonce, giselle, knowles, born, houston, texas, celestine, ann, tina, knowles, nee, beyince, hairdresser, salon, owner, mathew, knowles, xerox, sale, manager, beyonce, name, tribute, mother, maiden, name, beyonce, younger, sister, solange, also, singer, former, member, destiny_child]</td>\n",
       "    </tr>\n",
       "    <tr>\n",
       "      <th>4</th>\n",
       "      <td>17.0</td>\n",
       "      <td>0.2467</td>\n",
       "      <td>music, record, work, house, number, song, popular, artist, single, album</td>\n",
       "      <td>[fall, beyonce, enrolled, parker, elementary_school, music, magnet, school, houston, would, perform, school, choir, beyonce, interest, music, performing, continued, winning, school, talent, show, age, seven, singing, john_lennon, imagine, beat, year, old, singing, talent, discovered, dance, instructor, darlette, johnson, began, humming, song, finished, able, hit, high, pitched, note]</td>\n",
       "    </tr>\n",
       "    <tr>\n",
       "      <th>...</th>\n",
       "      <td>...</td>\n",
       "      <td>...</td>\n",
       "      <td>...</td>\n",
       "      <td>...</td>\n",
       "    </tr>\n",
       "    <tr>\n",
       "      <th>18872</th>\n",
       "      <td>1.0</td>\n",
       "      <td>0.3722</td>\n",
       "      <td>university, school, national, college, student, education, public, including, research, building</td>\n",
       "      <td>[number, medical, college, including, kathmandu, medical, college, nepal, medical, college, kist, medical, college, nepal, army, institute, health, science, national, academy, medical, science, nams, kathmandu, university, school, medical, science, kusms, also, located, around, kathmandu, institute, medicine, central, college, tribhuwan, university, first, medical, college, nepal, located, maharajgunj, kathmandu, established, started, impart, medical, education]</td>\n",
       "    </tr>\n",
       "    <tr>\n",
       "      <th>18873</th>\n",
       "      <td>19.0</td>\n",
       "      <td>0.1942</td>\n",
       "      <td>world, game, team, season, club, league, year, series, home, final</td>\n",
       "      <td>[international, football, stadium, city, dasarath, rangasala, stadium, multi, purpose, stadium, used, mostly, football, match, cultural, event, located, neighborhood, tripureshwor, football, cricket, popular, sport, among, younger, generation, nepal, several, stadium, city, stadium, renovated, chinese, help, th, south, asian, game, held, kathmandu, floodlight, installed]</td>\n",
       "    </tr>\n",
       "    <tr>\n",
       "      <th>18874</th>\n",
       "      <td>10.0</td>\n",
       "      <td>0.1158</td>\n",
       "      <td>company, million, world, country, development, economic, industry, market, billion, economy</td>\n",
       "      <td>[fairly, large, network, helped, economic, development, country, particularly, field, agriculture, horticulture, vegetable, farming, industry, also, tourism, view, hilly, terrain, transportation, take_place, kathmandu, mainly, road, air, total, length, road, nepal, recorded, km_mi]</td>\n",
       "    </tr>\n",
       "    <tr>\n",
       "      <th>18875</th>\n",
       "      <td>12.0</td>\n",
       "      <td>0.2004</td>\n",
       "      <td>city, new_york, largest, area, park, street, town, major, district, line</td>\n",
       "      <td>[main, international_airport, serving, kathmandu, thus, nepal, tribhuvan, international_airport, located, six, kilometer, km_mi, city, centre, recent, extension, international, terminal, made, distance, airplane, shorter, october, became, possible, fly, directly, kathmandu, amsterdam, arkefly, regionally, several, nepali, airline, operate, city, including, agni, air, buddha, air, cosmic, air, nepal, airline, yeti, airline, major, town, across, nepal]</td>\n",
       "    </tr>\n",
       "    <tr>\n",
       "      <th>18876</th>\n",
       "      <td>15.0</td>\n",
       "      <td>0.2129</td>\n",
       "      <td>country, china, government, chinese, nation, people, international, soviet, political, united</td>\n",
       "      <td>[kmc, constant, endeavor, enhance, interaction, saarc, country, international, agency, many, major, city, world, achieve, better, urban, management, developmental, program, kathmandu, kathmandu, metropolitan, city, kmc, order, promote, international, relation, established, international, relation, secretariat, irc, activity, enhanced, establishing, formal, relationship, city, motsumoto, city, japan, rochester, usa, yangon, formerly, rangoon, myanmar, xi, people, republic_china, minsk, belarus, pyongyang, democratic, republic, korea]</td>\n",
       "    </tr>\n",
       "  </tbody>\n",
       "</table>\n",
       "<p>18877 rows × 4 columns</p>\n",
       "</div>"
      ],
      "text/plain": [
       "       Dominant_Topic  ...                                                                                                                                                                                                                                                                                                                                                                                                                                                                                                                                                           0\n",
       "0      17.0            ...  [born, raised, houston, texas, performed, various, singing, dancing, competition, child, rose, fame, late, lead, singer, girl, group, destiny_child, hiatus, saw, release, beyonce, debut_album, dangerously, love, established, solo_artist, worldwide, earned, five, grammy_award, featured, billboard_hot, number, one, single, crazy, love, baby, boy, beyonce, giselle, knowles, carter, bi, jansei, bee, yon, say, born, september, american, singer_songwriter, record, producer, actress]                                                         \n",
       "1      17.0            ...  [beyonce, took, hiatus, music, took, management, career, fourth, album, subsequently, mellower, tone, exploring, funk, pop, soul, marriage, rapper, jay, portrayal, etta, james, cadillac, record, influenced, third, album, sasha_fierce, saw, birth, alter, ego, sasha_fierce, earned, record, setting, six, grammy_award, including, song, year, single, lady_put, ring, critically, acclaimed, fifth, studio_album, beyonce, distinguished, previous, release, experimental, production, exploration, darker, theme]                                  \n",
       "2      17.0            ...  [throughout, career, spanning, year, sold, million, record, solo_artist, million, destiny_child, making, one, best_selling, music, artist, time, stage, dynamic, highly, choreographed, performance, led, critic, hailing, one, best, entertainer, contemporary, popular, music, self, described, modern, day, feminist, beyonce, creates, song, often, characterized, theme, love, relationship, monogamy, well, female, sexuality, empowerment]                                                                                                         \n",
       "3      17.0            ...  [beyonce, giselle, knowles, born, houston, texas, celestine, ann, tina, knowles, nee, beyince, hairdresser, salon, owner, mathew, knowles, xerox, sale, manager, beyonce, name, tribute, mother, maiden, name, beyonce, younger, sister, solange, also, singer, former, member, destiny_child]                                                                                                                                                                                                                                                            \n",
       "4      17.0            ...  [fall, beyonce, enrolled, parker, elementary_school, music, magnet, school, houston, would, perform, school, choir, beyonce, interest, music, performing, continued, winning, school, talent, show, age, seven, singing, john_lennon, imagine, beat, year, old, singing, talent, discovered, dance, instructor, darlette, johnson, began, humming, song, finished, able, hit, high, pitched, note]                                                                                                                                                        \n",
       "...     ...            ...                                                                                                                                                                                                                                                                                                                                                                                                 ...                                                                                                                                                        \n",
       "18872  1.0             ...  [number, medical, college, including, kathmandu, medical, college, nepal, medical, college, kist, medical, college, nepal, army, institute, health, science, national, academy, medical, science, nams, kathmandu, university, school, medical, science, kusms, also, located, around, kathmandu, institute, medicine, central, college, tribhuwan, university, first, medical, college, nepal, located, maharajgunj, kathmandu, established, started, impart, medical, education]                                                                        \n",
       "18873  19.0            ...  [international, football, stadium, city, dasarath, rangasala, stadium, multi, purpose, stadium, used, mostly, football, match, cultural, event, located, neighborhood, tripureshwor, football, cricket, popular, sport, among, younger, generation, nepal, several, stadium, city, stadium, renovated, chinese, help, th, south, asian, game, held, kathmandu, floodlight, installed]                                                                                                                                                                     \n",
       "18874  10.0            ...  [fairly, large, network, helped, economic, development, country, particularly, field, agriculture, horticulture, vegetable, farming, industry, also, tourism, view, hilly, terrain, transportation, take_place, kathmandu, mainly, road, air, total, length, road, nepal, recorded, km_mi]                                                                                                                                                                                                                                                                \n",
       "18875  12.0            ...  [main, international_airport, serving, kathmandu, thus, nepal, tribhuvan, international_airport, located, six, kilometer, km_mi, city, centre, recent, extension, international, terminal, made, distance, airplane, shorter, october, became, possible, fly, directly, kathmandu, amsterdam, arkefly, regionally, several, nepali, airline, operate, city, including, agni, air, buddha, air, cosmic, air, nepal, airline, yeti, airline, major, town, across, nepal]                                                                                    \n",
       "18876  15.0            ...  [kmc, constant, endeavor, enhance, interaction, saarc, country, international, agency, many, major, city, world, achieve, better, urban, management, developmental, program, kathmandu, kathmandu, metropolitan, city, kmc, order, promote, international, relation, established, international, relation, secretariat, irc, activity, enhanced, establishing, formal, relationship, city, motsumoto, city, japan, rochester, usa, yangon, formerly, rangoon, myanmar, xi, people, republic_china, minsk, belarus, pyongyang, democratic, republic, korea]\n",
       "\n",
       "[18877 rows x 4 columns]"
      ]
     },
     "execution_count": 20,
     "metadata": {},
     "output_type": "execute_result"
    }
   ],
   "source": [
    "df_topic_sents_keywords"
   ]
  },
  {
   "cell_type": "markdown",
   "metadata": {},
   "source": [
    "### Find the most representative document for each topic"
   ]
  },
  {
   "cell_type": "code",
   "execution_count": 21,
   "metadata": {},
   "outputs": [
    {
     "data": {
      "text/html": [
       "<div>\n",
       "<style scoped>\n",
       "    .dataframe tbody tr th:only-of-type {\n",
       "        vertical-align: middle;\n",
       "    }\n",
       "\n",
       "    .dataframe tbody tr th {\n",
       "        vertical-align: top;\n",
       "    }\n",
       "\n",
       "    .dataframe thead th {\n",
       "        text-align: right;\n",
       "    }\n",
       "</style>\n",
       "<table border=\"1\" class=\"dataframe\">\n",
       "  <thead>\n",
       "    <tr style=\"text-align: right;\">\n",
       "      <th></th>\n",
       "      <th>Topic_Num</th>\n",
       "      <th>Topic_Perc_Contrib</th>\n",
       "      <th>Keywords</th>\n",
       "      <th>Text</th>\n",
       "    </tr>\n",
       "  </thead>\n",
       "  <tbody>\n",
       "    <tr>\n",
       "      <th>0</th>\n",
       "      <td>0.0</td>\n",
       "      <td>0.3762</td>\n",
       "      <td>th_century, greek, period, modern, early, century, roman, culture, bc, building</td>\n",
       "      <td>[notable, modern, greek, artist, include, renaissance, painter, dominikos, theotokopoulos, el, greco, panagiotis, doxaras, nikolaos, gyzis, nikiphoros, lytras, yannis, tsarouchis, nikos, engonopoulos, constantine, andreou, jannis, kounellis, sculptor, leonidas, drosis, georgios, bonanos, yannoulis, chalepas, joannis, avramidis, conductor, dimitri, mitropoulos, soprano, maria, calla, composer, mikis, theodorakis, nikos, skalkottas, iannis, xenakis, manos, hatzidakis, eleni, karaindrou, yanni, vangelis, one, best_selling, singer, worldwide, nana, mouskouri, poet, kostis, palamas, dionysios, solomos, angelos, sikelianos, yannis, ritsos, alexandrian, constantine, cavafy, nobel_laureate, giorgos, seferis, odysseas, elytis, among, important, poet, th_century, novel, also, represented, alexandros, papadiamantis, nikos, kazantzakis]</td>\n",
       "    </tr>\n",
       "    <tr>\n",
       "      <th>1</th>\n",
       "      <td>1.0</td>\n",
       "      <td>0.5058</td>\n",
       "      <td>university, school, national, college, student, education, public, including, research, building</td>\n",
       "      <td>[year, later, university, north_carolina, system, encompasses, public, university, including, north_carolina, state, university, north_carolina, state, university, north_carolina, central, university, university, north_carolina, chapel_hill, university, north_carolina, greensboro, east, carolina, university, western, carolina, university, winston_salem, state, university, university, north_carolina, asheville, university, north_carolina, charlotte, university, north_carolina, pembroke, unc, wilmington, elizabeth, city, state, university, appalachian, state, university, fayetteville, state, university, unc, school, art, along, public, university, north_carolina, public, community, college, community, college, system, largest, university, north_carolina, currently, north_carolina, state, university, student, north_carolina, home, many, excellent, university, well, dozen, community, college, private, university]</td>\n",
       "    </tr>\n",
       "    <tr>\n",
       "      <th>2</th>\n",
       "      <td>2.0</td>\n",
       "      <td>0.4185</td>\n",
       "      <td>empire, french, german, power, france, war, germany, part, paris, state</td>\n",
       "      <td>[ottoman_empire, at, ottoman, turkish, dawlati, aliywh, uthmaniywh, devlet, aliyye, osmaniyye, modern, turkish, osmanli, imparatorlugu, osmanli, devleti, also, known, turkish, empire, ottoman, turkey, turkey, empire, founded, oghuz, turk, osman, northwestern, anatolia, conquest, balkan, murad, ottoman, sultanate, transformed, empire, claimant, caliphate, ottoman, ended, byzantine_empire, conquest, constantinople, mehmed, conqueror]</td>\n",
       "    </tr>\n",
       "    <tr>\n",
       "      <th>3</th>\n",
       "      <td>3.0</td>\n",
       "      <td>0.4221</td>\n",
       "      <td>high, due, film, current, level, le, low, result, rate, higher</td>\n",
       "      <td>[addition, lower, radiation_resistance, reactance, becomes, higher, antenna, size, reduced, resonant, circuit, formed, antenna, tuning, coil, factor, rise, eventually, cause, bandwidth, antenna, inadequate, signal, transmitted, example, mhz, wavelength, true, resonant, wavelength, monopole, would, almost, meter, long, using, antenna, meter, tall, would, require, addition, loading, coil, however, resulting, resistive, impedance, achieved, quite, bit, lower, impedance, resonant, monopole, likely, requiring, impedance_matching]</td>\n",
       "    </tr>\n",
       "    <tr>\n",
       "      <th>4</th>\n",
       "      <td>4.0</td>\n",
       "      <td>0.4447</td>\n",
       "      <td>water, energy, material, form, source, process, power, made, wood, mass</td>\n",
       "      <td>[ortho, para, ratio, condensed, important, consideration, preparation, storage, liquid, hydrogen, conversion, ortho, para, exothermic, produce, enough, heat, evaporate, hydrogen, liquid, leading, loss, liquefied, material, uncatalyzed, interconversion, para, ortho, increase, increasing, temperature, thus, rapidly, condensed, contains, large, quantity, high, energy, ortho, form, convert, para, form, slowly, catalyst, ortho, para, interconversion, ferric, oxide, activated, carbon, platinized, asbestos, rare, earth, metal, uranium, compound, chromic, oxide, nickel, compound, used, hydrogen, cooling]</td>\n",
       "    </tr>\n",
       "    <tr>\n",
       "      <th>5</th>\n",
       "      <td>5.0</td>\n",
       "      <td>0.4140</td>\n",
       "      <td>specie, plant, human, found, animal, group, life, bird, including, number</td>\n",
       "      <td>[montana, department, fish_wildlife, park, manages, fishing, hunting, season, least, specie, game, fish, including, seven, specie, trout, walleye, smallmouth, bass, least, specie, game, bird, animal, including, ring, neck, pheasant, grey, partridge, elk, pronghorn, antelope, mule, deer, whitetail, deer, gray_wolf, bighorn, sheep, montana, host, five, federally, endangered, species, black, footed, ferret, whooping, crane, least, tern, pallid, sturgeon, white, sturgeon, seven, threatened, specie, including, grizzly, bear, canadian, lynx, bull, trout, montana, home, diverse, array, fauna, includes, amphibian, fish, mammal, reptile, bird, specie]</td>\n",
       "    </tr>\n",
       "    <tr>\n",
       "      <th>6</th>\n",
       "      <td>6.0</td>\n",
       "      <td>0.4228</td>\n",
       "      <td>state, law, government, party, president, court, federal, member, political, council</td>\n",
       "      <td>[superior, court_justice, tribunal, superior, de, justica, review, state, federal, circuit, court, decision, civil, law, criminal, law, case, dealing, federal, law, conflicting, ruling, also, judge, original, jurisdiction, case, involving, member, congress, senator, minister, state, member, high, court, president, vice_president, republic, superior, electoral, tribunal, tribunal, superior, eleitoral, court, last, resort, electoral, law, also, oversees, general, election]</td>\n",
       "    </tr>\n",
       "    <tr>\n",
       "      <th>7</th>\n",
       "      <td>7.0</td>\n",
       "      <td>0.4300</td>\n",
       "      <td>force, war, army, military, general, battle, operation, attack, british, air</td>\n",
       "      <td>[spite, superiority, japanese, land, force, ultimately, two, expedition, failed, though, devastate, korean, landmass, factor, korean, naval, superiority, led, admiral, yi, sun, shin, harassed, japanese, supply, line, continuously, throughout, war, resulting, supply, shortage, land, commitment, sizeable, ming, force, korea, korean, guerrilla, action, underestimation, resistance, japanese, commander, first, campaign, korean, defense, land, caught, unprepared, trained, armed, rapidly, overrun, limited, number, successfully, resistant, engagement, experienced, battle, hardened, japanese, force, second, campaign, korean, ming, force, proved, far, difficult, challenge, support, continued, korean, naval, superiority, limited, japanese, gain, part, southeastern, korea, wavering, japanese, commitment, campaign, war, dragged, shimazu, yoshihiro, led, samurai, despite, heavily, outnumbered, defeated, ...]</td>\n",
       "    </tr>\n",
       "    <tr>\n",
       "      <th>8</th>\n",
       "      <td>8.0</td>\n",
       "      <td>0.5176</td>\n",
       "      <td>year, time, day, average, month, event, hour, long, space, july</td>\n",
       "      <td>[hottest, officially, recorded, temperature_degf, degc, july, coldest, recorded, temperature_degf, degc, january, record, cold, daily, maximum, degf_degc, january, conversely, record, warm, daily, minimum, degf_degc, day, official, record, high, set, winter, cool, wet, december, coolest, month, averaging, degf_degc, annual, day, low, reach, freezing, mark, day, temperature, stay, freezing, day, temperature, rarely, lower, degf_degc, summer, sunny, dry, warm, august, warmest, month, averaging, degf_degc, temperature, reaching, degf_degc, day, per, year, although, recent, year, reach, degf]</td>\n",
       "    </tr>\n",
       "    <tr>\n",
       "      <th>9</th>\n",
       "      <td>9.0</td>\n",
       "      <td>0.5098</td>\n",
       "      <td>john, woman, death, king, family, royal, men, father, son, william</td>\n",
       "      <td>[besides, prince, william, prince, harry, member, extended, british, royal, family, attended, eton, include, prince, richard, duke, gloucester, son, alexander, windsor, earl, ulster, prince, edward, duke, kent, eldest, son, george, windsor, earl, st, andrew, grandson, edward, windsor, lord, downpatrick, youngest, son, lord, nicholas, windsor, prince, michael, kent, son, lord, frederick, windsor, james, ogilvy, son, princess, alexandra, right, honourable, angus, ogilvy, eton, alumnus, prince, william, gloucester, also, attended, eton, george, lascelles, th, earl, harewood, son, princess, mary, princess, royal]</td>\n",
       "    </tr>\n",
       "    <tr>\n",
       "      <th>10</th>\n",
       "      <td>10.0</td>\n",
       "      <td>0.3749</td>\n",
       "      <td>company, million, world, country, development, economic, industry, market, billion, economy</td>\n",
       "      <td>[financial_crisis, inquiry_commission, concluded, financial_crisis, avoidable, caused, widespread, failure, financial, regulation, supervision, dramatic, failure, corporate, governance, risk, management, many, systemically, important, financial_institution, combination, excessive, borrowing, risky, investment, lack, transparency, financial_institution, ill, preparation, inconsistent, action, government, added, uncertainty, panic, systemic, breakdown, accountability, ethic, collapsing, mortgage, lending, standard, mortgage, securitization, pipeline, deregulation, counter, derivative, especially, credit, default, swap, failure, credit_rating, agency, correctly, price, risk, critic, argued, credit_rating, agency, investor, failed, accurately, price, risk, involved, mortgage, related, financial, product, government, adjust, regulatory, practice, address, st, century, financial, market, senate, levin, coburn, report, concluded, crisis, result, high, risk, complex, financial, product, undisclosed, conflict, interest, failure, ...]</td>\n",
       "    </tr>\n",
       "    <tr>\n",
       "      <th>11</th>\n",
       "      <td>11.0</td>\n",
       "      <td>0.3948</td>\n",
       "      <td>social, theory, work, study, human, group, society, science, scientific, idea</td>\n",
       "      <td>[consequently, weinreich, give, definition, person, identity, defined, totality, one, self, construal, one, construes, oneself, present, express, continuity, one, construes, oneself, one, past, one, construes, oneself, one, aspires, future, allows, definition, aspect, identity, one, ethnic, identity, defined, part, totality, one, self, construal, made, dimension, express, continuity, one, construal, past, ancestry, one, future, aspiration, relation, ethnicity, weinreich, psychological, identity, relates, self, image, one, mental, model, oneself, self_esteem, individuality]</td>\n",
       "    </tr>\n",
       "    <tr>\n",
       "      <th>12</th>\n",
       "      <td>12.0</td>\n",
       "      <td>0.4529</td>\n",
       "      <td>city, new_york, largest, area, park, street, town, major, district, line</td>\n",
       "      <td>[intercity, rail, new_york, city, served, amtrak, whose, busiest, station, significant, margin, pennsylvania, station, west, side, manhattan, amtrak, provides, connection, boston, philadelphia, washington, along, northeast, corridor, well, long_distance, train, service, north, american, city, queen, elevated, airtrain, people, mover, system, connects, jfk, international_airport, new_york, city, subway, long, island, rail, road, separate, airtrain, system, planned, alongside, grand, central, parkway, connect, laguardia, airport, transit, system, rail, network, connecting, new_york, city, suburb, consists, long, island, rail, road, metro, north, railroad, new_jersey, transit]</td>\n",
       "    </tr>\n",
       "    <tr>\n",
       "      <th>13</th>\n",
       "      <td>13.0</td>\n",
       "      <td>0.3437</td>\n",
       "      <td>order, member, policy, organization, public, position, issue, act, status, australia</td>\n",
       "      <td>[irs, reviewing, application, ensure, organization, meet, condition, recognized, tax_exempt, organization, purpose, limitation, spending, internal, safeguard, charity, may, issue, authorization, letter, nonprofit, granting, tax_exempt, status, income_tax, payment, filing, deductibility, purpose, nonprofit_organization, formed, state, level, organization, may, seek, recognition, tax_exempt, status, respect, federal, income_tax, failure, maintain, operation, conformity, law, may, result, organization, losing, tax_exempt, status]</td>\n",
       "    </tr>\n",
       "    <tr>\n",
       "      <th>14</th>\n",
       "      <td>14.0</td>\n",
       "      <td>0.4704</td>\n",
       "      <td>area, island, part, north, region, south, west, state, east, northern</td>\n",
       "      <td>[central, northern, part, thuringia, defined, km, wide, thuringian, basin, fertile, flat, area, around, unstrut, river, completely, surrounded, following, hill, chain, clockwise, north, west, dun, hainleite, windleite, kyffhauser, hohe, schrecke, schmucke, finne, ettersberg, steigerwald, thuringian, forest, horselberge, hainich, lie, flat, forested, holzland, north, flat, fertile, orlasenke, middle, vogtland, hilly, part, non, forested, region, south, eastern, thuringia, commonly, described, area, east, saale, loquitz, valley, marked, hilly, landscape, rising, slowly, flat, north, mountainous, south]</td>\n",
       "    </tr>\n",
       "    <tr>\n",
       "      <th>15</th>\n",
       "      <td>15.0</td>\n",
       "      <td>0.3694</td>\n",
       "      <td>country, china, government, chinese, nation, people, international, soviet, political, united</td>\n",
       "      <td>[widespread, pro, tibet, protest, including, attempt, one, demonstrator, extinguish, flame, water, fire, extinguisher, prompted, relay, authority, put, flame, five, time, according, police, authority, paris, load, torch, onto, bus, demand, chinese, official, scheduled, ceremony, town, hall, cancelled, request, chinese, authority, also, request, chinese, authority, torch, finished, relay, bus, instead, carried, athlete, relay, initially, supposed, cover, km, shortened, demand, chinese, official, following, widespread, protest, pro, tibet, human_right, activist, repeatedly, attempted, disrupt, hinder, halt, procession]</td>\n",
       "    </tr>\n",
       "    <tr>\n",
       "      <th>16</th>\n",
       "      <td>16.0</td>\n",
       "      <td>0.3722</td>\n",
       "      <td>th_century, de, early, began, india, european, europe, late, end, established</td>\n",
       "      <td>[santa, barbara, became, launching, place, expedition, new, mexico, spanish, conquistador, like, antonio, de, espejo, gaspar, castano, antonio, gutierrez, de, umana, francisco, leyba, de, bonilla, vicente, de, zaldivar, discovery, el_paso, del_norte, important, expansion, el, camino, real, de, tierra, adentro, inner, land, royal, road, link, spanish, settlement, new, mexico, mexico, city, el, camino, real, de, tierra, adentro, facilitated, transport, settler, supply, new, mexico, april, juan, de, onate, finally, found, short, route, santa, barbara, new, mexico, came, called, el_paso, del_norte, northern, pas]</td>\n",
       "    </tr>\n",
       "    <tr>\n",
       "      <th>17</th>\n",
       "      <td>17.0</td>\n",
       "      <td>0.4917</td>\n",
       "      <td>music, record, work, house, number, song, popular, artist, single, album</td>\n",
       "      <td>[record, shot, number, five, billboard, club, chart, marking, first, house, record, white, artist, chart, dada, nada, moniker, ozn, solo, act, released, become, classic, example, jazz, based, deep, house, frankie_knuckle, david, morale, remix, dada, nada, deep, love, one, voice, record, polydor, uk, featuring, ozn, lush, crooning, vocal, muted, trumpet, improvisational, solo, underscoring, deep, house, progression, genre, integrated, jazz, pop, songwriting, structure, feature, continued, set, apart, acid, house, techno, based, former, ebn, ozn, singer, rapper, robert, ozn, started, indie, house, label, one, voice, record, releasing, mike, hitman, wilson, remix, dada, nada, haunted, house, garnered, instant, club, mix, show, radio, play, chicago, detroit, ...]</td>\n",
       "    </tr>\n",
       "    <tr>\n",
       "      <th>18</th>\n",
       "      <td>18.0</td>\n",
       "      <td>0.4090</td>\n",
       "      <td>church, religious, god, christian, religion, muslim, movement, tradition, practice, scholar</td>\n",
       "      <td>[correction, made, geocentric, model, al_battani, ibn_al, haytham, averroes, maragha, astronomer, nasir, al_din, al, tusi, mo, ayyeduddin, urdi, ibn_al, shatir, similar, copernican, heliocentric, model, heliocentric, theory, may, also, discussed, several, muslim, astronomer, ja, far, ibn, muhammad, abu, shar, al, balkhi, abu, rayhan, biruni, abu, said, al, sijzi, qutb, al_din, al, shirazi, najm, al_din, al, qazwini, al, katibi, astronomy, al_battani, improved, measurement, hipparchus, preserved, translation, ptolemy, megale, syntaxis, great, treatise, translated, almagest]</td>\n",
       "    </tr>\n",
       "    <tr>\n",
       "      <th>19</th>\n",
       "      <td>19.0</td>\n",
       "      <td>0.4588</td>\n",
       "      <td>world, game, team, season, club, league, year, series, home, final</td>\n",
       "      <td>[international, club, football, barcelona, five, uefa_champion, league, title, record, four, uefa_cup, winner_cup, shared, record, five, uefa_super, cup, record, three, inter, city, fair, cup, record, three, fifa, club, world, cup, trophy, domestically, barcelona, la_liga, copa_del, rey, supercopa, de_espana, copa, eva, duarte, copa, de_la, liga, trophy, well, record, holder, latter, four, competition, barcelona, ranked, first, iffhs, club, world, ranking, currently, occupies, second, position, uefa, club, ranking]</td>\n",
       "    </tr>\n",
       "    <tr>\n",
       "      <th>20</th>\n",
       "      <td>20.0</td>\n",
       "      <td>0.4895</td>\n",
       "      <td>language, term, form, english, word, character, common, standard, meaning, written</td>\n",
       "      <td>[variety, also, known, term, general, min_nan, traditional, chinese, min_nan, yu, min_nan, hua, simplified_chinese, min_nan, yu, min_nan, hua, pinyin, minnanyu, minnanhua, peh, oe, ji, ban, lam, gi, ban, lam, oe, southern, min, fulaohua, traditional, chinese, fu, lao, hua, simplified_chinese, fu, lao, hua, pinyin, fulaohua, peh, oe, ji, ho, lo, oe, chinese, linguistics, dialect, known, classification, quanzhang, division, chinese, quan, zhang, pian, pinyin, quanzhang, pian, min_nan, come, first, character, two, main, hokkien, urban, center, quanzhou, zhangzhou, term, hokkien, fu, jian, hokkien, term, used, chinese, refer, dialect, simply, mean, fujian_province]</td>\n",
       "    </tr>\n",
       "    <tr>\n",
       "      <th>21</th>\n",
       "      <td>21.0</td>\n",
       "      <td>0.4649</td>\n",
       "      <td>service, medium, television, network, time, published, announced, based, communication, station</td>\n",
       "      <td>[major, broadcast, television, network, affiliate, oklahoma, city, market, ranked, st, television, nielsen, th, radio, arbitron, covering, county, area, serving, central, northern, central, west, central, section, oklahoma, including, nbc, affiliate, kfor, tv_channel, abc, affiliate, koco, tv_channel, cbs, affiliate, kwtv, dt, channel, flagship, locally, based, griffin, communication, pb, station, keta, tv_channel, flagship, state, run, oeta, member, network, fox, affiliate, kokh, tv_channel, cw, affiliate, kocb, channel, independent, station, kaut, tv_channel, mynetworktv, affiliate, ksbi, tv_channel, ion, television, owned_operated, station, kopx, tv_channel, market, also, home, several, religious, station, including, tbn, owned_operated, station, ktbo, tv_channel, norman, based, daystar, owned_operated, station, kocm, channel]</td>\n",
       "    </tr>\n",
       "    <tr>\n",
       "      <th>22</th>\n",
       "      <td>22.0</td>\n",
       "      <td>0.4459</td>\n",
       "      <td>called, made, body, part, include, small, large, food, important, making</td>\n",
       "      <td>[traditional, delicacy, meat, marinated, dried, coriander, seed, wine, eventually, dried, smoked, lountza, smoked, pork, loin, charcoal, grilled, lamb, souvlaki, pork, chicken, cooked, charcoal, sheftalia, minced, meat, wrapped, mesentery, common, vegetable, preparation, include, potato, olive_oil, parsley, pickled, cauliflower, beet, asparagus, taro, pourgouri, bulgur, cracked, wheat, traditional, source, carbohydrate, bread, used, make, delicacy, koubes]</td>\n",
       "    </tr>\n",
       "    <tr>\n",
       "      <th>23</th>\n",
       "      <td>23.0</td>\n",
       "      <td>0.4226</td>\n",
       "      <td>population, people, american, group, community, black, number, country, white, child</td>\n",
       "      <td>[according_census, percent, population, white, percent, non_hispanic, white, percent, american, indian, alaska, native, percent, hispanic_latino, race, percent, asian, percent, black, african_american, percent, native, hawaiian, pacific_islander, percent, race, percent, two, race, largest, european, ancestry, group, montana, german, percent, irish, percent, english, percent, norwegian, percent, french, percent, italian, percent]</td>\n",
       "    </tr>\n",
       "    <tr>\n",
       "      <th>24</th>\n",
       "      <td>24.0</td>\n",
       "      <td>0.4818</td>\n",
       "      <td>system, computer, data, device, design, information, standard, window, model, line</td>\n",
       "      <td>[fully, capable, laserdisc, playback, system, includes, newer, laserdisc_player, capable, playing, digital, track, digital, optical, output, digital, pcm, dts, audio, aware, ac, audio_track, ac, coaxial, output, external, internal, ac, rf, demodulator, ac, decoder, dts, decoder, one, surround, sound, option, exists, given, laserdisc, either, dolby_digital, dts, surround, sound, desired, disc, must, matched, capability, playback, equipment, ld, player, receiver, decoder, purchaser, many, receiver, combine, ac, decoder, dts, decoder, logic, integrated, ac, demodulator, rare, laserdisc_player, later, receiver]</td>\n",
       "    </tr>\n",
       "    <tr>\n",
       "      <th>25</th>\n",
       "      <td>25.0</td>\n",
       "      <td>0.3987</td>\n",
       "      <td>light, red, color, green, cell, led, make, gene, effect, structure</td>\n",
       "      <td>[instance, genotype, hepatitis, treated, pegylated, interferon, alpha, pegylated, interferon, alpha, brand, name, pegasys, peg, intron, combined, ribavirin, shown, genetic, polymorphism, near, human, il, gene, encoding, interferon, lambda, associated, significant, difference, treatment, induced, clearance, virus, finding, originally, reported, nature, showed, genotype, hepatitis, patient, carrying, certain, genetic, variant, allele, near, il, gene, possibly, achieve, sustained, virological, response, treatment, others, later, report, nature, demonstrated, genetic, variant, also, associated, natural, clearance, genotype, hepatitis, virus]</td>\n",
       "    </tr>\n",
       "  </tbody>\n",
       "</table>\n",
       "</div>"
      ],
      "text/plain": [
       "    Topic_Num  ...                                                                                                                                                                                                                                                                                                                                                                                                                                                                                                                                                                                                                                                                                                                                                                                                                                                                                                                                                                                                                                                                              Text\n",
       "0   0.0        ...  [notable, modern, greek, artist, include, renaissance, painter, dominikos, theotokopoulos, el, greco, panagiotis, doxaras, nikolaos, gyzis, nikiphoros, lytras, yannis, tsarouchis, nikos, engonopoulos, constantine, andreou, jannis, kounellis, sculptor, leonidas, drosis, georgios, bonanos, yannoulis, chalepas, joannis, avramidis, conductor, dimitri, mitropoulos, soprano, maria, calla, composer, mikis, theodorakis, nikos, skalkottas, iannis, xenakis, manos, hatzidakis, eleni, karaindrou, yanni, vangelis, one, best_selling, singer, worldwide, nana, mouskouri, poet, kostis, palamas, dionysios, solomos, angelos, sikelianos, yannis, ritsos, alexandrian, constantine, cavafy, nobel_laureate, giorgos, seferis, odysseas, elytis, among, important, poet, th_century, novel, also, represented, alexandros, papadiamantis, nikos, kazantzakis]                                                                                                                                                                                                            \n",
       "1   1.0        ...  [year, later, university, north_carolina, system, encompasses, public, university, including, north_carolina, state, university, north_carolina, state, university, north_carolina, central, university, university, north_carolina, chapel_hill, university, north_carolina, greensboro, east, carolina, university, western, carolina, university, winston_salem, state, university, university, north_carolina, asheville, university, north_carolina, charlotte, university, north_carolina, pembroke, unc, wilmington, elizabeth, city, state, university, appalachian, state, university, fayetteville, state, university, unc, school, art, along, public, university, north_carolina, public, community, college, community, college, system, largest, university, north_carolina, currently, north_carolina, state, university, student, north_carolina, home, many, excellent, university, well, dozen, community, college, private, university]                                                                                                                      \n",
       "2   2.0        ...  [ottoman_empire, at, ottoman, turkish, dawlati, aliywh, uthmaniywh, devlet, aliyye, osmaniyye, modern, turkish, osmanli, imparatorlugu, osmanli, devleti, also, known, turkish, empire, ottoman, turkey, turkey, empire, founded, oghuz, turk, osman, northwestern, anatolia, conquest, balkan, murad, ottoman, sultanate, transformed, empire, claimant, caliphate, ottoman, ended, byzantine_empire, conquest, constantinople, mehmed, conqueror]                                                                                                                                                                                                                                                                                                                                                                                                                                                                                                                                                                                                                             \n",
       "3   3.0        ...  [addition, lower, radiation_resistance, reactance, becomes, higher, antenna, size, reduced, resonant, circuit, formed, antenna, tuning, coil, factor, rise, eventually, cause, bandwidth, antenna, inadequate, signal, transmitted, example, mhz, wavelength, true, resonant, wavelength, monopole, would, almost, meter, long, using, antenna, meter, tall, would, require, addition, loading, coil, however, resulting, resistive, impedance, achieved, quite, bit, lower, impedance, resonant, monopole, likely, requiring, impedance_matching]                                                                                                                                                                                                                                                                                                                                                                                                                                                                                                                              \n",
       "4   4.0        ...  [ortho, para, ratio, condensed, important, consideration, preparation, storage, liquid, hydrogen, conversion, ortho, para, exothermic, produce, enough, heat, evaporate, hydrogen, liquid, leading, loss, liquefied, material, uncatalyzed, interconversion, para, ortho, increase, increasing, temperature, thus, rapidly, condensed, contains, large, quantity, high, energy, ortho, form, convert, para, form, slowly, catalyst, ortho, para, interconversion, ferric, oxide, activated, carbon, platinized, asbestos, rare, earth, metal, uranium, compound, chromic, oxide, nickel, compound, used, hydrogen, cooling]                                                                                                                                                                                                                                                                                                                                                                                                                                                     \n",
       "5   5.0        ...  [montana, department, fish_wildlife, park, manages, fishing, hunting, season, least, specie, game, fish, including, seven, specie, trout, walleye, smallmouth, bass, least, specie, game, bird, animal, including, ring, neck, pheasant, grey, partridge, elk, pronghorn, antelope, mule, deer, whitetail, deer, gray_wolf, bighorn, sheep, montana, host, five, federally, endangered, species, black, footed, ferret, whooping, crane, least, tern, pallid, sturgeon, white, sturgeon, seven, threatened, specie, including, grizzly, bear, canadian, lynx, bull, trout, montana, home, diverse, array, fauna, includes, amphibian, fish, mammal, reptile, bird, specie]                                                                                                                                                                                                                                                                                                                                                                                                      \n",
       "6   6.0        ...  [superior, court_justice, tribunal, superior, de, justica, review, state, federal, circuit, court, decision, civil, law, criminal, law, case, dealing, federal, law, conflicting, ruling, also, judge, original, jurisdiction, case, involving, member, congress, senator, minister, state, member, high, court, president, vice_president, republic, superior, electoral, tribunal, tribunal, superior, eleitoral, court, last, resort, electoral, law, also, oversees, general, election]                                                                                                                                                                                                                                                                                                                                                                                                                                                                                                                                                                                     \n",
       "7   7.0        ...  [spite, superiority, japanese, land, force, ultimately, two, expedition, failed, though, devastate, korean, landmass, factor, korean, naval, superiority, led, admiral, yi, sun, shin, harassed, japanese, supply, line, continuously, throughout, war, resulting, supply, shortage, land, commitment, sizeable, ming, force, korea, korean, guerrilla, action, underestimation, resistance, japanese, commander, first, campaign, korean, defense, land, caught, unprepared, trained, armed, rapidly, overrun, limited, number, successfully, resistant, engagement, experienced, battle, hardened, japanese, force, second, campaign, korean, ming, force, proved, far, difficult, challenge, support, continued, korean, naval, superiority, limited, japanese, gain, part, southeastern, korea, wavering, japanese, commitment, campaign, war, dragged, shimazu, yoshihiro, led, samurai, despite, heavily, outnumbered, defeated, ...]                                                                                                                                     \n",
       "8   8.0        ...  [hottest, officially, recorded, temperature_degf, degc, july, coldest, recorded, temperature_degf, degc, january, record, cold, daily, maximum, degf_degc, january, conversely, record, warm, daily, minimum, degf_degc, day, official, record, high, set, winter, cool, wet, december, coolest, month, averaging, degf_degc, annual, day, low, reach, freezing, mark, day, temperature, stay, freezing, day, temperature, rarely, lower, degf_degc, summer, sunny, dry, warm, august, warmest, month, averaging, degf_degc, temperature, reaching, degf_degc, day, per, year, although, recent, year, reach, degf]                                                                                                                                                                                                                                                                                                                                                                                                                                                             \n",
       "9   9.0        ...  [besides, prince, william, prince, harry, member, extended, british, royal, family, attended, eton, include, prince, richard, duke, gloucester, son, alexander, windsor, earl, ulster, prince, edward, duke, kent, eldest, son, george, windsor, earl, st, andrew, grandson, edward, windsor, lord, downpatrick, youngest, son, lord, nicholas, windsor, prince, michael, kent, son, lord, frederick, windsor, james, ogilvy, son, princess, alexandra, right, honourable, angus, ogilvy, eton, alumnus, prince, william, gloucester, also, attended, eton, george, lascelles, th, earl, harewood, son, princess, mary, princess, royal]                                                                                                                                                                                                                                                                                                                                                                                                                                        \n",
       "10  10.0       ...  [financial_crisis, inquiry_commission, concluded, financial_crisis, avoidable, caused, widespread, failure, financial, regulation, supervision, dramatic, failure, corporate, governance, risk, management, many, systemically, important, financial_institution, combination, excessive, borrowing, risky, investment, lack, transparency, financial_institution, ill, preparation, inconsistent, action, government, added, uncertainty, panic, systemic, breakdown, accountability, ethic, collapsing, mortgage, lending, standard, mortgage, securitization, pipeline, deregulation, counter, derivative, especially, credit, default, swap, failure, credit_rating, agency, correctly, price, risk, critic, argued, credit_rating, agency, investor, failed, accurately, price, risk, involved, mortgage, related, financial, product, government, adjust, regulatory, practice, address, st, century, financial, market, senate, levin, coburn, report, concluded, crisis, result, high, risk, complex, financial, product, undisclosed, conflict, interest, failure, ...]\n",
       "11  11.0       ...  [consequently, weinreich, give, definition, person, identity, defined, totality, one, self, construal, one, construes, oneself, present, express, continuity, one, construes, oneself, one, past, one, construes, oneself, one, aspires, future, allows, definition, aspect, identity, one, ethnic, identity, defined, part, totality, one, self, construal, made, dimension, express, continuity, one, construal, past, ancestry, one, future, aspiration, relation, ethnicity, weinreich, psychological, identity, relates, self, image, one, mental, model, oneself, self_esteem, individuality]                                                                                                                                                                                                                                                                                                                                                                                                                                                                             \n",
       "12  12.0       ...  [intercity, rail, new_york, city, served, amtrak, whose, busiest, station, significant, margin, pennsylvania, station, west, side, manhattan, amtrak, provides, connection, boston, philadelphia, washington, along, northeast, corridor, well, long_distance, train, service, north, american, city, queen, elevated, airtrain, people, mover, system, connects, jfk, international_airport, new_york, city, subway, long, island, rail, road, separate, airtrain, system, planned, alongside, grand, central, parkway, connect, laguardia, airport, transit, system, rail, network, connecting, new_york, city, suburb, consists, long, island, rail, road, metro, north, railroad, new_jersey, transit]                                                                                                                                                                                                                                                                                                                                                                      \n",
       "13  13.0       ...  [irs, reviewing, application, ensure, organization, meet, condition, recognized, tax_exempt, organization, purpose, limitation, spending, internal, safeguard, charity, may, issue, authorization, letter, nonprofit, granting, tax_exempt, status, income_tax, payment, filing, deductibility, purpose, nonprofit_organization, formed, state, level, organization, may, seek, recognition, tax_exempt, status, respect, federal, income_tax, failure, maintain, operation, conformity, law, may, result, organization, losing, tax_exempt, status]                                                                                                                                                                                                                                                                                                                                                                                                                                                                                                                            \n",
       "14  14.0       ...  [central, northern, part, thuringia, defined, km, wide, thuringian, basin, fertile, flat, area, around, unstrut, river, completely, surrounded, following, hill, chain, clockwise, north, west, dun, hainleite, windleite, kyffhauser, hohe, schrecke, schmucke, finne, ettersberg, steigerwald, thuringian, forest, horselberge, hainich, lie, flat, forested, holzland, north, flat, fertile, orlasenke, middle, vogtland, hilly, part, non, forested, region, south, eastern, thuringia, commonly, described, area, east, saale, loquitz, valley, marked, hilly, landscape, rising, slowly, flat, north, mountainous, south]                                                                                                                                                                                                                                                                                                                                                                                                                                                 \n",
       "15  15.0       ...  [widespread, pro, tibet, protest, including, attempt, one, demonstrator, extinguish, flame, water, fire, extinguisher, prompted, relay, authority, put, flame, five, time, according, police, authority, paris, load, torch, onto, bus, demand, chinese, official, scheduled, ceremony, town, hall, cancelled, request, chinese, authority, also, request, chinese, authority, torch, finished, relay, bus, instead, carried, athlete, relay, initially, supposed, cover, km, shortened, demand, chinese, official, following, widespread, protest, pro, tibet, human_right, activist, repeatedly, attempted, disrupt, hinder, halt, procession]                                                                                                                                                                                                                                                                                                                                                                                                                                \n",
       "16  16.0       ...  [santa, barbara, became, launching, place, expedition, new, mexico, spanish, conquistador, like, antonio, de, espejo, gaspar, castano, antonio, gutierrez, de, umana, francisco, leyba, de, bonilla, vicente, de, zaldivar, discovery, el_paso, del_norte, important, expansion, el, camino, real, de, tierra, adentro, inner, land, royal, road, link, spanish, settlement, new, mexico, mexico, city, el, camino, real, de, tierra, adentro, facilitated, transport, settler, supply, new, mexico, april, juan, de, onate, finally, found, short, route, santa, barbara, new, mexico, came, called, el_paso, del_norte, northern, pas]                                                                                                                                                                                                                                                                                                                                                                                                                                        \n",
       "17  17.0       ...  [record, shot, number, five, billboard, club, chart, marking, first, house, record, white, artist, chart, dada, nada, moniker, ozn, solo, act, released, become, classic, example, jazz, based, deep, house, frankie_knuckle, david, morale, remix, dada, nada, deep, love, one, voice, record, polydor, uk, featuring, ozn, lush, crooning, vocal, muted, trumpet, improvisational, solo, underscoring, deep, house, progression, genre, integrated, jazz, pop, songwriting, structure, feature, continued, set, apart, acid, house, techno, based, former, ebn, ozn, singer, rapper, robert, ozn, started, indie, house, label, one, voice, record, releasing, mike, hitman, wilson, remix, dada, nada, haunted, house, garnered, instant, club, mix, show, radio, play, chicago, detroit, ...]                                                                                                                                                                                                                                                                               \n",
       "18  18.0       ...  [correction, made, geocentric, model, al_battani, ibn_al, haytham, averroes, maragha, astronomer, nasir, al_din, al, tusi, mo, ayyeduddin, urdi, ibn_al, shatir, similar, copernican, heliocentric, model, heliocentric, theory, may, also, discussed, several, muslim, astronomer, ja, far, ibn, muhammad, abu, shar, al, balkhi, abu, rayhan, biruni, abu, said, al, sijzi, qutb, al_din, al, shirazi, najm, al_din, al, qazwini, al, katibi, astronomy, al_battani, improved, measurement, hipparchus, preserved, translation, ptolemy, megale, syntaxis, great, treatise, translated, almagest]                                                                                                                                                                                                                                                                                                                                                                                                                                                                             \n",
       "19  19.0       ...  [international, club, football, barcelona, five, uefa_champion, league, title, record, four, uefa_cup, winner_cup, shared, record, five, uefa_super, cup, record, three, inter, city, fair, cup, record, three, fifa, club, world, cup, trophy, domestically, barcelona, la_liga, copa_del, rey, supercopa, de_espana, copa, eva, duarte, copa, de_la, liga, trophy, well, record, holder, latter, four, competition, barcelona, ranked, first, iffhs, club, world, ranking, currently, occupies, second, position, uefa, club, ranking]                                                                                                                                                                                                                                                                                                                                                                                                                                                                                                                                        \n",
       "20  20.0       ...  [variety, also, known, term, general, min_nan, traditional, chinese, min_nan, yu, min_nan, hua, simplified_chinese, min_nan, yu, min_nan, hua, pinyin, minnanyu, minnanhua, peh, oe, ji, ban, lam, gi, ban, lam, oe, southern, min, fulaohua, traditional, chinese, fu, lao, hua, simplified_chinese, fu, lao, hua, pinyin, fulaohua, peh, oe, ji, ho, lo, oe, chinese, linguistics, dialect, known, classification, quanzhang, division, chinese, quan, zhang, pian, pinyin, quanzhang, pian, min_nan, come, first, character, two, main, hokkien, urban, center, quanzhou, zhangzhou, term, hokkien, fu, jian, hokkien, term, used, chinese, refer, dialect, simply, mean, fujian_province]                                                                                                                                                                                                                                                                                                                                                                                   \n",
       "21  21.0       ...  [major, broadcast, television, network, affiliate, oklahoma, city, market, ranked, st, television, nielsen, th, radio, arbitron, covering, county, area, serving, central, northern, central, west, central, section, oklahoma, including, nbc, affiliate, kfor, tv_channel, abc, affiliate, koco, tv_channel, cbs, affiliate, kwtv, dt, channel, flagship, locally, based, griffin, communication, pb, station, keta, tv_channel, flagship, state, run, oeta, member, network, fox, affiliate, kokh, tv_channel, cw, affiliate, kocb, channel, independent, station, kaut, tv_channel, mynetworktv, affiliate, ksbi, tv_channel, ion, television, owned_operated, station, kopx, tv_channel, market, also, home, several, religious, station, including, tbn, owned_operated, station, ktbo, tv_channel, norman, based, daystar, owned_operated, station, kocm, channel]                                                                                                                                                                                                       \n",
       "22  22.0       ...  [traditional, delicacy, meat, marinated, dried, coriander, seed, wine, eventually, dried, smoked, lountza, smoked, pork, loin, charcoal, grilled, lamb, souvlaki, pork, chicken, cooked, charcoal, sheftalia, minced, meat, wrapped, mesentery, common, vegetable, preparation, include, potato, olive_oil, parsley, pickled, cauliflower, beet, asparagus, taro, pourgouri, bulgur, cracked, wheat, traditional, source, carbohydrate, bread, used, make, delicacy, koubes]                                                                                                                                                                                                                                                                                                                                                                                                                                                                                                                                                                                                    \n",
       "23  23.0       ...  [according_census, percent, population, white, percent, non_hispanic, white, percent, american, indian, alaska, native, percent, hispanic_latino, race, percent, asian, percent, black, african_american, percent, native, hawaiian, pacific_islander, percent, race, percent, two, race, largest, european, ancestry, group, montana, german, percent, irish, percent, english, percent, norwegian, percent, french, percent, italian, percent]                                                                                                                                                                                                                                                                                                                                                                                                                                                                                                                                                                                                                                \n",
       "24  24.0       ...  [fully, capable, laserdisc, playback, system, includes, newer, laserdisc_player, capable, playing, digital, track, digital, optical, output, digital, pcm, dts, audio, aware, ac, audio_track, ac, coaxial, output, external, internal, ac, rf, demodulator, ac, decoder, dts, decoder, one, surround, sound, option, exists, given, laserdisc, either, dolby_digital, dts, surround, sound, desired, disc, must, matched, capability, playback, equipment, ld, player, receiver, decoder, purchaser, many, receiver, combine, ac, decoder, dts, decoder, logic, integrated, ac, demodulator, rare, laserdisc_player, later, receiver]                                                                                                                                                                                                                                                                                                                                                                                                                                          \n",
       "25  25.0       ...  [instance, genotype, hepatitis, treated, pegylated, interferon, alpha, pegylated, interferon, alpha, brand, name, pegasys, peg, intron, combined, ribavirin, shown, genetic, polymorphism, near, human, il, gene, encoding, interferon, lambda, associated, significant, difference, treatment, induced, clearance, virus, finding, originally, reported, nature, showed, genotype, hepatitis, patient, carrying, certain, genetic, variant, allele, near, il, gene, possibly, achieve, sustained, virological, response, treatment, others, later, report, nature, demonstrated, genetic, variant, also, associated, natural, clearance, genotype, hepatitis, virus]                                                                                                                                                                                                                                                                                                                                                                                                           \n",
       "\n",
       "[26 rows x 4 columns]"
      ]
     },
     "execution_count": 21,
     "metadata": {},
     "output_type": "execute_result"
    }
   ],
   "source": [
    "# Group top 5 sentences under each topic\n",
    "sent_topics_sorteddf_mallet = pd.DataFrame()\n",
    "\n",
    "sent_topics_outdf_grpd = df_topic_sents_keywords.groupby('Dominant_Topic')\n",
    "\n",
    "for i, grp in sent_topics_outdf_grpd:\n",
    "    sent_topics_sorteddf_mallet = pd.concat([sent_topics_sorteddf_mallet, \n",
    "                                             grp.sort_values(['Perc_Contribution'], ascending=[0]).head(1)], \n",
    "                                            axis=0)\n",
    "\n",
    "# Reset Index    \n",
    "sent_topics_sorteddf_mallet.reset_index(drop=True, inplace=True)\n",
    "\n",
    "# Format\n",
    "sent_topics_sorteddf_mallet.columns = ['Topic_Num', \"Topic_Perc_Contrib\", \"Keywords\", \"Text\"]\n",
    "\n",
    "# Show\n",
    "sent_topics_sorteddf_mallet"
   ]
  },
  {
   "cell_type": "markdown",
   "metadata": {},
   "source": [
    "## Get Law Related Docs\n",
    "Obtain legal subset for demo"
   ]
  },
  {
   "cell_type": "code",
   "execution_count": 30,
   "metadata": {},
   "outputs": [],
   "source": [
    "df.iloc[df_topic_sents_keywords[df_topic_sents_keywords['Dominant_Topic']==6].index, :].to_csv('squad_legal_paras_lda.csv')"
   ]
  },
  {
   "cell_type": "markdown",
   "metadata": {},
   "source": [
    "### Topic distribution across documents"
   ]
  },
  {
   "cell_type": "code",
   "execution_count": 364,
   "metadata": {},
   "outputs": [
    {
     "data": {
      "text/html": [
       "<div>\n",
       "<style scoped>\n",
       "    .dataframe tbody tr th:only-of-type {\n",
       "        vertical-align: middle;\n",
       "    }\n",
       "\n",
       "    .dataframe tbody tr th {\n",
       "        vertical-align: top;\n",
       "    }\n",
       "\n",
       "    .dataframe thead th {\n",
       "        text-align: right;\n",
       "    }\n",
       "</style>\n",
       "<table border=\"1\" class=\"dataframe\">\n",
       "  <thead>\n",
       "    <tr style=\"text-align: right;\">\n",
       "      <th></th>\n",
       "      <th>Dominant_Topic</th>\n",
       "      <th>Topic_Keywords</th>\n",
       "      <th>Num_Documents</th>\n",
       "      <th>Perc_Documents</th>\n",
       "    </tr>\n",
       "  </thead>\n",
       "  <tbody>\n",
       "    <tr>\n",
       "      <th>0.0</th>\n",
       "      <td>0.0</td>\n",
       "      <td>th_century, greek, period, modern, early, century, roman, culture, bc, building</td>\n",
       "      <td>844</td>\n",
       "      <td>4.47%</td>\n",
       "    </tr>\n",
       "    <tr>\n",
       "      <th>1.0</th>\n",
       "      <td>1.0</td>\n",
       "      <td>university, school, national, college, student, education, public, including, research, building</td>\n",
       "      <td>796</td>\n",
       "      <td>4.22%</td>\n",
       "    </tr>\n",
       "    <tr>\n",
       "      <th>2.0</th>\n",
       "      <td>2.0</td>\n",
       "      <td>empire, french, german, power, france, war, germany, part, paris, state</td>\n",
       "      <td>846</td>\n",
       "      <td>4.48%</td>\n",
       "    </tr>\n",
       "    <tr>\n",
       "      <th>3.0</th>\n",
       "      <td>3.0</td>\n",
       "      <td>high, due, film, current, level, le, low, result, rate, higher</td>\n",
       "      <td>325</td>\n",
       "      <td>1.72%</td>\n",
       "    </tr>\n",
       "    <tr>\n",
       "      <th>4.0</th>\n",
       "      <td>4.0</td>\n",
       "      <td>water, energy, material, form, source, process, power, made, wood, mass</td>\n",
       "      <td>725</td>\n",
       "      <td>3.84%</td>\n",
       "    </tr>\n",
       "    <tr>\n",
       "      <th>5.0</th>\n",
       "      <td>5.0</td>\n",
       "      <td>specie, plant, human, found, animal, group, life, bird, including, number</td>\n",
       "      <td>622</td>\n",
       "      <td>3.3%</td>\n",
       "    </tr>\n",
       "    <tr>\n",
       "      <th>6.0</th>\n",
       "      <td>6.0</td>\n",
       "      <td>state, law, government, party, president, court, federal, member, political, council</td>\n",
       "      <td>1080</td>\n",
       "      <td>5.72%</td>\n",
       "    </tr>\n",
       "    <tr>\n",
       "      <th>7.0</th>\n",
       "      <td>7.0</td>\n",
       "      <td>force, war, army, military, general, battle, operation, attack, british, air</td>\n",
       "      <td>1043</td>\n",
       "      <td>5.53%</td>\n",
       "    </tr>\n",
       "    <tr>\n",
       "      <th>8.0</th>\n",
       "      <td>8.0</td>\n",
       "      <td>year, time, day, average, month, event, hour, long, space, july</td>\n",
       "      <td>476</td>\n",
       "      <td>2.52%</td>\n",
       "    </tr>\n",
       "    <tr>\n",
       "      <th>9.0</th>\n",
       "      <td>9.0</td>\n",
       "      <td>john, woman, death, king, family, royal, men, father, son, william</td>\n",
       "      <td>754</td>\n",
       "      <td>3.99%</td>\n",
       "    </tr>\n",
       "    <tr>\n",
       "      <th>10.0</th>\n",
       "      <td>10.0</td>\n",
       "      <td>company, million, world, country, development, economic, industry, market, billion, economy</td>\n",
       "      <td>895</td>\n",
       "      <td>4.74%</td>\n",
       "    </tr>\n",
       "    <tr>\n",
       "      <th>11.0</th>\n",
       "      <td>11.0</td>\n",
       "      <td>social, theory, work, study, human, group, society, science, scientific, idea</td>\n",
       "      <td>853</td>\n",
       "      <td>4.52%</td>\n",
       "    </tr>\n",
       "    <tr>\n",
       "      <th>12.0</th>\n",
       "      <td>12.0</td>\n",
       "      <td>city, new_york, largest, area, park, street, town, major, district, line</td>\n",
       "      <td>955</td>\n",
       "      <td>5.06%</td>\n",
       "    </tr>\n",
       "    <tr>\n",
       "      <th>13.0</th>\n",
       "      <td>13.0</td>\n",
       "      <td>order, member, policy, organization, public, position, issue, act, status, australia</td>\n",
       "      <td>300</td>\n",
       "      <td>1.59%</td>\n",
       "    </tr>\n",
       "    <tr>\n",
       "      <th>14.0</th>\n",
       "      <td>14.0</td>\n",
       "      <td>area, island, part, north, region, south, west, state, east, northern</td>\n",
       "      <td>634</td>\n",
       "      <td>3.36%</td>\n",
       "    </tr>\n",
       "    <tr>\n",
       "      <th>15.0</th>\n",
       "      <td>15.0</td>\n",
       "      <td>country, china, government, chinese, nation, people, international, soviet, political, united</td>\n",
       "      <td>804</td>\n",
       "      <td>4.26%</td>\n",
       "    </tr>\n",
       "    <tr>\n",
       "      <th>16.0</th>\n",
       "      <td>16.0</td>\n",
       "      <td>th_century, de, early, began, india, european, europe, late, end, established</td>\n",
       "      <td>368</td>\n",
       "      <td>1.95%</td>\n",
       "    </tr>\n",
       "    <tr>\n",
       "      <th>17.0</th>\n",
       "      <td>17.0</td>\n",
       "      <td>music, record, work, house, number, song, popular, artist, single, album</td>\n",
       "      <td>817</td>\n",
       "      <td>4.33%</td>\n",
       "    </tr>\n",
       "    <tr>\n",
       "      <th>18.0</th>\n",
       "      <td>18.0</td>\n",
       "      <td>church, religious, god, christian, religion, muslim, movement, tradition, practice, scholar</td>\n",
       "      <td>991</td>\n",
       "      <td>5.25%</td>\n",
       "    </tr>\n",
       "    <tr>\n",
       "      <th>19.0</th>\n",
       "      <td>19.0</td>\n",
       "      <td>world, game, team, season, club, league, year, series, home, final</td>\n",
       "      <td>751</td>\n",
       "      <td>3.98%</td>\n",
       "    </tr>\n",
       "    <tr>\n",
       "      <th>20.0</th>\n",
       "      <td>20.0</td>\n",
       "      <td>language, term, form, english, word, character, common, standard, meaning, written</td>\n",
       "      <td>669</td>\n",
       "      <td>3.54%</td>\n",
       "    </tr>\n",
       "    <tr>\n",
       "      <th>21.0</th>\n",
       "      <td>21.0</td>\n",
       "      <td>service, medium, television, network, time, published, announced, based, communication, station</td>\n",
       "      <td>616</td>\n",
       "      <td>3.26%</td>\n",
       "    </tr>\n",
       "    <tr>\n",
       "      <th>22.0</th>\n",
       "      <td>22.0</td>\n",
       "      <td>called, made, body, part, include, small, large, food, important, making</td>\n",
       "      <td>504</td>\n",
       "      <td>2.67%</td>\n",
       "    </tr>\n",
       "    <tr>\n",
       "      <th>23.0</th>\n",
       "      <td>23.0</td>\n",
       "      <td>population, people, american, group, community, black, number, country, white, child</td>\n",
       "      <td>674</td>\n",
       "      <td>3.57%</td>\n",
       "    </tr>\n",
       "    <tr>\n",
       "      <th>24.0</th>\n",
       "      <td>24.0</td>\n",
       "      <td>system, computer, data, device, design, information, standard, window, model, line</td>\n",
       "      <td>924</td>\n",
       "      <td>4.89%</td>\n",
       "    </tr>\n",
       "    <tr>\n",
       "      <th>25.0</th>\n",
       "      <td>25.0</td>\n",
       "      <td>light, red, color, green, cell, led, make, gene, effect, structure</td>\n",
       "      <td>611</td>\n",
       "      <td>3.24%</td>\n",
       "    </tr>\n",
       "  </tbody>\n",
       "</table>\n",
       "</div>"
      ],
      "text/plain": [
       "      Dominant_Topic  ... Perc_Documents\n",
       "0.0   0.0             ...  4.47%        \n",
       "1.0   1.0             ...  4.22%        \n",
       "2.0   2.0             ...  4.48%        \n",
       "3.0   3.0             ...  1.72%        \n",
       "4.0   4.0             ...  3.84%        \n",
       "5.0   5.0             ...  3.3%         \n",
       "6.0   6.0             ...  5.72%        \n",
       "7.0   7.0             ...  5.53%        \n",
       "8.0   8.0             ...  2.52%        \n",
       "9.0   9.0             ...  3.99%        \n",
       "10.0  10.0            ...  4.74%        \n",
       "11.0  11.0            ...  4.52%        \n",
       "12.0  12.0            ...  5.06%        \n",
       "13.0  13.0            ...  1.59%        \n",
       "14.0  14.0            ...  3.36%        \n",
       "15.0  15.0            ...  4.26%        \n",
       "16.0  16.0            ...  1.95%        \n",
       "17.0  17.0            ...  4.33%        \n",
       "18.0  18.0            ...  5.25%        \n",
       "19.0  19.0            ...  3.98%        \n",
       "20.0  20.0            ...  3.54%        \n",
       "21.0  21.0            ...  3.26%        \n",
       "22.0  22.0            ...  2.67%        \n",
       "23.0  23.0            ...  3.57%        \n",
       "24.0  24.0            ...  4.89%        \n",
       "25.0  25.0            ...  3.24%        \n",
       "\n",
       "[26 rows x 4 columns]"
      ]
     },
     "execution_count": 364,
     "metadata": {},
     "output_type": "execute_result"
    }
   ],
   "source": [
    "# Number of Documents for Each Topic\n",
    "topic_counts = df_topic_sents_keywords['Dominant_Topic'].value_counts()\n",
    "\n",
    "# Percentage of Documents for Each Topic\n",
    "topic_contribution = round(topic_counts/topic_counts.sum()*100, 2).astype(str) + '%'\n",
    "\n",
    "# Topic Number and Keywords\n",
    "topic_num_keywords = sent_topics_sorteddf_mallet[['Topic_Num', 'Keywords']]\n",
    "\n",
    "# Concatenate Column wise\n",
    "df_dominant_topics = pd.concat([topic_num_keywords, topic_counts, topic_contribution], axis=1)\n",
    "\n",
    "# Change Column names\n",
    "df_dominant_topics.columns = ['Dominant_Topic', 'Topic_Keywords', 'Num_Documents', 'Perc_Documents']\n",
    "\n",
    "# Show\n",
    "df_dominant_topics"
   ]
  },
  {
   "cell_type": "markdown",
   "metadata": {},
   "source": [
    "### Finding dominant topic of a new query\n",
    "https://towardsdatascience.com/the-complete-guide-for-topics-extraction-in-python-a6aaa6cedbbc"
   ]
  },
  {
   "cell_type": "code",
   "execution_count": 393,
   "metadata": {},
   "outputs": [],
   "source": [
    "def get_query_topic(query):\n",
    "    tokens = clean_lowercase_nostop_lem(query).split()\n",
    "    scores = sorted(optimal_lda_loaded[id2word.doc2bow(tokens)], key=lambda x: x[1], reverse=True)\n",
    "    for i in scores:\n",
    "        print(f\"Topic: {i[0]}, Score: {str(round(i[1]*100,2)) + '%'}, Top Keywords: {df_dominant_topics.iloc[i[0],1].split()[:3]}\")\n",
    "    return scores[0][0]"
   ]
  },
  {
   "cell_type": "code",
   "execution_count": 394,
   "metadata": {},
   "outputs": [
    {
     "name": "stdout",
     "output_type": "stream",
     "text": [
      "Topic: 6, Score: 6.85%, Top Keywords: ['state,', 'law,', 'government,']\n",
      "Topic: 13, Score: 5.41%, Top Keywords: ['order,', 'member,', 'policy,']\n",
      "Topic: 15, Score: 5.41%, Top Keywords: ['country,', 'china,', 'government,']\n",
      "Topic: 19, Score: 3.77%, Top Keywords: ['world,', 'game,', 'team,']\n",
      "Topic: 2, Score: 3.77%, Top Keywords: ['empire,', 'french,', 'german,']\n",
      "Topic: 0, Score: 3.56%, Top Keywords: ['th_century,', 'greek,', 'period,']\n",
      "Topic: 1, Score: 3.56%, Top Keywords: ['university,', 'school,', 'national,']\n",
      "Topic: 3, Score: 3.56%, Top Keywords: ['high,', 'due,', 'film,']\n",
      "Topic: 4, Score: 3.56%, Top Keywords: ['water,', 'energy,', 'material,']\n",
      "Topic: 5, Score: 3.56%, Top Keywords: ['specie,', 'plant,', 'human,']\n",
      "Topic: 7, Score: 3.56%, Top Keywords: ['force,', 'war,', 'army,']\n",
      "Topic: 8, Score: 3.56%, Top Keywords: ['year,', 'time,', 'day,']\n",
      "Topic: 9, Score: 3.56%, Top Keywords: ['john,', 'woman,', 'death,']\n",
      "Topic: 10, Score: 3.56%, Top Keywords: ['company,', 'million,', 'world,']\n",
      "Topic: 11, Score: 3.56%, Top Keywords: ['social,', 'theory,', 'work,']\n",
      "Topic: 12, Score: 3.56%, Top Keywords: ['city,', 'new_york,', 'largest,']\n",
      "Topic: 14, Score: 3.56%, Top Keywords: ['area,', 'island,', 'part,']\n",
      "Topic: 16, Score: 3.56%, Top Keywords: ['th_century,', 'de,', 'early,']\n",
      "Topic: 17, Score: 3.56%, Top Keywords: ['music,', 'record,', 'work,']\n",
      "Topic: 18, Score: 3.56%, Top Keywords: ['church,', 'religious,', 'god,']\n",
      "Topic: 20, Score: 3.56%, Top Keywords: ['language,', 'term,', 'form,']\n",
      "Topic: 21, Score: 3.56%, Top Keywords: ['service,', 'medium,', 'television,']\n",
      "Topic: 22, Score: 3.56%, Top Keywords: ['called,', 'made,', 'body,']\n",
      "Topic: 23, Score: 3.56%, Top Keywords: ['population,', 'people,', 'american,']\n",
      "Topic: 24, Score: 3.56%, Top Keywords: ['system,', 'computer,', 'data,']\n",
      "Topic: 25, Score: 3.56%, Top Keywords: ['light,', 'red,', 'color,']\n"
     ]
    },
    {
     "data": {
      "text/plain": [
       "6"
      ]
     },
     "execution_count": 394,
     "metadata": {},
     "output_type": "execute_result"
    }
   ],
   "source": [
    "get_query_topic('obama was the president of the united states')"
   ]
  },
  {
   "cell_type": "code",
   "execution_count": null,
   "metadata": {},
   "outputs": [],
   "source": []
  }
 ],
 "metadata": {
  "accelerator": "GPU",
  "colab": {
   "collapsed_sections": [],
   "machine_shape": "hm",
   "name": "document_retrieval",
   "provenance": [],
   "toc_visible": true
  },
  "kernelspec": {
   "display_name": "Python 3",
   "language": "python",
   "name": "python3"
  },
  "language_info": {
   "codemirror_mode": {
    "name": "ipython",
    "version": 3
   },
   "file_extension": ".py",
   "mimetype": "text/x-python",
   "name": "python",
   "nbconvert_exporter": "python",
   "pygments_lexer": "ipython3",
   "version": "3.7.9"
  }
 },
 "nbformat": 4,
 "nbformat_minor": 4
}
