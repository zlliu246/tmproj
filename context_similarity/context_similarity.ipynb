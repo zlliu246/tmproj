{
 "cells": [
  {
   "cell_type": "code",
   "execution_count": 22,
   "metadata": {},
   "outputs": [],
   "source": [
    "import nltk\n",
    "from nltk.stem import WordNetLemmatizer\n",
    "from nltk.stem import PorterStemmer\n",
    "wordnet_lemmatizer = WordNetLemmatizer()\n",
    "ps = PorterStemmer()\n",
    "\n",
    "import string\n",
    "import spacy\n",
    "from spacy import displacy\n",
    "from collections import Counter\n",
    "import en_core_web_sm\n",
    "nlp = en_core_web_sm.load()\n",
    "from pprint import pprint\n",
    "from unidecode import unidecode\n",
    "import pandas as pd\n",
    "from sklearn.feature_extraction.text import CountVectorizer, TfidfVectorizer\n",
    "from sklearn.metrics.pairwise import cosine_similarity, linear_kernel\n",
    "import warnings\n",
    "from tqdm._tqdm_notebook import tqdm_notebook\n",
    "from scipy.spatial import distance\n",
    "import numpy as np\n",
    "import re\n",
    "from sklearn.metrics.pairwise import cosine_similarity\n",
    "from sklearn.metrics.pairwise import euclidean_distances\n",
    "from sentence_transformers import SentenceTransformer\n",
    "from nltk.corpus import stopwords\n",
    "import tensorflow as tf\n",
    "import transformers\n",
    "from sent2vec.vectorizer import Vectorizer as S2vectorizer\n",
    "tqdm_notebook.pandas()\n",
    "warnings.filterwarnings(\"ignore\")\n",
    "\n",
    "#import pipelines\n",
    "from transformers import pipeline\n",
    "nlp2 = pipeline(\"question-answering\")\n",
    "\n",
    "pd.set_option('display.max_colwidth', 0)\n",
    "pd.set_option('display.max_columns', 0)"
   ]
  },
  {
   "cell_type": "markdown",
   "metadata": {},
   "source": [
    "## NER Generation"
   ]
  },
  {
   "cell_type": "code",
   "execution_count": 6,
   "metadata": {},
   "outputs": [
    {
     "name": "stdout",
     "output_type": "stream",
     "text": [
      "[('Beyonce', 'GPE')]\n"
     ]
    }
   ],
   "source": [
    "pprint([(X.text, X.label_) for X in nlp(\"Beyonce is a woman\").ents])"
   ]
  },
  {
   "cell_type": "code",
   "execution_count": 30,
   "metadata": {},
   "outputs": [],
   "source": [
    "def generate_ners(text):\n",
    "    result = [unidecode(X.text.lower()) for X in nlp(text).ents]\n",
    "    return result"
   ]
  },
  {
   "cell_type": "code",
   "execution_count": 31,
   "metadata": {},
   "outputs": [
    {
     "data": {
      "application/vnd.jupyter.widget-view+json": {
       "model_id": "b431a4546a0e4e30b08a59024bfc7862",
       "version_major": 2,
       "version_minor": 0
      },
      "text/plain": [
       "HBox(children=(FloatProgress(value=0.0, max=18877.0), HTML(value='')))"
      ]
     },
     "metadata": {},
     "output_type": "display_data"
    },
    {
     "name": "stdout",
     "output_type": "stream",
     "text": [
      "\n"
     ]
    }
   ],
   "source": [
    "df = pd.read_csv('../data/SQuAD_csv.csv', encoding='utf-8').loc[:, ['context']]\n",
    "df = df.drop_duplicates(subset=['context'])\n",
    "df['context_ner'] = df['context'].progress_apply(generate_ners)\n",
    "# df['context'] = df['context'].apply(lambda x: str(x).lower())"
   ]
  },
  {
   "cell_type": "code",
   "execution_count": 32,
   "metadata": {},
   "outputs": [
    {
     "data": {
      "text/html": [
       "<div>\n",
       "<style scoped>\n",
       "    .dataframe tbody tr th:only-of-type {\n",
       "        vertical-align: middle;\n",
       "    }\n",
       "\n",
       "    .dataframe tbody tr th {\n",
       "        vertical-align: top;\n",
       "    }\n",
       "\n",
       "    .dataframe thead th {\n",
       "        text-align: right;\n",
       "    }\n",
       "</style>\n",
       "<table border=\"1\" class=\"dataframe\">\n",
       "  <thead>\n",
       "    <tr style=\"text-align: right;\">\n",
       "      <th></th>\n",
       "      <th>context</th>\n",
       "      <th>context_ner</th>\n",
       "    </tr>\n",
       "  </thead>\n",
       "  <tbody>\n",
       "    <tr>\n",
       "      <th>0</th>\n",
       "      <td>Beyoncé Giselle Knowles-Carter (/biːˈjɒnseɪ/ bee-YON-say) (born September 4, 1981) is an American singer, songwriter, record producer and actress. Born and raised in Houston, Texas, she performed in various singing and dancing competitions as a child, and rose to fame in the late 1990s as lead singer of R&amp;B girl-group Destiny's Child. Managed by her father, Mathew Knowles, the group became one of the world's best-selling girl groups of all time. Their hiatus saw the release of Beyoncé's debut album, Dangerously in Love (2003), which established her as a solo artist worldwide, earned five Grammy Awards and featured the Billboard Hot 100 number-one singles \"Crazy in Love\" and \"Baby Boy\".</td>\n",
       "      <td>[beyonce giselle knowles-carter, september 4, 1981, american, houston, texas, the late 1990s, r&amp;b, destiny, mathew knowles, beyonce, 2003, five, 100, one, crazy in love, baby boy]</td>\n",
       "    </tr>\n",
       "    <tr>\n",
       "      <th>15</th>\n",
       "      <td>Following the disbandment of Destiny's Child in June 2005, she released her second solo album, B'Day (2006), which contained hits \"Déjà Vu\", \"Irreplaceable\", and \"Beautiful Liar\". Beyoncé also ventured into acting, with a Golden Globe-nominated performance in Dreamgirls (2006), and starring roles in The Pink Panther (2006) and Obsessed (2009). Her marriage to rapper Jay Z and portrayal of Etta James in Cadillac Records (2008) influenced her third album, I Am... Sasha Fierce (2008), which saw the birth of her alter-ego Sasha Fierce and earned a record-setting six Grammy Awards in 2010, including Song of the Year for \"Single Ladies (Put a Ring on It)\". Beyoncé took a hiatus from music in 2010 and took over management of her career; her fourth album 4 (2011) was subsequently mellower in tone, exploring 1970s funk, 1980s pop, and 1990s soul. Her critically acclaimed fifth studio album, Beyoncé (2013), was distinguished from previous releases by its experimental production and exploration of darker themes.</td>\n",
       "      <td>[june 2005, second, b'day, 2006, \"deja vu\", irreplaceable, beautiful liar, beyonce, golden globe, dreamgirls, 2006, the pink panther, obsessed, 2009, jay z, etta james, cadillac records, 2008, third, sasha fierce, 2008, sasha fierce, six, grammy awards, 2010, song, the year, single ladies, beyonce, 2010, fourth, 2011, 1970s, 1980s, 1990s, fifth, beyonce, 2013]</td>\n",
       "    </tr>\n",
       "    <tr>\n",
       "      <th>27</th>\n",
       "      <td>A self-described \"modern-day feminist\", Beyoncé creates songs that are often characterized by themes of love, relationships, and monogamy, as well as female sexuality and empowerment. On stage, her dynamic, highly choreographed performances have led to critics hailing her as one of the best entertainers in contemporary popular music. Throughout a career spanning 19 years, she has sold over 118 million records as a solo artist, and a further 60 million with Destiny's Child, making her one of the best-selling music artists of all time. She has won 20 Grammy Awards and is the most nominated woman in the award's history. The Recording Industry Association of America recognized her as the Top Certified Artist in America during the 2000s decade. In 2009, Billboard named her the Top Radio Songs Artist of the Decade, the Top Female Artist of the 2000s and their Artist of the Millennium in 2011. Time listed her among the 100 most influential people in the world in 2013 and 2014. Forbes magazine also listed her as the most powerful female musician of 2015.</td>\n",
       "      <td>[modern-day, beyonce, 19 years, over 118 million, 60 million, destiny, 20, grammy awards, the recording industry association of america, the top certified artist, america, the 2000s decade, 2009, billboard, the top female artist, the 2000s, their artist of the millennium, 2011, time, 100, 2013, 2014, forbes, 2015]</td>\n",
       "    </tr>\n",
       "    <tr>\n",
       "      <th>39</th>\n",
       "      <td>Beyoncé Giselle Knowles was born in Houston, Texas, to Celestine Ann \"Tina\" Knowles (née Beyincé), a hairdresser and salon owner, and Mathew Knowles, a Xerox sales manager. Beyoncé's name is a tribute to her mother's maiden name. Beyoncé's younger sister Solange is also a singer and a former member of Destiny's Child. Mathew is African-American, while Tina is of Louisiana Creole descent (with African, Native American, French, Cajun, and distant Irish and Spanish ancestry). Through her mother, Beyoncé is a descendant of Acadian leader Joseph Broussard. She was raised in a Methodist household.</td>\n",
       "      <td>[beyonce giselle knowles, houston, texas, celestine ann \"tina, knowles, mathew knowles, xerox, beyonce, beyonce, solange, destiny, child, mathew, african-american, tina, louisiana creole, african, native american, french, cajun, irish, spanish, beyonce, acadian, joseph broussard, methodist]</td>\n",
       "    </tr>\n",
       "    <tr>\n",
       "      <th>52</th>\n",
       "      <td>Beyoncé attended St. Mary's Elementary School in Fredericksburg, Texas, where she enrolled in dance classes. Her singing talent was discovered when dance instructor Darlette Johnson began humming a song and she finished it, able to hit the high-pitched notes. Beyoncé's interest in music and performing continued after winning a school talent show at age seven, singing John Lennon's \"Imagine\" to beat 15/16-year-olds. In fall of 1990, Beyoncé enrolled in Parker Elementary School, a music magnet school in Houston, where she would perform with the school's choir. She also attended the High School for the Performing and Visual Arts and later Alief Elsik High School. Beyoncé was also a member of the choir at St. John's United Methodist Church as a soloist for two years.</td>\n",
       "      <td>[st. mary's, fredericksburg, texas, darlette johnson, beyonce, age seven, john lennon's, imagine, 15/16-year-olds, fall of 1990, beyonce, parker elementary school, houston, the high school for the performing and visual arts, elsik high school, beyonce, st. john's, united methodist church, two years]</td>\n",
       "    </tr>\n",
       "  </tbody>\n",
       "</table>\n",
       "</div>"
      ],
      "text/plain": [
       "                                                                                                                                                                                                                                                                                                                                                                                                                                                                                                                                                                                                                                                                                                                                                                                                                                                                                                                                                                                                                                                                                                   context                                                                                                                                                                                                                                                                                                                                                                 context_ner\n",
       "0   Beyoncé Giselle Knowles-Carter (/biːˈjɒnseɪ/ bee-YON-say) (born September 4, 1981) is an American singer, songwriter, record producer and actress. Born and raised in Houston, Texas, she performed in various singing and dancing competitions as a child, and rose to fame in the late 1990s as lead singer of R&B girl-group Destiny's Child. Managed by her father, Mathew Knowles, the group became one of the world's best-selling girl groups of all time. Their hiatus saw the release of Beyoncé's debut album, Dangerously in Love (2003), which established her as a solo artist worldwide, earned five Grammy Awards and featured the Billboard Hot 100 number-one singles \"Crazy in Love\" and \"Baby Boy\".                                                                                                                                                                                                                                                                                                                                                                                  [beyonce giselle knowles-carter, september 4, 1981, american, houston, texas, the late 1990s, r&b, destiny, mathew knowles, beyonce, 2003, five, 100, one, crazy in love, baby boy]                                                                                                                                                                                       \n",
       "15  Following the disbandment of Destiny's Child in June 2005, she released her second solo album, B'Day (2006), which contained hits \"Déjà Vu\", \"Irreplaceable\", and \"Beautiful Liar\". Beyoncé also ventured into acting, with a Golden Globe-nominated performance in Dreamgirls (2006), and starring roles in The Pink Panther (2006) and Obsessed (2009). Her marriage to rapper Jay Z and portrayal of Etta James in Cadillac Records (2008) influenced her third album, I Am... Sasha Fierce (2008), which saw the birth of her alter-ego Sasha Fierce and earned a record-setting six Grammy Awards in 2010, including Song of the Year for \"Single Ladies (Put a Ring on It)\". Beyoncé took a hiatus from music in 2010 and took over management of her career; her fourth album 4 (2011) was subsequently mellower in tone, exploring 1970s funk, 1980s pop, and 1990s soul. Her critically acclaimed fifth studio album, Beyoncé (2013), was distinguished from previous releases by its experimental production and exploration of darker themes.                                                [june 2005, second, b'day, 2006, \"deja vu\", irreplaceable, beautiful liar, beyonce, golden globe, dreamgirls, 2006, the pink panther, obsessed, 2009, jay z, etta james, cadillac records, 2008, third, sasha fierce, 2008, sasha fierce, six, grammy awards, 2010, song, the year, single ladies, beyonce, 2010, fourth, 2011, 1970s, 1980s, 1990s, fifth, beyonce, 2013]\n",
       "27  A self-described \"modern-day feminist\", Beyoncé creates songs that are often characterized by themes of love, relationships, and monogamy, as well as female sexuality and empowerment. On stage, her dynamic, highly choreographed performances have led to critics hailing her as one of the best entertainers in contemporary popular music. Throughout a career spanning 19 years, she has sold over 118 million records as a solo artist, and a further 60 million with Destiny's Child, making her one of the best-selling music artists of all time. She has won 20 Grammy Awards and is the most nominated woman in the award's history. The Recording Industry Association of America recognized her as the Top Certified Artist in America during the 2000s decade. In 2009, Billboard named her the Top Radio Songs Artist of the Decade, the Top Female Artist of the 2000s and their Artist of the Millennium in 2011. Time listed her among the 100 most influential people in the world in 2013 and 2014. Forbes magazine also listed her as the most powerful female musician of 2015.  [modern-day, beyonce, 19 years, over 118 million, 60 million, destiny, 20, grammy awards, the recording industry association of america, the top certified artist, america, the 2000s decade, 2009, billboard, the top female artist, the 2000s, their artist of the millennium, 2011, time, 100, 2013, 2014, forbes, 2015]                                               \n",
       "39  Beyoncé Giselle Knowles was born in Houston, Texas, to Celestine Ann \"Tina\" Knowles (née Beyincé), a hairdresser and salon owner, and Mathew Knowles, a Xerox sales manager. Beyoncé's name is a tribute to her mother's maiden name. Beyoncé's younger sister Solange is also a singer and a former member of Destiny's Child. Mathew is African-American, while Tina is of Louisiana Creole descent (with African, Native American, French, Cajun, and distant Irish and Spanish ancestry). Through her mother, Beyoncé is a descendant of Acadian leader Joseph Broussard. She was raised in a Methodist household.                                                                                                                                                                                                                                                                                                                                                                                                                                                                                  [beyonce giselle knowles, houston, texas, celestine ann \"tina, knowles, mathew knowles, xerox, beyonce, beyonce, solange, destiny, child, mathew, african-american, tina, louisiana creole, african, native american, french, cajun, irish, spanish, beyonce, acadian, joseph broussard, methodist]                                                                       \n",
       "52  Beyoncé attended St. Mary's Elementary School in Fredericksburg, Texas, where she enrolled in dance classes. Her singing talent was discovered when dance instructor Darlette Johnson began humming a song and she finished it, able to hit the high-pitched notes. Beyoncé's interest in music and performing continued after winning a school talent show at age seven, singing John Lennon's \"Imagine\" to beat 15/16-year-olds. In fall of 1990, Beyoncé enrolled in Parker Elementary School, a music magnet school in Houston, where she would perform with the school's choir. She also attended the High School for the Performing and Visual Arts and later Alief Elsik High School. Beyoncé was also a member of the choir at St. John's United Methodist Church as a soloist for two years.                                                                                                                                                                                                                                                                                                   [st. mary's, fredericksburg, texas, darlette johnson, beyonce, age seven, john lennon's, imagine, 15/16-year-olds, fall of 1990, beyonce, parker elementary school, houston, the high school for the performing and visual arts, elsik high school, beyonce, st. john's, united methodist church, two years]                                                              "
      ]
     },
     "execution_count": 32,
     "metadata": {},
     "output_type": "execute_result"
    }
   ],
   "source": [
    "df.head()"
   ]
  },
  {
   "cell_type": "markdown",
   "metadata": {},
   "source": [
    "## Text Preprocessing"
   ]
  },
  {
   "cell_type": "code",
   "execution_count": 29,
   "metadata": {},
   "outputs": [],
   "source": [
    "stop_words = stopwords.words(\"english\")\n",
    "\n",
    "def clean_normalcase_stop(text):\n",
    "    text = re.sub('[%s]' % re.escape(string.punctuation), ' ', text)\n",
    "    text = re.sub('\\s{2,}', \" \", text)\n",
    "    text = unidecode(text)\n",
    "    return text\n",
    "\n",
    "def clean_normalcase_nostop(text):\n",
    "    text = ' '.join([word for word in text.split() if word not in stop_words])\n",
    "    text = re.sub('[%s]' % re.escape(string.punctuation), ' ', text)\n",
    "    text = re.sub('\\s{2,}', \" \", text)\n",
    "    text = unidecode(text)\n",
    "    return text\n",
    "\n",
    "def clean_lowercase_stop(text):\n",
    "    text = re.sub('[%s]' % re.escape(string.punctuation), ' ', text)\n",
    "    text = re.sub('\\s{2,}', \" \", text)\n",
    "    text = unidecode(text)\n",
    "    return text.lower()\n",
    "\n",
    "def clean_lowercase_nostop(text):\n",
    "    text = ' '.join([wordnet_lemmatizer.lemmatize(word) for word in text.split() if word not in stop_words])\n",
    "#     text = ' '.join([ps.stem(word) for word in text.split() if word not in stop_words])\n",
    "    text = re.sub('[%s]' % re.escape(string.punctuation), ' ', text)\n",
    "    text = re.sub('\\s{2,}', \" \", text)\n",
    "    text = unidecode(text)\n",
    "    return text.lower()"
   ]
  },
  {
   "cell_type": "code",
   "execution_count": 34,
   "metadata": {},
   "outputs": [
    {
     "data": {
      "application/vnd.jupyter.widget-view+json": {
       "model_id": "36f3347e1b834298ab5f620e0c9b888f",
       "version_major": 2,
       "version_minor": 0
      },
      "text/plain": [
       "HBox(children=(FloatProgress(value=0.0, max=18877.0), HTML(value='')))"
      ]
     },
     "metadata": {},
     "output_type": "display_data"
    },
    {
     "name": "stdout",
     "output_type": "stream",
     "text": [
      "\n"
     ]
    }
   ],
   "source": [
    "df['cleaned_normalcase_stop'] = df['context'].progress_apply(clean_normalcase_stop)"
   ]
  },
  {
   "cell_type": "code",
   "execution_count": 35,
   "metadata": {},
   "outputs": [
    {
     "data": {
      "application/vnd.jupyter.widget-view+json": {
       "model_id": "332772c4189e44fb9a416426b9e0067a",
       "version_major": 2,
       "version_minor": 0
      },
      "text/plain": [
       "HBox(children=(FloatProgress(value=0.0, max=18877.0), HTML(value='')))"
      ]
     },
     "metadata": {},
     "output_type": "display_data"
    },
    {
     "name": "stdout",
     "output_type": "stream",
     "text": [
      "\n"
     ]
    }
   ],
   "source": [
    "df['cleaned_normalcase_nostop'] = df['context'].progress_apply(clean_normalcase_nostop)"
   ]
  },
  {
   "cell_type": "code",
   "execution_count": 36,
   "metadata": {},
   "outputs": [
    {
     "data": {
      "application/vnd.jupyter.widget-view+json": {
       "model_id": "429f3279381c4a669e592683db93974d",
       "version_major": 2,
       "version_minor": 0
      },
      "text/plain": [
       "HBox(children=(FloatProgress(value=0.0, max=18877.0), HTML(value='')))"
      ]
     },
     "metadata": {},
     "output_type": "display_data"
    },
    {
     "name": "stdout",
     "output_type": "stream",
     "text": [
      "\n"
     ]
    }
   ],
   "source": [
    "df['cleaned_lowercase_stop'] = df['context'].progress_apply(clean_lowercase_stop)"
   ]
  },
  {
   "cell_type": "code",
   "execution_count": 37,
   "metadata": {},
   "outputs": [
    {
     "data": {
      "application/vnd.jupyter.widget-view+json": {
       "model_id": "802f4e34a3754752bfebc5d483174505",
       "version_major": 2,
       "version_minor": 0
      },
      "text/plain": [
       "HBox(children=(FloatProgress(value=0.0, max=18877.0), HTML(value='')))"
      ]
     },
     "metadata": {},
     "output_type": "display_data"
    },
    {
     "name": "stdout",
     "output_type": "stream",
     "text": [
      "\n"
     ]
    }
   ],
   "source": [
    "df['cleaned_lowercase_nostop'] = df['context'].progress_apply(clean_lowercase_nostop)"
   ]
  },
  {
   "cell_type": "code",
   "execution_count": 40,
   "metadata": {},
   "outputs": [],
   "source": [
    "df['ner_combined'] = df['context_ner'].apply(lambda x: ' '.join(x).strip('[').strip(']').replace(',',''))"
   ]
  },
  {
   "cell_type": "code",
   "execution_count": 41,
   "metadata": {},
   "outputs": [
    {
     "data": {
      "text/html": [
       "<div>\n",
       "<style scoped>\n",
       "    .dataframe tbody tr th:only-of-type {\n",
       "        vertical-align: middle;\n",
       "    }\n",
       "\n",
       "    .dataframe tbody tr th {\n",
       "        vertical-align: top;\n",
       "    }\n",
       "\n",
       "    .dataframe thead th {\n",
       "        text-align: right;\n",
       "    }\n",
       "</style>\n",
       "<table border=\"1\" class=\"dataframe\">\n",
       "  <thead>\n",
       "    <tr style=\"text-align: right;\">\n",
       "      <th></th>\n",
       "      <th>context</th>\n",
       "      <th>context_ner</th>\n",
       "      <th>cleaned_normalcase_stop</th>\n",
       "      <th>cleaned_normalcase_nostop</th>\n",
       "      <th>cleaned_lowercase_stop</th>\n",
       "      <th>cleaned_lowercase_nostop</th>\n",
       "      <th>ner_combined</th>\n",
       "    </tr>\n",
       "  </thead>\n",
       "  <tbody>\n",
       "    <tr>\n",
       "      <th>0</th>\n",
       "      <td>Beyoncé Giselle Knowles-Carter (/biːˈjɒnseɪ/ bee-YON-say) (born September 4, 1981) is an American singer, songwriter, record producer and actress. Born and raised in Houston, Texas, she performed in various singing and dancing competitions as a child, and rose to fame in the late 1990s as lead singer of R&amp;B girl-group Destiny's Child. Managed by her father, Mathew Knowles, the group became one of the world's best-selling girl groups of all time. Their hiatus saw the release of Beyoncé's debut album, Dangerously in Love (2003), which established her as a solo artist worldwide, earned five Grammy Awards and featured the Billboard Hot 100 number-one singles \"Crazy in Love\" and \"Baby Boy\".</td>\n",
       "      <td>[beyonce giselle knowles-carter, september 4, 1981, american, houston, texas, the late 1990s, r&amp;b, destiny, mathew knowles, beyonce, 2003, five, 100, one, crazy in love, baby boy]</td>\n",
       "      <td>Beyonce Giselle Knowles Carter bi:'janseI bee YON say born September 4 1981 is an American singer songwriter record producer and actress Born and raised in Houston Texas she performed in various singing and dancing competitions as a child and rose to fame in the late 1990s as lead singer of R B girl group Destiny s Child Managed by her father Mathew Knowles the group became one of the world s best selling girl groups of all time Their hiatus saw the release of Beyonce s debut album Dangerously in Love 2003 which established her as a solo artist worldwide earned five Grammy Awards and featured the Billboard Hot 100 number one singles Crazy in Love and Baby Boy</td>\n",
       "      <td>Beyonce Giselle Knowles Carter bi:'janseI bee YON say born September 4 1981 American singer songwriter record producer actress Born raised Houston Texas performed various singing dancing competitions child rose fame late 1990s lead singer R B girl group Destiny s Child Managed father Mathew Knowles group became one world s best selling girl groups time Their hiatus saw release Beyonce s debut album Dangerously Love 2003 established solo artist worldwide earned five Grammy Awards featured Billboard Hot 100 number one singles Crazy Love Baby Boy</td>\n",
       "      <td>beyonce giselle knowles carter bi:'jansei bee yon say born september 4 1981 is an american singer songwriter record producer and actress born and raised in houston texas she performed in various singing and dancing competitions as a child and rose to fame in the late 1990s as lead singer of r b girl group destiny s child managed by her father mathew knowles the group became one of the world s best selling girl groups of all time their hiatus saw the release of beyonce s debut album dangerously in love 2003 which established her as a solo artist worldwide earned five grammy awards and featured the billboard hot 100 number one singles crazy in love and baby boy</td>\n",
       "      <td>beyonce giselle knowles carter bi:'jansei bee yon say born september 4 1981 american singer songwriter record producer actress born raised houston texas performed various singing dancing competitions child rose fame late 1990s lead singer r b girl group destiny s child managed father mathew knowles group became one world s best selling girl groups time their hiatus saw release beyonce s debut album dangerously love 2003 established solo artist worldwide earned five grammy awards featured billboard hot 100 number one singles crazy love baby boy</td>\n",
       "      <td>beyonce giselle knowles-carter september 4 1981 american houston texas the late 1990s r&amp;b destiny mathew knowles beyonce 2003 five 100 one crazy in love baby boy</td>\n",
       "    </tr>\n",
       "    <tr>\n",
       "      <th>15</th>\n",
       "      <td>Following the disbandment of Destiny's Child in June 2005, she released her second solo album, B'Day (2006), which contained hits \"Déjà Vu\", \"Irreplaceable\", and \"Beautiful Liar\". Beyoncé also ventured into acting, with a Golden Globe-nominated performance in Dreamgirls (2006), and starring roles in The Pink Panther (2006) and Obsessed (2009). Her marriage to rapper Jay Z and portrayal of Etta James in Cadillac Records (2008) influenced her third album, I Am... Sasha Fierce (2008), which saw the birth of her alter-ego Sasha Fierce and earned a record-setting six Grammy Awards in 2010, including Song of the Year for \"Single Ladies (Put a Ring on It)\". Beyoncé took a hiatus from music in 2010 and took over management of her career; her fourth album 4 (2011) was subsequently mellower in tone, exploring 1970s funk, 1980s pop, and 1990s soul. Her critically acclaimed fifth studio album, Beyoncé (2013), was distinguished from previous releases by its experimental production and exploration of darker themes.</td>\n",
       "      <td>[june 2005, second, b'day, 2006, \"deja vu\", irreplaceable, beautiful liar, beyonce, golden globe, dreamgirls, 2006, the pink panther, obsessed, 2009, jay z, etta james, cadillac records, 2008, third, sasha fierce, 2008, sasha fierce, six, grammy awards, 2010, song, the year, single ladies, beyonce, 2010, fourth, 2011, 1970s, 1980s, 1990s, fifth, beyonce, 2013]</td>\n",
       "      <td>Following the disbandment of Destiny s Child in June 2005 she released her second solo album B Day 2006 which contained hits Deja Vu Irreplaceable and Beautiful Liar Beyonce also ventured into acting with a Golden Globe nominated performance in Dreamgirls 2006 and starring roles in The Pink Panther 2006 and Obsessed 2009 Her marriage to rapper Jay Z and portrayal of Etta James in Cadillac Records 2008 influenced her third album I Am Sasha Fierce 2008 which saw the birth of her alter ego Sasha Fierce and earned a record setting six Grammy Awards in 2010 including Song of the Year for Single Ladies Put a Ring on It Beyonce took a hiatus from music in 2010 and took over management of her career her fourth album 4 2011 was subsequently mellower in tone exploring 1970s funk 1980s pop and 1990s soul Her critically acclaimed fifth studio album Beyonce 2013 was distinguished from previous releases by its experimental production and exploration of darker themes</td>\n",
       "      <td>Following disbandment Destiny s Child June 2005 released second solo album B Day 2006 contained hits Deja Vu Irreplaceable Beautiful Liar Beyonce also ventured acting Golden Globe nominated performance Dreamgirls 2006 starring roles The Pink Panther 2006 Obsessed 2009 Her marriage rapper Jay Z portrayal Etta James Cadillac Records 2008 influenced third album I Am Sasha Fierce 2008 saw birth alter ego Sasha Fierce earned record setting six Grammy Awards 2010 including Song Year Single Ladies Put Ring It Beyonce took hiatus music 2010 took management career fourth album 4 2011 subsequently mellower tone exploring 1970s funk 1980s pop 1990s soul Her critically acclaimed fifth studio album Beyonce 2013 distinguished previous releases experimental production exploration darker themes</td>\n",
       "      <td>following the disbandment of destiny s child in june 2005 she released her second solo album b day 2006 which contained hits deja vu irreplaceable and beautiful liar beyonce also ventured into acting with a golden globe nominated performance in dreamgirls 2006 and starring roles in the pink panther 2006 and obsessed 2009 her marriage to rapper jay z and portrayal of etta james in cadillac records 2008 influenced her third album i am sasha fierce 2008 which saw the birth of her alter ego sasha fierce and earned a record setting six grammy awards in 2010 including song of the year for single ladies put a ring on it beyonce took a hiatus from music in 2010 and took over management of her career her fourth album 4 2011 was subsequently mellower in tone exploring 1970s funk 1980s pop and 1990s soul her critically acclaimed fifth studio album beyonce 2013 was distinguished from previous releases by its experimental production and exploration of darker themes</td>\n",
       "      <td>following disbandment destiny s child june 2005 released second solo album b day 2006 contained hits deja vu irreplaceable beautiful liar beyonce also ventured acting golden globe nominated performance dreamgirls 2006 starring roles the pink panther 2006 obsessed 2009 her marriage rapper jay z portrayal etta james cadillac records 2008 influenced third album i am sasha fierce 2008 saw birth alter ego sasha fierce earned record setting six grammy awards 2010 including song year single ladies put ring it beyonce took hiatus music 2010 took management career fourth album 4 2011 subsequently mellower tone exploring 1970s funk 1980s pop 1990s soul her critically acclaimed fifth studio album beyonce 2013 distinguished previous releases experimental production exploration darker themes</td>\n",
       "      <td>june 2005 second b'day 2006 \"deja vu\" irreplaceable beautiful liar beyonce golden globe dreamgirls 2006 the pink panther obsessed 2009 jay z etta james cadillac records 2008 third sasha fierce 2008 sasha fierce six grammy awards 2010 song the year single ladies beyonce 2010 fourth 2011 1970s 1980s 1990s fifth beyonce 2013</td>\n",
       "    </tr>\n",
       "    <tr>\n",
       "      <th>27</th>\n",
       "      <td>A self-described \"modern-day feminist\", Beyoncé creates songs that are often characterized by themes of love, relationships, and monogamy, as well as female sexuality and empowerment. On stage, her dynamic, highly choreographed performances have led to critics hailing her as one of the best entertainers in contemporary popular music. Throughout a career spanning 19 years, she has sold over 118 million records as a solo artist, and a further 60 million with Destiny's Child, making her one of the best-selling music artists of all time. She has won 20 Grammy Awards and is the most nominated woman in the award's history. The Recording Industry Association of America recognized her as the Top Certified Artist in America during the 2000s decade. In 2009, Billboard named her the Top Radio Songs Artist of the Decade, the Top Female Artist of the 2000s and their Artist of the Millennium in 2011. Time listed her among the 100 most influential people in the world in 2013 and 2014. Forbes magazine also listed her as the most powerful female musician of 2015.</td>\n",
       "      <td>[modern-day, beyonce, 19 years, over 118 million, 60 million, destiny, 20, grammy awards, the recording industry association of america, the top certified artist, america, the 2000s decade, 2009, billboard, the top female artist, the 2000s, their artist of the millennium, 2011, time, 100, 2013, 2014, forbes, 2015]</td>\n",
       "      <td>A self described modern day feminist Beyonce creates songs that are often characterized by themes of love relationships and monogamy as well as female sexuality and empowerment On stage her dynamic highly choreographed performances have led to critics hailing her as one of the best entertainers in contemporary popular music Throughout a career spanning 19 years she has sold over 118 million records as a solo artist and a further 60 million with Destiny s Child making her one of the best selling music artists of all time She has won 20 Grammy Awards and is the most nominated woman in the award s history The Recording Industry Association of America recognized her as the Top Certified Artist in America during the 2000s decade In 2009 Billboard named her the Top Radio Songs Artist of the Decade the Top Female Artist of the 2000s and their Artist of the Millennium in 2011 Time listed her among the 100 most influential people in the world in 2013 and 2014 Forbes magazine also listed her as the most powerful female musician of 2015</td>\n",
       "      <td>A self described modern day feminist Beyonce creates songs often characterized themes love relationships monogamy well female sexuality empowerment On stage dynamic highly choreographed performances led critics hailing one best entertainers contemporary popular music Throughout career spanning 19 years sold 118 million records solo artist 60 million Destiny s Child making one best selling music artists time She 20 Grammy Awards nominated woman award s history The Recording Industry Association America recognized Top Certified Artist America 2000s decade In 2009 Billboard named Top Radio Songs Artist Decade Top Female Artist 2000s Artist Millennium 2011 Time listed among 100 influential people world 2013 2014 Forbes magazine also listed powerful female musician 2015</td>\n",
       "      <td>a self described modern day feminist beyonce creates songs that are often characterized by themes of love relationships and monogamy as well as female sexuality and empowerment on stage her dynamic highly choreographed performances have led to critics hailing her as one of the best entertainers in contemporary popular music throughout a career spanning 19 years she has sold over 118 million records as a solo artist and a further 60 million with destiny s child making her one of the best selling music artists of all time she has won 20 grammy awards and is the most nominated woman in the award s history the recording industry association of america recognized her as the top certified artist in america during the 2000s decade in 2009 billboard named her the top radio songs artist of the decade the top female artist of the 2000s and their artist of the millennium in 2011 time listed her among the 100 most influential people in the world in 2013 and 2014 forbes magazine also listed her as the most powerful female musician of 2015</td>\n",
       "      <td>a self described modern day feminist beyonce creates songs often characterized themes love relationships monogamy well female sexuality empowerment on stage dynamic highly choreographed performances led critics hailing one best entertainers contemporary popular music throughout career spanning 19 years sold 118 million records solo artist 60 million destiny s child making one best selling music artists time she 20 grammy awards nominated woman award s history the recording industry association america recognized top certified artist america 2000s decade in 2009 billboard named top radio songs artist decade top female artist 2000s artist millennium 2011 time listed among 100 influential people world 2013 2014 forbes magazine also listed powerful female musician 2015</td>\n",
       "      <td>modern-day beyonce 19 years over 118 million 60 million destiny 20 grammy awards the recording industry association of america the top certified artist america the 2000s decade 2009 billboard the top female artist the 2000s their artist of the millennium 2011 time 100 2013 2014 forbes 2015</td>\n",
       "    </tr>\n",
       "    <tr>\n",
       "      <th>39</th>\n",
       "      <td>Beyoncé Giselle Knowles was born in Houston, Texas, to Celestine Ann \"Tina\" Knowles (née Beyincé), a hairdresser and salon owner, and Mathew Knowles, a Xerox sales manager. Beyoncé's name is a tribute to her mother's maiden name. Beyoncé's younger sister Solange is also a singer and a former member of Destiny's Child. Mathew is African-American, while Tina is of Louisiana Creole descent (with African, Native American, French, Cajun, and distant Irish and Spanish ancestry). Through her mother, Beyoncé is a descendant of Acadian leader Joseph Broussard. She was raised in a Methodist household.</td>\n",
       "      <td>[beyonce giselle knowles, houston, texas, celestine ann \"tina, knowles, mathew knowles, xerox, beyonce, beyonce, solange, destiny, child, mathew, african-american, tina, louisiana creole, african, native american, french, cajun, irish, spanish, beyonce, acadian, joseph broussard, methodist]</td>\n",
       "      <td>Beyonce Giselle Knowles was born in Houston Texas to Celestine Ann Tina Knowles nee Beyince a hairdresser and salon owner and Mathew Knowles a Xerox sales manager Beyonce s name is a tribute to her mother s maiden name Beyonce s younger sister Solange is also a singer and a former member of Destiny s Child Mathew is African American while Tina is of Louisiana Creole descent with African Native American French Cajun and distant Irish and Spanish ancestry Through her mother Beyonce is a descendant of Acadian leader Joseph Broussard She was raised in a Methodist household</td>\n",
       "      <td>Beyonce Giselle Knowles born Houston Texas Celestine Ann Tina Knowles nee Beyince hairdresser salon owner Mathew Knowles Xerox sales manager Beyonce s name tribute mother s maiden name Beyonce s younger sister Solange also singer former member Destiny s Child Mathew African American Tina Louisiana Creole descent with African Native American French Cajun distant Irish Spanish ancestry Through mother Beyonce descendant Acadian leader Joseph Broussard She raised Methodist household</td>\n",
       "      <td>beyonce giselle knowles was born in houston texas to celestine ann tina knowles nee beyince a hairdresser and salon owner and mathew knowles a xerox sales manager beyonce s name is a tribute to her mother s maiden name beyonce s younger sister solange is also a singer and a former member of destiny s child mathew is african american while tina is of louisiana creole descent with african native american french cajun and distant irish and spanish ancestry through her mother beyonce is a descendant of acadian leader joseph broussard she was raised in a methodist household</td>\n",
       "      <td>beyonce giselle knowles born houston texas celestine ann tina knowles nee beyince hairdresser salon owner mathew knowles xerox sales manager beyonce s name tribute mother s maiden name beyonce s younger sister solange also singer former member destiny s child mathew african american tina louisiana creole descent with african native american french cajun distant irish spanish ancestry through mother beyonce descendant acadian leader joseph broussard she raised methodist household</td>\n",
       "      <td>beyonce giselle knowles houston texas celestine ann \"tina knowles mathew knowles xerox beyonce beyonce solange destiny child mathew african-american tina louisiana creole african native american french cajun irish spanish beyonce acadian joseph broussard methodist</td>\n",
       "    </tr>\n",
       "    <tr>\n",
       "      <th>52</th>\n",
       "      <td>Beyoncé attended St. Mary's Elementary School in Fredericksburg, Texas, where she enrolled in dance classes. Her singing talent was discovered when dance instructor Darlette Johnson began humming a song and she finished it, able to hit the high-pitched notes. Beyoncé's interest in music and performing continued after winning a school talent show at age seven, singing John Lennon's \"Imagine\" to beat 15/16-year-olds. In fall of 1990, Beyoncé enrolled in Parker Elementary School, a music magnet school in Houston, where she would perform with the school's choir. She also attended the High School for the Performing and Visual Arts and later Alief Elsik High School. Beyoncé was also a member of the choir at St. John's United Methodist Church as a soloist for two years.</td>\n",
       "      <td>[st. mary's, fredericksburg, texas, darlette johnson, beyonce, age seven, john lennon's, imagine, 15/16-year-olds, fall of 1990, beyonce, parker elementary school, houston, the high school for the performing and visual arts, elsik high school, beyonce, st. john's, united methodist church, two years]</td>\n",
       "      <td>Beyonce attended St Mary s Elementary School in Fredericksburg Texas where she enrolled in dance classes Her singing talent was discovered when dance instructor Darlette Johnson began humming a song and she finished it able to hit the high pitched notes Beyonce s interest in music and performing continued after winning a school talent show at age seven singing John Lennon s Imagine to beat 15 16 year olds In fall of 1990 Beyonce enrolled in Parker Elementary School a music magnet school in Houston where she would perform with the school s choir She also attended the High School for the Performing and Visual Arts and later Alief Elsik High School Beyonce was also a member of the choir at St John s United Methodist Church as a soloist for two years</td>\n",
       "      <td>Beyonce attended St Mary s Elementary School Fredericksburg Texas enrolled dance classes Her singing talent discovered dance instructor Darlette Johnson began humming song finished it able hit high pitched notes Beyonce s interest music performing continued winning school talent show age seven singing John Lennon s Imagine beat 15 16 year olds In fall 1990 Beyonce enrolled Parker Elementary School music magnet school Houston would perform school s choir She also attended High School Performing Visual Arts later Alief Elsik High School Beyonce also member choir St John s United Methodist Church soloist two years</td>\n",
       "      <td>beyonce attended st mary s elementary school in fredericksburg texas where she enrolled in dance classes her singing talent was discovered when dance instructor darlette johnson began humming a song and she finished it able to hit the high pitched notes beyonce s interest in music and performing continued after winning a school talent show at age seven singing john lennon s imagine to beat 15 16 year olds in fall of 1990 beyonce enrolled in parker elementary school a music magnet school in houston where she would perform with the school s choir she also attended the high school for the performing and visual arts and later alief elsik high school beyonce was also a member of the choir at st john s united methodist church as a soloist for two years</td>\n",
       "      <td>beyonce attended st mary s elementary school fredericksburg texas enrolled dance classes her singing talent discovered dance instructor darlette johnson began humming song finished it able hit high pitched notes beyonce s interest music performing continued winning school talent show age seven singing john lennon s imagine beat 15 16 year olds in fall 1990 beyonce enrolled parker elementary school music magnet school houston would perform school s choir she also attended high school performing visual arts later alief elsik high school beyonce also member choir st john s united methodist church soloist two years</td>\n",
       "      <td>st. mary's fredericksburg texas darlette johnson beyonce age seven john lennon's imagine 15/16-year-olds fall of 1990 beyonce parker elementary school houston the high school for the performing and visual arts elsik high school beyonce st. john's united methodist church two years</td>\n",
       "    </tr>\n",
       "    <tr>\n",
       "      <th>63</th>\n",
       "      <td>At age eight, Beyoncé and childhood friend Kelly Rowland met LaTavia Roberson while in an audition for an all-girl entertainment group. They were placed into a group with three other girls as Girl's Tyme, and rapped and danced on the talent show circuit in Houston. After seeing the group, R&amp;B producer Arne Frager brought them to his Northern California studio and placed them in Star Search, the largest talent show on national TV at the time. Girl's Tyme failed to win, and Beyoncé later said the song they performed was not good. In 1995 Beyoncé's father resigned from his job to manage the group. The move reduced Beyoncé's family's income by half, and her parents were forced to move into separated apartments. Mathew cut the original line-up to four and the group continued performing as an opening act for other established R&amp;B girl groups. The girls auditioned before record labels and were finally signed to Elektra Records, moving to Atlanta Records briefly to work on their first recording, only to be cut by the company. This put further strain on the family, and Beyoncé's parents separated. On October 5, 1995, Dwayne Wiggins's Grass Roots Entertainment signed the group. In 1996, the girls began recording their debut album under an agreement with Sony Music, the Knowles family reunited, and shortly after, the group got a contract with Columbia Records.</td>\n",
       "      <td>[age eight, beyonce, kelly rowland, latavia roberson, three, girl's tyme, houston, r&amp;b, arne frager, northern california, star search, tyme, beyonce, 1995, beyonce, beyonce, half, mathew, up to four, r&amp;b, elektra records, atlanta records, first, beyonce, october 5, 1995, dwayne wiggins's, grass roots entertainment, 1996, sony music, knowles, columbia records]</td>\n",
       "      <td>At age eight Beyonce and childhood friend Kelly Rowland met LaTavia Roberson while in an audition for an all girl entertainment group They were placed into a group with three other girls as Girl s Tyme and rapped and danced on the talent show circuit in Houston After seeing the group R B producer Arne Frager brought them to his Northern California studio and placed them in Star Search the largest talent show on national TV at the time Girl s Tyme failed to win and Beyonce later said the song they performed was not good In 1995 Beyonce s father resigned from his job to manage the group The move reduced Beyonce s family s income by half and her parents were forced to move into separated apartments Mathew cut the original line up to four and the group continued performing as an opening act for other established R B girl groups The girls auditioned before record labels and were finally signed to Elektra Records moving to Atlanta Records briefly to work on their first recording only to be cut by the company This put further strain on the family and Beyonce s parents separated On October 5 1995 Dwayne Wiggins s Grass Roots Entertainment signed the group In 1996 the girls began recording their debut album under an agreement with Sony Music the Knowles family reunited and shortly after the group got a contract with Columbia Records</td>\n",
       "      <td>At age eight Beyonce childhood friend Kelly Rowland met LaTavia Roberson audition all girl entertainment group They placed group three girls Girl s Tyme rapped danced talent show circuit Houston After seeing group R B producer Arne Frager brought Northern California studio placed Star Search largest talent show national TV time Girl s Tyme failed win Beyonce later said song performed good In 1995 Beyonce s father resigned job manage group The move reduced Beyonce s family s income half parents forced move separated apartments Mathew cut original line up four group continued performing opening act established R B girl groups The girls auditioned record labels finally signed Elektra Records moving Atlanta Records briefly work first recording cut company This put strain family Beyonce s parents separated On October 5 1995 Dwayne Wiggins s Grass Roots Entertainment signed group In 1996 girls began recording debut album agreement Sony Music Knowles family reunited shortly after group got contract Columbia Records</td>\n",
       "      <td>at age eight beyonce and childhood friend kelly rowland met latavia roberson while in an audition for an all girl entertainment group they were placed into a group with three other girls as girl s tyme and rapped and danced on the talent show circuit in houston after seeing the group r b producer arne frager brought them to his northern california studio and placed them in star search the largest talent show on national tv at the time girl s tyme failed to win and beyonce later said the song they performed was not good in 1995 beyonce s father resigned from his job to manage the group the move reduced beyonce s family s income by half and her parents were forced to move into separated apartments mathew cut the original line up to four and the group continued performing as an opening act for other established r b girl groups the girls auditioned before record labels and were finally signed to elektra records moving to atlanta records briefly to work on their first recording only to be cut by the company this put further strain on the family and beyonce s parents separated on october 5 1995 dwayne wiggins s grass roots entertainment signed the group in 1996 the girls began recording their debut album under an agreement with sony music the knowles family reunited and shortly after the group got a contract with columbia records</td>\n",
       "      <td>at age eight beyonce childhood friend kelly rowland met latavia roberson audition all girl entertainment group they placed group three girls girl s tyme rapped danced talent show circuit houston after seeing group r b producer arne frager brought northern california studio placed star search largest talent show national tv time girl s tyme failed win beyonce later said song performed good in 1995 beyonce s father resigned job manage group the move reduced beyonce s family s income half parents forced move separated apartments mathew cut original line up four group continued performing opening act established r b girl groups the girls auditioned record labels finally signed elektra records moving atlanta records briefly work first recording cut company this put strain family beyonce s parents separated on october 5 1995 dwayne wiggins s grass roots entertainment signed group in 1996 girls began recording debut album agreement sony music knowles family reunited shortly after group got contract columbia records</td>\n",
       "      <td>age eight beyonce kelly rowland latavia roberson three girl's tyme houston r&amp;b arne frager northern california star search tyme beyonce 1995 beyonce beyonce half mathew up to four r&amp;b elektra records atlanta records first beyonce october 5 1995 dwayne wiggins's grass roots entertainment 1996 sony music knowles columbia records</td>\n",
       "    </tr>\n",
       "    <tr>\n",
       "      <th>76</th>\n",
       "      <td>The group changed their name to Destiny's Child in 1996, based upon a passage in the Book of Isaiah. In 1997, Destiny's Child released their major label debut song \"Killing Time\" on the soundtrack to the 1997 film, Men in Black. The following year, the group released their self-titled debut album, scoring their first major hit \"No, No, No\". The album established the group as a viable act in the music industry, with moderate sales and winning the group three Soul Train Lady of Soul Awards for Best R&amp;B/Soul Album of the Year, Best R&amp;B/Soul or Rap New Artist, and Best R&amp;B/Soul Single for \"No, No, No\". The group released their multi-platinum second album The Writing's on the Wall in 1999. The record features some of the group's most widely known songs such as \"Bills, Bills, Bills\", the group's first number-one single, \"Jumpin' Jumpin'\" and \"Say My Name\", which became their most successful song at the time, and would remain one of their signature songs. \"Say My Name\" won the Best R&amp;B Performance by a Duo or Group with Vocals and the Best R&amp;B Song at the 43rd Annual Grammy Awards. The Writing's on the Wall sold more than eight million copies worldwide. During this time, Beyoncé recorded a duet with Marc Nelson, an original member of Boyz II Men, on the song \"After All Is Said and Done\" for the soundtrack to the 1999 film, The Best Man.</td>\n",
       "      <td>[destiny, 1996, the book of isaiah, 1997, destiny, child, killing time, 1997, men in black, the following year, first, three, soul train lady of soul awards for best r&amp;b/soul album of the year, rap new artist, soul single, second, the writing's on the wall in 1999, bills, bills, bills, first, one, jumpin' jumpin', say my name, say my name, the best r&amp;b performance by a duo or group with vocals, 43rd, annual grammy awards, the writing's, wall, more than eight million, beyonce, marc nelson, boyz ii men, after all is said and done, 1999, the best man]</td>\n",
       "      <td>The group changed their name to Destiny s Child in 1996 based upon a passage in the Book of Isaiah In 1997 Destiny s Child released their major label debut song Killing Time on the soundtrack to the 1997 film Men in Black The following year the group released their self titled debut album scoring their first major hit No No No The album established the group as a viable act in the music industry with moderate sales and winning the group three Soul Train Lady of Soul Awards for Best R B Soul Album of the Year Best R B Soul or Rap New Artist and Best R B Soul Single for No No No The group released their multi platinum second album The Writing s on the Wall in 1999 The record features some of the group s most widely known songs such as Bills Bills Bills the group s first number one single Jumpin Jumpin and Say My Name which became their most successful song at the time and would remain one of their signature songs Say My Name won the Best R B Performance by a Duo or Group with Vocals and the Best R B Song at the 43rd Annual Grammy Awards The Writing s on the Wall sold more than eight million copies worldwide During this time Beyonce recorded a duet with Marc Nelson an original member of Boyz II Men on the song After All Is Said and Done for the soundtrack to the 1999 film The Best Man</td>\n",
       "      <td>The group changed name Destiny s Child 1996 based upon passage Book Isaiah In 1997 Destiny s Child released major label debut song Killing Time soundtrack 1997 film Men Black The following year group released self titled debut album scoring first major hit No No No The album established group viable act music industry moderate sales winning group three Soul Train Lady Soul Awards Best R B Soul Album Year Best R B Soul Rap New Artist Best R B Soul Single No No No The group released multi platinum second album The Writing s Wall 1999 The record features group s widely known songs Bills Bills Bills group s first number one single Jumpin Jumpin Say My Name became successful song time would remain one signature songs Say My Name Best R B Performance Duo Group Vocals Best R B Song 43rd Annual Grammy Awards The Writing s Wall sold eight million copies worldwide During time Beyonce recorded duet Marc Nelson original member Boyz II Men song After All Is Said Done soundtrack 1999 film The Best Man</td>\n",
       "      <td>the group changed their name to destiny s child in 1996 based upon a passage in the book of isaiah in 1997 destiny s child released their major label debut song killing time on the soundtrack to the 1997 film men in black the following year the group released their self titled debut album scoring their first major hit no no no the album established the group as a viable act in the music industry with moderate sales and winning the group three soul train lady of soul awards for best r b soul album of the year best r b soul or rap new artist and best r b soul single for no no no the group released their multi platinum second album the writing s on the wall in 1999 the record features some of the group s most widely known songs such as bills bills bills the group s first number one single jumpin jumpin and say my name which became their most successful song at the time and would remain one of their signature songs say my name won the best r b performance by a duo or group with vocals and the best r b song at the 43rd annual grammy awards the writing s on the wall sold more than eight million copies worldwide during this time beyonce recorded a duet with marc nelson an original member of boyz ii men on the song after all is said and done for the soundtrack to the 1999 film the best man</td>\n",
       "      <td>the group changed name destiny s child 1996 based upon passage book isaiah in 1997 destiny s child released major label debut song killing time soundtrack 1997 film men black the following year group released self titled debut album scoring first major hit no no no the album established group viable act music industry moderate sales winning group three soul train lady soul awards best r b soul album year best r b soul rap new artist best r b soul single no no no the group released multi platinum second album the writing s wall 1999 the record features group s widely known songs bills bills bills group s first number one single jumpin jumpin say my name became successful song time would remain one signature songs say my name best r b performance duo group vocals best r b song 43rd annual grammy awards the writing s wall sold eight million copies worldwide during time beyonce recorded duet marc nelson original member boyz ii men song after all is said done soundtrack 1999 film the best man</td>\n",
       "      <td>destiny 1996 the book of isaiah 1997 destiny child killing time 1997 men in black the following year first three soul train lady of soul awards for best r&amp;b/soul album of the year rap new artist soul single second the writing's on the wall in 1999 bills bills bills first one jumpin' jumpin' say my name say my name the best r&amp;b performance by a duo or group with vocals 43rd annual grammy awards the writing's wall more than eight million beyonce marc nelson boyz ii men after all is said and done 1999 the best man</td>\n",
       "    </tr>\n",
       "    <tr>\n",
       "      <th>89</th>\n",
       "      <td>LeToya Luckett and Roberson became unhappy with Mathew's managing of the band and eventually were replaced by Farrah Franklin and Michelle Williams. Beyoncé experienced depression following the split with Luckett and Roberson after being publicly blamed by the media, critics, and blogs for its cause. Her long-standing boyfriend left her at this time. The depression was so severe it lasted for a couple of years, during which she occasionally kept herself in her bedroom for days and refused to eat anything. Beyoncé stated that she struggled to speak about her depression because Destiny's Child had just won their first Grammy Award and she feared no one would take her seriously. Beyoncé would later speak of her mother as the person who helped her fight it. Franklin was dismissed, leaving just Beyoncé, Rowland, and Williams.</td>\n",
       "      <td>[letoya luckett, roberson, mathew, farrah franklin, michelle williams, beyonce, luckett, roberson, a couple of years, days, beyonce, destiny, child, first, grammy award, beyonce, franklin, beyonce, rowland, williams]</td>\n",
       "      <td>LeToya Luckett and Roberson became unhappy with Mathew s managing of the band and eventually were replaced by Farrah Franklin and Michelle Williams Beyonce experienced depression following the split with Luckett and Roberson after being publicly blamed by the media critics and blogs for its cause Her long standing boyfriend left her at this time The depression was so severe it lasted for a couple of years during which she occasionally kept herself in her bedroom for days and refused to eat anything Beyonce stated that she struggled to speak about her depression because Destiny s Child had just won their first Grammy Award and she feared no one would take her seriously Beyonce would later speak of her mother as the person who helped her fight it Franklin was dismissed leaving just Beyonce Rowland and Williams</td>\n",
       "      <td>LeToya Luckett Roberson became unhappy Mathew s managing band eventually replaced Farrah Franklin Michelle Williams Beyonce experienced depression following split Luckett Roberson publicly blamed media critics blogs cause Her long standing boyfriend left time The depression severe lasted couple years occasionally kept bedroom days refused eat anything Beyonce stated struggled speak depression Destiny s Child first Grammy Award feared one would take seriously Beyonce would later speak mother person helped fight it Franklin dismissed leaving Beyonce Rowland Williams</td>\n",
       "      <td>letoya luckett and roberson became unhappy with mathew s managing of the band and eventually were replaced by farrah franklin and michelle williams beyonce experienced depression following the split with luckett and roberson after being publicly blamed by the media critics and blogs for its cause her long standing boyfriend left her at this time the depression was so severe it lasted for a couple of years during which she occasionally kept herself in her bedroom for days and refused to eat anything beyonce stated that she struggled to speak about her depression because destiny s child had just won their first grammy award and she feared no one would take her seriously beyonce would later speak of her mother as the person who helped her fight it franklin was dismissed leaving just beyonce rowland and williams</td>\n",
       "      <td>letoya luckett roberson became unhappy mathew s managing band eventually replaced farrah franklin michelle williams beyonce experienced depression following split luckett roberson publicly blamed media critics blogs cause her long standing boyfriend left time the depression severe lasted couple years occasionally kept bedroom days refused eat anything beyonce stated struggled speak depression destiny s child first grammy award feared one would take seriously beyonce would later speak mother person helped fight it franklin dismissed leaving beyonce rowland williams</td>\n",
       "      <td>letoya luckett roberson mathew farrah franklin michelle williams beyonce luckett roberson a couple of years days beyonce destiny child first grammy award beyonce franklin beyonce rowland williams</td>\n",
       "    </tr>\n",
       "    <tr>\n",
       "      <th>99</th>\n",
       "      <td>The remaining band members recorded \"Independent Women Part I\", which appeared on the soundtrack to the 2000 film, Charlie's Angels. It became their best-charting single, topping the U.S. Billboard Hot 100 chart for eleven consecutive weeks. In early 2001, while Destiny's Child was completing their third album, Beyoncé landed a major role in the MTV made-for-television film, Carmen: A Hip Hopera, starring alongside American actor Mekhi Phifer. Set in Philadelphia, the film is a modern interpretation of the 19th century opera Carmen by French composer Georges Bizet. When the third album Survivor was released in May 2001, Luckett and Roberson filed a lawsuit claiming that the songs were aimed at them. The album debuted at number one on the U.S. Billboard 200, with first-week sales of 663,000 copies sold. The album spawned other number-one hits, \"Bootylicious\" and the title track, \"Survivor\", the latter of which earned the group a Grammy Award for Best R&amp;B Performance by a Duo or Group with Vocals. After releasing their holiday album 8 Days of Christmas in October 2001, the group announced a hiatus to further pursue solo careers.</td>\n",
       "      <td>[independent women part i, 2000, charlie, angels, u.s., billboard hot, 100, eleven consecutive weeks, early 2001, destiny, third, beyonce, mtv, american, mekhi phifer, philadelphia, the 19th century, carmen, french, georges bizet, third, may 2001, luckett, roberson, one, u.s., first-week, 663,000, one, 8 days of christmas, october 2001]</td>\n",
       "      <td>The remaining band members recorded Independent Women Part I which appeared on the soundtrack to the 2000 film Charlie s Angels It became their best charting single topping the U S Billboard Hot 100 chart for eleven consecutive weeks In early 2001 while Destiny s Child was completing their third album Beyonce landed a major role in the MTV made for television film Carmen A Hip Hopera starring alongside American actor Mekhi Phifer Set in Philadelphia the film is a modern interpretation of the 19th century opera Carmen by French composer Georges Bizet When the third album Survivor was released in May 2001 Luckett and Roberson filed a lawsuit claiming that the songs were aimed at them The album debuted at number one on the U S Billboard 200 with first week sales of 663 000 copies sold The album spawned other number one hits Bootylicious and the title track Survivor the latter of which earned the group a Grammy Award for Best R B Performance by a Duo or Group with Vocals After releasing their holiday album 8 Days of Christmas in October 2001 the group announced a hiatus to further pursue solo careers</td>\n",
       "      <td>The remaining band members recorded Independent Women Part I appeared soundtrack 2000 film Charlie s Angels It became best charting single topping U S Billboard Hot 100 chart eleven consecutive weeks In early 2001 Destiny s Child completing third album Beyonce landed major role MTV made for television film Carmen A Hip Hopera starring alongside American actor Mekhi Phifer Set Philadelphia film modern interpretation 19th century opera Carmen French composer Georges Bizet When third album Survivor released May 2001 Luckett Roberson filed lawsuit claiming songs aimed them The album debuted number one U S Billboard 200 first week sales 663 000 copies sold The album spawned number one hits Bootylicious title track Survivor latter earned group Grammy Award Best R B Performance Duo Group Vocals After releasing holiday album 8 Days Christmas October 2001 group announced hiatus pursue solo careers</td>\n",
       "      <td>the remaining band members recorded independent women part i which appeared on the soundtrack to the 2000 film charlie s angels it became their best charting single topping the u s billboard hot 100 chart for eleven consecutive weeks in early 2001 while destiny s child was completing their third album beyonce landed a major role in the mtv made for television film carmen a hip hopera starring alongside american actor mekhi phifer set in philadelphia the film is a modern interpretation of the 19th century opera carmen by french composer georges bizet when the third album survivor was released in may 2001 luckett and roberson filed a lawsuit claiming that the songs were aimed at them the album debuted at number one on the u s billboard 200 with first week sales of 663 000 copies sold the album spawned other number one hits bootylicious and the title track survivor the latter of which earned the group a grammy award for best r b performance by a duo or group with vocals after releasing their holiday album 8 days of christmas in october 2001 the group announced a hiatus to further pursue solo careers</td>\n",
       "      <td>the remaining band members recorded independent women part i appeared soundtrack 2000 film charlie s angels it became best charting single topping u s billboard hot 100 chart eleven consecutive weeks in early 2001 destiny s child completing third album beyonce landed major role mtv made for television film carmen a hip hopera starring alongside american actor mekhi phifer set philadelphia film modern interpretation 19th century opera carmen french composer georges bizet when third album survivor released may 2001 luckett roberson filed lawsuit claiming songs aimed them the album debuted number one u s billboard 200 first week sales 663 000 copies sold the album spawned number one hits bootylicious title track survivor latter earned group grammy award best r b performance duo group vocals after releasing holiday album 8 days christmas october 2001 group announced hiatus pursue solo careers</td>\n",
       "      <td>independent women part i 2000 charlie angels u.s. billboard hot 100 eleven consecutive weeks early 2001 destiny third beyonce mtv american mekhi phifer philadelphia the 19th century carmen french georges bizet third may 2001 luckett roberson one u.s. first-week 663000 one 8 days of christmas october 2001</td>\n",
       "    </tr>\n",
       "    <tr>\n",
       "      <th>110</th>\n",
       "      <td>In July 2002, Beyoncé continued her acting career playing Foxxy Cleopatra alongside Mike Myers in the comedy film, Austin Powers in Goldmember, which spent its first weekend atop the US box office and grossed $73 million. Beyoncé released \"Work It Out\" as the lead single from its soundtrack album which entered the top ten in the UK, Norway, and Belgium. In 2003, Beyoncé starred opposite Cuba Gooding, Jr., in the musical comedy The Fighting Temptations as Lilly, a single mother whom Gooding's character falls in love with. The film received mixed reviews from critics but grossed $30 million in the U.S. Beyoncé released \"Fighting Temptation\" as the lead single from the film's soundtrack album, with Missy Elliott, MC Lyte, and Free which was also used to promote the film. Another of Beyoncé's contributions to the soundtrack, \"Summertime\", fared better on the US charts.</td>\n",
       "      <td>[july 2002, beyonce, foxxy cleopatra, mike myers, austin powers, goldmember, first, us, $73 million, work it out, ten, uk, norway, belgium, 2003, beyonce, cuba gooding, jr., lilly, gooding, $30 million, u.s., fighting temptation, missy elliott, mc lyte, free, beyonce, summertime, us]</td>\n",
       "      <td>In July 2002 Beyonce continued her acting career playing Foxxy Cleopatra alongside Mike Myers in the comedy film Austin Powers in Goldmember which spent its first weekend atop the US box office and grossed 73 million Beyonce released Work It Out as the lead single from its soundtrack album which entered the top ten in the UK Norway and Belgium In 2003 Beyonce starred opposite Cuba Gooding Jr in the musical comedy The Fighting Temptations as Lilly a single mother whom Gooding s character falls in love with The film received mixed reviews from critics but grossed 30 million in the U S Beyonce released Fighting Temptation as the lead single from the film s soundtrack album with Missy Elliott MC Lyte and Free which was also used to promote the film Another of Beyonce s contributions to the soundtrack Summertime fared better on the US charts</td>\n",
       "      <td>In July 2002 Beyonce continued acting career playing Foxxy Cleopatra alongside Mike Myers comedy film Austin Powers Goldmember spent first weekend atop US box office grossed 73 million Beyonce released Work It Out lead single soundtrack album entered top ten UK Norway Belgium In 2003 Beyonce starred opposite Cuba Gooding Jr musical comedy The Fighting Temptations Lilly single mother Gooding s character falls love with The film received mixed reviews critics grossed 30 million U S Beyonce released Fighting Temptation lead single film s soundtrack album Missy Elliott MC Lyte Free also used promote film Another Beyonce s contributions soundtrack Summertime fared better US charts</td>\n",
       "      <td>in july 2002 beyonce continued her acting career playing foxxy cleopatra alongside mike myers in the comedy film austin powers in goldmember which spent its first weekend atop the us box office and grossed 73 million beyonce released work it out as the lead single from its soundtrack album which entered the top ten in the uk norway and belgium in 2003 beyonce starred opposite cuba gooding jr in the musical comedy the fighting temptations as lilly a single mother whom gooding s character falls in love with the film received mixed reviews from critics but grossed 30 million in the u s beyonce released fighting temptation as the lead single from the film s soundtrack album with missy elliott mc lyte and free which was also used to promote the film another of beyonce s contributions to the soundtrack summertime fared better on the us charts</td>\n",
       "      <td>in july 2002 beyonce continued acting career playing foxxy cleopatra alongside mike myers comedy film austin powers goldmember spent first weekend atop us box office grossed 73 million beyonce released work it out lead single soundtrack album entered top ten uk norway belgium in 2003 beyonce starred opposite cuba gooding jr musical comedy the fighting temptations lilly single mother gooding s character falls love with the film received mixed reviews critics grossed 30 million u s beyonce released fighting temptation lead single film s soundtrack album missy elliott mc lyte free also used promote film another beyonce s contributions soundtrack summertime fared better us charts</td>\n",
       "      <td>july 2002 beyonce foxxy cleopatra mike myers austin powers goldmember first us $73 million work it out ten uk norway belgium 2003 beyonce cuba gooding jr. lilly gooding $30 million u.s. fighting temptation missy elliott mc lyte free beyonce summertime us</td>\n",
       "    </tr>\n",
       "  </tbody>\n",
       "</table>\n",
       "</div>"
      ],
      "text/plain": [
       "                                                                                                                                                                                                                                                                                                                                                                                                                                                                                                                                                                                                                                                                                                                                                                                                                                                                                                                                                                                                                                                                                                                                                                                                                                                                                                                                                                                                                         context  ...                                                                                                                                                                                                                                                                                                                                                                                                                                                                                                                          ner_combined\n",
       "0    Beyoncé Giselle Knowles-Carter (/biːˈjɒnseɪ/ bee-YON-say) (born September 4, 1981) is an American singer, songwriter, record producer and actress. Born and raised in Houston, Texas, she performed in various singing and dancing competitions as a child, and rose to fame in the late 1990s as lead singer of R&B girl-group Destiny's Child. Managed by her father, Mathew Knowles, the group became one of the world's best-selling girl groups of all time. Their hiatus saw the release of Beyoncé's debut album, Dangerously in Love (2003), which established her as a solo artist worldwide, earned five Grammy Awards and featured the Billboard Hot 100 number-one singles \"Crazy in Love\" and \"Baby Boy\".                                                                                                                                                                                                                                                                                                                                                                                                                                                                                                                                                                                                                                                                                                       ...  beyonce giselle knowles-carter september 4 1981 american houston texas the late 1990s r&b destiny mathew knowles beyonce 2003 five 100 one crazy in love baby boy                                                                                                                                                                                                                                                                                                                                                                   \n",
       "15   Following the disbandment of Destiny's Child in June 2005, she released her second solo album, B'Day (2006), which contained hits \"Déjà Vu\", \"Irreplaceable\", and \"Beautiful Liar\". Beyoncé also ventured into acting, with a Golden Globe-nominated performance in Dreamgirls (2006), and starring roles in The Pink Panther (2006) and Obsessed (2009). Her marriage to rapper Jay Z and portrayal of Etta James in Cadillac Records (2008) influenced her third album, I Am... Sasha Fierce (2008), which saw the birth of her alter-ego Sasha Fierce and earned a record-setting six Grammy Awards in 2010, including Song of the Year for \"Single Ladies (Put a Ring on It)\". Beyoncé took a hiatus from music in 2010 and took over management of her career; her fourth album 4 (2011) was subsequently mellower in tone, exploring 1970s funk, 1980s pop, and 1990s soul. Her critically acclaimed fifth studio album, Beyoncé (2013), was distinguished from previous releases by its experimental production and exploration of darker themes.                                                                                                                                                                                                                                                                                                                                                                     ...  june 2005 second b'day 2006 \"deja vu\" irreplaceable beautiful liar beyonce golden globe dreamgirls 2006 the pink panther obsessed 2009 jay z etta james cadillac records 2008 third sasha fierce 2008 sasha fierce six grammy awards 2010 song the year single ladies beyonce 2010 fourth 2011 1970s 1980s 1990s fifth beyonce 2013                                                                                                                                                                                                 \n",
       "27   A self-described \"modern-day feminist\", Beyoncé creates songs that are often characterized by themes of love, relationships, and monogamy, as well as female sexuality and empowerment. On stage, her dynamic, highly choreographed performances have led to critics hailing her as one of the best entertainers in contemporary popular music. Throughout a career spanning 19 years, she has sold over 118 million records as a solo artist, and a further 60 million with Destiny's Child, making her one of the best-selling music artists of all time. She has won 20 Grammy Awards and is the most nominated woman in the award's history. The Recording Industry Association of America recognized her as the Top Certified Artist in America during the 2000s decade. In 2009, Billboard named her the Top Radio Songs Artist of the Decade, the Top Female Artist of the 2000s and their Artist of the Millennium in 2011. Time listed her among the 100 most influential people in the world in 2013 and 2014. Forbes magazine also listed her as the most powerful female musician of 2015.                                                                                                                                                                                                                                                                                                                       ...  modern-day beyonce 19 years over 118 million 60 million destiny 20 grammy awards the recording industry association of america the top certified artist america the 2000s decade 2009 billboard the top female artist the 2000s their artist of the millennium 2011 time 100 2013 2014 forbes 2015                                                                                                                                                                                                                                  \n",
       "39   Beyoncé Giselle Knowles was born in Houston, Texas, to Celestine Ann \"Tina\" Knowles (née Beyincé), a hairdresser and salon owner, and Mathew Knowles, a Xerox sales manager. Beyoncé's name is a tribute to her mother's maiden name. Beyoncé's younger sister Solange is also a singer and a former member of Destiny's Child. Mathew is African-American, while Tina is of Louisiana Creole descent (with African, Native American, French, Cajun, and distant Irish and Spanish ancestry). Through her mother, Beyoncé is a descendant of Acadian leader Joseph Broussard. She was raised in a Methodist household.                                                                                                                                                                                                                                                                                                                                                                                                                                                                                                                                                                                                                                                                                                                                                                                                       ...  beyonce giselle knowles houston texas celestine ann \"tina knowles mathew knowles xerox beyonce beyonce solange destiny child mathew african-american tina louisiana creole african native american french cajun irish spanish beyonce acadian joseph broussard methodist                                                                                                                                                                                                                                                            \n",
       "52   Beyoncé attended St. Mary's Elementary School in Fredericksburg, Texas, where she enrolled in dance classes. Her singing talent was discovered when dance instructor Darlette Johnson began humming a song and she finished it, able to hit the high-pitched notes. Beyoncé's interest in music and performing continued after winning a school talent show at age seven, singing John Lennon's \"Imagine\" to beat 15/16-year-olds. In fall of 1990, Beyoncé enrolled in Parker Elementary School, a music magnet school in Houston, where she would perform with the school's choir. She also attended the High School for the Performing and Visual Arts and later Alief Elsik High School. Beyoncé was also a member of the choir at St. John's United Methodist Church as a soloist for two years.                                                                                                                                                                                                                                                                                                                                                                                                                                                                                                                                                                                                                        ...  st. mary's fredericksburg texas darlette johnson beyonce age seven john lennon's imagine 15/16-year-olds fall of 1990 beyonce parker elementary school houston the high school for the performing and visual arts elsik high school beyonce st. john's united methodist church two years                                                                                                                                                                                                                                            \n",
       "63   At age eight, Beyoncé and childhood friend Kelly Rowland met LaTavia Roberson while in an audition for an all-girl entertainment group. They were placed into a group with three other girls as Girl's Tyme, and rapped and danced on the talent show circuit in Houston. After seeing the group, R&B producer Arne Frager brought them to his Northern California studio and placed them in Star Search, the largest talent show on national TV at the time. Girl's Tyme failed to win, and Beyoncé later said the song they performed was not good. In 1995 Beyoncé's father resigned from his job to manage the group. The move reduced Beyoncé's family's income by half, and her parents were forced to move into separated apartments. Mathew cut the original line-up to four and the group continued performing as an opening act for other established R&B girl groups. The girls auditioned before record labels and were finally signed to Elektra Records, moving to Atlanta Records briefly to work on their first recording, only to be cut by the company. This put further strain on the family, and Beyoncé's parents separated. On October 5, 1995, Dwayne Wiggins's Grass Roots Entertainment signed the group. In 1996, the girls began recording their debut album under an agreement with Sony Music, the Knowles family reunited, and shortly after, the group got a contract with Columbia Records.  ...  age eight beyonce kelly rowland latavia roberson three girl's tyme houston r&b arne frager northern california star search tyme beyonce 1995 beyonce beyonce half mathew up to four r&b elektra records atlanta records first beyonce october 5 1995 dwayne wiggins's grass roots entertainment 1996 sony music knowles columbia records                                                                                                                                                                                            \n",
       "76   The group changed their name to Destiny's Child in 1996, based upon a passage in the Book of Isaiah. In 1997, Destiny's Child released their major label debut song \"Killing Time\" on the soundtrack to the 1997 film, Men in Black. The following year, the group released their self-titled debut album, scoring their first major hit \"No, No, No\". The album established the group as a viable act in the music industry, with moderate sales and winning the group three Soul Train Lady of Soul Awards for Best R&B/Soul Album of the Year, Best R&B/Soul or Rap New Artist, and Best R&B/Soul Single for \"No, No, No\". The group released their multi-platinum second album The Writing's on the Wall in 1999. The record features some of the group's most widely known songs such as \"Bills, Bills, Bills\", the group's first number-one single, \"Jumpin' Jumpin'\" and \"Say My Name\", which became their most successful song at the time, and would remain one of their signature songs. \"Say My Name\" won the Best R&B Performance by a Duo or Group with Vocals and the Best R&B Song at the 43rd Annual Grammy Awards. The Writing's on the Wall sold more than eight million copies worldwide. During this time, Beyoncé recorded a duet with Marc Nelson, an original member of Boyz II Men, on the song \"After All Is Said and Done\" for the soundtrack to the 1999 film, The Best Man.                      ...  destiny 1996 the book of isaiah 1997 destiny child killing time 1997 men in black the following year first three soul train lady of soul awards for best r&b/soul album of the year rap new artist soul single second the writing's on the wall in 1999 bills bills bills first one jumpin' jumpin' say my name say my name the best r&b performance by a duo or group with vocals 43rd annual grammy awards the writing's wall more than eight million beyonce marc nelson boyz ii men after all is said and done 1999 the best man\n",
       "89   LeToya Luckett and Roberson became unhappy with Mathew's managing of the band and eventually were replaced by Farrah Franklin and Michelle Williams. Beyoncé experienced depression following the split with Luckett and Roberson after being publicly blamed by the media, critics, and blogs for its cause. Her long-standing boyfriend left her at this time. The depression was so severe it lasted for a couple of years, during which she occasionally kept herself in her bedroom for days and refused to eat anything. Beyoncé stated that she struggled to speak about her depression because Destiny's Child had just won their first Grammy Award and she feared no one would take her seriously. Beyoncé would later speak of her mother as the person who helped her fight it. Franklin was dismissed, leaving just Beyoncé, Rowland, and Williams.                                                                                                                                                                                                                                                                                                                                                                                                                                                                                                                                                             ...  letoya luckett roberson mathew farrah franklin michelle williams beyonce luckett roberson a couple of years days beyonce destiny child first grammy award beyonce franklin beyonce rowland williams                                                                                                                                                                                                                                                                                                                                 \n",
       "99   The remaining band members recorded \"Independent Women Part I\", which appeared on the soundtrack to the 2000 film, Charlie's Angels. It became their best-charting single, topping the U.S. Billboard Hot 100 chart for eleven consecutive weeks. In early 2001, while Destiny's Child was completing their third album, Beyoncé landed a major role in the MTV made-for-television film, Carmen: A Hip Hopera, starring alongside American actor Mekhi Phifer. Set in Philadelphia, the film is a modern interpretation of the 19th century opera Carmen by French composer Georges Bizet. When the third album Survivor was released in May 2001, Luckett and Roberson filed a lawsuit claiming that the songs were aimed at them. The album debuted at number one on the U.S. Billboard 200, with first-week sales of 663,000 copies sold. The album spawned other number-one hits, \"Bootylicious\" and the title track, \"Survivor\", the latter of which earned the group a Grammy Award for Best R&B Performance by a Duo or Group with Vocals. After releasing their holiday album 8 Days of Christmas in October 2001, the group announced a hiatus to further pursue solo careers.                                                                                                                                                                                                                                     ...  independent women part i 2000 charlie angels u.s. billboard hot 100 eleven consecutive weeks early 2001 destiny third beyonce mtv american mekhi phifer philadelphia the 19th century carmen french georges bizet third may 2001 luckett roberson one u.s. first-week 663000 one 8 days of christmas october 2001                                                                                                                                                                                                                   \n",
       "110  In July 2002, Beyoncé continued her acting career playing Foxxy Cleopatra alongside Mike Myers in the comedy film, Austin Powers in Goldmember, which spent its first weekend atop the US box office and grossed $73 million. Beyoncé released \"Work It Out\" as the lead single from its soundtrack album which entered the top ten in the UK, Norway, and Belgium. In 2003, Beyoncé starred opposite Cuba Gooding, Jr., in the musical comedy The Fighting Temptations as Lilly, a single mother whom Gooding's character falls in love with. The film received mixed reviews from critics but grossed $30 million in the U.S. Beyoncé released \"Fighting Temptation\" as the lead single from the film's soundtrack album, with Missy Elliott, MC Lyte, and Free which was also used to promote the film. Another of Beyoncé's contributions to the soundtrack, \"Summertime\", fared better on the US charts.                                                                                                                                                                                                                                                                                                                                                                                                                                                                                                                ...  july 2002 beyonce foxxy cleopatra mike myers austin powers goldmember first us $73 million work it out ten uk norway belgium 2003 beyonce cuba gooding jr. lilly gooding $30 million u.s. fighting temptation missy elliott mc lyte free beyonce summertime us                                                                                                                                                                                                                                                                      \n",
       "\n",
       "[10 rows x 7 columns]"
      ]
     },
     "execution_count": 41,
     "metadata": {},
     "output_type": "execute_result"
    }
   ],
   "source": [
    "df.head(10)"
   ]
  },
  {
   "cell_type": "code",
   "execution_count": 71,
   "metadata": {},
   "outputs": [],
   "source": [
    "df.to_pickle('cleaned_ner_23_mar.pkl')"
   ]
  },
  {
   "cell_type": "markdown",
   "metadata": {},
   "source": [
    "## Read .pkl File"
   ]
  },
  {
   "cell_type": "code",
   "execution_count": 72,
   "metadata": {},
   "outputs": [],
   "source": [
    "#Read the pickle file\n",
    "df2 = pd.read_pickle('cleaned_ner_23_mar.pkl')"
   ]
  },
  {
   "cell_type": "code",
   "execution_count": 42,
   "metadata": {},
   "outputs": [],
   "source": [
    "ner_vectorizer = TfidfVectorizer()\n",
    "context_vectorizer = TfidfVectorizer()\n",
    "ner_tfidf = ner_vectorizer.fit_transform(df['ner_combined'])\n",
    "context_tfidf = context_vectorizer.fit_transform(df['cleaned_lowercase_nostop'])"
   ]
  },
  {
   "cell_type": "code",
   "execution_count": 48,
   "metadata": {},
   "outputs": [],
   "source": [
    "def get_ner_matching_docs(query):\n",
    "    for_ner_matching = re.sub('[%s]' % re.escape(string.punctuation), '', query)\n",
    "    for_ner_matching = re.sub('\\s{2,}', \" \", for_ner_matching).lower()\n",
    "    for_ner_matching = ' '.join([word for word in for_ner_matching.split() if word not in stop_words])\n",
    "    \n",
    "    ner_matching_ids = get_similar_doc(ner_vectorizer, ner_tfidf, for_ner_matching)\n",
    "    \n",
    "    # to add: context tfidf\n",
    "    \n",
    "    return df.iloc[ner_matching_ids, df.columns.get_loc('context')]"
   ]
  },
  {
   "cell_type": "code",
   "execution_count": 91,
   "metadata": {},
   "outputs": [
    {
     "name": "stdout",
     "output_type": "stream",
     "text": [
      "16750    at certain times of the year, the queen mary 2, queen elizabeth and queen victoria may all visit southampton at the same time, in an event commonly called 'arrival of the three queens'.                                                                                                                                                                                                                                                                                                                                                                                                                                                                                                                                                                                                                                                                                                                                  \n",
      "21630    after the first world war, however, it became apparent that the number of mixed-race people was growing at a faster rate than the white population, and by 1930 fear of the \"half-caste menace\" undermining the white australia ideal from within was being taken as a serious concern. dr. cecil cook, the northern territory protector of natives, noted that:                                                                                                                                                                                                                                                                                                                                                                                                                                                                                                                                                           \n",
      "37151    during world war ii, the palace was bombed nine times, the most serious and publicised of which resulted in the destruction of the palace chapel in 1940. coverage of this event was played in cinemas all over the uk to show the common suffering of rich and poor. one bomb fell in the palace quadrangle while king george vi and queen elizabeth were in residence, and many windows were blown in and the chapel destroyed. war-time coverage of such incidents was severely restricted, however. the king and queen were filmed inspecting their bombed home, the smiling queen, as always, immaculately dressed in a hat and matching coat seemingly unbothered by the damage around her. it was at this time the queen famously declared: \"i'm glad we have been bombed. now i can look the east end in the face\". the royal family were seen as sharing their subjects' hardship, as the sunday graphic reported:\n",
      "Name: context, dtype: object\n"
     ]
    }
   ],
   "source": [
    "# print(get_ner_matching_docs('when was donald trump elected'))\n",
    "print(get_ner_matching_docs(\"Where did a protector put a notice because of Queen Victoria's lack of public appearances in March of 1864\"))"
   ]
  },
  {
   "cell_type": "code",
   "execution_count": 96,
   "metadata": {},
   "outputs": [
    {
     "name": "stdout",
     "output_type": "stream",
     "text": [
      "35079    between april 1877 and february 1878, she threatened five times to abdicate while pressuring disraeli to act against russia during the russo-turkish war, but her threats had no impact on the events or their conclusion with the congress of berlin. disraeli's expansionist foreign policy, which victoria endorsed, led to conflicts such as the anglo-zulu war and the second anglo-afghan war. \"if we are to maintain our position as a first-rate power\", she wrote, \"we must ... be prepared for attacks and wars, somewhere or other, continually.\" victoria saw the expansion of the british empire as civilising and benign, protecting native peoples from more aggressive powers or cruel rulers: \"it is not in our custom to annexe countries\", she said, \"unless we are obliged & forced to do so.\" to victoria's dismay, disraeli lost the 1880 general election, and gladstone returned as prime minister. when disraeli died the following year, she was blinded by \"fast falling tears\", and erected a memorial tablet \"placed by his grateful sovereign and friend, victoria r.i.\"\n",
      "34740    palmerston died in 1865, and after a brief ministry led by russell, derby returned to power. in 1866, victoria attended the state opening of parliament for the first time since albert's death. the following year she supported the passing of the reform act 1867 which doubled the electorate by extending the franchise to many urban working men, though she was not in favour of votes for women. derby resigned in 1868, to be replaced by benjamin disraeli, who charmed victoria. \"everyone likes flattery,\" he said, \"and when you come to royalty you should lay it on with a trowel.\" with the phrase \"we authors, ma'am\", he complimented her. disraeli's ministry only lasted a matter of months, and at the end of the year his liberal rival, william ewart gladstone, was appointed prime minister. victoria found gladstone's demeanour far less appealing; he spoke to her, she is thought to have complained, as though she were \"a public meeting rather than a woman\".                                                                                                         \n",
      "35135    in the 1874 general election, disraeli was returned to power. he passed the public worship regulation act 1874, which removed catholic rituals from the anglican liturgy and which victoria strongly supported. she preferred short, simple services, and personally considered herself more aligned with the presbyterian church of scotland than the episcopal church of england. he also pushed the royal titles act 1876 through parliament, so that victoria took the title \"empress of india\" from 1 may 1876. the new title was proclaimed at the delhi durbar of 1 january 1877.                                                                                                                                                                                                                                                                                                                                                                                                                                                                                                              \n",
      "Name: context, dtype: object\n"
     ]
    }
   ],
   "source": [
    "print(get_ner_matching_docs(\"Who did Victoria try to convince Disraeli  to act against during the Russo-Turkish war\"))"
   ]
  },
  {
   "cell_type": "code",
   "execution_count": null,
   "metadata": {},
   "outputs": [],
   "source": [
    "# def \n",
    "#     q1 = ner\n",
    "#     q2 = tfidf context\n",
    "    \n",
    "#     if overlap:\n",
    "#         return overlap\n",
    "#     else:\n",
    "        "
   ]
  },
  {
   "cell_type": "code",
   "execution_count": null,
   "metadata": {},
   "outputs": [],
   "source": []
  },
  {
   "cell_type": "code",
   "execution_count": null,
   "metadata": {},
   "outputs": [],
   "source": []
  },
  {
   "cell_type": "code",
   "execution_count": null,
   "metadata": {},
   "outputs": [],
   "source": []
  },
  {
   "cell_type": "markdown",
   "metadata": {},
   "source": [
    "## TF-IF Context Querying"
   ]
  },
  {
   "cell_type": "code",
   "execution_count": null,
   "metadata": {},
   "outputs": [],
   "source": [
    "vectorizer = TfidfVectorizer()\n",
    "tfidf = vectorizer.fit_transform(df['cleaned_context'])"
   ]
  },
  {
   "cell_type": "code",
   "execution_count": null,
   "metadata": {},
   "outputs": [],
   "source": [
    "print(tfidf.shape)"
   ]
  },
  {
   "cell_type": "code",
   "execution_count": 47,
   "metadata": {},
   "outputs": [],
   "source": [
    "def get_similar_doc(tfidfvectorizer, docs_tfidf, query):\n",
    "    \"\"\"\n",
    "    vectorizer: TfIdfVectorizer model\n",
    "    docs_tfidf: tfidf vectors for all docs\n",
    "    query: query doc\n",
    "\n",
    "    return: doc with highest tf-idf cosine similarity\n",
    "    \"\"\"\n",
    "    \n",
    "    query_tfidf = tfidfvectorizer.transform([query])\n",
    "    cosineSimilarities = cosine_similarity(query_tfidf, docs_tfidf).flatten()\n",
    "    cosineSimilarities = np.array(cosineSimilarities)\n",
    "    return cosineSimilarities.argsort()[-3:][::-1]\n",
    "\n",
    "def get_relevant_sentence(doc_ids, query):\n",
    "    docs = df.iloc[doc_ids, df.columns.get_loc('context')].apply(lambda x: [i.strip() for i in x.split('.') if len(i)>1])\n",
    "    sentences = []\n",
    "    for doc in docs:\n",
    "        for sentence in doc:\n",
    "            sentences.append(sentence)\n",
    "\n",
    "    vectorizer = S2vectorizer()\n",
    "    vectorizer.bert([query] + sentences)\n",
    "    vectors = vectorizer.vectors\n",
    "    query_vec, other_vec = vectors[0], vectors[1:]\n",
    "    \n",
    "    print(\"----- Sentences Retrieved: -----\")\n",
    "    for idx, sentence in enumerate(sentences):\n",
    "        print(f\"{idx}. {sentence}\")\n",
    "    \n",
    "    distances = distance.cdist([query_vec], other_vec, \"cosine\")[0]\n",
    "    min_index = np.argmin(distances)\n",
    "#     min_distance = distances[min_index]\n",
    "#     max_similarity = 1 - min_distance\n",
    "    return sentences[min_index]\n",
    "    \n",
    "def get_answer(query):\n",
    "    query = re.sub('[%s]' % re.escape(string.punctuation), '', query)\n",
    "    query = re.sub('\\s{2,}', \" \", query).lower()\n",
    "    most_similar_doc_ids = get_similar_doc(vectorizer, tfidf, query)\n",
    "    return get_relevant_sentence(most_similar_doc_ids, query)"
   ]
  },
  {
   "cell_type": "code",
   "execution_count": null,
   "metadata": {},
   "outputs": [],
   "source": [
    "get_answer(\"when did the group release their multi-platinum second album The Writing's on the Wall?\")"
   ]
  },
  {
   "cell_type": "markdown",
   "metadata": {},
   "source": [
    "## Gigi"
   ]
  },
  {
   "cell_type": "markdown",
   "metadata": {},
   "source": [
    "### infersent"
   ]
  },
  {
   "cell_type": "code",
   "execution_count": 115,
   "metadata": {},
   "outputs": [],
   "source": [
    "def clean_lowercase_punc_nostop(text):\n",
    "    text = ' '.join([word for word in text.split() if word not in stop_words])\n",
    "#     text = re.sub('[%s]' % re.escape(string.punctuation), ' ', text)\n",
    "    text = re.sub('\\s{2,}', \" \", text)\n",
    "    text = unidecode(text)\n",
    "    return text.lower()"
   ]
  },
  {
   "cell_type": "code",
   "execution_count": 116,
   "metadata": {},
   "outputs": [
    {
     "data": {
      "application/vnd.jupyter.widget-view+json": {
       "model_id": "0a28e3acbf4d441986f3140332c9ece8",
       "version_major": 2,
       "version_minor": 0
      },
      "text/plain": [
       "HBox(children=(FloatProgress(value=0.0, max=18877.0), HTML(value='')))"
      ]
     },
     "metadata": {},
     "output_type": "display_data"
    },
    {
     "name": "stdout",
     "output_type": "stream",
     "text": [
      "\n"
     ]
    }
   ],
   "source": [
    "df_infersent = pd.read_csv('../data/SQuAD_csv.csv', encoding='utf-8').loc[:, ['context']]\n",
    "df_infersent = df_infersent.drop_duplicates(subset=['context'])\n",
    "\n",
    "df_infersent['context'] = df_infersent['context'].apply(lambda x: str(x).lower())\n",
    "df_infersent['cleaned_lowercase_punc_nostop'] = df['context'].progress_apply(clean_lowercase_punc_nostop)"
   ]
  },
  {
   "cell_type": "code",
   "execution_count": 127,
   "metadata": {},
   "outputs": [
    {
     "data": {
      "text/html": [
       "<div>\n",
       "<style scoped>\n",
       "    .dataframe tbody tr th:only-of-type {\n",
       "        vertical-align: middle;\n",
       "    }\n",
       "\n",
       "    .dataframe tbody tr th {\n",
       "        vertical-align: top;\n",
       "    }\n",
       "\n",
       "    .dataframe thead th {\n",
       "        text-align: right;\n",
       "    }\n",
       "</style>\n",
       "<table border=\"1\" class=\"dataframe\">\n",
       "  <thead>\n",
       "    <tr style=\"text-align: right;\">\n",
       "      <th></th>\n",
       "      <th>context</th>\n",
       "      <th>cleaned_lowercase_punc_nostop</th>\n",
       "    </tr>\n",
       "  </thead>\n",
       "  <tbody>\n",
       "    <tr>\n",
       "      <th>0</th>\n",
       "      <td>beyoncé giselle knowles-carter (/biːˈjɒnseɪ/ bee-yon-say) (born september 4, 1981) is an american singer, songwriter, record producer and actress. born and raised in houston, texas, she performed in various singing and dancing competitions as a child, and rose to fame in the late 1990s as lead singer of r&amp;b girl-group destiny's child. managed by her father, mathew knowles, the group became one of the world's best-selling girl groups of all time. their hiatus saw the release of beyoncé's debut album, dangerously in love (2003), which established her as a solo artist worldwide, earned five grammy awards and featured the billboard hot 100 number-one singles \"crazy in love\" and \"baby boy\".</td>\n",
       "      <td>beyonce giselle knowles-carter (/bi:'jansei/ bee-yon-say) (born september 4, 1981) american singer, songwriter, record producer actress. born raised houston, texas, performed various singing dancing competitions child, rose fame late 1990s lead singer r&amp;b girl-group destiny's child. managed father, mathew knowles, group became one world's best-selling girl groups time. hiatus saw release beyonce's debut album, dangerously love (2003), established solo artist worldwide, earned five grammy awards featured billboard hot 100 number-one singles \"crazy love\" \"baby boy\".</td>\n",
       "    </tr>\n",
       "    <tr>\n",
       "      <th>15</th>\n",
       "      <td>following the disbandment of destiny's child in june 2005, she released her second solo album, b'day (2006), which contained hits \"déjà vu\", \"irreplaceable\", and \"beautiful liar\". beyoncé also ventured into acting, with a golden globe-nominated performance in dreamgirls (2006), and starring roles in the pink panther (2006) and obsessed (2009). her marriage to rapper jay z and portrayal of etta james in cadillac records (2008) influenced her third album, i am... sasha fierce (2008), which saw the birth of her alter-ego sasha fierce and earned a record-setting six grammy awards in 2010, including song of the year for \"single ladies (put a ring on it)\". beyoncé took a hiatus from music in 2010 and took over management of her career; her fourth album 4 (2011) was subsequently mellower in tone, exploring 1970s funk, 1980s pop, and 1990s soul. her critically acclaimed fifth studio album, beyoncé (2013), was distinguished from previous releases by its experimental production and exploration of darker themes.</td>\n",
       "      <td>following disbandment destiny's child june 2005, released second solo album, b'day (2006), contained hits \"deja vu\", \"irreplaceable\", \"beautiful liar\". beyonce also ventured acting, golden globe-nominated performance dreamgirls (2006), starring roles pink panther (2006) obsessed (2009). marriage rapper jay z portrayal etta james cadillac records (2008) influenced third album, am... sasha fierce (2008), saw birth alter-ego sasha fierce earned record-setting six grammy awards 2010, including song year \"single ladies (put ring it)\". beyonce took hiatus music 2010 took management career; fourth album 4 (2011) subsequently mellower tone, exploring 1970s funk, 1980s pop, 1990s soul. critically acclaimed fifth studio album, beyonce (2013), distinguished previous releases experimental production exploration darker themes.</td>\n",
       "    </tr>\n",
       "    <tr>\n",
       "      <th>27</th>\n",
       "      <td>a self-described \"modern-day feminist\", beyoncé creates songs that are often characterized by themes of love, relationships, and monogamy, as well as female sexuality and empowerment. on stage, her dynamic, highly choreographed performances have led to critics hailing her as one of the best entertainers in contemporary popular music. throughout a career spanning 19 years, she has sold over 118 million records as a solo artist, and a further 60 million with destiny's child, making her one of the best-selling music artists of all time. she has won 20 grammy awards and is the most nominated woman in the award's history. the recording industry association of america recognized her as the top certified artist in america during the 2000s decade. in 2009, billboard named her the top radio songs artist of the decade, the top female artist of the 2000s and their artist of the millennium in 2011. time listed her among the 100 most influential people in the world in 2013 and 2014. forbes magazine also listed her as the most powerful female musician of 2015.</td>\n",
       "      <td>self-described \"modern-day feminist\", beyonce creates songs often characterized themes love, relationships, monogamy, well female sexuality empowerment. stage, dynamic, highly choreographed performances led critics hailing one best entertainers contemporary popular music. throughout career spanning 19 years, sold 118 million records solo artist, 60 million destiny's child, making one best-selling music artists time. 20 grammy awards nominated woman award's history. recording industry association america recognized top certified artist america 2000s decade. 2009, billboard named top radio songs artist decade, top female artist 2000s artist millennium 2011. time listed among 100 influential people world 2013 2014. forbes magazine also listed powerful female musician 2015.</td>\n",
       "    </tr>\n",
       "    <tr>\n",
       "      <th>39</th>\n",
       "      <td>beyoncé giselle knowles was born in houston, texas, to celestine ann \"tina\" knowles (née beyincé), a hairdresser and salon owner, and mathew knowles, a xerox sales manager. beyoncé's name is a tribute to her mother's maiden name. beyoncé's younger sister solange is also a singer and a former member of destiny's child. mathew is african-american, while tina is of louisiana creole descent (with african, native american, french, cajun, and distant irish and spanish ancestry). through her mother, beyoncé is a descendant of acadian leader joseph broussard. she was raised in a methodist household.</td>\n",
       "      <td>beyonce giselle knowles born houston, texas, celestine ann \"tina\" knowles (nee beyince), hairdresser salon owner, mathew knowles, xerox sales manager. beyonce's name tribute mother's maiden name. beyonce's younger sister solange also singer former member destiny's child. mathew african-american, tina louisiana creole descent (with african, native american, french, cajun, distant irish spanish ancestry). mother, beyonce descendant acadian leader joseph broussard. raised methodist household.</td>\n",
       "    </tr>\n",
       "    <tr>\n",
       "      <th>52</th>\n",
       "      <td>beyoncé attended st. mary's elementary school in fredericksburg, texas, where she enrolled in dance classes. her singing talent was discovered when dance instructor darlette johnson began humming a song and she finished it, able to hit the high-pitched notes. beyoncé's interest in music and performing continued after winning a school talent show at age seven, singing john lennon's \"imagine\" to beat 15/16-year-olds. in fall of 1990, beyoncé enrolled in parker elementary school, a music magnet school in houston, where she would perform with the school's choir. she also attended the high school for the performing and visual arts and later alief elsik high school. beyoncé was also a member of the choir at st. john's united methodist church as a soloist for two years.</td>\n",
       "      <td>beyonce attended st. mary's elementary school fredericksburg, texas, enrolled dance classes. singing talent discovered dance instructor darlette johnson began humming song finished it, able hit high-pitched notes. beyonce's interest music performing continued winning school talent show age seven, singing john lennon's \"imagine\" beat 15/16-year-olds. fall 1990, beyonce enrolled parker elementary school, music magnet school houston, would perform school's choir. also attended high school performing visual arts later alief elsik high school. beyonce also member choir st. john's united methodist church soloist two years.</td>\n",
       "    </tr>\n",
       "  </tbody>\n",
       "</table>\n",
       "</div>"
      ],
      "text/plain": [
       "                                                                                                                                                                                                                                                                                                                                                                                                                                                                                                                                                                                                                                                                                                                                                                                                                                                                                                                                                                                                                                                                                                   context                                                                                                                                                                                                                                                                                                                                                                                                                                                                                                                                                                                                                                                                                                                                                                                                                              cleaned_lowercase_punc_nostop\n",
       "0   beyoncé giselle knowles-carter (/biːˈjɒnseɪ/ bee-yon-say) (born september 4, 1981) is an american singer, songwriter, record producer and actress. born and raised in houston, texas, she performed in various singing and dancing competitions as a child, and rose to fame in the late 1990s as lead singer of r&b girl-group destiny's child. managed by her father, mathew knowles, the group became one of the world's best-selling girl groups of all time. their hiatus saw the release of beyoncé's debut album, dangerously in love (2003), which established her as a solo artist worldwide, earned five grammy awards and featured the billboard hot 100 number-one singles \"crazy in love\" and \"baby boy\".                                                                                                                                                                                                                                                                                                                                                                                  beyonce giselle knowles-carter (/bi:'jansei/ bee-yon-say) (born september 4, 1981) american singer, songwriter, record producer actress. born raised houston, texas, performed various singing dancing competitions child, rose fame late 1990s lead singer r&b girl-group destiny's child. managed father, mathew knowles, group became one world's best-selling girl groups time. hiatus saw release beyonce's debut album, dangerously love (2003), established solo artist worldwide, earned five grammy awards featured billboard hot 100 number-one singles \"crazy love\" \"baby boy\".                                                                                                                                                                                                                                                               \n",
       "15  following the disbandment of destiny's child in june 2005, she released her second solo album, b'day (2006), which contained hits \"déjà vu\", \"irreplaceable\", and \"beautiful liar\". beyoncé also ventured into acting, with a golden globe-nominated performance in dreamgirls (2006), and starring roles in the pink panther (2006) and obsessed (2009). her marriage to rapper jay z and portrayal of etta james in cadillac records (2008) influenced her third album, i am... sasha fierce (2008), which saw the birth of her alter-ego sasha fierce and earned a record-setting six grammy awards in 2010, including song of the year for \"single ladies (put a ring on it)\". beyoncé took a hiatus from music in 2010 and took over management of her career; her fourth album 4 (2011) was subsequently mellower in tone, exploring 1970s funk, 1980s pop, and 1990s soul. her critically acclaimed fifth studio album, beyoncé (2013), was distinguished from previous releases by its experimental production and exploration of darker themes.                                                following disbandment destiny's child june 2005, released second solo album, b'day (2006), contained hits \"deja vu\", \"irreplaceable\", \"beautiful liar\". beyonce also ventured acting, golden globe-nominated performance dreamgirls (2006), starring roles pink panther (2006) obsessed (2009). marriage rapper jay z portrayal etta james cadillac records (2008) influenced third album, am... sasha fierce (2008), saw birth alter-ego sasha fierce earned record-setting six grammy awards 2010, including song year \"single ladies (put ring it)\". beyonce took hiatus music 2010 took management career; fourth album 4 (2011) subsequently mellower tone, exploring 1970s funk, 1980s pop, 1990s soul. critically acclaimed fifth studio album, beyonce (2013), distinguished previous releases experimental production exploration darker themes.\n",
       "27  a self-described \"modern-day feminist\", beyoncé creates songs that are often characterized by themes of love, relationships, and monogamy, as well as female sexuality and empowerment. on stage, her dynamic, highly choreographed performances have led to critics hailing her as one of the best entertainers in contemporary popular music. throughout a career spanning 19 years, she has sold over 118 million records as a solo artist, and a further 60 million with destiny's child, making her one of the best-selling music artists of all time. she has won 20 grammy awards and is the most nominated woman in the award's history. the recording industry association of america recognized her as the top certified artist in america during the 2000s decade. in 2009, billboard named her the top radio songs artist of the decade, the top female artist of the 2000s and their artist of the millennium in 2011. time listed her among the 100 most influential people in the world in 2013 and 2014. forbes magazine also listed her as the most powerful female musician of 2015.  self-described \"modern-day feminist\", beyonce creates songs often characterized themes love, relationships, monogamy, well female sexuality empowerment. stage, dynamic, highly choreographed performances led critics hailing one best entertainers contemporary popular music. throughout career spanning 19 years, sold 118 million records solo artist, 60 million destiny's child, making one best-selling music artists time. 20 grammy awards nominated woman award's history. recording industry association america recognized top certified artist america 2000s decade. 2009, billboard named top radio songs artist decade, top female artist 2000s artist millennium 2011. time listed among 100 influential people world 2013 2014. forbes magazine also listed powerful female musician 2015.                                             \n",
       "39  beyoncé giselle knowles was born in houston, texas, to celestine ann \"tina\" knowles (née beyincé), a hairdresser and salon owner, and mathew knowles, a xerox sales manager. beyoncé's name is a tribute to her mother's maiden name. beyoncé's younger sister solange is also a singer and a former member of destiny's child. mathew is african-american, while tina is of louisiana creole descent (with african, native american, french, cajun, and distant irish and spanish ancestry). through her mother, beyoncé is a descendant of acadian leader joseph broussard. she was raised in a methodist household.                                                                                                                                                                                                                                                                                                                                                                                                                                                                                  beyonce giselle knowles born houston, texas, celestine ann \"tina\" knowles (nee beyince), hairdresser salon owner, mathew knowles, xerox sales manager. beyonce's name tribute mother's maiden name. beyonce's younger sister solange also singer former member destiny's child. mathew african-american, tina louisiana creole descent (with african, native american, french, cajun, distant irish spanish ancestry). mother, beyonce descendant acadian leader joseph broussard. raised methodist household.                                                                                                                                                                                                                                                                                                                                           \n",
       "52  beyoncé attended st. mary's elementary school in fredericksburg, texas, where she enrolled in dance classes. her singing talent was discovered when dance instructor darlette johnson began humming a song and she finished it, able to hit the high-pitched notes. beyoncé's interest in music and performing continued after winning a school talent show at age seven, singing john lennon's \"imagine\" to beat 15/16-year-olds. in fall of 1990, beyoncé enrolled in parker elementary school, a music magnet school in houston, where she would perform with the school's choir. she also attended the high school for the performing and visual arts and later alief elsik high school. beyoncé was also a member of the choir at st. john's united methodist church as a soloist for two years.                                                                                                                                                                                                                                                                                                   beyonce attended st. mary's elementary school fredericksburg, texas, enrolled dance classes. singing talent discovered dance instructor darlette johnson began humming song finished it, able hit high-pitched notes. beyonce's interest music performing continued winning school talent show age seven, singing john lennon's \"imagine\" beat 15/16-year-olds. fall 1990, beyonce enrolled parker elementary school, music magnet school houston, would perform school's choir. also attended high school performing visual arts later alief elsik high school. beyonce also member choir st. john's united methodist church soloist two years.                                                                                                                                                                                                         "
      ]
     },
     "execution_count": 127,
     "metadata": {},
     "output_type": "execute_result"
    }
   ],
   "source": [
    "df_infersent.head()"
   ]
  },
  {
   "cell_type": "code",
   "execution_count": 130,
   "metadata": {},
   "outputs": [],
   "source": [
    "infersent_vectorizer = TfidfVectorizer()\n",
    "# infersent_tfidf = infersent_vectorizer.fit_transform(df['cleaned_lowercase_nostop'])\n",
    "infersent_tfidf = infersent_vectorizer.fit_transform(df_infersent['cleaned_lowercase_punc_nostop'])\n",
    "\n",
    "def cosine(u, v):\n",
    "    return np.dot(u, v) / (np.linalg.norm(u) * np.linalg.norm(v))\n",
    "\n",
    "def get_similar_doc_infersent(tfidfvectorizer, docs_tfidf, query):\n",
    "    \"\"\"\n",
    "    vectorizer: TfIdfVectorizer model\n",
    "    docs_tfidf: tfidf vectors for all docs\n",
    "    query: query doc\n",
    "\n",
    "    return: doc with highest tf-idf cosine similarity\n",
    "    \"\"\"\n",
    "    \n",
    "    query_tfidf = tfidfvectorizer.transform([query])\n",
    "    cosineSimilarities = cosine_similarity(query_tfidf, docs_tfidf).flatten()\n",
    "    cosineSimilarities = np.array(cosineSimilarities)\n",
    "    return cosineSimilarities.argsort()[-3:][::-1]\n",
    "\n",
    "def get_sentences(doc_ids):\n",
    "#     docs = df.iloc[doc_ids, df.columns.get_loc('cleaned_lowercase_nostop')].apply(lambda x: [i.strip() for i in x.split('.') if len(i)>1])\n",
    "    docs = df.iloc[doc_ids, df_infersent.columns.get_loc('cleaned_lowercase_punc_nostop')].apply(lambda x: [i.strip() for i in x.split('.') if len(i)>1])\n",
    "    sentences = []\n",
    "    sentences = []\n",
    "    for doc in docs:\n",
    "        for sentence in doc:\n",
    "            sentences.append(sentence)\n",
    "    return sentences\n",
    "\n",
    "def infersent(sentences, query_vec):\n",
    "    similarity = []\n",
    "    for sent in sentences:\n",
    "        sim = cosine(query_vec, model.encode([sent])[0])\n",
    "        similarity.append((sent, sim))\n",
    "\n",
    "    return similarity\n",
    "# .sort(key=lambda x: x[1], reverse=True)\n",
    "\n",
    "    \n",
    "def get_answer_infersent(query):\n",
    "    query = re.sub('[%s]' % re.escape(string.punctuation), '', query)\n",
    "#     query = re.sub('\\s{2,}', \" \", query).lower()\n",
    "    most_similar_doc_ids = get_similar_doc_infersent(infersent_vectorizer, infersent_tfidf, query)\n",
    "    print(df_infersent.iloc[most_similar_doc_ids, df_infersent.columns.get_loc('context')])\n",
    "    sentences = get_sentences(most_similar_doc_ids)\n",
    "    model.build_vocab(sentences, tokenize=True)\n",
    "    query_vec = model.encode(query)[0]\n",
    "    \n",
    "    answers = infersent(sentences, query_vec)\n",
    "#     print(sorted(answers, key=lambda x: x[1]))\n",
    "    return sorted(answers, key=lambda x: x[1], reverse=True)\n"
   ]
  },
  {
   "cell_type": "code",
   "execution_count": null,
   "metadata": {},
   "outputs": [],
   "source": [
    "# ! mkdir encoder\n",
    "# ! curl -Lo encoder/infersent2.pkl https://dl.fbaipublicfiles.com/infersent/infersent2.pkl\n",
    "  \n",
    "# ! mkdir GloVe\n",
    "# ! curl -Lo GloVe/glove.840B.300d.zip http://nlp.stanford.edu/data/glove.840B.300d.zip\n",
    "# ! unzip GloVe/glove.840B.300d.zip -d GloVe/"
   ]
  },
  {
   "cell_type": "code",
   "execution_count": 123,
   "metadata": {},
   "outputs": [],
   "source": [
    "from models import InferSent\n",
    "import torch\n",
    "\n",
    "V = 2\n",
    "MODEL_PATH = 'encoder/infersent%s.pkl' % V\n",
    "params_model = {'bsize': 64, 'word_emb_dim': 300, 'enc_lstm_dim': 2048,\n",
    "                'pool_type': 'max', 'dpout_model': 0.0, 'version': V}\n",
    "model = InferSent(params_model)\n",
    "model.load_state_dict(torch.load(MODEL_PATH))\n",
    "\n",
    "W2V_PATH = 'GloVe/glove.840B.300d.txt'\n",
    "model.set_w2v_path(W2V_PATH)"
   ]
  },
  {
   "cell_type": "code",
   "execution_count": 131,
   "metadata": {},
   "outputs": [
    {
     "name": "stdout",
     "output_type": "stream",
     "text": [
      "16750    at certain times of the year, the queen mary 2, queen elizabeth and queen victoria may all visit southampton at the same time, in an event commonly called 'arrival of the three queens'.                                                                                                                                                                                                                                                                                                                                                                                                                                                                                                                                                                                                                                                                                                      \n",
      "35150    through victoria's reign, the gradual establishment of a modern constitutional monarchy in britain continued. reforms of the voting system increased the power of the house of commons at the expense of the house of lords and the monarch. in 1867, walter bagehot wrote that the monarch only retained \"the right to be consulted, the right to encourage, and the right to warn\". as victoria's monarchy became more symbolic than political, it placed a strong emphasis on morality and family values, in contrast to the sexual, financial and personal scandals that had been associated with previous members of the house of hanover and which had discredited the monarchy. the concept of the \"family monarchy\", with which the burgeoning middle classes could identify, was solidified.                                                                                          \n",
      "34993    eleven days after orsini's assassination attempt in france, victoria's eldest daughter married prince frederick william of prussia in london. they had been betrothed since september 1855, when princess victoria was 14 years old; the marriage was delayed by the queen and prince albert until the bride was 17. the queen and albert hoped that their daughter and son-in-law would be a liberalising influence in the enlarging prussian state. victoria felt \"sick at heart\" to see her daughter leave england for germany; \"it really makes me shudder\", she wrote to princess victoria in one of her frequent letters, \"when i look round to all your sweet, happy, unconscious sisters, and think i must give them up too – one by one.\" almost exactly a year later, princess victoria gave birth to the queen's first grandchild, wilhelm, who would become the last german kaiser.\n",
      "Name: context, dtype: object\n",
      "Found 148(/149) words with w2v vectors\n",
      "Vocab size : 148\n"
     ]
    },
    {
     "data": {
      "text/plain": [
       "[('certain times year queen mary 2 queen elizabeth queen victoria may visit southampton time event commonly called arrival three queens',\n",
       "  0.03225669),\n",
       " ('victoria s reign gradual establishment modern constitutional monarchy britain continued reforms voting system increased power house commons expense house lords monarch 1867 walter bagehot wrote monarch retained the right consulted right encourage right warn victoria s monarchy became symbolic political placed strong emphasis morality family values contrast sexual financial personal scandals associated previous members house hanover discredited monarchy concept family monarchy burgeoning middle classes could identify solidified',\n",
       "  -0.093323655),\n",
       " ('eleven days orsini s assassination attempt france victoria s eldest daughter married prince frederick william prussia london betrothed since september 1855 princess victoria 14 years old marriage delayed queen prince albert bride 17 queen albert hoped daughter son in law would liberalising influence enlarging prussian state victoria felt sick heart see daughter leave england germany it really makes shudder wrote princess victoria one frequent letters when look round sweet happy unconscious sisters think must give - one one almost exactly year later princess victoria gave birth queen s first grandchild wilhelm would become last german kaiser',\n",
       "  -0.10141287)]"
      ]
     },
     "execution_count": 131,
     "metadata": {},
     "output_type": "execute_result"
    }
   ],
   "source": [
    "get_answer_infersent(\"What kind of monarchy was formed under Queen Victoria\")"
   ]
  },
  {
   "cell_type": "code",
   "execution_count": 133,
   "metadata": {},
   "outputs": [
    {
     "name": "stdout",
     "output_type": "stream",
     "text": [
      "85934    the city is home to many monuments and memorials, most notably those along monument avenue. other monuments include the a.p. hill monument, the bill \"bojangles\" robinson monument in jackson ward, the christopher columbus monument near byrd park, and the confederate soldiers and sailors monument on libby hill. located near byrd park is the famous world war i memorial carillon, a 56-bell carillon tower. dedicated in 1956, the virginia war memorial is located on belvedere overlooking the river, and is a monument to virginians who died in battle in world war ii, the korean war, the vietnam war, the gulf war, the war in afghanistan, and the iraq war.                                                                                                                                                         \n",
      "3381     the statue of liberty national monument and ellis island immigration museum are managed by the national park service and are in both the states of new york and new jersey. they are joined in the harbor by governors island national monument, in new york. historic sites under federal management on manhattan island include castle clinton national monument; federal hall national memorial; theodore roosevelt birthplace national historic site; general grant national memorial (\"grant's tomb\"); african burial ground national monument; and hamilton grange national memorial. hundreds of private properties are listed on the national register of historic places or as a national historic landmark such as, for example, the stonewall inn in greenwich village as the catalyst of the modern gay rights movement.  \n",
      "52244    on june 14, 1987, about 5,000 people gathered again at freedom monument in riga, and laid flowers to commemorate the anniversary of stalin's mass deportation of latvians in 1941. this was the first large demonstration in the baltic republics to commemorate the anniversary of an event contrary to official soviet history. the authorities did not crack down on demonstrators, which encouraged more and larger demonstrations throughout the baltic states. the next major anniversary after the august 23 molotov pact demonstration was on november 18, the date of latvia’s independence in 1918. on november 18, 1987, hundreds of police and civilian militiamen cordoned off the central square to prevent any demonstration at freedom monument, but thousands lined the streets of riga in silent protest regardless.\n",
      "Name: context, dtype: object\n",
      "Found 169(/169) words with w2v vectors\n",
      "Vocab size : 169\n"
     ]
    },
    {
     "data": {
      "text/plain": [
       "[(\"june 14 1987 5 000 people gathered freedom monument riga laid flowers commemorate anniversary stalin s mass deportation latvians 1941 first large demonstration baltic republics commemorate anniversary event contrary official soviet history authorities crack demonstrators encouraged larger demonstrations throughout baltic states next major anniversary august 23 molotov pact demonstration november 18 date latvia's independence 1918 november 18 1987 hundreds police civilian militiamen cordoned central square prevent demonstration freedom monument thousands lined streets riga silent protest regardless\",\n",
       "  -0.12536578),\n",
       " ('statue liberty national monument ellis island immigration museum managed national park service states new york new jersey joined harbor governors island national monument new york historic sites federal management manhattan island include castle clinton national monument federal hall national memorial theodore roosevelt birthplace national historic site general grant national memorial grant s tomb african burial ground national monument hamilton grange national memorial hundreds private properties listed national register historic places national historic landmark as example stonewall inn greenwich village catalyst modern gay rights movement',\n",
       "  -0.12647843),\n",
       " ('city home many monuments memorials notably along monument avenue monuments include a p hill monument bill bojangles robinson monument jackson ward christopher columbus monument near byrd park confederate soldiers sailors monument libby hill located near byrd park famous world war memorial carillon 56 bell carillon tower dedicated 1956 virginia war memorial located belvedere overlooking river monument virginians died battle world war ii korean war vietnam war gulf war war afghanistan iraq war',\n",
       "  -0.13662307)]"
      ]
     },
     "execution_count": 133,
     "metadata": {},
     "output_type": "execute_result"
    }
   ],
   "source": [
    "get_answer_infersent(\"Where is Freedom Monument\")"
   ]
  },
  {
   "cell_type": "markdown",
   "metadata": {},
   "source": [
    "### trigrams tfidf"
   ]
  },
  {
   "cell_type": "code",
   "execution_count": 30,
   "metadata": {},
   "outputs": [
    {
     "data": {
      "application/vnd.jupyter.widget-view+json": {
       "model_id": "a73a2ad57ae142ed9b0122b93ca6d3cb",
       "version_major": 2,
       "version_minor": 0
      },
      "text/plain": [
       "HBox(children=(FloatProgress(value=0.0, max=18877.0), HTML(value='')))"
      ]
     },
     "metadata": {},
     "output_type": "display_data"
    },
    {
     "name": "stdout",
     "output_type": "stream",
     "text": [
      "\n"
     ]
    }
   ],
   "source": [
    "df = pd.read_csv('../data/SQuAD_csv.csv', encoding='utf-8').loc[:, ['context']]\n",
    "df = df.drop_duplicates(subset=['context'])\n",
    "\n",
    "df['context'] = df['context'].apply(lambda x: str(x).lower())\n",
    "df['cleaned_lowercase_nostop'] = df['context'].progress_apply(clean_lowercase_nostop)"
   ]
  },
  {
   "cell_type": "code",
   "execution_count": 63,
   "metadata": {},
   "outputs": [
    {
     "name": "stderr",
     "output_type": "stream",
     "text": [
      "IOPub data rate exceeded.\n",
      "The notebook server will temporarily stop sending output\n",
      "to the client in order to avoid crashing it.\n",
      "To change this limit, set the config variable\n",
      "`--NotebookApp.iopub_data_rate_limit`.\n",
      "\n",
      "Current values:\n",
      "NotebookApp.iopub_data_rate_limit=1000000.0 (bytes/sec)\n",
      "NotebookApp.rate_limit_window=3.0 (secs)\n",
      "\n"
     ]
    },
    {
     "name": "stdout",
     "output_type": "stream",
     "text": [
      "\n",
      "\n",
      "X1 : \n",
      " [[0 0 0 ... 0 0 0]\n",
      " [0 0 0 ... 0 0 0]\n",
      " [0 0 0 ... 0 0 0]\n",
      " ...\n",
      " [0 0 0 ... 0 0 0]\n",
      " [0 0 0 ... 0 0 0]\n",
      " [0 0 0 ... 0 0 0]]\n",
      "\n",
      "\n",
      "Scores : \n",
      " [[0. 0. 0. ... 0. 0. 0.]\n",
      " [0. 0. 0. ... 0. 0. 0.]\n",
      " [0. 0. 0. ... 0. 0. 0.]\n",
      " ...\n",
      " [0. 0. 0. ... 0. 0. 0.]\n",
      " [0. 0. 0. ... 0. 0. 0.]\n",
      " [0. 0. 0. ... 0. 0. 0.]]\n"
     ]
    }
   ],
   "source": [
    "# Getting trigrams  \n",
    "trigram_vectorizer = CountVectorizer(ngram_range = (3,3)) \n",
    "X1 = trigram_vectorizer.fit_transform(df['cleaned_lowercase_nostop'])  \n",
    "features = (trigram_vectorizer.get_feature_names()) \n",
    "print(\"\\n\\nFeatures : \\n\", features) \n",
    "print(\"\\n\\nX1 : \\n\", X1.toarray()) \n",
    "  \n",
    "# Applying TFIDF \n",
    "trigram_vectorizer = TfidfVectorizer(ngram_range = (3,3)) \n",
    "trigram_tfidf = trigram_vectorizer.fit_transform(df['cleaned_lowercase_nostop']) \n",
    "scores = (trigram_tfidf.toarray()) \n",
    "print(\"\\n\\nScores : \\n\", scores) "
   ]
  },
  {
   "cell_type": "code",
   "execution_count": 64,
   "metadata": {},
   "outputs": [],
   "source": [
    "def get_similar_doc_trigram(tfidfvectorizer, docs_tfidf, query):\n",
    "    query_tfidf = tfidfvectorizer.transform([query])\n",
    "    cosineSimilarities = cosine_similarity(query_tfidf, docs_tfidf).flatten()\n",
    "    cosineSimilarities = np.array(cosineSimilarities)\n",
    "    return cosineSimilarities.argsort()[-3:][::-1]\n",
    "\n",
    "def get_trigram_matching_docs(query):\n",
    "    for_trigram_matching = re.sub('[%s]' % re.escape(string.punctuation), '', query)\n",
    "    for_trigram_matching = re.sub('\\s{2,}', \" \", for_trigram_matching).lower()\n",
    "    for_trigram_matching = ' '.join([word for word in for_trigram_matching.split() if word not in stop_words])\n",
    "    \n",
    "    trigram_matching_ids = get_similar_doc_trigram(trigram_vectorizer, trigram_tfidf, for_trigram_matching)\n",
    "    \n",
    "    return df.iloc[trigram_matching_ids, df.columns.get_loc('context')]"
   ]
  },
  {
   "cell_type": "code",
   "execution_count": 78,
   "metadata": {},
   "outputs": [
    {
     "name": "stdout",
     "output_type": "stream",
     "text": [
      "86816    kathmandu metropolitan city (kmc), in order to promote international relations has established an international relations secretariat (irc). kmc's first international relationship was established in 1975 with the city of eugene, oregon, united states. this activity has been further enhanced by establishing formal relationships with 8 other cities: motsumoto city of japan, rochester of the usa, yangon (formerly rangoon) of myanmar, xi'an of the people's republic of china, minsk of belarus, and pyongyang of the democratic republic of korea. kmc's constant endeavor is to enhance its interaction with saarc countries, other international agencies and many other major cities of the world to achieve better urban management and developmental programs for kathmandu.              \n",
      "28025    according to the writer of luke, mary was a relative of elizabeth, wife of the priest zechariah of the priestly division of abijah, who was herself part of the lineage of aaron and so of the tribe of levi.[luke 1:5;1:36] some of those who consider that the relationship with elizabeth was on the maternal side, consider that mary, like joseph, to whom she was betrothed, was of the house of david and so of the tribe of judah, and that the genealogy of jesus presented in luke 3 from nathan, third son of david and bathsheba, is in fact the genealogy of mary,[need quotation to verify] while the genealogy from solomon given in matthew 1 is that of joseph. (aaron's wife elisheba was of the tribe of judah, so all their descendants are from both levi and judah.)[num.1:7 & ex.6:23]\n",
      "27946    the fbi often works in conjunction with other federal agencies, including the u.s. coast guard (uscg) and u.s. customs and border protection (cbp) in seaport and airport security, and the national transportation safety board in investigating airplane crashes and other critical incidents. immigration and customs enforcement homeland security investigations (ice-hsi) has nearly the same amount of investigative man power as the fbi, and investigates the largest range of crimes. in the wake of the september 11 attacks, then-attorney general ashcroft assigned the fbi as the designated lead organization in terrorism investigations after the creation of the u.s. department of homeland security. ice-hsi and the fbi are both integral members of the joint terrorism task force.    \n",
      "Name: context, dtype: object\n"
     ]
    }
   ],
   "source": [
    "print(get_trigram_matching_docs(\"When did Beyonce leave Destiny's Child and become a solo singer\"))"
   ]
  },
  {
   "cell_type": "markdown",
   "metadata": {},
   "source": [
    "### bigram"
   ]
  },
  {
   "cell_type": "code",
   "execution_count": 31,
   "metadata": {},
   "outputs": [
    {
     "name": "stderr",
     "output_type": "stream",
     "text": [
      "IOPub data rate exceeded.\n",
      "The notebook server will temporarily stop sending output\n",
      "to the client in order to avoid crashing it.\n",
      "To change this limit, set the config variable\n",
      "`--NotebookApp.iopub_data_rate_limit`.\n",
      "\n",
      "Current values:\n",
      "NotebookApp.iopub_data_rate_limit=1000000.0 (bytes/sec)\n",
      "NotebookApp.rate_limit_window=3.0 (secs)\n",
      "\n"
     ]
    },
    {
     "name": "stdout",
     "output_type": "stream",
     "text": [
      "\n",
      "\n",
      "X1 : \n",
      " [[0 0 0 ... 0 0 0]\n",
      " [0 0 0 ... 0 0 0]\n",
      " [0 0 0 ... 0 0 0]\n",
      " ...\n",
      " [0 0 0 ... 0 0 0]\n",
      " [0 0 0 ... 0 0 0]\n",
      " [0 0 0 ... 0 0 0]]\n",
      "\n",
      "\n",
      "Scores : \n",
      " [[0. 0. 0. ... 0. 0. 0.]\n",
      " [0. 0. 0. ... 0. 0. 0.]\n",
      " [0. 0. 0. ... 0. 0. 0.]\n",
      " ...\n",
      " [0. 0. 0. ... 0. 0. 0.]\n",
      " [0. 0. 0. ... 0. 0. 0.]\n",
      " [0. 0. 0. ... 0. 0. 0.]]\n"
     ]
    }
   ],
   "source": [
    "# Getting trigrams  \n",
    "bigram_vectorizer = CountVectorizer(ngram_range = (1,2)) \n",
    "bigram_X1 = bigram_vectorizer.fit_transform(df['cleaned_lowercase_nostop'])  \n",
    "bigram_features = (bigram_vectorizer.get_feature_names()) \n",
    "print(\"\\n\\nFeatures : \\n\", bigram_features) \n",
    "print(\"\\n\\nX1 : \\n\", bigram_X1.toarray()) \n",
    "  \n",
    "# Applying TFIDF \n",
    "bigram_vectorizer = TfidfVectorizer(ngram_range = (1,2)) \n",
    "bigram_tfidf = bigram_vectorizer.fit_transform(df['cleaned_lowercase_nostop']) \n",
    "bigram_scores = (bigram_tfidf.toarray()) \n",
    "print(\"\\n\\nScores : \\n\", bigram_scores) "
   ]
  },
  {
   "cell_type": "code",
   "execution_count": 34,
   "metadata": {},
   "outputs": [],
   "source": [
    "def get_similar_doc_bigram(tfidfvectorizer, docs_tfidf, query):\n",
    "    query_tfidf = tfidfvectorizer.transform([query])\n",
    "    cosineSimilarities = cosine_similarity(query_tfidf, docs_tfidf).flatten()\n",
    "    cosineSimilarities = np.array(cosineSimilarities)\n",
    "    return cosineSimilarities.argsort()[-10:][::-1]\n",
    "\n",
    "def get_bigram_matching_docs(for_bigram_matching):\n",
    "#     for_bigram_matching = re.sub('[%s]' % re.escape(string.punctuation), '', query)\n",
    "#     for_bigram_matching = re.sub('\\s{2,}', \" \", for_bigram_matching).lower()\n",
    "#     for_bigram_matching = ' '.join([word for word in for_bigram_matching.split() if word not in stop_words])\n",
    "    \n",
    "    bigram_matching_ids = get_similar_doc_bigram(bigram_vectorizer, bigram_tfidf, for_bigram_matching)\n",
    "    \n",
    "    return df.iloc[bigram_matching_ids, df.columns.get_loc('context')]\n",
    "\n",
    "def get_bigram_answer(query):\n",
    "    for_bigram_matching = re.sub('[%s]' % re.escape(string.punctuation), '', query)\n",
    "    for_bigram_matching = re.sub('\\s{2,}', \" \", for_bigram_matching).lower()\n",
    "    for_bigram_matching = ' '.join([wordnet_lemmatizer.lemmatize(word) for word in for_bigram_matching.split() if word not in stop_words])\n",
    "#     for_bigram_matching = ' '.join([ps.stem(word) for word in for_bigram_matching.split() if word not in stop_words])\n",
    "    print(\"Question:\", query)\n",
    "    print(\"Processed question:\", for_bigram_matching)\n",
    "    print()\n",
    "    \n",
    "    contexts = get_bigram_matching_docs(for_bigram_matching)\n",
    "    \n",
    "    counter = 1\n",
    "    for context in contexts:\n",
    "        print(\"Context\", counter, \":\")\n",
    "        print(context)\n",
    "        print(\"Answer:\")\n",
    "        print(nlp2(question=query, context=context)['answer'])\n",
    "        print()\n",
    "        print(\"=========================\")\n",
    "        print()\n",
    "        counter += 1\n",
    "        "
   ]
  },
  {
   "cell_type": "code",
   "execution_count": 18,
   "metadata": {},
   "outputs": [
    {
     "data": {
      "text/plain": [
       "'running'"
      ]
     },
     "execution_count": 18,
     "metadata": {},
     "output_type": "execute_result"
    }
   ],
   "source": [
    "wordnet_lemmatizer.lemmatize('running')"
   ]
  },
  {
   "cell_type": "code",
   "execution_count": 14,
   "metadata": {},
   "outputs": [
    {
     "data": {
      "text/plain": [
       "'cat'"
      ]
     },
     "execution_count": 14,
     "metadata": {},
     "output_type": "execute_result"
    }
   ],
   "source": [
    "wordnet_lemmatizer.lemmatize(\"cats\")"
   ]
  },
  {
   "cell_type": "code",
   "execution_count": 26,
   "metadata": {},
   "outputs": [
    {
     "data": {
      "text/plain": [
       "'run'"
      ]
     },
     "execution_count": 26,
     "metadata": {},
     "output_type": "execute_result"
    }
   ],
   "source": [
    "ps.stem('running')"
   ]
  },
  {
   "cell_type": "code",
   "execution_count": 35,
   "metadata": {},
   "outputs": [
    {
     "name": "stdout",
     "output_type": "stream",
     "text": [
      "Question: In what city and state did Beyonce grow up? \n",
      "Processed question: city state beyonce grow\n",
      "\n",
      "Context 1 :\n",
      "in the new yorker music critic jody rosen described beyoncé as \"the most important and compelling popular musician of the twenty-first century..... the result, the logical end point, of a century-plus of pop.\" when the guardian named her artist of the decade, llewyn-smith wrote, \"why beyoncé? [...] because she made not one but two of the decade's greatest singles, with crazy in love and single ladies (put a ring on it), not to mention her hits with destiny's child; and this was the decade when singles – particularly r&b singles – regained their status as pop's favourite medium. [...] [she] and not any superannuated rock star was arguably the greatest live performer of the past 10 years.\" in 2013, beyoncé made the time 100 list, baz luhrmann writing \"no one has that voice, no one moves the way she moves, no one can hold an audience the way she does... when beyoncé does an album, when beyoncé sings a song, when beyoncé does anything, it's an event, and it's broadly influential. right now, she is the heir-apparent diva of the usa — the reigning national voice.\" in 2014, beyoncé was listed again on the time 100 and also featured on the cover of the issue.\n",
      "Answer:\n",
      "2013\n",
      "\n",
      "=========================\n",
      "\n",
      "Context 2 :\n",
      "beyoncé's music is generally r&b, but she also incorporates pop, soul and funk into her songs. 4 demonstrated beyoncé's exploration of 90s-style r&b, as well as further use of soul and hip hop than compared to previous releases. while she almost exclusively releases english songs, beyoncé recorded several spanish songs for irreemplazable (re-recordings of songs from b'day for a spanish-language audience), and the re-release of b'day. to record these, beyoncé was coached phonetically by american record producer rudy perez.\n",
      "Answer:\n",
      "coached phonetically by american\n",
      "\n",
      "=========================\n",
      "\n",
      "Context 3 :\n",
      "beyoncé is believed to have first started a relationship with jay z after a collaboration on \"'03 bonnie & clyde\", which appeared on his seventh album the blueprint 2: the gift & the curse (2002). beyoncé appeared as jay z's girlfriend in the music video for the song, which would further fuel speculation of their relationship. on april 4, 2008, beyoncé and jay z were married without publicity. as of april 2014, the couple have sold a combined 300 million records together. the couple are known for their private relationship, although they have appeared to become more relaxed in recent years. beyoncé suffered a miscarriage in 2010 or 2011, describing it as \"the saddest thing\" she had ever endured. she returned to the studio and wrote music in order to cope with the loss. in april 2011, beyoncé and jay z traveled to paris in order to shoot the album cover for her 4, and unexpectedly became pregnant in paris.\n",
      "Answer:\n",
      "paris\n",
      "\n",
      "=========================\n",
      "\n",
      "Context 4 :\n",
      "beyoncé has worked with pepsi since 2002, and in 2004 appeared in a gladiator-themed commercial with britney spears, pink, and enrique iglesias. in 2012, beyoncé signed a $50 million deal to endorse pepsi. the center for science in the public interest (cspinet) wrote beyoncé an open letter asking her to reconsider the deal because of the unhealthiness of the product and to donate the proceeds to a medical organisation. nevertheless, netbase found that beyoncé's campaign was the most talked about endorsement in april 2013, with a 70 per cent positive audience response to the commercial and print ads.\n",
      "Answer:\n",
      "2002\n",
      "\n",
      "=========================\n",
      "\n",
      "Context 5 :\n",
      "beyoncé participated in george clooney and wyclef jean's hope for haiti now: a global benefit for earthquake relief telethon and was named the official face of the limited edition cfda \"fashion for haiti\" t-shirt, made by theory which raised a total of $1 million. on march 5, 2010, beyoncé and her mother tina opened the beyoncé cosmetology center at the brooklyn phoenix house, offering a seven-month cosmetology training course for men and women. in april 2011, beyoncé joined forces with us first lady michelle obama and the national association of broadcasters education foundation, to help boost the latter's campaign against child obesity by reworking her single \"get me bodied\". following the death of osama bin laden, beyoncé released her cover of the lee greenwood song \"god bless the usa\", as a charity single to help raise funds for the new york police and fire widows' and children's benefit fund.\n",
      "Answer:\n",
      "beyoncé\n",
      "\n",
      "=========================\n",
      "\n",
      "Context 6 :\n",
      "in july 2002, beyoncé continued her acting career playing foxxy cleopatra alongside mike myers in the comedy film, austin powers in goldmember, which spent its first weekend atop the us box office and grossed $73 million. beyoncé released \"work it out\" as the lead single from its soundtrack album which entered the top ten in the uk, norway, and belgium. in 2003, beyoncé starred opposite cuba gooding, jr., in the musical comedy the fighting temptations as lilly, a single mother whom gooding's character falls in love with. the film received mixed reviews from critics but grossed $30 million in the u.s. beyoncé released \"fighting temptation\" as the lead single from the film's soundtrack album, with missy elliott, mc lyte, and free which was also used to promote the film. another of beyoncé's contributions to the soundtrack, \"summertime\", fared better on the us charts.\n",
      "Answer:\n",
      "2002\n",
      "\n",
      "=========================\n",
      "\n",
      "Context 7 :\n",
      "beyoncé has worked with tommy hilfiger for the fragrances true star (singing a cover version of \"wishing on a star\") and true star gold; she also promoted emporio armani's diamonds fragrance in 2007. beyoncé launched her first official fragrance, heat in 2010. the commercial, which featured the 1956 song \"fever\", was shown after the water shed in the united kingdom as it begins with an image of beyoncé appearing to lie naked in a room. in february 2011, beyoncé launched her second fragrance, heat rush. beyoncé's third fragrance, pulse, was launched in september 2011. in 2013, the mrs. carter show limited edition version of heat was released. the six editions of heat are the world's best-selling celebrity fragrance line, with sales of over $400 million.\n",
      "Answer:\n",
      "united kingdom\n",
      "\n",
      "=========================\n",
      "\n",
      "Context 8 :\n",
      "beyoncé giselle knowles was born in houston, texas, to celestine ann \"tina\" knowles (née beyincé), a hairdresser and salon owner, and mathew knowles, a xerox sales manager. beyoncé's name is a tribute to her mother's maiden name. beyoncé's younger sister solange is also a singer and a former member of destiny's child. mathew is african-american, while tina is of louisiana creole descent (with african, native american, french, cajun, and distant irish and spanish ancestry). through her mother, beyoncé is a descendant of acadian leader joseph broussard. she was raised in a methodist household.\n",
      "Answer:\n",
      "houston, texas\n",
      "\n",
      "=========================\n",
      "\n",
      "Context 9 :\n",
      "around the second century bc the first-known city-states emerged in central myanmar. the city-states were founded as part of the southward migration by the tibeto-burman-speaking pyu city-states, the earliest inhabitants of myanmar of whom records are extant, from present-day yunnan. the pyu culture was heavily influenced by trade with india, importing buddhism as well as other cultural, architectural and political concepts which would have an enduring influence on later burmese culture and political organisation.\n",
      "Answer:\n",
      "myanmar\n",
      "\n",
      "=========================\n",
      "\n",
      "Context 10 :\n",
      "in 2005, beyoncé teamed up with house of brands, a shoe company, to produce a range of footwear for house of deréon. in january 2008, starwave mobile launched beyoncé fashion diva, a \"high-style\" mobile game with a social networking component, featuring the house of deréon collection. in july 2009, beyoncé and her mother launched a new junior apparel label, sasha fierce for deréon, for back-to-school selling. the collection included sportswear, outerwear, handbags, footwear, eyewear, lingerie and jewelry. it was available at department stores including macy's and dillard's, and specialty stores jimmy jazz and against all odds. on may 27, 2010, beyoncé teamed up with clothing store c&a to launch deréon by beyoncé at their stores in brazil. the collection included tailored blazers with padded shoulders, little black dresses, embroidered tops and shirts and bandage dresses.\n",
      "Answer:\n",
      "brazil\n",
      "\n",
      "=========================\n",
      "\n"
     ]
    }
   ],
   "source": [
    "get_bigram_answer(\"In what city and state did Beyonce grow up? \")"
   ]
  },
  {
   "cell_type": "code",
   "execution_count": 95,
   "metadata": {},
   "outputs": [
    {
     "name": "stdout",
     "output_type": "stream",
     "text": [
      "35079    between april 1877 and february 1878, she threatened five times to abdicate while pressuring disraeli to act against russia during the russo-turkish war, but her threats had no impact on the events or their conclusion with the congress of berlin. disraeli's expansionist foreign policy, which victoria endorsed, led to conflicts such as the anglo-zulu war and the second anglo-afghan war. \"if we are to maintain our position as a first-rate power\", she wrote, \"we must ... be prepared for attacks and wars, somewhere or other, continually.\" victoria saw the expansion of the british empire as civilising and benign, protecting native peoples from more aggressive powers or cruel rulers: \"it is not in our custom to annexe countries\", she said, \"unless we are obliged & forced to do so.\" to victoria's dismay, disraeli lost the 1880 general election, and gladstone returned as prime minister. when disraeli died the following year, she was blinded by \"fast falling tears\", and erected a memorial tablet \"placed by his grateful sovereign and friend, victoria r.i.\"\n",
      "34740    palmerston died in 1865, and after a brief ministry led by russell, derby returned to power. in 1866, victoria attended the state opening of parliament for the first time since albert's death. the following year she supported the passing of the reform act 1867 which doubled the electorate by extending the franchise to many urban working men, though she was not in favour of votes for women. derby resigned in 1868, to be replaced by benjamin disraeli, who charmed victoria. \"everyone likes flattery,\" he said, \"and when you come to royalty you should lay it on with a trowel.\" with the phrase \"we authors, ma'am\", he complimented her. disraeli's ministry only lasted a matter of months, and at the end of the year his liberal rival, william ewart gladstone, was appointed prime minister. victoria found gladstone's demeanour far less appealing; he spoke to her, she is thought to have complained, as though she were \"a public meeting rather than a woman\".                                                                                                         \n",
      "28613    john was incensed about what he perceived as an abrogation of his customary right as monarch to influence the election. he complained both about the choice of langton as an individual, as john felt he was overly influenced by the capetian court in paris, and about the process as a whole. he barred langton from entering england and seized the lands of the archbishopric and other papal possessions. innocent set a commission in place to try to convince john to change his mind, but to no avail. innocent then placed an interdict on england in march 1208, prohibiting clergy from conducting religious services, with the exception of baptisms for the young, and confessions and absolutions for the dying.                                                                                                                                                                                                                                                                                                                                                                       \n",
      "Name: context, dtype: object\n"
     ]
    }
   ],
   "source": [
    "print(get_bigram_matching_docs(\"Who did Victoria try to convince Disraeli  to act against during the Russo-Turkish war\"))"
   ]
  },
  {
   "cell_type": "code",
   "execution_count": null,
   "metadata": {},
   "outputs": [],
   "source": []
  }
 ],
 "metadata": {
  "kernelspec": {
   "display_name": "Python 3",
   "language": "python",
   "name": "python3"
  },
  "language_info": {
   "codemirror_mode": {
    "name": "ipython",
    "version": 3
   },
   "file_extension": ".py",
   "mimetype": "text/x-python",
   "name": "python",
   "nbconvert_exporter": "python",
   "pygments_lexer": "ipython3",
   "version": "3.7.6"
  }
 },
 "nbformat": 4,
 "nbformat_minor": 5
}
