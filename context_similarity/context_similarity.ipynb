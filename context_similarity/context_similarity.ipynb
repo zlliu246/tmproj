{
 "cells": [
  {
   "cell_type": "code",
   "execution_count": 1,
   "id": "interstate-research",
   "metadata": {},
   "outputs": [
    {
     "name": "stderr",
     "output_type": "stream",
     "text": [
      "/Library/Frameworks/Python.framework/Versions/3.7/lib/python3.7/site-packages/ipykernel_launcher.py:8: TqdmDeprecationWarning: This function will be removed in tqdm==5.0.0\n",
      "Please use `tqdm.notebook.*` instead of `tqdm._tqdm_notebook.*`\n",
      "  \n"
     ]
    },
    {
     "ename": "ModuleNotFoundError",
     "evalue": "No module named 'sentence_transformers'",
     "output_type": "error",
     "traceback": [
      "\u001b[0;31m---------------------------------------------------------------------------\u001b[0m",
      "\u001b[0;31mModuleNotFoundError\u001b[0m                       Traceback (most recent call last)",
      "\u001b[0;32m<ipython-input-1-6b26da3f9d0c>\u001b[0m in \u001b[0;36m<module>\u001b[0;34m\u001b[0m\n\u001b[1;32m     12\u001b[0m \u001b[0;32mfrom\u001b[0m \u001b[0msklearn\u001b[0m\u001b[0;34m.\u001b[0m\u001b[0mmetrics\u001b[0m\u001b[0;34m.\u001b[0m\u001b[0mpairwise\u001b[0m \u001b[0;32mimport\u001b[0m \u001b[0mcosine_similarity\u001b[0m\u001b[0;34m\u001b[0m\u001b[0;34m\u001b[0m\u001b[0m\n\u001b[1;32m     13\u001b[0m \u001b[0;32mfrom\u001b[0m \u001b[0msklearn\u001b[0m\u001b[0;34m.\u001b[0m\u001b[0mmetrics\u001b[0m\u001b[0;34m.\u001b[0m\u001b[0mpairwise\u001b[0m \u001b[0;32mimport\u001b[0m \u001b[0meuclidean_distances\u001b[0m\u001b[0;34m\u001b[0m\u001b[0;34m\u001b[0m\u001b[0m\n\u001b[0;32m---> 14\u001b[0;31m \u001b[0;32mfrom\u001b[0m \u001b[0msentence_transformers\u001b[0m \u001b[0;32mimport\u001b[0m \u001b[0mSentenceTransformer\u001b[0m\u001b[0;34m\u001b[0m\u001b[0;34m\u001b[0m\u001b[0m\n\u001b[0m\u001b[1;32m     15\u001b[0m \u001b[0;32mfrom\u001b[0m \u001b[0mnltk\u001b[0m\u001b[0;34m.\u001b[0m\u001b[0mcorpus\u001b[0m \u001b[0;32mimport\u001b[0m \u001b[0mstopwords\u001b[0m\u001b[0;34m\u001b[0m\u001b[0;34m\u001b[0m\u001b[0m\n\u001b[1;32m     16\u001b[0m \u001b[0;32mimport\u001b[0m \u001b[0mtensorflow\u001b[0m \u001b[0;32mas\u001b[0m \u001b[0mtf\u001b[0m\u001b[0;34m\u001b[0m\u001b[0;34m\u001b[0m\u001b[0m\n",
      "\u001b[0;31mModuleNotFoundError\u001b[0m: No module named 'sentence_transformers'"
     ]
    }
   ],
   "source": [
    "import nltk\n",
    "import string\n",
    "import spacy\n",
    "import pandas as pd\n",
    "from sklearn.feature_extraction.text import TfidfVectorizer\n",
    "from sklearn.metrics.pairwise import cosine_similarity, linear_kernel\n",
    "import warnings\n",
    "from tqdm._tqdm_notebook import tqdm_notebook\n",
    "from scipy.spatial import distance\n",
    "import numpy as np\n",
    "import re\n",
    "from sklearn.metrics.pairwise import cosine_similarity\n",
    "from sklearn.metrics.pairwise import euclidean_distances\n",
    "from sentence_transformers import SentenceTransformer\n",
    "from nltk.corpus import stopwords\n",
    "import tensorflow as tf\n",
    "import transformers\n",
    "from sent2vec.vectorizer import Vectorizer as S2vectorizer\n",
    "tqdm_notebook.pandas()\n",
    "warnings.filterwarnings(\"ignore\")\n",
    "\n",
    "pd.set_option('display.max_colwidth', 0)\n",
    "pd.set_option('display.max_columns', 0)"
   ]
  },
  {
   "cell_type": "code",
   "execution_count": 5,
   "id": "transsexual-owner",
   "metadata": {},
   "outputs": [],
   "source": [
    "df = pd.read_csv('../data/SQuAD_csv.csv', encoding='utf-8').loc[:, ['context']]\n",
    "df = df.drop_duplicates(subset=['context'])\n",
    "df['context'] = df['context'].apply(lambda x: str(x).lower())"
   ]
  },
  {
   "cell_type": "code",
   "execution_count": 6,
   "id": "worthy-uganda",
   "metadata": {},
   "outputs": [],
   "source": [
    "stop_words = stopwords.words(\"english\")\n",
    "def clean(text):\n",
    "    text = ' '.join([word for word in text.split() if word not in stop_words])\n",
    "    text = re.sub('[%s]' % re.escape(string.punctuation), ' ', text)\n",
    "    text = re.sub('\\s{2,}', \" \", text)\n",
    "    return text"
   ]
  },
  {
   "cell_type": "code",
   "execution_count": 7,
   "id": "interior-diabetes",
   "metadata": {},
   "outputs": [],
   "source": [
    "df['cleaned_context'] = df['context'].apply(clean)"
   ]
  },
  {
   "cell_type": "code",
   "execution_count": 8,
   "id": "complete-hello",
   "metadata": {},
   "outputs": [
    {
     "data": {
      "text/html": [
       "<div>\n",
       "<style scoped>\n",
       "    .dataframe tbody tr th:only-of-type {\n",
       "        vertical-align: middle;\n",
       "    }\n",
       "\n",
       "    .dataframe tbody tr th {\n",
       "        vertical-align: top;\n",
       "    }\n",
       "\n",
       "    .dataframe thead th {\n",
       "        text-align: right;\n",
       "    }\n",
       "</style>\n",
       "<table border=\"1\" class=\"dataframe\">\n",
       "  <thead>\n",
       "    <tr style=\"text-align: right;\">\n",
       "      <th></th>\n",
       "      <th>context</th>\n",
       "      <th>cleaned_context</th>\n",
       "    </tr>\n",
       "  </thead>\n",
       "  <tbody>\n",
       "    <tr>\n",
       "      <th>0</th>\n",
       "      <td>beyoncé giselle knowles-carter (/biːˈjɒnseɪ/ bee-yon-say) (born september 4, 1981) is an american singer, songwriter, record producer and actress. born and raised in houston, texas, she performed in various singing and dancing competitions as a child, and rose to fame in the late 1990s as lead singer of r&amp;b girl-group destiny's child. managed by her father, mathew knowles, the group became one of the world's best-selling girl groups of all time. their hiatus saw the release of beyoncé's debut album, dangerously in love (2003), which established her as a solo artist worldwide, earned five grammy awards and featured the billboard hot 100 number-one singles \"crazy in love\" and \"baby boy\".</td>\n",
       "      <td>beyoncé giselle knowles carter biːˈjɒnseɪ bee yon say born september 4 1981 american singer songwriter record producer actress born raised houston texas performed various singing dancing competitions child rose fame late 1990s lead singer r b girl group destiny s child managed father mathew knowles group became one world s best selling girl groups time hiatus saw release beyoncé s debut album dangerously love 2003 established solo artist worldwide earned five grammy awards featured billboard hot 100 number one singles crazy love baby boy</td>\n",
       "    </tr>\n",
       "    <tr>\n",
       "      <th>15</th>\n",
       "      <td>following the disbandment of destiny's child in june 2005, she released her second solo album, b'day (2006), which contained hits \"déjà vu\", \"irreplaceable\", and \"beautiful liar\". beyoncé also ventured into acting, with a golden globe-nominated performance in dreamgirls (2006), and starring roles in the pink panther (2006) and obsessed (2009). her marriage to rapper jay z and portrayal of etta james in cadillac records (2008) influenced her third album, i am... sasha fierce (2008), which saw the birth of her alter-ego sasha fierce and earned a record-setting six grammy awards in 2010, including song of the year for \"single ladies (put a ring on it)\". beyoncé took a hiatus from music in 2010 and took over management of her career; her fourth album 4 (2011) was subsequently mellower in tone, exploring 1970s funk, 1980s pop, and 1990s soul. her critically acclaimed fifth studio album, beyoncé (2013), was distinguished from previous releases by its experimental production and exploration of darker themes.</td>\n",
       "      <td>following disbandment destiny s child june 2005 released second solo album b day 2006 contained hits déjà vu irreplaceable beautiful liar beyoncé also ventured acting golden globe nominated performance dreamgirls 2006 starring roles pink panther 2006 obsessed 2009 marriage rapper jay z portrayal etta james cadillac records 2008 influenced third album am sasha fierce 2008 saw birth alter ego sasha fierce earned record setting six grammy awards 2010 including song year single ladies put ring it beyoncé took hiatus music 2010 took management career fourth album 4 2011 subsequently mellower tone exploring 1970s funk 1980s pop 1990s soul critically acclaimed fifth studio album beyoncé 2013 distinguished previous releases experimental production exploration darker themes</td>\n",
       "    </tr>\n",
       "    <tr>\n",
       "      <th>27</th>\n",
       "      <td>a self-described \"modern-day feminist\", beyoncé creates songs that are often characterized by themes of love, relationships, and monogamy, as well as female sexuality and empowerment. on stage, her dynamic, highly choreographed performances have led to critics hailing her as one of the best entertainers in contemporary popular music. throughout a career spanning 19 years, she has sold over 118 million records as a solo artist, and a further 60 million with destiny's child, making her one of the best-selling music artists of all time. she has won 20 grammy awards and is the most nominated woman in the award's history. the recording industry association of america recognized her as the top certified artist in america during the 2000s decade. in 2009, billboard named her the top radio songs artist of the decade, the top female artist of the 2000s and their artist of the millennium in 2011. time listed her among the 100 most influential people in the world in 2013 and 2014. forbes magazine also listed her as the most powerful female musician of 2015.</td>\n",
       "      <td>self described modern day feminist beyoncé creates songs often characterized themes love relationships monogamy well female sexuality empowerment stage dynamic highly choreographed performances led critics hailing one best entertainers contemporary popular music throughout career spanning 19 years sold 118 million records solo artist 60 million destiny s child making one best selling music artists time 20 grammy awards nominated woman award s history recording industry association america recognized top certified artist america 2000s decade 2009 billboard named top radio songs artist decade top female artist 2000s artist millennium 2011 time listed among 100 influential people world 2013 2014 forbes magazine also listed powerful female musician 2015</td>\n",
       "    </tr>\n",
       "  </tbody>\n",
       "</table>\n",
       "</div>"
      ],
      "text/plain": [
       "                                                                                                                                                                                                                                                                                                                                                                                                                                                                                                                                                                                                                                                                                                                                                                                                                                                                                                                                                                                                                                                                                                   context                                                                                                                                                                                                                                                                                                                                                                                                                                                                                                                                                                                                                                                                                                                                                                                           cleaned_context\n",
       "0   beyoncé giselle knowles-carter (/biːˈjɒnseɪ/ bee-yon-say) (born september 4, 1981) is an american singer, songwriter, record producer and actress. born and raised in houston, texas, she performed in various singing and dancing competitions as a child, and rose to fame in the late 1990s as lead singer of r&b girl-group destiny's child. managed by her father, mathew knowles, the group became one of the world's best-selling girl groups of all time. their hiatus saw the release of beyoncé's debut album, dangerously in love (2003), which established her as a solo artist worldwide, earned five grammy awards and featured the billboard hot 100 number-one singles \"crazy in love\" and \"baby boy\".                                                                                                                                                                                                                                                                                                                                                                                  beyoncé giselle knowles carter biːˈjɒnseɪ bee yon say born september 4 1981 american singer songwriter record producer actress born raised houston texas performed various singing dancing competitions child rose fame late 1990s lead singer r b girl group destiny s child managed father mathew knowles group became one world s best selling girl groups time hiatus saw release beyoncé s debut album dangerously love 2003 established solo artist worldwide earned five grammy awards featured billboard hot 100 number one singles crazy love baby boy                                                                                                                                                                                                                                         \n",
       "15  following the disbandment of destiny's child in june 2005, she released her second solo album, b'day (2006), which contained hits \"déjà vu\", \"irreplaceable\", and \"beautiful liar\". beyoncé also ventured into acting, with a golden globe-nominated performance in dreamgirls (2006), and starring roles in the pink panther (2006) and obsessed (2009). her marriage to rapper jay z and portrayal of etta james in cadillac records (2008) influenced her third album, i am... sasha fierce (2008), which saw the birth of her alter-ego sasha fierce and earned a record-setting six grammy awards in 2010, including song of the year for \"single ladies (put a ring on it)\". beyoncé took a hiatus from music in 2010 and took over management of her career; her fourth album 4 (2011) was subsequently mellower in tone, exploring 1970s funk, 1980s pop, and 1990s soul. her critically acclaimed fifth studio album, beyoncé (2013), was distinguished from previous releases by its experimental production and exploration of darker themes.                                                following disbandment destiny s child june 2005 released second solo album b day 2006 contained hits déjà vu irreplaceable beautiful liar beyoncé also ventured acting golden globe nominated performance dreamgirls 2006 starring roles pink panther 2006 obsessed 2009 marriage rapper jay z portrayal etta james cadillac records 2008 influenced third album am sasha fierce 2008 saw birth alter ego sasha fierce earned record setting six grammy awards 2010 including song year single ladies put ring it beyoncé took hiatus music 2010 took management career fourth album 4 2011 subsequently mellower tone exploring 1970s funk 1980s pop 1990s soul critically acclaimed fifth studio album beyoncé 2013 distinguished previous releases experimental production exploration darker themes \n",
       "27  a self-described \"modern-day feminist\", beyoncé creates songs that are often characterized by themes of love, relationships, and monogamy, as well as female sexuality and empowerment. on stage, her dynamic, highly choreographed performances have led to critics hailing her as one of the best entertainers in contemporary popular music. throughout a career spanning 19 years, she has sold over 118 million records as a solo artist, and a further 60 million with destiny's child, making her one of the best-selling music artists of all time. she has won 20 grammy awards and is the most nominated woman in the award's history. the recording industry association of america recognized her as the top certified artist in america during the 2000s decade. in 2009, billboard named her the top radio songs artist of the decade, the top female artist of the 2000s and their artist of the millennium in 2011. time listed her among the 100 most influential people in the world in 2013 and 2014. forbes magazine also listed her as the most powerful female musician of 2015.  self described modern day feminist beyoncé creates songs often characterized themes love relationships monogamy well female sexuality empowerment stage dynamic highly choreographed performances led critics hailing one best entertainers contemporary popular music throughout career spanning 19 years sold 118 million records solo artist 60 million destiny s child making one best selling music artists time 20 grammy awards nominated woman award s history recording industry association america recognized top certified artist america 2000s decade 2009 billboard named top radio songs artist decade top female artist 2000s artist millennium 2011 time listed among 100 influential people world 2013 2014 forbes magazine also listed powerful female musician 2015                 "
      ]
     },
     "execution_count": 8,
     "metadata": {},
     "output_type": "execute_result"
    }
   ],
   "source": [
    "df.head(3)"
   ]
  },
  {
   "cell_type": "code",
   "execution_count": 9,
   "id": "magnetic-acceptance",
   "metadata": {},
   "outputs": [],
   "source": [
    "vectorizer = TfidfVectorizer()\n",
    "tfidf = vectorizer.fit_transform(df['cleaned_context'])"
   ]
  },
  {
   "cell_type": "code",
   "execution_count": 10,
   "id": "violent-wings",
   "metadata": {},
   "outputs": [
    {
     "name": "stdout",
     "output_type": "stream",
     "text": [
      "(18877, 78498)\n"
     ]
    }
   ],
   "source": [
    "print(tfidf.shape)"
   ]
  },
  {
   "cell_type": "code",
   "execution_count": 21,
   "id": "reasonable-valuation",
   "metadata": {},
   "outputs": [],
   "source": [
    "def get_similar_doc(tfidfvectorizer, docs_tfidf, query):\n",
    "    \"\"\"\n",
    "    vectorizer: TfIdfVectorizer model\n",
    "    docs_tfidf: tfidf vectors for all docs\n",
    "    query: query doc\n",
    "\n",
    "    return: doc with highest tf-idf cosine similarity\n",
    "    \"\"\"\n",
    "    \n",
    "    query_tfidf = tfidfvectorizer.transform([query])\n",
    "    cosineSimilarities = cosine_similarity(query_tfidf, docs_tfidf).flatten()\n",
    "    cosineSimilarities = np.array(cosineSimilarities)\n",
    "    return cosineSimilarities.argsort()[-3:][::-1]\n",
    "\n",
    "def get_relevant_sentence(doc_ids, query):\n",
    "    docs = df.iloc[doc_ids, df.columns.get_loc('context')].apply(lambda x: [i.strip() for i in x.split('.') if len(i)>1])\n",
    "    sentences = []\n",
    "    for doc in docs:\n",
    "        for sentence in doc:\n",
    "            sentences.append(sentence)\n",
    "\n",
    "    vectorizer = S2vectorizer()\n",
    "    vectorizer.bert([query] + sentences)\n",
    "    vectors = vectorizer.vectors\n",
    "    query_vec, other_vec = vectors[0], vectors[1:]\n",
    "    \n",
    "    print(\"----- Sentences Retrieved: -----\")\n",
    "    for idx, sentence in enumerate(sentences):\n",
    "        print(f\"{idx}. {sentence}\")\n",
    "    \n",
    "    distances = distance.cdist([query_vec], other_vec, \"cosine\")[0]\n",
    "    min_index = np.argmin(distances)\n",
    "#     min_distance = distances[min_index]\n",
    "#     max_similarity = 1 - min_distance\n",
    "    return sentences[min_index]\n",
    "    \n",
    "def get_answer(query):\n",
    "    query = re.sub('[%s]' % re.escape(string.punctuation), '', query)\n",
    "    query = re.sub('\\s{2,}', \" \", query).lower()\n",
    "    most_similar_doc_ids = get_similar_doc(vectorizer, tfidf, query)\n",
    "    return get_relevant_sentence(most_similar_doc_ids, query)"
   ]
  },
  {
   "cell_type": "code",
   "execution_count": 219,
   "id": "miniature-washer",
   "metadata": {},
   "outputs": [
    {
     "name": "stdout",
     "output_type": "stream",
     "text": [
      "----- Sentences Retrieved: -----\n",
      "0. in july 1973, queen finally under a trident/emi deal released their eponymous debut album, an effort influenced by the heavy metal and progressive rock of the day\n",
      "1. the album was received well by critics; gordon fletcher of rolling stone said \"their debut album is superb\", and chicago's daily herald called it an \"above average debut\"\n",
      "2. it drew little mainstream attention, and the lead single \"keep yourself alive\", a brian may composition, sold poorly\n",
      "3. retrospectively, \"keep yourself alive\" is cited as the highlight of the album, and in 2008 rolling stone ranked it 31st in the \"100 greatest guitar songs of all time\", describing it as \"an entire album's worth of riffs crammed into a single song\"\n",
      "4. the album was certified gold in the uk and the us\n",
      "5. beginning his second effort that fall, west would invest two million dollars and take over a year to craft his second album\n",
      "6. west was significantly inspired by roseland nyc live, a 1998 live album by english trip hop group portishead, produced with the new york philharmonic orchestra\n",
      "7. early in his career, the live album had inspired him to incorporate string arrangements into his hip-hop production\n",
      "8. though west had not been able to afford many live instruments around the time of his debut album, the money from his commercial success enabled him to hire a string orchestra for his second album late registration\n",
      "9. west collaborated with american film score composer jon brion, who served as the album's co-executive producer for several tracks\n",
      "10. although brion had no prior experience in creating hip-hop records, he and west found that they could productively work together after their first afternoon in the studio where they discovered that neither confined his musical knowledge and vision to one specific genre\n",
      "11. late registration sold over 2\n",
      "12. 3 million units in the united states alone by the end of 2005 and was considered by industry observers as the only successful major album release of the fall season, which had been plagued by steadily declining cd sales\n",
      "13. carrying a louis vuitton backpack filled with old disks and demos to the studio and back, west crafted much of his production for his debut album in less than fifteen minutes at a time\n",
      "14. he recorded the remainder of the album in los angeles while recovering from the car accident\n",
      "15. once he had completed the album, it was leaked months before its release date\n",
      "16. however, west decided to use the opportunity to review the album, and the college dropout was significantly remixed, remastered, and revised before being released\n",
      "17. as a result, certain tracks originally destined for the album were subsequently retracted, among them \"keep the receipt\" with ol' dirty bastard and \"the good, the bad, and the ugly\" with consequence\n",
      "18. west meticulously refined the production, adding string arrangements, gospel choirs, improved drum programming and new verses\n",
      "19. west's perfectionism led the college dropout to have its release postponed three times from its initial date in august 2003\n"
     ]
    },
    {
     "data": {
      "text/plain": [
       "'once he had completed the album, it was leaked months before its release date'"
      ]
     },
     "execution_count": 219,
     "metadata": {},
     "output_type": "execute_result"
    }
   ],
   "source": [
    "get_answer(\"when did the group release their multi-platinum second album The Writing's on the Wall?\")"
   ]
  },
  {
   "cell_type": "markdown",
   "id": "private-limit",
   "metadata": {},
   "source": [
    "## ^ Results not good, I'm thinking can try split into sentence first before tf-idf. Or if there's some better way to find similarity between a short query and long paragraphs?\n",
    "\n",
    "## Also feel like clause extraction may make things even worse cuz it doesn't retain the nouns and stuff after splitting into clauses"
   ]
  },
  {
   "cell_type": "code",
   "execution_count": 64,
   "id": "affiliated-estate",
   "metadata": {},
   "outputs": [],
   "source": [
    "def cosine(u, v):\n",
    "    return np.dot(u, v) / (np.linalg.norm(u) * np.linalg.norm(v))\n",
    "\n",
    "def get_similar_doc(tfidfvectorizer, docs_tfidf, query):\n",
    "    \"\"\"\n",
    "    vectorizer: TfIdfVectorizer model\n",
    "    docs_tfidf: tfidf vectors for all docs\n",
    "    query: query doc\n",
    "\n",
    "    return: doc with highest tf-idf cosine similarity\n",
    "    \"\"\"\n",
    "    \n",
    "    query_tfidf = tfidfvectorizer.transform([query])\n",
    "    cosineSimilarities = cosine_similarity(query_tfidf, docs_tfidf).flatten()\n",
    "    cosineSimilarities = np.array(cosineSimilarities)\n",
    "    return cosineSimilarities.argsort()[-3:][::-1]\n",
    "\n",
    "def get_sentences(doc_ids):\n",
    "    docs = df.iloc[doc_ids, df.columns.get_loc('context')].apply(lambda x: [i.strip() for i in x.split('.') if len(i)>1])\n",
    "    print(docs)\n",
    "    sentences = []\n",
    "    for doc in docs:\n",
    "        for sentence in doc:\n",
    "            sentences.append(sentence)\n",
    "    return sentences\n",
    "\n",
    "def infersent(sentences, query_vec):\n",
    "    similarity = []\n",
    "    for sent in sentences:\n",
    "        sim = cosine(query_vec, model.encode([sent])[0])\n",
    "        similarity.append((sent, sim))\n",
    "\n",
    "    return similarity\n",
    "# .sort(key=lambda x: x[1], reverse=True)\n",
    "\n",
    "    \n",
    "def get_answer(query):\n",
    "    query = re.sub('[%s]' % re.escape(string.punctuation), '', query)\n",
    "    query = re.sub('\\s{2,}', \" \", query).lower()\n",
    "    most_similar_doc_ids = get_similar_doc(vectorizer, tfidf, query)\n",
    "    sentences = get_sentences(most_similar_doc_ids)\n",
    "    model.build_vocab(sentences, tokenize=True)\n",
    "    query_vec = model.encode(query)[0]\n",
    "    \n",
    "    answers = infersent(sentences, query_vec)\n",
    "#     print(sorted(answers, key=lambda x: x[1]))\n",
    "    return sorted(answers, key=lambda x: x[1], reverse=True)\n"
   ]
  },
  {
   "cell_type": "code",
   "execution_count": 11,
   "id": "solar-avenue",
   "metadata": {},
   "outputs": [
    {
     "name": "stdout",
     "output_type": "stream",
     "text": [
      "  % Total    % Received % Xferd  Average Speed   Time    Time     Time  Current\n",
      "                                 Dload  Upload   Total   Spent    Left  Speed\n",
      "100  146M  100  146M    0     0  9193k      0  0:00:16  0:00:16 --:--:-- 10.6M3k      0  0:00:17  0:00:13  0:00:04 10.5M\n",
      "  % Total    % Received % Xferd  Average Speed   Time    Time     Time  Current\n",
      "                                 Dload  Upload   Total   Spent    Left  Speed\n",
      "  0   315    0     0    0     0      0      0 --:--:-- --:--:-- --:--:--     0\n",
      "  0   352    0     0    0     0      0      0 --:--:--  0:00:01 --:--:--     0\n",
      "100 2075M  100 2075M    0     0  4099k      0  0:08:38  0:08:38 --:--:-- 4491k   0  0:12:38  0:00:14  0:12:24 4925k 0:07:21 4889k4489k      0  0:07:53  0:00:50  0:07:03 5368k      0  0:07:30  0:01:19  0:06:11 5457k:27  0:01:27  0:06:00 5168k0k      0  0:07:26  0:01:31  0:05:55 5069k393k     0  0:07:06  0:03:53  0:03:13 4942k  3879k      0  0:09:07  0:05:10  0:03:57  100k 0:03:51 5159k38  0:08:23  0:00:15 5262k     0  4096k      0  0:08:38  0:08:34  0:00:04 4462k\n",
      "Archive:  GloVe/glove.840B.300d.zip\n",
      "  inflating: GloVe/glove.840B.300d.txt  \n"
     ]
    }
   ],
   "source": [
    "! mkdir encoder\n",
    "! curl -Lo encoder/infersent2.pkl https://dl.fbaipublicfiles.com/infersent/infersent2.pkl\n",
    "  \n",
    "! mkdir GloVe\n",
    "! curl -Lo GloVe/glove.840B.300d.zip http://nlp.stanford.edu/data/glove.840B.300d.zip\n",
    "! unzip GloVe/glove.840B.300d.zip -d GloVe/"
   ]
  },
  {
   "cell_type": "code",
   "execution_count": 19,
   "id": "variable-favor",
   "metadata": {},
   "outputs": [],
   "source": [
    "from models import InferSent\n",
    "import torch\n",
    "\n",
    "V = 2\n",
    "MODEL_PATH = 'encoder/infersent%s.pkl' % V\n",
    "params_model = {'bsize': 64, 'word_emb_dim': 300, 'enc_lstm_dim': 2048,\n",
    "                'pool_type': 'max', 'dpout_model': 0.0, 'version': V}\n",
    "model = InferSent(params_model)\n",
    "model.load_state_dict(torch.load(MODEL_PATH))\n",
    "\n",
    "W2V_PATH = 'GloVe/glove.840B.300d.txt'\n",
    "model.set_w2v_path(W2V_PATH)"
   ]
  },
  {
   "cell_type": "code",
   "execution_count": 65,
   "id": "adverse-charles",
   "metadata": {},
   "outputs": [
    {
     "name": "stdout",
     "output_type": "stream",
     "text": [
      "41419    [in july 1973, queen finally under a trident/emi deal released their eponymous debut album, an effort influenced by the heavy metal and progressive rock of the day, the album was received well by critics; gordon fletcher of rolling stone said \"their debut album is superb\", and chicago's daily herald called it an \"above average debut\", it drew little mainstream attention, and the lead single \"keep yourself alive\", a brian may composition, sold poorly, retrospectively, \"keep yourself alive\" is cited as the highlight of the album, and in 2008 rolling stone ranked it 31st in the \"100 greatest guitar songs of all time\", describing it as \"an entire album's worth of riffs crammed into a single song\", the album was certified gold in the uk and the us]                                                                                                                                                                                                                                                                                                                                                                                                                                                                                                                                       \n",
      "4460     [beginning his second effort that fall, west would invest two million dollars and take over a year to craft his second album, west was significantly inspired by roseland nyc live, a 1998 live album by english trip hop group portishead, produced with the new york philharmonic orchestra, early in his career, the live album had inspired him to incorporate string arrangements into his hip-hop production, though west had not been able to afford many live instruments around the time of his debut album, the money from his commercial success enabled him to hire a string orchestra for his second album late registration, west collaborated with american film score composer jon brion, who served as the album's co-executive producer for several tracks, although brion had no prior experience in creating hip-hop records, he and west found that they could productively work together after their first afternoon in the studio where they discovered that neither confined his musical knowledge and vision to one specific genre, late registration sold over 2, 3 million units in the united states alone by the end of 2005 and was considered by industry observers as the only successful major album release of the fall season, which had been plagued by steadily declining cd sales]\n",
      "4447     [carrying a louis vuitton backpack filled with old disks and demos to the studio and back, west crafted much of his production for his debut album in less than fifteen minutes at a time, he recorded the remainder of the album in los angeles while recovering from the car accident, once he had completed the album, it was leaked months before its release date, however, west decided to use the opportunity to review the album, and the college dropout was significantly remixed, remastered, and revised before being released, as a result, certain tracks originally destined for the album were subsequently retracted, among them \"keep the receipt\" with ol' dirty bastard and \"the good, the bad, and the ugly\" with consequence, west meticulously refined the production, adding string arrangements, gospel choirs, improved drum programming and new verses, west's perfectionism led the college dropout to have its release postponed three times from its initial date in august 2003]                                                                                                                                                                                                                                                                                                         \n",
      "Name: context, dtype: object\n",
      "Found 287(/288) words with w2v vectors\n",
      "Vocab size : 287\n"
     ]
    },
    {
     "data": {
      "text/plain": [
       "[('late registration sold over 2', 0.32071656),\n",
       " ('the album was certified gold in the uk and the us', 0.11131949),\n",
       " ('once he had completed the album, it was leaked months before its release date',\n",
       "  0.10193596),\n",
       " ('he recorded the remainder of the album in los angeles while recovering from the car accident',\n",
       "  0.038281523),\n",
       " (\"west's perfectionism led the college dropout to have its release postponed three times from its initial date in august 2003\",\n",
       "  0.010809121),\n",
       " ('it drew little mainstream attention, and the lead single \"keep yourself alive\", a brian may composition, sold poorly',\n",
       "  0.008625651),\n",
       " ('west meticulously refined the production, adding string arrangements, gospel choirs, improved drum programming and new verses',\n",
       "  -0.00013764449),\n",
       " ('beginning his second effort that fall, west would invest two million dollars and take over a year to craft his second album',\n",
       "  -0.0071180295),\n",
       " ('as a result, certain tracks originally destined for the album were subsequently retracted, among them \"keep the receipt\" with ol\\' dirty bastard and \"the good, the bad, and the ugly\" with consequence',\n",
       "  -0.013602802),\n",
       " ('early in his career, the live album had inspired him to incorporate string arrangements into his hip-hop production',\n",
       "  -0.023625791),\n",
       " ('retrospectively, \"keep yourself alive\" is cited as the highlight of the album, and in 2008 rolling stone ranked it 31st in the \"100 greatest guitar songs of all time\", describing it as \"an entire album\\'s worth of riffs crammed into a single song\"',\n",
       "  -0.033421557),\n",
       " ('however, west decided to use the opportunity to review the album, and the college dropout was significantly remixed, remastered, and revised before being released',\n",
       "  -0.04626371),\n",
       " ('in july 1973, queen finally under a trident/emi deal released their eponymous debut album, an effort influenced by the heavy metal and progressive rock of the day',\n",
       "  -0.047628473),\n",
       " ('3 million units in the united states alone by the end of 2005 and was considered by industry observers as the only successful major album release of the fall season, which had been plagued by steadily declining cd sales',\n",
       "  -0.05330879),\n",
       " (\"west collaborated with american film score composer jon brion, who served as the album's co-executive producer for several tracks\",\n",
       "  -0.06296378),\n",
       " ('the album was received well by critics; gordon fletcher of rolling stone said \"their debut album is superb\", and chicago\\'s daily herald called it an \"above average debut\"',\n",
       "  -0.07242146),\n",
       " ('west was significantly inspired by roseland nyc live, a 1998 live album by english trip hop group portishead, produced with the new york philharmonic orchestra',\n",
       "  -0.07952634),\n",
       " ('carrying a louis vuitton backpack filled with old disks and demos to the studio and back, west crafted much of his production for his debut album in less than fifteen minutes at a time',\n",
       "  -0.082155466),\n",
       " ('though west had not been able to afford many live instruments around the time of his debut album, the money from his commercial success enabled him to hire a string orchestra for his second album late registration',\n",
       "  -0.08487525),\n",
       " ('although brion had no prior experience in creating hip-hop records, he and west found that they could productively work together after their first afternoon in the studio where they discovered that neither confined his musical knowledge and vision to one specific genre',\n",
       "  -0.0865467)]"
      ]
     },
     "execution_count": 65,
     "metadata": {},
     "output_type": "execute_result"
    }
   ],
   "source": [
    "get_answer(\"when did the group release their multi-platinum second album The Writing's on the Wall?\")"
   ]
  },
  {
   "cell_type": "code",
   "execution_count": 66,
   "id": "retained-borough",
   "metadata": {},
   "outputs": [
    {
     "name": "stdout",
     "output_type": "stream",
     "text": [
      "66503    [czech distinguishes three genders—masculine, feminine, and neuter—and the masculine gender is subdivided into animate and inanimate, with few exceptions, feminine nouns in the nominative case end in -a, -e, or -ost; neuter nouns in -o, -e, or -í, and masculine nouns in a consonant, adjectives agree in gender and animacy (for masculine nouns in the accusative or genitive singular and the nominative plural) with the nouns they modify, the main effect of gender in czech is the difference in noun and adjective declension, but other effects include past-tense verb endings: for example, dělal (he did, or made); dělala (she did, or made) and dělalo (it did, or made)]\n",
      "58418    [the system displays the what's new screen by default instead of the [games] menu (or [video] menu, if a movie was inserted) when starting up, what's new has four sections: \"our pick\", \"recently played\", latest information and new content available in playstation store, there are four kinds of content the what's new screen displays and links to, on the sections, \"recently played\" displays the user's recently played games and online services only, whereas, the other sections can contain website links, links to play videos and access to selected sections of the playstation store]                                                                                     \n",
      "16283    [^9 sub-groups of croats include bunjevci (in bačka), šokci (in slavonia and vojvodina), janjevci (in kosovo), burgenland croats (in austria), bosniaks (in hungary), molise croats (in italy), krashovans (in romania), moravian croats (in the czech republic)]                                                                                                                                                                                                                                                                                                                                                                                                                            \n",
      "Name: context, dtype: object\n",
      "Found 126(/146) words with w2v vectors\n",
      "Vocab size : 126\n"
     ]
    },
    {
     "data": {
      "text/plain": [
       "[('czech distinguishes three genders—masculine, feminine, and neuter—and the masculine gender is subdivided into animate and inanimate',\n",
       "  0.05793891),\n",
       " (\"there are four kinds of content the what's new screen displays and links to, on the sections\",\n",
       "  0.016624594),\n",
       " ('adjectives agree in gender and animacy (for masculine nouns in the accusative or genitive singular and the nominative plural) with the nouns they modify',\n",
       "  0.0049622916),\n",
       " ('^9 sub-groups of croats include bunjevci (in bačka), šokci (in slavonia and vojvodina), janjevci (in kosovo), burgenland croats (in austria), bosniaks (in hungary), molise croats (in italy), krashovans (in romania), moravian croats (in the czech republic)',\n",
       "  -0.0025368186),\n",
       " ('with few exceptions, feminine nouns in the nominative case end in -a, -e, or -ost; neuter nouns in -o, -e, or -í, and masculine nouns in a consonant',\n",
       "  -0.0040099532),\n",
       " ('what\\'s new has four sections: \"our pick\", \"recently played\", latest information and new content available in playstation store',\n",
       "  -0.024142321),\n",
       " (\"the system displays the what's new screen by default instead of the [games] menu (or [video] menu, if a movie was inserted) when starting up\",\n",
       "  -0.03933025),\n",
       " ('the main effect of gender in czech is the difference in noun and adjective declension, but other effects include past-tense verb endings: for example, dělal (he did, or made); dělala (she did, or made) and dělalo (it did, or made)',\n",
       "  -0.053711653),\n",
       " ('\"recently played\" displays the user\\'s recently played games and online services only, whereas, the other sections can contain website links, links to play videos and access to selected sections of the playstation store',\n",
       "  -0.05443788)]"
      ]
     },
     "execution_count": 66,
     "metadata": {},
     "output_type": "execute_result"
    }
   ],
   "source": [
    "get_answer(\"What areas did Beyonce compete in when she was growing up?\")"
   ]
  },
  {
   "cell_type": "code",
   "execution_count": null,
   "id": "arctic-auction",
   "metadata": {},
   "outputs": [],
   "source": []
  }
 ],
 "metadata": {
  "kernelspec": {
   "display_name": "Python 3",
   "language": "python",
   "name": "python3"
  },
  "language_info": {
   "codemirror_mode": {
    "name": "ipython",
    "version": 3
   },
   "file_extension": ".py",
   "mimetype": "text/x-python",
   "name": "python",
   "nbconvert_exporter": "python",
   "pygments_lexer": "ipython3",
   "version": "3.7.9"
  }
 },
 "nbformat": 4,
 "nbformat_minor": 5
}
