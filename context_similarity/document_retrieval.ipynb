{
 "cells": [
  {
   "cell_type": "markdown",
   "id": "center-reflection",
   "metadata": {},
   "source": [
    "### Import Libraries"
   ]
  },
  {
   "cell_type": "code",
   "execution_count": 420,
   "id": "adjusted-narrative",
   "metadata": {},
   "outputs": [],
   "source": [
    "import nltk\n",
    "from nltk.stem import WordNetLemmatizer\n",
    "from nltk.stem import PorterStemmer\n",
    "wordnet_lemmatizer = WordNetLemmatizer()\n",
    "ps = PorterStemmer()\n",
    "\n",
    "import string\n",
    "import spacy\n",
    "import truecase\n",
    "from spacy import displacy\n",
    "from collections import Counter\n",
    "from nltk.tag import StanfordNERTagger\n",
    "import en_core_web_sm\n",
    "nlp = en_core_web_sm.load()\n",
    "from pprint import pprint\n",
    "from unidecode import unidecode\n",
    "import pandas as pd\n",
    "from sklearn.feature_extraction.text import CountVectorizer, TfidfVectorizer\n",
    "from sklearn.metrics.pairwise import cosine_similarity, linear_kernel\n",
    "import warnings\n",
    "from tqdm._tqdm_notebook import tqdm_notebook\n",
    "from scipy.spatial import distance\n",
    "import numpy as np\n",
    "import re\n",
    "from sklearn.metrics.pairwise import cosine_similarity\n",
    "from sklearn.metrics.pairwise import euclidean_distances\n",
    "from sentence_transformers import SentenceTransformer\n",
    "from nltk.corpus import stopwords\n",
    "import tensorflow as tf\n",
    "import transformers\n",
    "from sent2vec.vectorizer import Vectorizer as S2vectorizer\n",
    "tqdm_notebook.pandas()\n",
    "warnings.filterwarnings(\"ignore\")\n",
    "\n",
    "#import pipelines\n",
    "from transformers import pipeline\n",
    "nlp2 = pipeline(\"question-answering\")\n",
    "\n",
    "pd.set_option('display.max_colwidth', 0)\n",
    "pd.set_option('display.max_columns', 0)"
   ]
  },
  {
   "cell_type": "markdown",
   "id": "crazy-calculation",
   "metadata": {},
   "source": [
    "### NER Generation"
   ]
  },
  {
   "cell_type": "code",
   "execution_count": 421,
   "id": "rolled-classics",
   "metadata": {},
   "outputs": [
    {
     "name": "stdout",
     "output_type": "stream",
     "text": [
      "[]\n"
     ]
    }
   ],
   "source": [
    "pprint([(X.text, X.label_) for X in nlp(\"Beyonce is a woman\").ents])"
   ]
  },
  {
   "cell_type": "code",
   "execution_count": 425,
   "id": "heard-century",
   "metadata": {},
   "outputs": [],
   "source": [
    "def generate_ners(text):\n",
    "    result = set()\n",
    "    for X in nlp(text).ents:\n",
    "        result.add(unidecode(X.text.lower()))\n",
    "    return result"
   ]
  },
  {
   "cell_type": "code",
   "execution_count": 426,
   "id": "hairy-ending",
   "metadata": {},
   "outputs": [
    {
     "data": {
      "application/vnd.jupyter.widget-view+json": {
       "model_id": "13749bf2cb93426685c1540ae655bbc6",
       "version_major": 2,
       "version_minor": 0
      },
      "text/plain": [
       "  0%|          | 0/18877 [00:00<?, ?it/s]"
      ]
     },
     "metadata": {},
     "output_type": "display_data"
    }
   ],
   "source": [
    "df = pd.read_csv('../data/SQuAD_csv.csv', encoding='utf-8').loc[:, ['context']]\n",
    "df = df.drop_duplicates(subset=['context'])\n",
    "df['context_ner'] = df['context'].progress_apply(generate_ners)\n",
    "# df['context'] = df['context'].apply(lambda x: str(x).lower())"
   ]
  },
  {
   "cell_type": "code",
   "execution_count": 427,
   "id": "sunset-tomorrow",
   "metadata": {},
   "outputs": [
    {
     "data": {
      "text/html": [
       "<div>\n",
       "<style scoped>\n",
       "    .dataframe tbody tr th:only-of-type {\n",
       "        vertical-align: middle;\n",
       "    }\n",
       "\n",
       "    .dataframe tbody tr th {\n",
       "        vertical-align: top;\n",
       "    }\n",
       "\n",
       "    .dataframe thead th {\n",
       "        text-align: right;\n",
       "    }\n",
       "</style>\n",
       "<table border=\"1\" class=\"dataframe\">\n",
       "  <thead>\n",
       "    <tr style=\"text-align: right;\">\n",
       "      <th></th>\n",
       "      <th>context</th>\n",
       "      <th>context_ner</th>\n",
       "    </tr>\n",
       "  </thead>\n",
       "  <tbody>\n",
       "    <tr>\n",
       "      <th>0</th>\n",
       "      <td>Beyoncé Giselle Knowles-Carter (/biːˈjɒnseɪ/ bee-YON-say) (born September 4, 1981) is an American singer, songwriter, record producer and actress. Born and raised in Houston, Texas, she performed in various singing and dancing competitions as a child, and rose to fame in the late 1990s as lead singer of R&amp;B girl-group Destiny's Child. Managed by her father, Mathew Knowles, the group became one of the world's best-selling girl groups of all time. Their hiatus saw the release of Beyoncé's debut album, Dangerously in Love (2003), which established her as a solo artist worldwide, earned five Grammy Awards and featured the Billboard Hot 100 number-one singles \"Crazy in Love\" and \"Baby Boy\".</td>\n",
       "      <td>{american, 2003, grammy awards, texas, september 4, 1981, baby boy, mathew knowles, beyonce, love, 100, r&amp;b, the late 1990s, knowles-carter, one, houston, destiny's child, crazy in love}</td>\n",
       "    </tr>\n",
       "    <tr>\n",
       "      <th>15</th>\n",
       "      <td>Following the disbandment of Destiny's Child in June 2005, she released her second solo album, B'Day (2006), which contained hits \"Déjà Vu\", \"Irreplaceable\", and \"Beautiful Liar\". Beyoncé also ventured into acting, with a Golden Globe-nominated performance in Dreamgirls (2006), and starring roles in The Pink Panther (2006) and Obsessed (2009). Her marriage to rapper Jay Z and portrayal of Etta James in Cadillac Records (2008) influenced her third album, I Am... Sasha Fierce (2008), which saw the birth of her alter-ego Sasha Fierce and earned a record-setting six Grammy Awards in 2010, including Song of the Year for \"Single Ladies (Put a Ring on It)\". Beyoncé took a hiatus from music in 2010 and took over management of her career; her fourth album 4 (2011) was subsequently mellower in tone, exploring 1970s funk, 1980s pop, and 1990s soul. Her critically acclaimed fifth studio album, Beyoncé (2013), was distinguished from previous releases by its experimental production and exploration of darker themes.</td>\n",
       "      <td>{etta james, the pink panther, fourth, six, beyonce, third, 2009, b'day, 2013, dreamgirls, 1980s, 1990s, 2010, sasha fierce, 4, song of the year, 1970s, destiny's child, 2011, fifth, second, june 2005, jay z, irreplaceable, 2006}</td>\n",
       "    </tr>\n",
       "    <tr>\n",
       "      <th>27</th>\n",
       "      <td>A self-described \"modern-day feminist\", Beyoncé creates songs that are often characterized by themes of love, relationships, and monogamy, as well as female sexuality and empowerment. On stage, her dynamic, highly choreographed performances have led to critics hailing her as one of the best entertainers in contemporary popular music. Throughout a career spanning 19 years, she has sold over 118 million records as a solo artist, and a further 60 million with Destiny's Child, making her one of the best-selling music artists of all time. She has won 20 Grammy Awards and is the most nominated woman in the award's history. The Recording Industry Association of America recognized her as the Top Certified Artist in America during the 2000s decade. In 2009, Billboard named her the Top Radio Songs Artist of the Decade, the Top Female Artist of the 2000s and their Artist of the Millennium in 2011. Time listed her among the 100 most influential people in the world in 2013 and 2014. Forbes magazine also listed her as the most powerful female musician of 2015.</td>\n",
       "      <td>{artist of the millennium, billboard, beyonce, 2009, the recording industry association of america, 2013, 2015, the top certified artist in america, 2014, 118 million, the top radio songs artist of, 60 million, forbes, 100, 20 grammy awards, 2011, destiny's child, the 2000s decade, the top female artist, 19 years, time}</td>\n",
       "    </tr>\n",
       "    <tr>\n",
       "      <th>39</th>\n",
       "      <td>Beyoncé Giselle Knowles was born in Houston, Texas, to Celestine Ann \"Tina\" Knowles (née Beyincé), a hairdresser and salon owner, and Mathew Knowles, a Xerox sales manager. Beyoncé's name is a tribute to her mother's maiden name. Beyoncé's younger sister Solange is also a singer and a former member of Destiny's Child. Mathew is African-American, while Tina is of Louisiana Creole descent (with African, Native American, French, Cajun, and distant Irish and Spanish ancestry). Through her mother, Beyoncé is a descendant of Acadian leader Joseph Broussard. She was raised in a Methodist household.</td>\n",
       "      <td>{acadian, mathew knowles, beyonce, destiny, spanish, african, irish, joseph broussard, texas, methodist, native american, houston, french, celestine ann, beyonce giselle knowles, african-american, louisiana creole, xerox, beyince, tina}</td>\n",
       "    </tr>\n",
       "    <tr>\n",
       "      <th>52</th>\n",
       "      <td>Beyoncé attended St. Mary's Elementary School in Fredericksburg, Texas, where she enrolled in dance classes. Her singing talent was discovered when dance instructor Darlette Johnson began humming a song and she finished it, able to hit the high-pitched notes. Beyoncé's interest in music and performing continued after winning a school talent show at age seven, singing John Lennon's \"Imagine\" to beat 15/16-year-olds. In fall of 1990, Beyoncé enrolled in Parker Elementary School, a music magnet school in Houston, where she would perform with the school's choir. She also attended the High School for the Performing and Visual Arts and later Alief Elsik High School. Beyoncé was also a member of the choir at St. John's United Methodist Church as a soloist for two years.</td>\n",
       "      <td>{elementary school, age seven, fredericksburg, darlette johnson, john lennon's, texas, parker elementary school, two years, imagine, beyonce, 15/16-year-olds, fall of 1990, the high school for the performing and visual arts, united methodist church, houston, st. john's}</td>\n",
       "    </tr>\n",
       "  </tbody>\n",
       "</table>\n",
       "</div>"
      ],
      "text/plain": [
       "                                                                                                                                                                                                                                                                                                                                                                                                                                                                                                                                                                                                                                                                                                                                                                                                                                                                                                                                                                                                                                                                                                   context                                                                                                                                                                                                                                                                                                                        context_ner\n",
       "0   Beyoncé Giselle Knowles-Carter (/biːˈjɒnseɪ/ bee-YON-say) (born September 4, 1981) is an American singer, songwriter, record producer and actress. Born and raised in Houston, Texas, she performed in various singing and dancing competitions as a child, and rose to fame in the late 1990s as lead singer of R&B girl-group Destiny's Child. Managed by her father, Mathew Knowles, the group became one of the world's best-selling girl groups of all time. Their hiatus saw the release of Beyoncé's debut album, Dangerously in Love (2003), which established her as a solo artist worldwide, earned five Grammy Awards and featured the Billboard Hot 100 number-one singles \"Crazy in Love\" and \"Baby Boy\".                                                                                                                                                                                                                                                                                                                                                                                  {american, 2003, grammy awards, texas, september 4, 1981, baby boy, mathew knowles, beyonce, love, 100, r&b, the late 1990s, knowles-carter, one, houston, destiny's child, crazy in love}                                                                                                                                       \n",
       "15  Following the disbandment of Destiny's Child in June 2005, she released her second solo album, B'Day (2006), which contained hits \"Déjà Vu\", \"Irreplaceable\", and \"Beautiful Liar\". Beyoncé also ventured into acting, with a Golden Globe-nominated performance in Dreamgirls (2006), and starring roles in The Pink Panther (2006) and Obsessed (2009). Her marriage to rapper Jay Z and portrayal of Etta James in Cadillac Records (2008) influenced her third album, I Am... Sasha Fierce (2008), which saw the birth of her alter-ego Sasha Fierce and earned a record-setting six Grammy Awards in 2010, including Song of the Year for \"Single Ladies (Put a Ring on It)\". Beyoncé took a hiatus from music in 2010 and took over management of her career; her fourth album 4 (2011) was subsequently mellower in tone, exploring 1970s funk, 1980s pop, and 1990s soul. Her critically acclaimed fifth studio album, Beyoncé (2013), was distinguished from previous releases by its experimental production and exploration of darker themes.                                                {etta james, the pink panther, fourth, six, beyonce, third, 2009, b'day, 2013, dreamgirls, 1980s, 1990s, 2010, sasha fierce, 4, song of the year, 1970s, destiny's child, 2011, fifth, second, june 2005, jay z, irreplaceable, 2006}                                                                                            \n",
       "27  A self-described \"modern-day feminist\", Beyoncé creates songs that are often characterized by themes of love, relationships, and monogamy, as well as female sexuality and empowerment. On stage, her dynamic, highly choreographed performances have led to critics hailing her as one of the best entertainers in contemporary popular music. Throughout a career spanning 19 years, she has sold over 118 million records as a solo artist, and a further 60 million with Destiny's Child, making her one of the best-selling music artists of all time. She has won 20 Grammy Awards and is the most nominated woman in the award's history. The Recording Industry Association of America recognized her as the Top Certified Artist in America during the 2000s decade. In 2009, Billboard named her the Top Radio Songs Artist of the Decade, the Top Female Artist of the 2000s and their Artist of the Millennium in 2011. Time listed her among the 100 most influential people in the world in 2013 and 2014. Forbes magazine also listed her as the most powerful female musician of 2015.  {artist of the millennium, billboard, beyonce, 2009, the recording industry association of america, 2013, 2015, the top certified artist in america, 2014, 118 million, the top radio songs artist of, 60 million, forbes, 100, 20 grammy awards, 2011, destiny's child, the 2000s decade, the top female artist, 19 years, time}\n",
       "39  Beyoncé Giselle Knowles was born in Houston, Texas, to Celestine Ann \"Tina\" Knowles (née Beyincé), a hairdresser and salon owner, and Mathew Knowles, a Xerox sales manager. Beyoncé's name is a tribute to her mother's maiden name. Beyoncé's younger sister Solange is also a singer and a former member of Destiny's Child. Mathew is African-American, while Tina is of Louisiana Creole descent (with African, Native American, French, Cajun, and distant Irish and Spanish ancestry). Through her mother, Beyoncé is a descendant of Acadian leader Joseph Broussard. She was raised in a Methodist household.                                                                                                                                                                                                                                                                                                                                                                                                                                                                                  {acadian, mathew knowles, beyonce, destiny, spanish, african, irish, joseph broussard, texas, methodist, native american, houston, french, celestine ann, beyonce giselle knowles, african-american, louisiana creole, xerox, beyince, tina}                                                                                     \n",
       "52  Beyoncé attended St. Mary's Elementary School in Fredericksburg, Texas, where she enrolled in dance classes. Her singing talent was discovered when dance instructor Darlette Johnson began humming a song and she finished it, able to hit the high-pitched notes. Beyoncé's interest in music and performing continued after winning a school talent show at age seven, singing John Lennon's \"Imagine\" to beat 15/16-year-olds. In fall of 1990, Beyoncé enrolled in Parker Elementary School, a music magnet school in Houston, where she would perform with the school's choir. She also attended the High School for the Performing and Visual Arts and later Alief Elsik High School. Beyoncé was also a member of the choir at St. John's United Methodist Church as a soloist for two years.                                                                                                                                                                                                                                                                                                   {elementary school, age seven, fredericksburg, darlette johnson, john lennon's, texas, parker elementary school, two years, imagine, beyonce, 15/16-year-olds, fall of 1990, the high school for the performing and visual arts, united methodist church, houston, st. john's}                                                   "
      ]
     },
     "execution_count": 427,
     "metadata": {},
     "output_type": "execute_result"
    }
   ],
   "source": [
    "df.head()"
   ]
  },
  {
   "cell_type": "markdown",
   "id": "ultimate-helicopter",
   "metadata": {},
   "source": [
    "### Text Preprocessing"
   ]
  },
  {
   "cell_type": "code",
   "execution_count": 428,
   "id": "diverse-selection",
   "metadata": {},
   "outputs": [],
   "source": [
    "stop_words = stopwords.words(\"english\")\n",
    "\n",
    "def clean_normalcase_stop_lem(text):\n",
    "    text = re.sub('[%s]' % re.escape(string.punctuation), ' ', text)\n",
    "    text = re.sub('\\s{2,}', \" \", text)\n",
    "    text = unidecode(text)\n",
    "    text = ' '.join([wordnet_lemmatizer.lemmatize(i) for i in text.split()])\n",
    "    return text\n",
    "\n",
    "def clean_normalcase_nostop_lem(text):\n",
    "    text = ' '.join([wordnet_lemmatizer.lemmatize(word) for word in text.split() if word not in stop_words])\n",
    "    text = re.sub('[%s]' % re.escape(string.punctuation), ' ', text)\n",
    "    text = re.sub('\\s{2,}', \" \", text)\n",
    "    text = unidecode(text)\n",
    "    return text\n",
    "\n",
    "def clean_lowercase_stop_lem(text):\n",
    "    text = re.sub('[%s]' % re.escape(string.punctuation), ' ', text)\n",
    "    text = re.sub('\\s{2,}', \" \", text)\n",
    "    text = unidecode(text)\n",
    "    text = ' '.join([wordnet_lemmatizer.lemmatize(i) for i in text.split()])\n",
    "    return text.lower()\n",
    "\n",
    "def clean_lowercase_nostop_lem(text):\n",
    "    text = ' '.join([wordnet_lemmatizer.lemmatize(word) for word in text.split() if word not in stop_words])\n",
    "#     text = ' '.join([ps.stem(word) for word in text.split() if word not in stop_words])\n",
    "    text = re.sub('[%s]' % re.escape(string.punctuation), ' ', text)\n",
    "    text = re.sub('\\s{2,}', \" \", text)\n",
    "    text = unidecode(text)\n",
    "    return text.lower()"
   ]
  },
  {
   "cell_type": "code",
   "execution_count": 429,
   "id": "dominant-logistics",
   "metadata": {},
   "outputs": [
    {
     "data": {
      "application/vnd.jupyter.widget-view+json": {
       "model_id": "f9a4631b4c7c4748b5ca3f63e64b3a0e",
       "version_major": 2,
       "version_minor": 0
      },
      "text/plain": [
       "  0%|          | 0/18877 [00:00<?, ?it/s]"
      ]
     },
     "metadata": {},
     "output_type": "display_data"
    }
   ],
   "source": [
    "df['cleaned_normalcase_stop_lem'] = df['context'].progress_apply(clean_normalcase_stop)"
   ]
  },
  {
   "cell_type": "code",
   "execution_count": 430,
   "id": "disturbed-charity",
   "metadata": {},
   "outputs": [
    {
     "data": {
      "application/vnd.jupyter.widget-view+json": {
       "model_id": "9f70539626e94a4aa1313d8bbc1ea35e",
       "version_major": 2,
       "version_minor": 0
      },
      "text/plain": [
       "  0%|          | 0/18877 [00:00<?, ?it/s]"
      ]
     },
     "metadata": {},
     "output_type": "display_data"
    }
   ],
   "source": [
    "df['cleaned_normalcase_nostop_lem'] = df['context'].progress_apply(clean_normalcase_nostop)"
   ]
  },
  {
   "cell_type": "code",
   "execution_count": 431,
   "id": "lined-sweet",
   "metadata": {},
   "outputs": [
    {
     "data": {
      "application/vnd.jupyter.widget-view+json": {
       "model_id": "bcce83bf06664985a7b19fcfc667d3ef",
       "version_major": 2,
       "version_minor": 0
      },
      "text/plain": [
       "  0%|          | 0/18877 [00:00<?, ?it/s]"
      ]
     },
     "metadata": {},
     "output_type": "display_data"
    }
   ],
   "source": [
    "df['cleaned_lowercase_stop_lem'] = df['context'].progress_apply(clean_lowercase_stop)"
   ]
  },
  {
   "cell_type": "code",
   "execution_count": 432,
   "id": "english-animation",
   "metadata": {},
   "outputs": [
    {
     "data": {
      "application/vnd.jupyter.widget-view+json": {
       "model_id": "cbdf5489f31c47da890f4eb4ddbb14cc",
       "version_major": 2,
       "version_minor": 0
      },
      "text/plain": [
       "  0%|          | 0/18877 [00:00<?, ?it/s]"
      ]
     },
     "metadata": {},
     "output_type": "display_data"
    }
   ],
   "source": [
    "df['cleaned_lowercase_nostop_lem'] = df['context'].progress_apply(clean_lowercase_nostop)"
   ]
  },
  {
   "cell_type": "code",
   "execution_count": 433,
   "id": "rental-diary",
   "metadata": {},
   "outputs": [],
   "source": [
    "df['ner_combined'] = df['context_ner'].apply(lambda x: ' '.join(x).strip('[').strip(']').replace(',',''))"
   ]
  },
  {
   "cell_type": "code",
   "execution_count": 434,
   "id": "positive-season",
   "metadata": {},
   "outputs": [
    {
     "data": {
      "text/html": [
       "<div>\n",
       "<style scoped>\n",
       "    .dataframe tbody tr th:only-of-type {\n",
       "        vertical-align: middle;\n",
       "    }\n",
       "\n",
       "    .dataframe tbody tr th {\n",
       "        vertical-align: top;\n",
       "    }\n",
       "\n",
       "    .dataframe thead th {\n",
       "        text-align: right;\n",
       "    }\n",
       "</style>\n",
       "<table border=\"1\" class=\"dataframe\">\n",
       "  <thead>\n",
       "    <tr style=\"text-align: right;\">\n",
       "      <th></th>\n",
       "      <th>context</th>\n",
       "      <th>context_ner</th>\n",
       "      <th>cleaned_normalcase_stop_lem</th>\n",
       "      <th>cleaned_normalcase_nostop_lem</th>\n",
       "      <th>cleaned_lowercase_stop_lem</th>\n",
       "      <th>cleaned_lowercase_nostop_lem</th>\n",
       "      <th>ner_combined</th>\n",
       "    </tr>\n",
       "  </thead>\n",
       "  <tbody>\n",
       "    <tr>\n",
       "      <th>0</th>\n",
       "      <td>Beyoncé Giselle Knowles-Carter (/biːˈjɒnseɪ/ bee-YON-say) (born September 4, 1981) is an American singer, songwriter, record producer and actress. Born and raised in Houston, Texas, she performed in various singing and dancing competitions as a child, and rose to fame in the late 1990s as lead singer of R&amp;B girl-group Destiny's Child. Managed by her father, Mathew Knowles, the group became one of the world's best-selling girl groups of all time. Their hiatus saw the release of Beyoncé's debut album, Dangerously in Love (2003), which established her as a solo artist worldwide, earned five Grammy Awards and featured the Billboard Hot 100 number-one singles \"Crazy in Love\" and \"Baby Boy\".</td>\n",
       "      <td>{american, 2003, grammy awards, texas, september 4, 1981, baby boy, mathew knowles, beyonce, love, 100, r&amp;b, the late 1990s, knowles-carter, one, houston, destiny's child, crazy in love}</td>\n",
       "      <td>Beyonce Giselle Knowles Carter bi:'janseI bee YON say born September 4 1981 is an American singer songwriter record producer and actress Born and raised in Houston Texas she performed in various singing and dancing competitions as a child and rose to fame in the late 1990s as lead singer of R B girl group Destiny s Child Managed by her father Mathew Knowles the group became one of the world s best selling girl groups of all time Their hiatus saw the release of Beyonce s debut album Dangerously in Love 2003 which established her as a solo artist worldwide earned five Grammy Awards and featured the Billboard Hot 100 number one singles Crazy in Love and Baby Boy</td>\n",
       "      <td>Beyonce Giselle Knowles Carter bi:'janseI bee YON say born September 4 1981 American singer songwriter record producer actress Born raised Houston Texas performed various singing dancing competitions child rose fame late 1990s lead singer R B girl group Destiny s Child Managed father Mathew Knowles group became one world s best selling girl groups time Their hiatus saw release Beyonce s debut album Dangerously Love 2003 established solo artist worldwide earned five Grammy Awards featured Billboard Hot 100 number one singles Crazy Love Baby Boy</td>\n",
       "      <td>beyonce giselle knowles carter bi:'jansei bee yon say born september 4 1981 is an american singer songwriter record producer and actress born and raised in houston texas she performed in various singing and dancing competitions as a child and rose to fame in the late 1990s as lead singer of r b girl group destiny s child managed by her father mathew knowles the group became one of the world s best selling girl groups of all time their hiatus saw the release of beyonce s debut album dangerously in love 2003 which established her as a solo artist worldwide earned five grammy awards and featured the billboard hot 100 number one singles crazy in love and baby boy</td>\n",
       "      <td>beyonce giselle knowles carter bi:'jansei bee yon say born september 4 1981 american singer songwriter record producer actress born raised houston texas performed various singing dancing competition child rose fame late 1990s lead singer r b girl group destiny s child managed father mathew knowles group became one world s best selling girl group time their hiatus saw release beyonce s debut album dangerously love 2003 established solo artist worldwide earned five grammy awards featured billboard hot 100 number one single crazy love baby boy</td>\n",
       "      <td>american 2003 grammy awards texas september 4 1981 baby boy mathew knowles beyonce love 100 r&amp;b the late 1990s knowles-carter one houston destiny's child crazy in love</td>\n",
       "    </tr>\n",
       "    <tr>\n",
       "      <th>15</th>\n",
       "      <td>Following the disbandment of Destiny's Child in June 2005, she released her second solo album, B'Day (2006), which contained hits \"Déjà Vu\", \"Irreplaceable\", and \"Beautiful Liar\". Beyoncé also ventured into acting, with a Golden Globe-nominated performance in Dreamgirls (2006), and starring roles in The Pink Panther (2006) and Obsessed (2009). Her marriage to rapper Jay Z and portrayal of Etta James in Cadillac Records (2008) influenced her third album, I Am... Sasha Fierce (2008), which saw the birth of her alter-ego Sasha Fierce and earned a record-setting six Grammy Awards in 2010, including Song of the Year for \"Single Ladies (Put a Ring on It)\". Beyoncé took a hiatus from music in 2010 and took over management of her career; her fourth album 4 (2011) was subsequently mellower in tone, exploring 1970s funk, 1980s pop, and 1990s soul. Her critically acclaimed fifth studio album, Beyoncé (2013), was distinguished from previous releases by its experimental production and exploration of darker themes.</td>\n",
       "      <td>{etta james, the pink panther, fourth, six, beyonce, third, 2009, b'day, 2013, dreamgirls, 1980s, 1990s, 2010, sasha fierce, 4, song of the year, 1970s, destiny's child, 2011, fifth, second, june 2005, jay z, irreplaceable, 2006}</td>\n",
       "      <td>Following the disbandment of Destiny s Child in June 2005 she released her second solo album B Day 2006 which contained hits Deja Vu Irreplaceable and Beautiful Liar Beyonce also ventured into acting with a Golden Globe nominated performance in Dreamgirls 2006 and starring roles in The Pink Panther 2006 and Obsessed 2009 Her marriage to rapper Jay Z and portrayal of Etta James in Cadillac Records 2008 influenced her third album I Am Sasha Fierce 2008 which saw the birth of her alter ego Sasha Fierce and earned a record setting six Grammy Awards in 2010 including Song of the Year for Single Ladies Put a Ring on It Beyonce took a hiatus from music in 2010 and took over management of her career her fourth album 4 2011 was subsequently mellower in tone exploring 1970s funk 1980s pop and 1990s soul Her critically acclaimed fifth studio album Beyonce 2013 was distinguished from previous releases by its experimental production and exploration of darker themes</td>\n",
       "      <td>Following disbandment Destiny s Child June 2005 released second solo album B Day 2006 contained hits Deja Vu Irreplaceable Beautiful Liar Beyonce also ventured acting Golden Globe nominated performance Dreamgirls 2006 starring roles The Pink Panther 2006 Obsessed 2009 Her marriage rapper Jay Z portrayal Etta James Cadillac Records 2008 influenced third album I Am Sasha Fierce 2008 saw birth alter ego Sasha Fierce earned record setting six Grammy Awards 2010 including Song Year Single Ladies Put Ring It Beyonce took hiatus music 2010 took management career fourth album 4 2011 subsequently mellower tone exploring 1970s funk 1980s pop 1990s soul Her critically acclaimed fifth studio album Beyonce 2013 distinguished previous releases experimental production exploration darker themes</td>\n",
       "      <td>following the disbandment of destiny s child in june 2005 she released her second solo album b day 2006 which contained hits deja vu irreplaceable and beautiful liar beyonce also ventured into acting with a golden globe nominated performance in dreamgirls 2006 and starring roles in the pink panther 2006 and obsessed 2009 her marriage to rapper jay z and portrayal of etta james in cadillac records 2008 influenced her third album i am sasha fierce 2008 which saw the birth of her alter ego sasha fierce and earned a record setting six grammy awards in 2010 including song of the year for single ladies put a ring on it beyonce took a hiatus from music in 2010 and took over management of her career her fourth album 4 2011 was subsequently mellower in tone exploring 1970s funk 1980s pop and 1990s soul her critically acclaimed fifth studio album beyonce 2013 was distinguished from previous releases by its experimental production and exploration of darker themes</td>\n",
       "      <td>following disbandment destiny s child june 2005 released second solo album b day 2006 contained hit deja vu irreplaceable beautiful liar beyonce also ventured acting golden globe nominated performance dreamgirls 2006 starring role the pink panther 2006 obsessed 2009 her marriage rapper jay z portrayal etta james cadillac records 2008 influenced third album i am sasha fierce 2008 saw birth alter ego sasha fierce earned record setting six grammy awards 2010 including song year single ladies put ring it beyonce took hiatus music 2010 took management career fourth album 4 2011 subsequently mellower tone exploring 1970s funk 1980s pop 1990s soul her critically acclaimed fifth studio album beyonce 2013 distinguished previous release experimental production exploration darker themes</td>\n",
       "      <td>etta james the pink panther fourth six beyonce third 2009 b'day 2013 dreamgirls 1980s 1990s 2010 sasha fierce 4 song of the year 1970s destiny's child 2011 fifth second june 2005 jay z irreplaceable 2006</td>\n",
       "    </tr>\n",
       "    <tr>\n",
       "      <th>27</th>\n",
       "      <td>A self-described \"modern-day feminist\", Beyoncé creates songs that are often characterized by themes of love, relationships, and monogamy, as well as female sexuality and empowerment. On stage, her dynamic, highly choreographed performances have led to critics hailing her as one of the best entertainers in contemporary popular music. Throughout a career spanning 19 years, she has sold over 118 million records as a solo artist, and a further 60 million with Destiny's Child, making her one of the best-selling music artists of all time. She has won 20 Grammy Awards and is the most nominated woman in the award's history. The Recording Industry Association of America recognized her as the Top Certified Artist in America during the 2000s decade. In 2009, Billboard named her the Top Radio Songs Artist of the Decade, the Top Female Artist of the 2000s and their Artist of the Millennium in 2011. Time listed her among the 100 most influential people in the world in 2013 and 2014. Forbes magazine also listed her as the most powerful female musician of 2015.</td>\n",
       "      <td>{artist of the millennium, billboard, beyonce, 2009, the recording industry association of america, 2013, 2015, the top certified artist in america, 2014, 118 million, the top radio songs artist of, 60 million, forbes, 100, 20 grammy awards, 2011, destiny's child, the 2000s decade, the top female artist, 19 years, time}</td>\n",
       "      <td>A self described modern day feminist Beyonce creates songs that are often characterized by themes of love relationships and monogamy as well as female sexuality and empowerment On stage her dynamic highly choreographed performances have led to critics hailing her as one of the best entertainers in contemporary popular music Throughout a career spanning 19 years she has sold over 118 million records as a solo artist and a further 60 million with Destiny s Child making her one of the best selling music artists of all time She has won 20 Grammy Awards and is the most nominated woman in the award s history The Recording Industry Association of America recognized her as the Top Certified Artist in America during the 2000s decade In 2009 Billboard named her the Top Radio Songs Artist of the Decade the Top Female Artist of the 2000s and their Artist of the Millennium in 2011 Time listed her among the 100 most influential people in the world in 2013 and 2014 Forbes magazine also listed her as the most powerful female musician of 2015</td>\n",
       "      <td>A self described modern day feminist Beyonce creates songs often characterized themes love relationships monogamy well female sexuality empowerment On stage dynamic highly choreographed performances led critics hailing one best entertainers contemporary popular music Throughout career spanning 19 years sold 118 million records solo artist 60 million Destiny s Child making one best selling music artists time She 20 Grammy Awards nominated woman award s history The Recording Industry Association America recognized Top Certified Artist America 2000s decade In 2009 Billboard named Top Radio Songs Artist Decade Top Female Artist 2000s Artist Millennium 2011 Time listed among 100 influential people world 2013 2014 Forbes magazine also listed powerful female musician 2015</td>\n",
       "      <td>a self described modern day feminist beyonce creates songs that are often characterized by themes of love relationships and monogamy as well as female sexuality and empowerment on stage her dynamic highly choreographed performances have led to critics hailing her as one of the best entertainers in contemporary popular music throughout a career spanning 19 years she has sold over 118 million records as a solo artist and a further 60 million with destiny s child making her one of the best selling music artists of all time she has won 20 grammy awards and is the most nominated woman in the award s history the recording industry association of america recognized her as the top certified artist in america during the 2000s decade in 2009 billboard named her the top radio songs artist of the decade the top female artist of the 2000s and their artist of the millennium in 2011 time listed her among the 100 most influential people in the world in 2013 and 2014 forbes magazine also listed her as the most powerful female musician of 2015</td>\n",
       "      <td>a self described modern day feminist beyonce creates song often characterized theme love relationships monogamy well female sexuality empowerment on stage dynamic highly choreographed performance led critic hailing one best entertainer contemporary popular music throughout career spanning 19 years sold 118 million record solo artist 60 million destiny s child making one best selling music artist time she 20 grammy awards nominated woman award s history the recording industry association america recognized top certified artist america 2000s decade in 2009 billboard named top radio songs artist decade top female artist 2000s artist millennium 2011 time listed among 100 influential people world 2013 2014 forbes magazine also listed powerful female musician 2015</td>\n",
       "      <td>artist of the millennium billboard beyonce 2009 the recording industry association of america 2013 2015 the top certified artist in america 2014 118 million the top radio songs artist of 60 million forbes 100 20 grammy awards 2011 destiny's child the 2000s decade the top female artist 19 years time</td>\n",
       "    </tr>\n",
       "    <tr>\n",
       "      <th>39</th>\n",
       "      <td>Beyoncé Giselle Knowles was born in Houston, Texas, to Celestine Ann \"Tina\" Knowles (née Beyincé), a hairdresser and salon owner, and Mathew Knowles, a Xerox sales manager. Beyoncé's name is a tribute to her mother's maiden name. Beyoncé's younger sister Solange is also a singer and a former member of Destiny's Child. Mathew is African-American, while Tina is of Louisiana Creole descent (with African, Native American, French, Cajun, and distant Irish and Spanish ancestry). Through her mother, Beyoncé is a descendant of Acadian leader Joseph Broussard. She was raised in a Methodist household.</td>\n",
       "      <td>{acadian, mathew knowles, beyonce, destiny, spanish, african, irish, joseph broussard, texas, methodist, native american, houston, french, celestine ann, beyonce giselle knowles, african-american, louisiana creole, xerox, beyince, tina}</td>\n",
       "      <td>Beyonce Giselle Knowles was born in Houston Texas to Celestine Ann Tina Knowles nee Beyince a hairdresser and salon owner and Mathew Knowles a Xerox sales manager Beyonce s name is a tribute to her mother s maiden name Beyonce s younger sister Solange is also a singer and a former member of Destiny s Child Mathew is African American while Tina is of Louisiana Creole descent with African Native American French Cajun and distant Irish and Spanish ancestry Through her mother Beyonce is a descendant of Acadian leader Joseph Broussard She was raised in a Methodist household</td>\n",
       "      <td>Beyonce Giselle Knowles born Houston Texas Celestine Ann Tina Knowles nee Beyince hairdresser salon owner Mathew Knowles Xerox sales manager Beyonce s name tribute mother s maiden name Beyonce s younger sister Solange also singer former member Destiny s Child Mathew African American Tina Louisiana Creole descent with African Native American French Cajun distant Irish Spanish ancestry Through mother Beyonce descendant Acadian leader Joseph Broussard She raised Methodist household</td>\n",
       "      <td>beyonce giselle knowles was born in houston texas to celestine ann tina knowles nee beyince a hairdresser and salon owner and mathew knowles a xerox sales manager beyonce s name is a tribute to her mother s maiden name beyonce s younger sister solange is also a singer and a former member of destiny s child mathew is african american while tina is of louisiana creole descent with african native american french cajun and distant irish and spanish ancestry through her mother beyonce is a descendant of acadian leader joseph broussard she was raised in a methodist household</td>\n",
       "      <td>beyonce giselle knowles born houston texas celestine ann tina knowles nee beyince hairdresser salon owner mathew knowles xerox sale manager beyonce s name tribute mother s maiden name beyonce s younger sister solange also singer former member destiny s child mathew african american tina louisiana creole descent with african native american french cajun distant irish spanish ancestry through mother beyonce descendant acadian leader joseph broussard she raised methodist household</td>\n",
       "      <td>acadian mathew knowles beyonce destiny spanish african irish joseph broussard texas methodist native american houston french celestine ann beyonce giselle knowles african-american louisiana creole xerox beyince tina</td>\n",
       "    </tr>\n",
       "    <tr>\n",
       "      <th>52</th>\n",
       "      <td>Beyoncé attended St. Mary's Elementary School in Fredericksburg, Texas, where she enrolled in dance classes. Her singing talent was discovered when dance instructor Darlette Johnson began humming a song and she finished it, able to hit the high-pitched notes. Beyoncé's interest in music and performing continued after winning a school talent show at age seven, singing John Lennon's \"Imagine\" to beat 15/16-year-olds. In fall of 1990, Beyoncé enrolled in Parker Elementary School, a music magnet school in Houston, where she would perform with the school's choir. She also attended the High School for the Performing and Visual Arts and later Alief Elsik High School. Beyoncé was also a member of the choir at St. John's United Methodist Church as a soloist for two years.</td>\n",
       "      <td>{elementary school, age seven, fredericksburg, darlette johnson, john lennon's, texas, parker elementary school, two years, imagine, beyonce, 15/16-year-olds, fall of 1990, the high school for the performing and visual arts, united methodist church, houston, st. john's}</td>\n",
       "      <td>Beyonce attended St Mary s Elementary School in Fredericksburg Texas where she enrolled in dance classes Her singing talent was discovered when dance instructor Darlette Johnson began humming a song and she finished it able to hit the high pitched notes Beyonce s interest in music and performing continued after winning a school talent show at age seven singing John Lennon s Imagine to beat 15 16 year olds In fall of 1990 Beyonce enrolled in Parker Elementary School a music magnet school in Houston where she would perform with the school s choir She also attended the High School for the Performing and Visual Arts and later Alief Elsik High School Beyonce was also a member of the choir at St John s United Methodist Church as a soloist for two years</td>\n",
       "      <td>Beyonce attended St Mary s Elementary School Fredericksburg Texas enrolled dance classes Her singing talent discovered dance instructor Darlette Johnson began humming song finished it able hit high pitched notes Beyonce s interest music performing continued winning school talent show age seven singing John Lennon s Imagine beat 15 16 year olds In fall 1990 Beyonce enrolled Parker Elementary School music magnet school Houston would perform school s choir She also attended High School Performing Visual Arts later Alief Elsik High School Beyonce also member choir St John s United Methodist Church soloist two years</td>\n",
       "      <td>beyonce attended st mary s elementary school in fredericksburg texas where she enrolled in dance classes her singing talent was discovered when dance instructor darlette johnson began humming a song and she finished it able to hit the high pitched notes beyonce s interest in music and performing continued after winning a school talent show at age seven singing john lennon s imagine to beat 15 16 year olds in fall of 1990 beyonce enrolled in parker elementary school a music magnet school in houston where she would perform with the school s choir she also attended the high school for the performing and visual arts and later alief elsik high school beyonce was also a member of the choir at st john s united methodist church as a soloist for two years</td>\n",
       "      <td>beyonce attended st mary s elementary school fredericksburg texas enrolled dance classes her singing talent discovered dance instructor darlette johnson began humming song finished it able hit high pitched notes beyonce s interest music performing continued winning school talent show age seven singing john lennon s imagine beat 15 16 year olds in fall 1990 beyonce enrolled parker elementary school music magnet school houston would perform school s choir she also attended high school performing visual arts later alief elsik high school beyonce also member choir st john s united methodist church soloist two years</td>\n",
       "      <td>elementary school age seven fredericksburg darlette johnson john lennon's texas parker elementary school two years imagine beyonce 15/16-year-olds fall of 1990 the high school for the performing and visual arts united methodist church houston st. john's</td>\n",
       "    </tr>\n",
       "    <tr>\n",
       "      <th>63</th>\n",
       "      <td>At age eight, Beyoncé and childhood friend Kelly Rowland met LaTavia Roberson while in an audition for an all-girl entertainment group. They were placed into a group with three other girls as Girl's Tyme, and rapped and danced on the talent show circuit in Houston. After seeing the group, R&amp;B producer Arne Frager brought them to his Northern California studio and placed them in Star Search, the largest talent show on national TV at the time. Girl's Tyme failed to win, and Beyoncé later said the song they performed was not good. In 1995 Beyoncé's father resigned from his job to manage the group. The move reduced Beyoncé's family's income by half, and her parents were forced to move into separated apartments. Mathew cut the original line-up to four and the group continued performing as an opening act for other established R&amp;B girl groups. The girls auditioned before record labels and were finally signed to Elektra Records, moving to Atlanta Records briefly to work on their first recording, only to be cut by the company. This put further strain on the family, and Beyoncé's parents separated. On October 5, 1995, Dwayne Wiggins's Grass Roots Entertainment signed the group. In 1996, the girls began recording their debut album under an agreement with Sony Music, the Knowles family reunited, and shortly after, the group got a contract with Columbia Records.</td>\n",
       "      <td>{northern california, four, 1996, beyonce, atlanta records, r&amp;b, first, sony music, age eight, star search, grass roots entertainment, houston, kelly rowland, elektra records, dwayne wiggins's, october 5, 1995, three, latavia roberson, half, 1995, arne frager, columbia records}</td>\n",
       "      <td>At age eight Beyonce and childhood friend Kelly Rowland met LaTavia Roberson while in an audition for an all girl entertainment group They were placed into a group with three other girls as Girl s Tyme and rapped and danced on the talent show circuit in Houston After seeing the group R B producer Arne Frager brought them to his Northern California studio and placed them in Star Search the largest talent show on national TV at the time Girl s Tyme failed to win and Beyonce later said the song they performed was not good In 1995 Beyonce s father resigned from his job to manage the group The move reduced Beyonce s family s income by half and her parents were forced to move into separated apartments Mathew cut the original line up to four and the group continued performing as an opening act for other established R B girl groups The girls auditioned before record labels and were finally signed to Elektra Records moving to Atlanta Records briefly to work on their first recording only to be cut by the company This put further strain on the family and Beyonce s parents separated On October 5 1995 Dwayne Wiggins s Grass Roots Entertainment signed the group In 1996 the girls began recording their debut album under an agreement with Sony Music the Knowles family reunited and shortly after the group got a contract with Columbia Records</td>\n",
       "      <td>At age eight Beyonce childhood friend Kelly Rowland met LaTavia Roberson audition all girl entertainment group They placed group three girls Girl s Tyme rapped danced talent show circuit Houston After seeing group R B producer Arne Frager brought Northern California studio placed Star Search largest talent show national TV time Girl s Tyme failed win Beyonce later said song performed good In 1995 Beyonce s father resigned job manage group The move reduced Beyonce s family s income half parents forced move separated apartments Mathew cut original line up four group continued performing opening act established R B girl groups The girls auditioned record labels finally signed Elektra Records moving Atlanta Records briefly work first recording cut company This put strain family Beyonce s parents separated On October 5 1995 Dwayne Wiggins s Grass Roots Entertainment signed group In 1996 girls began recording debut album agreement Sony Music Knowles family reunited shortly after group got contract Columbia Records</td>\n",
       "      <td>at age eight beyonce and childhood friend kelly rowland met latavia roberson while in an audition for an all girl entertainment group they were placed into a group with three other girls as girl s tyme and rapped and danced on the talent show circuit in houston after seeing the group r b producer arne frager brought them to his northern california studio and placed them in star search the largest talent show on national tv at the time girl s tyme failed to win and beyonce later said the song they performed was not good in 1995 beyonce s father resigned from his job to manage the group the move reduced beyonce s family s income by half and her parents were forced to move into separated apartments mathew cut the original line up to four and the group continued performing as an opening act for other established r b girl groups the girls auditioned before record labels and were finally signed to elektra records moving to atlanta records briefly to work on their first recording only to be cut by the company this put further strain on the family and beyonce s parents separated on october 5 1995 dwayne wiggins s grass roots entertainment signed the group in 1996 the girls began recording their debut album under an agreement with sony music the knowles family reunited and shortly after the group got a contract with columbia records</td>\n",
       "      <td>at age eight beyonce childhood friend kelly rowland met latavia roberson audition all girl entertainment group they placed group three girl girl s tyme rapped danced talent show circuit houston after seeing group r b producer arne frager brought northern california studio placed star search largest talent show national tv time girl s tyme failed win beyonce later said song performed good in 1995 beyonce s father resigned job manage group the move reduced beyonce s family s income half parent forced move separated apartments mathew cut original line up four group continued performing opening act established r b girl groups the girl auditioned record label finally signed elektra records moving atlanta records briefly work first recording cut company this put strain family beyonce s parent separated on october 5 1995 dwayne wiggins s grass roots entertainment signed group in 1996 girl began recording debut album agreement sony music knowles family reunited shortly after group got contract columbia records</td>\n",
       "      <td>northern california four 1996 beyonce atlanta records r&amp;b first sony music age eight star search grass roots entertainment houston kelly rowland elektra records dwayne wiggins's october 5 1995 three latavia roberson half 1995 arne frager columbia records</td>\n",
       "    </tr>\n",
       "    <tr>\n",
       "      <th>76</th>\n",
       "      <td>The group changed their name to Destiny's Child in 1996, based upon a passage in the Book of Isaiah. In 1997, Destiny's Child released their major label debut song \"Killing Time\" on the soundtrack to the 1997 film, Men in Black. The following year, the group released their self-titled debut album, scoring their first major hit \"No, No, No\". The album established the group as a viable act in the music industry, with moderate sales and winning the group three Soul Train Lady of Soul Awards for Best R&amp;B/Soul Album of the Year, Best R&amp;B/Soul or Rap New Artist, and Best R&amp;B/Soul Single for \"No, No, No\". The group released their multi-platinum second album The Writing's on the Wall in 1999. The record features some of the group's most widely known songs such as \"Bills, Bills, Bills\", the group's first number-one single, \"Jumpin' Jumpin'\" and \"Say My Name\", which became their most successful song at the time, and would remain one of their signature songs. \"Say My Name\" won the Best R&amp;B Performance by a Duo or Group with Vocals and the Best R&amp;B Song at the 43rd Annual Grammy Awards. The Writing's on the Wall sold more than eight million copies worldwide. During this time, Beyoncé recorded a duet with Marc Nelson, an original member of Boyz II Men, on the song \"After All Is Said and Done\" for the soundtrack to the 1999 film, The Best Man.</td>\n",
       "      <td>{1996, beyonce, soul train lady of soul awards, destiny, the book of isaiah, the following year, first, after all is said, wall, say my name, 1999, duo, annual grammy awards, marc nelson, group with vocals, bills, say my name\", rap new artist, best r&amp;b/soul single, jumpin' jumpin', three, the year, 1997, more than eight million, the best man, the best r&amp;b song, done, second, 43rd, writing, boyz ii men, killing time}</td>\n",
       "      <td>The group changed their name to Destiny s Child in 1996 based upon a passage in the Book of Isaiah In 1997 Destiny s Child released their major label debut song Killing Time on the soundtrack to the 1997 film Men in Black The following year the group released their self titled debut album scoring their first major hit No No No The album established the group as a viable act in the music industry with moderate sales and winning the group three Soul Train Lady of Soul Awards for Best R B Soul Album of the Year Best R B Soul or Rap New Artist and Best R B Soul Single for No No No The group released their multi platinum second album The Writing s on the Wall in 1999 The record features some of the group s most widely known songs such as Bills Bills Bills the group s first number one single Jumpin Jumpin and Say My Name which became their most successful song at the time and would remain one of their signature songs Say My Name won the Best R B Performance by a Duo or Group with Vocals and the Best R B Song at the 43rd Annual Grammy Awards The Writing s on the Wall sold more than eight million copies worldwide During this time Beyonce recorded a duet with Marc Nelson an original member of Boyz II Men on the song After All Is Said and Done for the soundtrack to the 1999 film The Best Man</td>\n",
       "      <td>The group changed name Destiny s Child 1996 based upon passage Book Isaiah In 1997 Destiny s Child released major label debut song Killing Time soundtrack 1997 film Men Black The following year group released self titled debut album scoring first major hit No No No The album established group viable act music industry moderate sales winning group three Soul Train Lady Soul Awards Best R B Soul Album Year Best R B Soul Rap New Artist Best R B Soul Single No No No The group released multi platinum second album The Writing s Wall 1999 The record features group s widely known songs Bills Bills Bills group s first number one single Jumpin Jumpin Say My Name became successful song time would remain one signature songs Say My Name Best R B Performance Duo Group Vocals Best R B Song 43rd Annual Grammy Awards The Writing s Wall sold eight million copies worldwide During time Beyonce recorded duet Marc Nelson original member Boyz II Men song After All Is Said Done soundtrack 1999 film The Best Man</td>\n",
       "      <td>the group changed their name to destiny s child in 1996 based upon a passage in the book of isaiah in 1997 destiny s child released their major label debut song killing time on the soundtrack to the 1997 film men in black the following year the group released their self titled debut album scoring their first major hit no no no the album established the group as a viable act in the music industry with moderate sales and winning the group three soul train lady of soul awards for best r b soul album of the year best r b soul or rap new artist and best r b soul single for no no no the group released their multi platinum second album the writing s on the wall in 1999 the record features some of the group s most widely known songs such as bills bills bills the group s first number one single jumpin jumpin and say my name which became their most successful song at the time and would remain one of their signature songs say my name won the best r b performance by a duo or group with vocals and the best r b song at the 43rd annual grammy awards the writing s on the wall sold more than eight million copies worldwide during this time beyonce recorded a duet with marc nelson an original member of boyz ii men on the song after all is said and done for the soundtrack to the 1999 film the best man</td>\n",
       "      <td>the group changed name destiny s child 1996 based upon passage book isaiah in 1997 destiny s child released major label debut song killing time soundtrack 1997 film men black the following year group released self titled debut album scoring first major hit no no no the album established group viable act music industry moderate sale winning group three soul train lady soul awards best r b soul album year best r b soul rap new artist best r b soul single no no no the group released multi platinum second album the writing s wall 1999 the record feature group s widely known song bills bills bills group s first number one single jumpin jumpin say my name became successful song time would remain one signature songs say my name best r b performance duo group vocals best r b song 43rd annual grammy awards the writing s wall sold eight million copy worldwide during time beyonce recorded duet marc nelson original member boyz ii men song after all is said done soundtrack 1999 film the best man</td>\n",
       "      <td>1996 beyonce soul train lady of soul awards destiny the book of isaiah the following year first after all is said wall say my name 1999 duo annual grammy awards marc nelson group with vocals bills say my name\" rap new artist best r&amp;b/soul single jumpin' jumpin' three the year 1997 more than eight million the best man the best r&amp;b song done second 43rd writing boyz ii men killing time</td>\n",
       "    </tr>\n",
       "    <tr>\n",
       "      <th>89</th>\n",
       "      <td>LeToya Luckett and Roberson became unhappy with Mathew's managing of the band and eventually were replaced by Farrah Franklin and Michelle Williams. Beyoncé experienced depression following the split with Luckett and Roberson after being publicly blamed by the media, critics, and blogs for its cause. Her long-standing boyfriend left her at this time. The depression was so severe it lasted for a couple of years, during which she occasionally kept herself in her bedroom for days and refused to eat anything. Beyoncé stated that she struggled to speak about her depression because Destiny's Child had just won their first Grammy Award and she feared no one would take her seriously. Beyoncé would later speak of her mother as the person who helped her fight it. Franklin was dismissed, leaving just Beyoncé, Rowland, and Williams.</td>\n",
       "      <td>{luckett, farrah franklin, michelle williams, mathew, beyonce, days, letoya luckett, a couple of years, rowland, williams, franklin, roberson, first}</td>\n",
       "      <td>LeToya Luckett and Roberson became unhappy with Mathew s managing of the band and eventually were replaced by Farrah Franklin and Michelle Williams Beyonce experienced depression following the split with Luckett and Roberson after being publicly blamed by the media critics and blogs for its cause Her long standing boyfriend left her at this time The depression was so severe it lasted for a couple of years during which she occasionally kept herself in her bedroom for days and refused to eat anything Beyonce stated that she struggled to speak about her depression because Destiny s Child had just won their first Grammy Award and she feared no one would take her seriously Beyonce would later speak of her mother as the person who helped her fight it Franklin was dismissed leaving just Beyonce Rowland and Williams</td>\n",
       "      <td>LeToya Luckett Roberson became unhappy Mathew s managing band eventually replaced Farrah Franklin Michelle Williams Beyonce experienced depression following split Luckett Roberson publicly blamed media critics blogs cause Her long standing boyfriend left time The depression severe lasted couple years occasionally kept bedroom days refused eat anything Beyonce stated struggled speak depression Destiny s Child first Grammy Award feared one would take seriously Beyonce would later speak mother person helped fight it Franklin dismissed leaving Beyonce Rowland Williams</td>\n",
       "      <td>letoya luckett and roberson became unhappy with mathew s managing of the band and eventually were replaced by farrah franklin and michelle williams beyonce experienced depression following the split with luckett and roberson after being publicly blamed by the media critics and blogs for its cause her long standing boyfriend left her at this time the depression was so severe it lasted for a couple of years during which she occasionally kept herself in her bedroom for days and refused to eat anything beyonce stated that she struggled to speak about her depression because destiny s child had just won their first grammy award and she feared no one would take her seriously beyonce would later speak of her mother as the person who helped her fight it franklin was dismissed leaving just beyonce rowland and williams</td>\n",
       "      <td>letoya luckett roberson became unhappy mathew s managing band eventually replaced farrah franklin michelle williams beyonce experienced depression following split luckett roberson publicly blamed media critics blog cause her long standing boyfriend left time the depression severe lasted couple years occasionally kept bedroom day refused eat anything beyonce stated struggled speak depression destiny s child first grammy award feared one would take seriously beyonce would later speak mother person helped fight it franklin dismissed leaving beyonce rowland williams</td>\n",
       "      <td>luckett farrah franklin michelle williams mathew beyonce days letoya luckett a couple of years rowland williams franklin roberson first</td>\n",
       "    </tr>\n",
       "    <tr>\n",
       "      <th>99</th>\n",
       "      <td>The remaining band members recorded \"Independent Women Part I\", which appeared on the soundtrack to the 2000 film, Charlie's Angels. It became their best-charting single, topping the U.S. Billboard Hot 100 chart for eleven consecutive weeks. In early 2001, while Destiny's Child was completing their third album, Beyoncé landed a major role in the MTV made-for-television film, Carmen: A Hip Hopera, starring alongside American actor Mekhi Phifer. Set in Philadelphia, the film is a modern interpretation of the 19th century opera Carmen by French composer Georges Bizet. When the third album Survivor was released in May 2001, Luckett and Roberson filed a lawsuit claiming that the songs were aimed at them. The album debuted at number one on the U.S. Billboard 200, with first-week sales of 663,000 copies sold. The album spawned other number-one hits, \"Bootylicious\" and the title track, \"Survivor\", the latter of which earned the group a Grammy Award for Best R&amp;B Performance by a Duo or Group with Vocals. After releasing their holiday album 8 Days of Christmas in October 2001, the group announced a hiatus to further pursue solo careers.</td>\n",
       "      <td>{october 2001, luckett, georges bizet, beyonce, third, roberson, number one, may 2001, early 2001, charlie's angels, duo, the u.s. billboard, eleven consecutive weeks, independent women part, french, u.s., philadelphia, american, a grammy award for best, group with vocals, the 19th century, mekhi phifer, 100, mtv, destiny's child, 2000, 200, 663,000, first-week}</td>\n",
       "      <td>The remaining band members recorded Independent Women Part I which appeared on the soundtrack to the 2000 film Charlie s Angels It became their best charting single topping the U S Billboard Hot 100 chart for eleven consecutive weeks In early 2001 while Destiny s Child was completing their third album Beyonce landed a major role in the MTV made for television film Carmen A Hip Hopera starring alongside American actor Mekhi Phifer Set in Philadelphia the film is a modern interpretation of the 19th century opera Carmen by French composer Georges Bizet When the third album Survivor was released in May 2001 Luckett and Roberson filed a lawsuit claiming that the songs were aimed at them The album debuted at number one on the U S Billboard 200 with first week sales of 663 000 copies sold The album spawned other number one hits Bootylicious and the title track Survivor the latter of which earned the group a Grammy Award for Best R B Performance by a Duo or Group with Vocals After releasing their holiday album 8 Days of Christmas in October 2001 the group announced a hiatus to further pursue solo careers</td>\n",
       "      <td>The remaining band members recorded Independent Women Part I appeared soundtrack 2000 film Charlie s Angels It became best charting single topping U S Billboard Hot 100 chart eleven consecutive weeks In early 2001 Destiny s Child completing third album Beyonce landed major role MTV made for television film Carmen A Hip Hopera starring alongside American actor Mekhi Phifer Set Philadelphia film modern interpretation 19th century opera Carmen French composer Georges Bizet When third album Survivor released May 2001 Luckett Roberson filed lawsuit claiming songs aimed them The album debuted number one U S Billboard 200 first week sales 663 000 copies sold The album spawned number one hits Bootylicious title track Survivor latter earned group Grammy Award Best R B Performance Duo Group Vocals After releasing holiday album 8 Days Christmas October 2001 group announced hiatus pursue solo careers</td>\n",
       "      <td>the remaining band members recorded independent women part i which appeared on the soundtrack to the 2000 film charlie s angels it became their best charting single topping the u s billboard hot 100 chart for eleven consecutive weeks in early 2001 while destiny s child was completing their third album beyonce landed a major role in the mtv made for television film carmen a hip hopera starring alongside american actor mekhi phifer set in philadelphia the film is a modern interpretation of the 19th century opera carmen by french composer georges bizet when the third album survivor was released in may 2001 luckett and roberson filed a lawsuit claiming that the songs were aimed at them the album debuted at number one on the u s billboard 200 with first week sales of 663 000 copies sold the album spawned other number one hits bootylicious and the title track survivor the latter of which earned the group a grammy award for best r b performance by a duo or group with vocals after releasing their holiday album 8 days of christmas in october 2001 the group announced a hiatus to further pursue solo careers</td>\n",
       "      <td>the remaining band member recorded independent women part i appeared soundtrack 2000 film charlie s angels it became best charting single topping u s billboard hot 100 chart eleven consecutive weeks in early 2001 destiny s child completing third album beyonce landed major role mtv made for television film carmen a hip hopera starring alongside american actor mekhi phifer set philadelphia film modern interpretation 19th century opera carmen french composer georges bizet when third album survivor released may 2001 luckett roberson filed lawsuit claiming song aimed them the album debuted number one u s billboard 200 first week sale 663 000 copy sold the album spawned number one hits bootylicious title track survivor latter earned group grammy award best r b performance duo group vocals after releasing holiday album 8 days christmas october 2001 group announced hiatus pursue solo careers</td>\n",
       "      <td>october 2001 luckett georges bizet beyonce third roberson number one may 2001 early 2001 charlie's angels duo the u.s. billboard eleven consecutive weeks independent women part french u.s. philadelphia american a grammy award for best group with vocals the 19th century mekhi phifer 100 mtv destiny's child 2000 200 663000 first-week</td>\n",
       "    </tr>\n",
       "    <tr>\n",
       "      <th>110</th>\n",
       "      <td>In July 2002, Beyoncé continued her acting career playing Foxxy Cleopatra alongside Mike Myers in the comedy film, Austin Powers in Goldmember, which spent its first weekend atop the US box office and grossed $73 million. Beyoncé released \"Work It Out\" as the lead single from its soundtrack album which entered the top ten in the UK, Norway, and Belgium. In 2003, Beyoncé starred opposite Cuba Gooding, Jr., in the musical comedy The Fighting Temptations as Lilly, a single mother whom Gooding's character falls in love with. The film received mixed reviews from critics but grossed $30 million in the U.S. Beyoncé released \"Fighting Temptation\" as the lead single from the film's soundtrack album, with Missy Elliott, MC Lyte, and Free which was also used to promote the film. Another of Beyoncé's contributions to the soundtrack, \"Summertime\", fared better on the US charts.</td>\n",
       "      <td>{2003, beyonce, the fighting temptations as lilly, belgium, $73 million, mc lyte, cuba gooding, work it out, uk, july 2002, free, u.s., first weekend, goldmember, mike myers, missy elliott, us, $30 million, austin powers, ten, foxxy cleopatra, gooding, norway}</td>\n",
       "      <td>In July 2002 Beyonce continued her acting career playing Foxxy Cleopatra alongside Mike Myers in the comedy film Austin Powers in Goldmember which spent its first weekend atop the US box office and grossed 73 million Beyonce released Work It Out as the lead single from its soundtrack album which entered the top ten in the UK Norway and Belgium In 2003 Beyonce starred opposite Cuba Gooding Jr in the musical comedy The Fighting Temptations as Lilly a single mother whom Gooding s character falls in love with The film received mixed reviews from critics but grossed 30 million in the U S Beyonce released Fighting Temptation as the lead single from the film s soundtrack album with Missy Elliott MC Lyte and Free which was also used to promote the film Another of Beyonce s contributions to the soundtrack Summertime fared better on the US charts</td>\n",
       "      <td>In July 2002 Beyonce continued acting career playing Foxxy Cleopatra alongside Mike Myers comedy film Austin Powers Goldmember spent first weekend atop US box office grossed 73 million Beyonce released Work It Out lead single soundtrack album entered top ten UK Norway Belgium In 2003 Beyonce starred opposite Cuba Gooding Jr musical comedy The Fighting Temptations Lilly single mother Gooding s character falls love with The film received mixed reviews critics grossed 30 million U S Beyonce released Fighting Temptation lead single film s soundtrack album Missy Elliott MC Lyte Free also used promote film Another Beyonce s contributions soundtrack Summertime fared better US charts</td>\n",
       "      <td>in july 2002 beyonce continued her acting career playing foxxy cleopatra alongside mike myers in the comedy film austin powers in goldmember which spent its first weekend atop the us box office and grossed 73 million beyonce released work it out as the lead single from its soundtrack album which entered the top ten in the uk norway and belgium in 2003 beyonce starred opposite cuba gooding jr in the musical comedy the fighting temptations as lilly a single mother whom gooding s character falls in love with the film received mixed reviews from critics but grossed 30 million in the u s beyonce released fighting temptation as the lead single from the film s soundtrack album with missy elliott mc lyte and free which was also used to promote the film another of beyonce s contributions to the soundtrack summertime fared better on the us charts</td>\n",
       "      <td>in july 2002 beyonce continued acting career playing foxxy cleopatra alongside mike myers comedy film austin powers goldmember spent first weekend atop us box office grossed 73 million beyonce released work it out lead single soundtrack album entered top ten uk norway belgium in 2003 beyonce starred opposite cuba gooding jr musical comedy the fighting temptations lilly single mother gooding s character fall love with the film received mixed review critic grossed 30 million u s beyonce released fighting temptation lead single film s soundtrack album missy elliott mc lyte free also used promote film another beyonce s contribution soundtrack summertime fared better us charts</td>\n",
       "      <td>2003 beyonce the fighting temptations as lilly belgium $73 million mc lyte cuba gooding work it out uk july 2002 free u.s. first weekend goldmember mike myers missy elliott us $30 million austin powers ten foxxy cleopatra gooding norway</td>\n",
       "    </tr>\n",
       "  </tbody>\n",
       "</table>\n",
       "</div>"
      ],
      "text/plain": [
       "                                                                                                                                                                                                                                                                                                                                                                                                                                                                                                                                                                                                                                                                                                                                                                                                                                                                                                                                                                                                                                                                                                                                                                                                                                                                                                                                                                                                                         context  ...                                                                                                                                                                                                                                                                                                                                                                                        ner_combined\n",
       "0    Beyoncé Giselle Knowles-Carter (/biːˈjɒnseɪ/ bee-YON-say) (born September 4, 1981) is an American singer, songwriter, record producer and actress. Born and raised in Houston, Texas, she performed in various singing and dancing competitions as a child, and rose to fame in the late 1990s as lead singer of R&B girl-group Destiny's Child. Managed by her father, Mathew Knowles, the group became one of the world's best-selling girl groups of all time. Their hiatus saw the release of Beyoncé's debut album, Dangerously in Love (2003), which established her as a solo artist worldwide, earned five Grammy Awards and featured the Billboard Hot 100 number-one singles \"Crazy in Love\" and \"Baby Boy\".                                                                                                                                                                                                                                                                                                                                                                                                                                                                                                                                                                                                                                                                                                       ...  american 2003 grammy awards texas september 4 1981 baby boy mathew knowles beyonce love 100 r&b the late 1990s knowles-carter one houston destiny's child crazy in love                                                                                                                                                                                                                           \n",
       "15   Following the disbandment of Destiny's Child in June 2005, she released her second solo album, B'Day (2006), which contained hits \"Déjà Vu\", \"Irreplaceable\", and \"Beautiful Liar\". Beyoncé also ventured into acting, with a Golden Globe-nominated performance in Dreamgirls (2006), and starring roles in The Pink Panther (2006) and Obsessed (2009). Her marriage to rapper Jay Z and portrayal of Etta James in Cadillac Records (2008) influenced her third album, I Am... Sasha Fierce (2008), which saw the birth of her alter-ego Sasha Fierce and earned a record-setting six Grammy Awards in 2010, including Song of the Year for \"Single Ladies (Put a Ring on It)\". Beyoncé took a hiatus from music in 2010 and took over management of her career; her fourth album 4 (2011) was subsequently mellower in tone, exploring 1970s funk, 1980s pop, and 1990s soul. Her critically acclaimed fifth studio album, Beyoncé (2013), was distinguished from previous releases by its experimental production and exploration of darker themes.                                                                                                                                                                                                                                                                                                                                                                     ...  etta james the pink panther fourth six beyonce third 2009 b'day 2013 dreamgirls 1980s 1990s 2010 sasha fierce 4 song of the year 1970s destiny's child 2011 fifth second june 2005 jay z irreplaceable 2006                                                                                                                                                                                       \n",
       "27   A self-described \"modern-day feminist\", Beyoncé creates songs that are often characterized by themes of love, relationships, and monogamy, as well as female sexuality and empowerment. On stage, her dynamic, highly choreographed performances have led to critics hailing her as one of the best entertainers in contemporary popular music. Throughout a career spanning 19 years, she has sold over 118 million records as a solo artist, and a further 60 million with Destiny's Child, making her one of the best-selling music artists of all time. She has won 20 Grammy Awards and is the most nominated woman in the award's history. The Recording Industry Association of America recognized her as the Top Certified Artist in America during the 2000s decade. In 2009, Billboard named her the Top Radio Songs Artist of the Decade, the Top Female Artist of the 2000s and their Artist of the Millennium in 2011. Time listed her among the 100 most influential people in the world in 2013 and 2014. Forbes magazine also listed her as the most powerful female musician of 2015.                                                                                                                                                                                                                                                                                                                       ...  artist of the millennium billboard beyonce 2009 the recording industry association of america 2013 2015 the top certified artist in america 2014 118 million the top radio songs artist of 60 million forbes 100 20 grammy awards 2011 destiny's child the 2000s decade the top female artist 19 years time                                                                                       \n",
       "39   Beyoncé Giselle Knowles was born in Houston, Texas, to Celestine Ann \"Tina\" Knowles (née Beyincé), a hairdresser and salon owner, and Mathew Knowles, a Xerox sales manager. Beyoncé's name is a tribute to her mother's maiden name. Beyoncé's younger sister Solange is also a singer and a former member of Destiny's Child. Mathew is African-American, while Tina is of Louisiana Creole descent (with African, Native American, French, Cajun, and distant Irish and Spanish ancestry). Through her mother, Beyoncé is a descendant of Acadian leader Joseph Broussard. She was raised in a Methodist household.                                                                                                                                                                                                                                                                                                                                                                                                                                                                                                                                                                                                                                                                                                                                                                                                       ...  acadian mathew knowles beyonce destiny spanish african irish joseph broussard texas methodist native american houston french celestine ann beyonce giselle knowles african-american louisiana creole xerox beyince tina                                                                                                                                                                           \n",
       "52   Beyoncé attended St. Mary's Elementary School in Fredericksburg, Texas, where she enrolled in dance classes. Her singing talent was discovered when dance instructor Darlette Johnson began humming a song and she finished it, able to hit the high-pitched notes. Beyoncé's interest in music and performing continued after winning a school talent show at age seven, singing John Lennon's \"Imagine\" to beat 15/16-year-olds. In fall of 1990, Beyoncé enrolled in Parker Elementary School, a music magnet school in Houston, where she would perform with the school's choir. She also attended the High School for the Performing and Visual Arts and later Alief Elsik High School. Beyoncé was also a member of the choir at St. John's United Methodist Church as a soloist for two years.                                                                                                                                                                                                                                                                                                                                                                                                                                                                                                                                                                                                                        ...  elementary school age seven fredericksburg darlette johnson john lennon's texas parker elementary school two years imagine beyonce 15/16-year-olds fall of 1990 the high school for the performing and visual arts united methodist church houston st. john's                                                                                                                                     \n",
       "63   At age eight, Beyoncé and childhood friend Kelly Rowland met LaTavia Roberson while in an audition for an all-girl entertainment group. They were placed into a group with three other girls as Girl's Tyme, and rapped and danced on the talent show circuit in Houston. After seeing the group, R&B producer Arne Frager brought them to his Northern California studio and placed them in Star Search, the largest talent show on national TV at the time. Girl's Tyme failed to win, and Beyoncé later said the song they performed was not good. In 1995 Beyoncé's father resigned from his job to manage the group. The move reduced Beyoncé's family's income by half, and her parents were forced to move into separated apartments. Mathew cut the original line-up to four and the group continued performing as an opening act for other established R&B girl groups. The girls auditioned before record labels and were finally signed to Elektra Records, moving to Atlanta Records briefly to work on their first recording, only to be cut by the company. This put further strain on the family, and Beyoncé's parents separated. On October 5, 1995, Dwayne Wiggins's Grass Roots Entertainment signed the group. In 1996, the girls began recording their debut album under an agreement with Sony Music, the Knowles family reunited, and shortly after, the group got a contract with Columbia Records.  ...  northern california four 1996 beyonce atlanta records r&b first sony music age eight star search grass roots entertainment houston kelly rowland elektra records dwayne wiggins's october 5 1995 three latavia roberson half 1995 arne frager columbia records                                                                                                                                    \n",
       "76   The group changed their name to Destiny's Child in 1996, based upon a passage in the Book of Isaiah. In 1997, Destiny's Child released their major label debut song \"Killing Time\" on the soundtrack to the 1997 film, Men in Black. The following year, the group released their self-titled debut album, scoring their first major hit \"No, No, No\". The album established the group as a viable act in the music industry, with moderate sales and winning the group three Soul Train Lady of Soul Awards for Best R&B/Soul Album of the Year, Best R&B/Soul or Rap New Artist, and Best R&B/Soul Single for \"No, No, No\". The group released their multi-platinum second album The Writing's on the Wall in 1999. The record features some of the group's most widely known songs such as \"Bills, Bills, Bills\", the group's first number-one single, \"Jumpin' Jumpin'\" and \"Say My Name\", which became their most successful song at the time, and would remain one of their signature songs. \"Say My Name\" won the Best R&B Performance by a Duo or Group with Vocals and the Best R&B Song at the 43rd Annual Grammy Awards. The Writing's on the Wall sold more than eight million copies worldwide. During this time, Beyoncé recorded a duet with Marc Nelson, an original member of Boyz II Men, on the song \"After All Is Said and Done\" for the soundtrack to the 1999 film, The Best Man.                      ...  1996 beyonce soul train lady of soul awards destiny the book of isaiah the following year first after all is said wall say my name 1999 duo annual grammy awards marc nelson group with vocals bills say my name\" rap new artist best r&b/soul single jumpin' jumpin' three the year 1997 more than eight million the best man the best r&b song done second 43rd writing boyz ii men killing time\n",
       "89   LeToya Luckett and Roberson became unhappy with Mathew's managing of the band and eventually were replaced by Farrah Franklin and Michelle Williams. Beyoncé experienced depression following the split with Luckett and Roberson after being publicly blamed by the media, critics, and blogs for its cause. Her long-standing boyfriend left her at this time. The depression was so severe it lasted for a couple of years, during which she occasionally kept herself in her bedroom for days and refused to eat anything. Beyoncé stated that she struggled to speak about her depression because Destiny's Child had just won their first Grammy Award and she feared no one would take her seriously. Beyoncé would later speak of her mother as the person who helped her fight it. Franklin was dismissed, leaving just Beyoncé, Rowland, and Williams.                                                                                                                                                                                                                                                                                                                                                                                                                                                                                                                                                             ...  luckett farrah franklin michelle williams mathew beyonce days letoya luckett a couple of years rowland williams franklin roberson first                                                                                                                                                                                                                                                           \n",
       "99   The remaining band members recorded \"Independent Women Part I\", which appeared on the soundtrack to the 2000 film, Charlie's Angels. It became their best-charting single, topping the U.S. Billboard Hot 100 chart for eleven consecutive weeks. In early 2001, while Destiny's Child was completing their third album, Beyoncé landed a major role in the MTV made-for-television film, Carmen: A Hip Hopera, starring alongside American actor Mekhi Phifer. Set in Philadelphia, the film is a modern interpretation of the 19th century opera Carmen by French composer Georges Bizet. When the third album Survivor was released in May 2001, Luckett and Roberson filed a lawsuit claiming that the songs were aimed at them. The album debuted at number one on the U.S. Billboard 200, with first-week sales of 663,000 copies sold. The album spawned other number-one hits, \"Bootylicious\" and the title track, \"Survivor\", the latter of which earned the group a Grammy Award for Best R&B Performance by a Duo or Group with Vocals. After releasing their holiday album 8 Days of Christmas in October 2001, the group announced a hiatus to further pursue solo careers.                                                                                                                                                                                                                                     ...  october 2001 luckett georges bizet beyonce third roberson number one may 2001 early 2001 charlie's angels duo the u.s. billboard eleven consecutive weeks independent women part french u.s. philadelphia american a grammy award for best group with vocals the 19th century mekhi phifer 100 mtv destiny's child 2000 200 663000 first-week                                                     \n",
       "110  In July 2002, Beyoncé continued her acting career playing Foxxy Cleopatra alongside Mike Myers in the comedy film, Austin Powers in Goldmember, which spent its first weekend atop the US box office and grossed $73 million. Beyoncé released \"Work It Out\" as the lead single from its soundtrack album which entered the top ten in the UK, Norway, and Belgium. In 2003, Beyoncé starred opposite Cuba Gooding, Jr., in the musical comedy The Fighting Temptations as Lilly, a single mother whom Gooding's character falls in love with. The film received mixed reviews from critics but grossed $30 million in the U.S. Beyoncé released \"Fighting Temptation\" as the lead single from the film's soundtrack album, with Missy Elliott, MC Lyte, and Free which was also used to promote the film. Another of Beyoncé's contributions to the soundtrack, \"Summertime\", fared better on the US charts.                                                                                                                                                                                                                                                                                                                                                                                                                                                                                                                ...  2003 beyonce the fighting temptations as lilly belgium $73 million mc lyte cuba gooding work it out uk july 2002 free u.s. first weekend goldmember mike myers missy elliott us $30 million austin powers ten foxxy cleopatra gooding norway                                                                                                                                                      \n",
       "\n",
       "[10 rows x 7 columns]"
      ]
     },
     "execution_count": 434,
     "metadata": {},
     "output_type": "execute_result"
    }
   ],
   "source": [
    "df.head(10)"
   ]
  },
  {
   "cell_type": "code",
   "execution_count": 435,
   "id": "million-settle",
   "metadata": {},
   "outputs": [],
   "source": [
    "df.to_pickle('cleaned_ner_30_mar.pkl')"
   ]
  },
  {
   "cell_type": "markdown",
   "id": "french-chancellor",
   "metadata": {},
   "source": [
    "### Read .pkl File"
   ]
  },
  {
   "cell_type": "code",
   "execution_count": 436,
   "id": "democratic-heather",
   "metadata": {},
   "outputs": [],
   "source": [
    "#Read the pickle file\n",
    "df = pd.read_pickle('cleaned_ner_30_mar.pkl')"
   ]
  },
  {
   "cell_type": "code",
   "execution_count": 437,
   "id": "alpine-nickel",
   "metadata": {},
   "outputs": [
    {
     "data": {
      "text/html": [
       "<div>\n",
       "<style scoped>\n",
       "    .dataframe tbody tr th:only-of-type {\n",
       "        vertical-align: middle;\n",
       "    }\n",
       "\n",
       "    .dataframe tbody tr th {\n",
       "        vertical-align: top;\n",
       "    }\n",
       "\n",
       "    .dataframe thead th {\n",
       "        text-align: right;\n",
       "    }\n",
       "</style>\n",
       "<table border=\"1\" class=\"dataframe\">\n",
       "  <thead>\n",
       "    <tr style=\"text-align: right;\">\n",
       "      <th></th>\n",
       "      <th>context</th>\n",
       "      <th>context_ner</th>\n",
       "      <th>cleaned_normalcase_stop_lem</th>\n",
       "      <th>cleaned_normalcase_nostop_lem</th>\n",
       "      <th>cleaned_lowercase_stop_lem</th>\n",
       "      <th>cleaned_lowercase_nostop_lem</th>\n",
       "      <th>ner_combined</th>\n",
       "    </tr>\n",
       "  </thead>\n",
       "  <tbody>\n",
       "    <tr>\n",
       "      <th>0</th>\n",
       "      <td>Beyoncé Giselle Knowles-Carter (/biːˈjɒnseɪ/ bee-YON-say) (born September 4, 1981) is an American singer, songwriter, record producer and actress. Born and raised in Houston, Texas, she performed in various singing and dancing competitions as a child, and rose to fame in the late 1990s as lead singer of R&amp;B girl-group Destiny's Child. Managed by her father, Mathew Knowles, the group became one of the world's best-selling girl groups of all time. Their hiatus saw the release of Beyoncé's debut album, Dangerously in Love (2003), which established her as a solo artist worldwide, earned five Grammy Awards and featured the Billboard Hot 100 number-one singles \"Crazy in Love\" and \"Baby Boy\".</td>\n",
       "      <td>{american, 2003, grammy awards, texas, september 4, 1981, baby boy, mathew knowles, beyonce, love, 100, r&amp;b, the late 1990s, knowles-carter, one, houston, destiny's child, crazy in love}</td>\n",
       "      <td>Beyonce Giselle Knowles Carter bi:'janseI bee YON say born September 4 1981 is an American singer songwriter record producer and actress Born and raised in Houston Texas she performed in various singing and dancing competitions as a child and rose to fame in the late 1990s as lead singer of R B girl group Destiny s Child Managed by her father Mathew Knowles the group became one of the world s best selling girl groups of all time Their hiatus saw the release of Beyonce s debut album Dangerously in Love 2003 which established her as a solo artist worldwide earned five Grammy Awards and featured the Billboard Hot 100 number one singles Crazy in Love and Baby Boy</td>\n",
       "      <td>Beyonce Giselle Knowles Carter bi:'janseI bee YON say born September 4 1981 American singer songwriter record producer actress Born raised Houston Texas performed various singing dancing competitions child rose fame late 1990s lead singer R B girl group Destiny s Child Managed father Mathew Knowles group became one world s best selling girl groups time Their hiatus saw release Beyonce s debut album Dangerously Love 2003 established solo artist worldwide earned five Grammy Awards featured Billboard Hot 100 number one singles Crazy Love Baby Boy</td>\n",
       "      <td>beyonce giselle knowles carter bi:'jansei bee yon say born september 4 1981 is an american singer songwriter record producer and actress born and raised in houston texas she performed in various singing and dancing competitions as a child and rose to fame in the late 1990s as lead singer of r b girl group destiny s child managed by her father mathew knowles the group became one of the world s best selling girl groups of all time their hiatus saw the release of beyonce s debut album dangerously in love 2003 which established her as a solo artist worldwide earned five grammy awards and featured the billboard hot 100 number one singles crazy in love and baby boy</td>\n",
       "      <td>beyonce giselle knowles carter bi:'jansei bee yon say born september 4 1981 american singer songwriter record producer actress born raised houston texas performed various singing dancing competition child rose fame late 1990s lead singer r b girl group destiny s child managed father mathew knowles group became one world s best selling girl group time their hiatus saw release beyonce s debut album dangerously love 2003 established solo artist worldwide earned five grammy awards featured billboard hot 100 number one single crazy love baby boy</td>\n",
       "      <td>american 2003 grammy awards texas september 4 1981 baby boy mathew knowles beyonce love 100 r&amp;b the late 1990s knowles-carter one houston destiny's child crazy in love</td>\n",
       "    </tr>\n",
       "  </tbody>\n",
       "</table>\n",
       "</div>"
      ],
      "text/plain": [
       "                                                                                                                                                                                                                                                                                                                                                                                                                                                                                                                                                                                                                                                                                                                  context  ...                                                                                                                                                             ner_combined\n",
       "0  Beyoncé Giselle Knowles-Carter (/biːˈjɒnseɪ/ bee-YON-say) (born September 4, 1981) is an American singer, songwriter, record producer and actress. Born and raised in Houston, Texas, she performed in various singing and dancing competitions as a child, and rose to fame in the late 1990s as lead singer of R&B girl-group Destiny's Child. Managed by her father, Mathew Knowles, the group became one of the world's best-selling girl groups of all time. Their hiatus saw the release of Beyoncé's debut album, Dangerously in Love (2003), which established her as a solo artist worldwide, earned five Grammy Awards and featured the Billboard Hot 100 number-one singles \"Crazy in Love\" and \"Baby Boy\".  ...  american 2003 grammy awards texas september 4 1981 baby boy mathew knowles beyonce love 100 r&b the late 1990s knowles-carter one houston destiny's child crazy in love\n",
       "\n",
       "[1 rows x 7 columns]"
      ]
     },
     "execution_count": 437,
     "metadata": {},
     "output_type": "execute_result"
    }
   ],
   "source": [
    "df.head(1)"
   ]
  },
  {
   "cell_type": "markdown",
   "id": "prescription-palmer",
   "metadata": {},
   "source": [
    "## Method 1: NER TF-IDF"
   ]
  },
  {
   "cell_type": "code",
   "execution_count": 719,
   "id": "incorporate-mining",
   "metadata": {},
   "outputs": [],
   "source": [
    "# TF-IDF Vectorizer for ner_combined column\n",
    "ner_vectorizer = TfidfVectorizer(ngram_range=(1,2))\n",
    "ner_tfidf = ner_vectorizer.fit_transform(df['ner_combined'])"
   ]
  },
  {
   "cell_type": "code",
   "execution_count": 720,
   "id": "fantastic-driver",
   "metadata": {},
   "outputs": [
    {
     "data": {
      "text/plain": [
       "'islamic republic'"
      ]
     },
     "execution_count": 720,
     "metadata": {},
     "output_type": "execute_result"
    }
   ],
   "source": [
    "# Query preprocessing for NER document retrieval\n",
    "def query_to_ner_str(query):\n",
    "    result = re.sub('[%s]' % re.escape(string.punctuation), '', query)\n",
    "    result = re.sub('\\s{2,}', \" \", result)\n",
    "    result = ' '.join([word for word in result.split() if word.lower() not in stop_words])\n",
    "    result = ' '.join([X.text.lower() for X in nlp(truecase.get_true_case(result)).ents])\n",
    "\n",
    "    if result == '':\n",
    "        return None\n",
    "    return result\n",
    "\n",
    "# Testing query_to_ner_str function\n",
    "query_to_ner_str('what is the political system of the islamic republic based on')"
   ]
  },
  {
   "cell_type": "code",
   "execution_count": 721,
   "id": "surprised-gross",
   "metadata": {},
   "outputs": [],
   "source": [
    "def document_retrieval_ner(df, ner_vectorizer, ner_tfidf, query):\n",
    "    ner_str = query_to_ner_str(query)\n",
    "\n",
    "    if ner_str is None:\n",
    "        return None\n",
    "    \n",
    "    print(f\"NER String: {ner_str}\\n\")\n",
    "    \n",
    "    ner_matching_ids = get_similar_docs(df, ner_vectorizer, ner_tfidf, ner_str)\n",
    "    \n",
    "    return ner_matching_ids"
   ]
  },
  {
   "cell_type": "code",
   "execution_count": 722,
   "id": "tutorial-departure",
   "metadata": {},
   "outputs": [],
   "source": [
    "def get_similar_docs(df, tfidfvectorizer, docs_tfidf, query):\n",
    "    \"\"\"\n",
    "    vectorizer: TfIdfVectorizer model\n",
    "    docs_tfidf: tfidf vectors for all docs\n",
    "    query: query\n",
    "\n",
    "    return: doc with highest tf-idf cosine similarity\n",
    "    \"\"\"\n",
    "    query_tfidf = tfidfvectorizer.transform([query])\n",
    "    cosineSimilarities = cosine_similarity(query_tfidf, docs_tfidf).flatten()\n",
    "    max_sim = max(cosineSimilarities)\n",
    "    \n",
    "    if max_sim < 0.05: # not sure whether to set this threshold as some correct answers are like 0.1 similarity\n",
    "        print(\"No Matches\")\n",
    "        return None\n",
    "    else:\n",
    "        threshold = 0.6 * max_sim\n",
    "    \n",
    "    top_doc_ids = set()\n",
    "    for idx, val in enumerate(cosineSimilarities):\n",
    "        if val >= threshold:\n",
    "            top_doc_ids.add((idx,val))\n",
    "            \n",
    "    top_doc_ids = sorted(top_doc_ids, key=lambda x: x[1], reverse=True)\n",
    "            \n",
    "    print(f\"Top Docs: {top_doc_ids}\\n\")\n",
    "            \n",
    "    return top_doc_ids"
   ]
  },
  {
   "cell_type": "code",
   "execution_count": 723,
   "id": "horizontal-variance",
   "metadata": {},
   "outputs": [
    {
     "name": "stdout",
     "output_type": "stream",
     "text": [
      "NER String: atlantic city\n",
      "\n",
      "Top Docs: [(5160, 0.5783350080180126), (5186, 0.5466549429761218), (5162, 0.49757137780927235), (5147, 0.4595090326901734), (5161, 0.4141992944951674), (5142, 0.40725595429495803), (5144, 0.4055833738590107), (5156, 0.39698223304106484), (5158, 0.3946804715726886), (5152, 0.3872005148348623), (5143, 0.3815820984135788), (5178, 0.3686366198210349), (5153, 0.3497179730193032)]\n",
      "\n",
      "22550    [With the redevelopment of Las Vegas and the opening of two casinos in Connecticut in the early 1990s, along with newly built casinos in the nearby Philadelphia metro area in the 2000s, Atlantic City's tourism began to decline due to its failure to diversify away from gaming, Determined to expand, in 1999 the Atlantic City Redevelopment Authority partnered with Las Vegas casino mogul Steve Wynn to develop a new roadway to a barren section of the city near the Marina, Nicknamed \"The Tunnel Project\", Steve Wynn planned the proposed 'Mirage Atlantic City' around the idea that he would connect the $330 million tunnel stretching 2, 5 miles (4, 0 km) from the Atlantic City Expressway to his new resort, The roadway was later officially named the Atlantic City-Brigantine Connector, and funnels incoming traffic off of the expressway into the city's marina district and Brigantine, New Jersey]                                                                                                                                                                                                                                                       \n",
      "22675    [Boardwalk Hall, formally known as the \"Historic Atlantic City Convention Hall\", is an arena in Atlantic City along the boardwalk, Boardwalk Hall was Atlantic City's primary convention center until the opening of the Atlantic City Convention Center in 1997, The Atlantic City Convention Center includes 500,000 sq ft (46,000 m2) of showroom space, 5 exhibit halls, 45 meeting rooms with 109,000 sq ft (10,100 m2) of space, a garage with 1,400 parking spaces, and an adjacent Sheraton hotel, Both the Boardwalk Hall and Convention Center are operated by the Atlantic City Convention & Visitors Authority]                                                                                                                                                                                                                                                                                                                                                                                                                                                                                                                                                           \n",
      "22560    [Owing to economic conditions and the late 2000s recession, many of the proposed mega casinos never went further than the initial planning stages, One of these developers was Pinnacle Entertainment, who purchased the Sands Atlantic City, only to close it permanently November 11, 2006, The following year, the resort was demolished in a dramatic, Las Vegas styled implosion, the first of its kind in Atlantic City, While Pinnacle Entertainment intended to replace it with a $1, 5–2 billion casino resort, the company canceled its construction plans and plans to sell the land, The biggest disappointment was when MGM Resorts International announced that it would pull out of all development for Atlantic City, effectively ending their plans for the MGM Grand Atlantic City]                                                                                                                                                                                                                                                                                                                                                                                 \n",
      "22483    [By 1878, because of the growing popularity of the city, one railroad line could no longer keep up with demand, Soon, the Philadelphia and Atlantic City Railway was also constructed to transport tourists to Atlantic City, At this point massive hotels like The United States and Surf House, as well as smaller rooming houses, had sprung up all over town, The United States Hotel took up a full city block between Atlantic, Pacific, Delaware, and Maryland Avenues, These hotels were not only impressive in size, but featured the most updated amenities, and were considered quite luxurious for their time]                                                                                                                                                                                                                                                                                                                                                                                                                                                                                                                                                            \n",
      "22555    [Although Wynn's plans for development in the city were scrapped in 2002, the tunnel opened in 2001, The new roadway prompted Boyd Gaming in partnership with MGM/Mirage to build Atlantic City's newest casino, The Borgata opened in July 2003, and its success brought an influx of developers to Atlantic City with plans for building grand Las Vegas style mega casinos to revitalize the aging city]                                                                                                                                                                                                                                                                                                                                                                                                                                                                                                                                                                                                                                                                                                                                                                           \n",
      "22460    [It is on Absecon Island, on the Atlantic coast, Atlantic City was incorporated on May 1, 1854, from portions of Egg Harbor Township and Galloway Township, The city borders Absecon, Brigantine, Pleasantville, Ventnor City and West Atlantic City]                                                                                                                                                                                                                                                                                                                                                                                                                                                                                                                                                                                                                                                                                                                                                                                                                                                                                                                                 \n",
      "22470    [The city was incorporated in 1854, the same year in which the Camden and Atlantic Railroad train service began, Built on the edge of the bay, this served as the direct link of this remote parcel of land with Philadelphia, Pennsylvania, That same year, construction of the Absecon Lighthouse, designed by George Meade of the Corps of Topographical Engineers, was approved, with work initiated the next year, By 1874, almost 500,000 passengers a year were coming to Atlantic City by rail, In Boardwalk Empire: The Birth, High Times, and Corruption of Atlantic City, \"Atlantic City's Godfather\" Nelson Johnson describes the inspiration of Dr, Jonathan Pitney (the \"Father of Atlantic City\") to develop Atlantic City as a health resort, his efforts to convince the municipal authorities that a railroad to the beach would be beneficial, his successful alliance with Samuel Richards (entrepreneur and member of the most influential family in southern New Jersey at the time) to achieve that goal, the actual building of the railroad, and the experience of the first 600 riders, who \"were chosen carefully by Samuel Richards and Jonathan Pitney\":]\n",
      "22530    [Like many older east coast cities after World War II, Atlantic City became plagued with poverty, crime, corruption, and general economic decline in the mid-to-late 20th century, The neighborhood known as the \"Inlet\" became particularly impoverished, The reasons for the resort's decline were multi-layered, First of all, the automobile became more readily available to many Americans after the war, Atlantic City had initially relied upon visitors coming by train and staying for a couple of weeks, The car allowed them to come and go as they pleased, and many people would spend only a few days, rather than weeks, Also, the advent of suburbia played a huge role, With many families moving to their own private houses, luxuries such as home air conditioning and swimming pools diminished their interest in flocking to the luxury beach resorts during the hot summer, But perhaps the biggest factor in the decline in Atlantic City's popularity came from cheap, fast jet service to other premier resorts, such as Miami Beach and the Bahamas]                                                                                                      \n",
      "22540    [By the late 1960s, many of the resort's once great hotels were suffering from embarrassing vacancy rates, Most of them were either shut down, converted to cheap apartments, or converted to nursing home facilities by the end of the decade, Prior to and during the advent of legalized gaming, many of these hotels were demolished, The Breakers, the Chelsea, the Brighton, the Shelburne, the Mayflower, the Traymore, and the Marlborough-Blenheim were demolished in the 1970s and 1980s, Of the many pre-casino resorts that bordered the boardwalk, only the Claridge, the Dennis, the Ritz-Carlton, and the Haddon Hall survive to this day as parts of Bally's Atlantic City, a condo complex, and Resorts Atlantic City, The old Ambassador Hotel was purchased by Ramada in 1978 and was gutted to become the Tropicana Casino and Resort Atlantic City, only reusing the steelwork of the original building, Smaller hotels off the boardwalk, such as the Madison also survived]                                                                                                                                                                                    \n",
      "22508    [In 1883, salt water taffy was conceived in Atlantic City by David Bradley, The traditional story is that Bradley's shop was flooded after a major storm, soaking his taffy with salty Atlantic Ocean water, He sold some \"salt water taffy\" to a girl, who proudly walked down to the beach to show her friends, Bradley's mother was in the back of the store when the sale was made, and loved the name, and so salt water taffy was born]                                                                                                                                                                                                                                                                                                                                                                                                                                                                                                                                                                                                                                                                                                                                         \n",
      "22465    [Because of its location in South Jersey, hugging the Atlantic Ocean between marshlands and islands, Atlantic City was viewed by developers as prime real estate and a potential resort town, In 1853, the first commercial hotel, The Belloe House, located at Massachusetts and Atlantic Avenue, was built]                                                                                                                                                                                                                                                                                                                                                                                                                                                                                                                                                                                                                                                                                                                                                                                                                                                                         \n",
      "22636    [As of September 2014, the greater Atlantic City area has one of the highest unemployment rates in the country at 13, 8%, out of labor force of around 141,000]                                                                                                                                                                                                                                                                                                                                                                                                                                                                                                                                                                                                                                                                                                                                                                                                                                                                                                                                                                                                                       \n",
      "22513    [The 1920s, with tourism at its peak, are considered by many historians as Atlantic City's golden age, During Prohibition, which was enacted nationally in 1919 and lasted until 1933, much liquor was consumed and gambling regularly took place in the back rooms of nightclubs and restaurants, It was during Prohibition that racketeer and political boss Enoch L, \"Nucky\" Johnson rose to power, Prohibition was largely unenforced in Atlantic City, and, because alcohol that had been smuggled into the city with the acquiescence of local officials could be readily obtained at restaurants and other establishments, the resort's popularity grew further, The city then dubbed itself as \"The World's Playground\", Nucky Johnson's income, which reached as much as $500,000 annually, came from the kickbacks he took on illegal liquor, gambling and prostitution operating in the city, as well as from kickbacks on construction projects]                                                                                                                                                                                                                          \n",
      "Name: context, dtype: object\n"
     ]
    }
   ],
   "source": [
    "query = 'when was atlantic city plagued with poverty, crime, corruption, and general economic decline?'\n",
    "retrieved_doc_ids = document_retrieval_ner(df, ner_vectorizer, ner_tfidf, query)\n",
    "print(df.iloc[[i[0] for i in retrieved_doc_ids], df.columns.get_loc('context')].apply(lambda x: [i.strip() for i in x.split('.') if len(i)>1]))"
   ]
  },
  {
   "cell_type": "markdown",
   "id": "apparent-aruba",
   "metadata": {},
   "source": [
    "## Method 2: Paragraph TF-IDF"
   ]
  },
  {
   "cell_type": "code",
   "execution_count": 724,
   "id": "exclusive-criminal",
   "metadata": {},
   "outputs": [],
   "source": [
    "# TF-IDF Vectorizer for cleaned_lowercase_nostop_lem column\n",
    "para_vectorizer = TfidfVectorizer(ngram_range=(1,2))\n",
    "para_tfidf = para_vectorizer.fit_transform(df['cleaned_lowercase_nostop_lem'])"
   ]
  },
  {
   "cell_type": "code",
   "execution_count": 725,
   "id": "mineral-dealing",
   "metadata": {},
   "outputs": [
    {
     "data": {
      "text/plain": [
       "'political system islamic republic based'"
      ]
     },
     "execution_count": 725,
     "metadata": {},
     "output_type": "execute_result"
    }
   ],
   "source": [
    "# Query preprocessing for paragraph document retrieval\n",
    "def query_normal_cleaning(query):\n",
    "    result = re.sub('[%s]' % re.escape(string.punctuation), '', query)\n",
    "    result = re.sub('\\s{2,}', \" \", result).lower()\n",
    "    result = ' '.join([wordnet_lemmatizer.lemmatize(word) for word in result.split() if word not in stop_words])\n",
    "\n",
    "    if result == '':\n",
    "        return None\n",
    "    return result\n",
    "\n",
    "# Testing query_to_ner_str function\n",
    "query_normal_cleaning('what is the political system of the islamic republic based on')"
   ]
  },
  {
   "cell_type": "code",
   "execution_count": 726,
   "id": "brown-console",
   "metadata": {},
   "outputs": [],
   "source": [
    "def document_retrieval_para(df, para_vectorizer, para_tfidf, query):\n",
    "    cleaned = query_normal_cleaning(query)\n",
    "\n",
    "    if cleaned is None:\n",
    "        return None\n",
    "    \n",
    "    print(f\"Cleaned Query: {cleaned}\\n\")\n",
    "    \n",
    "    para_matching_ids = get_similar_docs(df, para_vectorizer, para_tfidf, cleaned)\n",
    "    \n",
    "    return para_matching_ids"
   ]
  },
  {
   "cell_type": "code",
   "execution_count": 727,
   "id": "decimal-vancouver",
   "metadata": {},
   "outputs": [
    {
     "name": "stdout",
     "output_type": "stream",
     "text": [
      "Cleaned Query: donald trump election\n",
      "\n",
      "Top Docs: [(465, 0.23964538541856742), (5184, 0.1655795455452974)]\n",
      "\n",
      "3280     [When one Republican presidential candidate for the 2016 election ridiculed the liberalism of \"New York values\" in January 2016, Donald Trump, leading in the polls, vigorously defended his city, The National Review, a conservative magazine published in the city since its founding by William F, Buckley, Jr, in 1955, commented, \"By hearkening back to New York's heart after 9/11, for a moment Trump transcended politics, How easily we forget, but for weeks after the terror attacks, New York was America]\n",
      "22665    [Executives at Trump Entertainment Resorts, whose sole remaining property will be the Trump Taj Mahal, said in 2013 that they were considering the option of selling the Taj and winding down and exiting the gaming and hotel business]                                                                                                                                                                                                                                                                                \n",
      "Name: context, dtype: object\n"
     ]
    }
   ],
   "source": [
    "query = 'when was donald trump election?'\n",
    "retrieved_doc_ids = document_retrieval_para(df, para_vectorizer, para_tfidf, query)\n",
    "if retrieved_doc_ids:\n",
    "    print(df.iloc[[i[0] for i in retrieved_doc_ids], df.columns.get_loc('context')].apply(lambda x: [i.strip() for i in x.split('.') if len(i)>1]))"
   ]
  },
  {
   "cell_type": "markdown",
   "id": "regulated-voltage",
   "metadata": {},
   "source": [
    "## Method 3: NER TF-IDF -> Paragraph TF-IDF"
   ]
  },
  {
   "cell_type": "code",
   "execution_count": 751,
   "id": "naval-vampire",
   "metadata": {},
   "outputs": [],
   "source": [
    "def document_retrieval_ner_para(df, ner_vectorizer, ner_tfidf, para_vectorizer, para_tfidf, query):\n",
    "    df = df.reset_index()\n",
    "    ner_str = query_to_ner_str(query)\n",
    "    ner_docs = []\n",
    "    \n",
    "    cleaned = query_normal_cleaning(query)\n",
    "\n",
    "    if cleaned is None:\n",
    "        return None\n",
    "\n",
    "    if ner_str:    \n",
    "        print('========== EXECUTING NER TF-IDF ==========')\n",
    "        print(f\"NER String: {ner_str}\\n\")\n",
    "\n",
    "        ner_matching_ids = get_similar_docs(df, ner_vectorizer, ner_tfidf, ner_str)\n",
    "\n",
    "        narrowed_paras_df = df.iloc[[i[0] for i in ner_matching_ids],:]\n",
    "        para_index = narrowed_paras_df.index\n",
    "              \n",
    "        # Re-run para_vectorizer and para_tfidf on narrowed down documents\n",
    "        para_vectorizer = TfidfVectorizer(ngram_range=(1,2))\n",
    "        para_tfidf = para_vectorizer.fit_transform(narrowed_paras_df['cleaned_lowercase_nostop_lem'])\n",
    "    else:\n",
    "        para_index = df.index\n",
    "                \n",
    "    print('=== EXECUTING PARA TF-IDF ===')\n",
    "    print(f\"Query String: {cleaned}\\n\")\n",
    "    query_tfidf = para_vectorizer.transform([cleaned])\n",
    "    cosineSimilarities = cosine_similarity(query_tfidf, para_tfidf).flatten()\n",
    "    max_sim = max(cosineSimilarities)\n",
    "    \n",
    "    if max_sim < 0.05: # not sure whether to set this threshold as some correct answers are like 0.1 similarity\n",
    "        print(\"No Matches\")\n",
    "        return None\n",
    "    else:\n",
    "        threshold = 0.4 * max_sim\n",
    "    \n",
    "    top_doc_ids = set()\n",
    "    for idx, val in enumerate(cosineSimilarities):\n",
    "        if val >= threshold:\n",
    "            top_doc_ids.add((para_index[idx],val))\n",
    "            \n",
    "    top_doc_ids = sorted(top_doc_ids, key=lambda x: x[1], reverse=True)\n",
    "            \n",
    "    print(f\"Top Docs: {top_doc_ids}\\n\")\n",
    "            \n",
    "    return top_doc_ids"
   ]
  },
  {
   "cell_type": "code",
   "execution_count": 762,
   "id": "israeli-surface",
   "metadata": {},
   "outputs": [
    {
     "name": "stdout",
     "output_type": "stream",
     "text": [
      "How many polytechnics are there in Singapore?\n",
      "------------------------------------------------------------------------------\n",
      "=== EXECUTING PARA TF-IDF ===\n",
      "Query String: many polytechnic singapore\n",
      "\n",
      "Top Docs: [(1341, 0.2919893925927432), (1383, 0.22597309413140323), (1382, 0.16367161534040953), (1360, 0.1493453188381278), (1375, 0.14701154059191554), (1391, 0.1292711891887535), (1363, 0.12295995967823865), (8918, 0.11894398918040044), (1395, 0.1040149260112997), (1337, 0.09342474789466572), (1374, 0.09332219543008893), (1377, 0.09048693162865103), (1349, 0.08736402632788981), (1336, 0.08491452727861967), (1327, 0.08192791076183531), (1326, 0.08169884964139826), (1323, 0.06818953730273628), (8583, 0.06458648164304129), (14360, 0.06323889021118573), (1329, 0.06023258524348534), (1380, 0.059987489171697064)]\n",
      "\n",
      "7520     [In Croatia there are many polytechnic institutes and colleges that offer a polytechnic education, The law about polytechnic education in Croatia was passed in 1997]                                                                                                                                                                                                                                                                                                                                                                                                                                                                                                                                                                                                                                                                                                                                                                                                                                                                                                                                                                                                                                                                                                                                                                                                                                                                                                                                                                                                                                                                                                                                                                                                                                                                                                                                                                                                                                                                                                                                                                                                                                                                                                                                                                                                                                                                                                                                                                                                                                                                                                         \n",
      "7599     [Polytechnics offer three-year diploma courses in fields such as information technology, engineering subjects and other vocational fields, like psychology and nursing, There are 5 polytechnics in Singapore, They are namely:]                                                                                                                                                                                                                                                                                                                                                                                                                                                                                                                                                                                                                                                                                                                                                                                                                                                                                                                                                                                                                                                                                                                                                                                                                                                                                                                                                                                                                                                                                                                                                                                                                                                                                                                                                                                                                                                                                                                                                                                                                                                                                                                                                                                                                                                                                                                                                                                                                                              \n",
      "7598     [Polytechnics in Singapore provides industry oriented education equivalent to a junior college or sixth form college in the UK, Singapore retains a system similar but not the same as in the United Kingdom from 1970–1992, distinguishing between polytechnics and universities, Unlike the British Polytechnic (United Kingdom) system Singapore Polytechnics do not offer bachelors, masters or PhD degrees, Under this system, most Singaporean students sit for their O-Level examinations after a four or five years of education in secondary school, and apply for a place at either a technical school termed ITE, a polytechnic or a university-preparatory school (a junior college or the Millennia Institute, a centralized institute), Polytechnic graduates may be granted transfer credits when they apply to local and overseas universities, depending on the overall performance in their grades, as well as the university's policies on transfer credits, A few secondary schools are now offering six-year program which leads directly to university entrance]                                                                                                                                                                                                                                                                                                                                                                                                                                                                                                                                                                                                                                                                                                                                                                                                                                                                                                                                                                                                                                                                                                                                                                                                                                                                                                                                                                                                                                                                                                                                                                                        \n",
      "7553     [The first polytechnic in Hong Kong is The Hong Kong Polytechnic, established in 1972 through upgrading the Hong Kong Technical College (Government Trade School before 1947), The second polytechnic, the City Polytechnic of Hong Kong, was founded in 1984, These polytechnics awards diplomas, higher diplomas, as well as academic degrees, Like the United Kingdom, the two polytechnics were granted university status in 1994, and renamed The Hong Kong Polytechnic University and the City University of Hong Kong respectively, The Hong Kong University of Science and Technology, a university with a focus in applied science, engineering and business, was founded in 1991]                                                                                                                                                                                                                                                                                                                                                                                                                                                                                                                                                                                                                                                                                                                                                                                                                                                                                                                                                                                                                                                                                                                                                                                                                                                                                                                                                                                                                                                                                                                                                                                                                                                                                                                                                                                                                                                                                                                                                                                   \n",
      "7585     [Since the 1990s, there has been consolidation in New Zealand's state-owned tertiary education system, In the polytechnic sector: Wellington Polytechnic amalgamated with Massey University, The Central Institute of Technology explored a merger with the Waikato Institute of Technology, which was abandoned, but later, after financial concerns, controversially amalgamated with Hutt Valley Polytechnic, which in turn became Wellington Institute of Technology, Some smaller polytechnics in the North Island, such as Waiarapa Polytechnic, amalgamated with UCOL, (The only other amalgamations have been in the colleges of education]                                                                                                                                                                                                                                                                                                                                                                                                                                                                                                                                                                                                                                                                                                                                                                                                                                                                                                                                                                                                                                                                                                                                                                                                                                                                                                                                                                                                                                                                                                                                                                                                                                                                                                                                                                                                                                                                                                                                                                                                                           \n",
      "7621     [Polytechnics were tertiary education teaching institutions in England, Wales and Northern Ireland, Since 1970 UK Polytechnics operated under the binary system of education along with universities, Polytechnics offered diplomas and degrees (bachelor's, master's, PhD) validated at the national level by the UK Council for National Academic Awards CNAA, They particularly excelled in engineering and applied science degree courses similar to technological universities in the USA and continental Europe, The comparable institutions in Scotland were collectively referred to as Central Institutions, Britain's first Polytechnic, the Royal Polytechnic Institution later known as the Polytechnic of Central London (now the University of Westminster) was established in 1838 at Regent Street in London and its goal was to educate and popularize engineering and scientific knowledge and inventions in Victorian Britain \"at little expense, \" The London Polytechnic led a mass movement to create numerous Polytechnic institutes across the UK in the late 19th Century, Most Polytechnic institutes were established at the centre of major metropolitan cities and their focus was on engineering, applied science and technology education]                                                                                                                                                                                                                                                                                                                                                                                                                                                                                                                                                                                                                                                                                                                                                                                                                                                                                                                                                                                                                                                                                                                                                                                                                                                                                                                                                                                                     \n",
      "7564     [In India there are many polytechnic institutes and collages that offer a polytechnic education, In India a Diploma in Engineering is a specific academic award usually awarded in technical or vocational courses e, Engineering, Pharmacy, Designing, etc, These Institutions offer three year diploma in engineering post Tenth class, These institutes have affiliation from state bord of technical education of respective state governments, after which one can apply for post of junior engineer or continue higher studies by appearing for exams of AMIE to become an engineering graduate]                                                                                                                                                                                                                                                                                                                                                                                                                                                                                                                                                                                                                                                                                                                                                                                                                                                                                                                                                                                                                                                                                                                                                                                                                                                                                                                                                                                                                                                                                                                                                                                                                                                                                                                                                                                                                                                                                                                                                                                                                                                                        \n",
      "40738    [The culture in Southeast Asia is very diverse: on mainland Southeast Asia, the culture is a mix of Indochinese (Burma, Cambodia, Laos and Thailand) and Chinese (Singapore and Vietnam), While in Indonesia, the Philippines and Malaysia the culture is a mix of indigenous Austronesian, Indian, Islamic, Western, and Chinese cultures, Also Brunei shows a strong influence from Arabia, Singapore and Vietnam show more Chinese influence in that Singapore, although being geographically a Southeast Asian nation, is home to a large Chinese majority and Vietnam was in China's sphere of influence for much of its history, Indian influence in Singapore is only evident through the Tamil migrants, which influenced, to some extent, the cuisine of Singapore, Throughout Vietnam's history, it has had no direct influence from India - only through contact with the Thai, Khmer and Cham peoples]                                                                                                                                                                                                                                                                                                                                                                                                                                                                                                                                                                                                                                                                                                                                                                                                                                                                                                                                                                                                                                                                                                                                                                                                                                                                                                                                                                                                                                                                                                                                                                                                                                                                                                                                                            \n",
      "7633     [Polytechnic Institutes are technological universities, many dating back to the mid-19th century, A handful of world-renowned Elite American universities include the phrases \"Institute of Technology\", \"Polytechnic Institute\", \"Polytechnic University\", or similar phrasing in their names; these are generally research-intensive universities with a focus on engineering, science and technology, The earliest and most famous of these institutions are, respectively, Rensselaer Polytechnic Institute (RPI, 1824), New York University Tandon School of Engineering (1854) and the Massachusetts Institute of Technology (MIT, 1861), Conversely, schools dubbed \"technical colleges\" or \"technical institutes\" generally provide post-secondary training in technical and mechanical fields, focusing on training vocational skills primarily at a community college level—parallel and sometimes equivalent to the first two years at a bachelor's degree-granting institution]                                                                                                                                                                                                                                                                                                                                                                                                                                                                                                                                                                                                                                                                                                                                                                                                                                                                                                                                                                                                                                                                                                                                                                                                                                                                                                                                                                                                                                                                                                                                                                                                                                                                                   \n",
      "7512     [In Canada, there are Affiliate Schools, Colleges, Institutes of Technology/Polytechnic Institutes, and Universities that offer instruction in a variety of programs that can lead to: engineering and applied science degrees, apprenticeship and trade programs, certificates, and diplomas, Affiliate Schools are polytechnic divisions belonging to a national university and offer select technical and engineering programs, Colleges, Institutes of Technology/Polytechnic Institutes, and Universities tend to be independent institutions]                                                                                                                                                                                                                                                                                                                                                                                                                                                                                                                                                                                                                                                                                                                                                                                                                                                                                                                                                                                                                                                                                                                                                                                                                                                                                                                                                                                                                                                                                                                                                                                                                                                                                                                                                                                                                                                                                                                                                                                                                                                                                                                           \n",
      "7582     [New Zealand polytechnics are established under the Education Act 1989 as amended, and are considered state-owned tertiary institutions along with universities, colleges of education, and wānanga; there is today often much crossover in courses and qualifications offered between all these types of Tertiary Education Institutions, Some have officially taken the title 'institute of technology' which is a term recognized in government strategies equal to that of the term 'polytechnic', One has opted for the name 'Universal College of Learning' (UCOL), and another 'Unitec New Zealand', These are legal names but not recognized terms like 'polytechnic' or 'institute of technology', Many if not all now grant at least bachelor-level degrees]                                                                                                                                                                                                                                                                                                                                                                                                                                                                                                                                                                                                                                                                                                                                                                                                                                                                                                                                                                                                                                                                                                                                                                                                                                                                                                                                                                                                                                                                                                                                                                                                                                                                                                                                                                                                                                                                                                        \n",
      "7590     [The Polytechnic institutes in Pakistan, offer a diploma spanning three years in different branches, Students are admitted to the diploma program based on their results in the 10th grade standardized exams, The main purpose of Polytechnic Institutes is to train people in various trades]                                                                                                                                                                                                                                                                                                                                                                                                                                                                                                                                                                                                                                                                                                                                                                                                                                                                                                                                                                                                                                                                                                                                                                                                                                                                                                                                                                                                                                                                                                                                                                                                                                                                                                                                                                                                                                                                                                                                                                                                                                                                                                                                                                                                                                                                                                                                                                               \n",
      "7531     [Polytechnic schools are distinct from academic universities in Finland, Ammattikorkeakoulu is the common term in Finland, as is the Swedish alternative \"yrkeshögskola\" – their focus is on studies leading to a degree (for instance insinööri, engineer; in international use, Bachelor of Engineering) in kind different from but in level comparable to an academic bachelor's degree awarded by a university, Since 2006 the polytechnics have offered studies leading to master's degrees (Master of Engineering), After January 1, 2006, some Finnish ammattikorkeakoulus switched the English term \"polytechnic\" to the term \"university of applied sciences\" in the English translations of their legal names, The ammattikorkeakoulu has many similarities to the hogeschool in Belgium and in the Netherlands and to the Fachhochschule in the German language areas]                                                                                                                                                                                                                                                                                                                                                                                                                                                                                                                                                                                                                                                                                                                                                                                                                                                                                                                                                                                                                                                                                                                                                                                                                                                                                                                                                                                                                                                                                                                                                                                                                                                                                                                                                                                             \n",
      "7511     [In Cambodia, there are Institutes of Technology/Polytechnic Institutes, and Universities that offer instruction in a variety of programs that can lead to: certificates, diplomas, and degrees, Institutes of Technology/Polytechnic Institutes and Universities tend to be independent institutions]                                                                                                                                                                                                                                                                                                                                                                                                                                                                                                                                                                                                                                                                                                                                                                                                                                                                                                                                                                                                                                                                                                                                                                                                                                                                                                                                                                                                                                                                                                                                                                                                                                                                                                                                                                                                                                                                                                                                                                                                                                                                                                                                                                                                                                                                                                                                                                        \n",
      "7498     [In a number of countries, although being today generally considered similar institutions of higher learning across many countries, polytechnics and institutes of technology used to have a quite different statute among each other, its teaching competences and organizational history, In many cases polytechnic were elite technological universities concentrating on applied science and engineering and may also be a former designation for a vocational institution, before it has been granted the exclusive right to award academic degrees and can be truly called an institute of technology, A number of polytechnics providing higher education is simply a result of a formal upgrading from their original and historical role as intermediate technical education schools, In some situations, former polytechnics or other non-university institutions have emerged solely through an administrative change of statutes, which often included a name change with the introduction of new designations like institute of technology, polytechnic university, university of applied sciences, or university of technology for marketing purposes, Such emergence of so many upgraded polytechnics, former vocational education and technical schools converted into more university-like institutions has caused concern where the lack of specialized intermediate technical professionals lead to industrial skill shortages in some fields, being also associated to an increase of the graduate unemployment rate, This is mostly the case in those countries, where the education system is not controlled by the state and everybody can grant degrees, [citation needed] Evidence have also shown a decline in the general quality of teaching and graduate's preparation for the workplace, due to the fast-paced conversion of that technical institutions to more advanced higher level institutions, Mentz, Kotze and Van der Merwe (2008) argues that all the tools are in place to promote the debate on the place of technology in higher education in general and in Universities of Technology specifically, The aspects of this debate can follow the following lines: • To what degree is technology defined as a concept? • What is the scope of technology discourse? • What is the place and relation of science with technology? • How useful is the Mitcham framework in thinking about technology in South Africa? • Can a measure of cooperation as opposed to competition be achieved amongst higher education institutions? • Who ultimately is responsible for vocational training and what is the role of technology in this?]\n",
      "7495     [In countries like Iran, Finland, Malaysia, Portugal, Singapore or the United Kingdom, there is often a significant and confused distinction between polytechnics and universities, In the UK a binary system of higher education emerged consisting of universities (research orientation) and Polytechnics (engineering and applied science and professional practice orientation), Polytechnics offered university equivalent degrees from bachelor's, master's and PhD that were validated and governed at the national level by the independent UK Council for National Academic Awards, In 1992 UK Polytechnics were designated as universities which meant they could award their own degrees, The CNAA was disbanded, The UK's first polytechnic, the Royal Polytechnic Institution (now the University of Westminster) was founded in 1838 in Regent Street, London, In Ireland the term institute of technology is the more favored synonym of a regional technical college though the latter is the legally correct term; however, Dublin Institute of Technology is a university in all but name as it can confer degrees in accordance with law, Cork Institute of Technology and another of other Institutes of Technology have delegated authority from HETAC to make awards to and including master's degree level—Level 9 of the National Framework for Qualifications (NFQ)—for all areas of study and Doctorate level in a number of others]                                                                                                                                                                                                                                                                                                                                                                                                                                                                                                                                                                                                                                                                                                                                                                                                                                                                                                                                                                                                                                                                                                                                                                                                               \n",
      "7489     [While the terms \"institute of technology\" and \"polytechnic\" are synonymous, the preference concerning which one is the preferred term varies from country to country, [citation needed]]                                                                                                                                                                                                                                                                                                                                                                                                                                                                                                                                                                                                                                                                                                                                                                                                                                                                                                                                                                                                                                                                                                                                                                                                                                                                                                                                                                                                                                                                                                                                                                                                                                                                                                                                                                                                                                                                                                                                                                                                                                                                                                                                                                                                                                                                                                                                                                                                                                                                                     \n",
      "39162    [There are many Hokkien speakers among overseas Chinese in Southeast Asia as well as in the United States, Many ethnic Han Chinese emigrants to the region were Hoklo from southern Fujian, and brought the language to what is now Burma (Myanmar), Indonesia (the former Dutch East Indies) and present day Malaysia and Singapore (formerly Malaya and the British Straits Settlements), Many of the Hokkien dialects of this region are highly similar to Taiwanese and Amoy, Hokkien is reportedly the native language of up to 98, 5% of the Chinese Filipino in the Philippines, among which is known locally as Lan-nang or Lán-lâng-oē (\"Our people’s language\"), Hokkien speakers form the largest group of Chinese in Singapore, Malaysia and Indonesia, [citation needed]]                                                                                                                                                                                                                                                                                                                                                                                                                                                                                                                                                                                                                                                                                                                                                                                                                                                                                                                                                                                                                                                                                                                                                                                                                                                                                                                                                                                                                                                                                                                                                                                                                                                                                                                                                                                                                                                                                        \n",
      "65187    [In Singapore, madrasahs are private schools which are overseen by Majlis Ugama Islam Singapura (MUIS, English: Islamic Religious Council of Singapore), There are six Madrasahs in Singapore, catering to students from Primary 1 to Secondary 4, Four Madrasahs are coeducational and two are for girls, Students take a range of Islamic Studies subjects in addition to mainstream MOE curriculum subjects and sit for the PSLE and GCE 'O' Levels like their peers, In 2009, MUIS introduced the \"Joint Madrasah System\" (JMS), a joint collaboration of Madrasah Al-Irsyad Al-Islamiah primary school and secondary schools Madrasah Aljunied Al-Islamiah (offering the ukhrawi, or religious stream) and Madrasah Al-Arabiah Al-Islamiah (offering the academic stream), The JMS aims to introduce the International Baccalaureate (IB) programme into the Madrasah Al-Arabiah Al-Islamiah by 2019, Students attending a madrasah are required to wear the traditional Malay attire, including the songkok for boys and tudong for girls, in contrast to mainstream government schools which ban religious headgear as Singapore is officially a secular state, For students who wish to attend a mainstream school, they may opt to take classes on weekends at the madrasah instead of enrolling full-time]                                                                                                                                                                                                                                                                                                                                                                                                                                                                                                                                                                                                                                                                                                                                                                                                                                                                                                                                                                                                                                                                                                                                                                                                                                                                                                                                                          \n",
      "7501     [Since the mid-1990s, the term has been applied to some technically minded technical and further education (TAFE) institutes, A recent example is the Melbourne Polytechnic rebranding and repositioning in 2014 from Northern Melbourne Institute of TAFE, These primarily offer vocational education, although some like Melbourne Polytechnic are expanding into higher education offering vocationally oriented applied bachelor degress, This usage of the term is most prevalent historically in NSW and the ACT, The new terminology is apt given that this category of institution are becoming very much like the institutes of the 1970s–1990s period]                                                                                                                                                                                                                                                                                                                                                                                                                                                                                                                                                                                                                                                                                                                                                                                                                                                                                                                                                                                                                                                                                                                                                                                                                                                                                                                                                                                                                                                                                                                                                                                                                                                                                                                                                                                                                                                                                                                                                                                                              \n",
      "7595     [Politechnika (translated as a \"technical university\" or \"university of technology\") is a main kind of technical university name in Poland, There are some biggest Polytechnic in Poland:]                                                                                                                                                                                                                                                                                                                                                                                                                                                                                                                                                                                                                                                                                                                                                                                                                                                                                                                                                                                                                                                                                                                                                                                                                                                                                                                                                                                                                                                                                                                                                                                                                                                                                                                                                                                                                                                                                                                                                                                                                                                                                                                                                                                                                                                                                                                                                                                                                                                                                    \n",
      "Name: context, dtype: object\n"
     ]
    }
   ],
   "source": [
    "query = input()\n",
    "print('------------------------------------------------------------------------------')\n",
    "retrieved_doc_ids = document_retrieval_ner_para(df, ner_vectorizer, ner_tfidf, para_vectorizer, para_tfidf, query)\n",
    "if retrieved_doc_ids:\n",
    "    print(df.iloc[[i[0] for i in retrieved_doc_ids], df.columns.get_loc('context')].apply(lambda x: [i.strip() for i in x.split('.') if len(i)>1]))"
   ]
  },
  {
   "cell_type": "code",
   "execution_count": null,
   "id": "authentic-differential",
   "metadata": {},
   "outputs": [],
   "source": []
  },
  {
   "cell_type": "code",
   "execution_count": null,
   "id": "entitled-thanksgiving",
   "metadata": {},
   "outputs": [],
   "source": []
  },
  {
   "cell_type": "code",
   "execution_count": null,
   "id": "gothic-winner",
   "metadata": {},
   "outputs": [],
   "source": []
  },
  {
   "cell_type": "code",
   "execution_count": null,
   "id": "adjustable-rebel",
   "metadata": {},
   "outputs": [],
   "source": []
  },
  {
   "cell_type": "code",
   "execution_count": null,
   "id": "union-duncan",
   "metadata": {},
   "outputs": [],
   "source": []
  },
  {
   "cell_type": "code",
   "execution_count": null,
   "id": "dependent-minnesota",
   "metadata": {},
   "outputs": [],
   "source": []
  },
  {
   "cell_type": "code",
   "execution_count": null,
   "id": "artificial-illness",
   "metadata": {},
   "outputs": [],
   "source": []
  },
  {
   "cell_type": "code",
   "execution_count": null,
   "id": "grateful-airline",
   "metadata": {},
   "outputs": [],
   "source": []
  },
  {
   "cell_type": "code",
   "execution_count": null,
   "id": "according-seattle",
   "metadata": {},
   "outputs": [],
   "source": []
  },
  {
   "cell_type": "code",
   "execution_count": 12,
   "id": "restricted-alert",
   "metadata": {},
   "outputs": [
    {
     "ename": "NameError",
     "evalue": "name 'df' is not defined",
     "output_type": "error",
     "traceback": [
      "\u001b[1;31m---------------------------------------------------------------------------\u001b[0m",
      "\u001b[1;31mNameError\u001b[0m                                 Traceback (most recent call last)",
      "\u001b[1;32m<ipython-input-12-be2e29a3d272>\u001b[0m in \u001b[0;36m<module>\u001b[1;34m\u001b[0m\n\u001b[0;32m      1\u001b[0m \u001b[0mner_vectorizer\u001b[0m \u001b[1;33m=\u001b[0m \u001b[0mTfidfVectorizer\u001b[0m\u001b[1;33m(\u001b[0m\u001b[1;33m)\u001b[0m\u001b[1;33m\u001b[0m\u001b[1;33m\u001b[0m\u001b[0m\n\u001b[0;32m      2\u001b[0m \u001b[0mcontext_vectorizer\u001b[0m \u001b[1;33m=\u001b[0m \u001b[0mTfidfVectorizer\u001b[0m\u001b[1;33m(\u001b[0m\u001b[1;33m)\u001b[0m\u001b[1;33m\u001b[0m\u001b[1;33m\u001b[0m\u001b[0m\n\u001b[1;32m----> 3\u001b[1;33m \u001b[0mner_tfidf\u001b[0m \u001b[1;33m=\u001b[0m \u001b[0mner_vectorizer\u001b[0m\u001b[1;33m.\u001b[0m\u001b[0mfit_transform\u001b[0m\u001b[1;33m(\u001b[0m\u001b[0mdf\u001b[0m\u001b[1;33m[\u001b[0m\u001b[1;34m'ner_combined'\u001b[0m\u001b[1;33m]\u001b[0m\u001b[1;33m)\u001b[0m\u001b[1;33m\u001b[0m\u001b[1;33m\u001b[0m\u001b[0m\n\u001b[0m\u001b[0;32m      4\u001b[0m \u001b[0mcontext_tfidf\u001b[0m \u001b[1;33m=\u001b[0m \u001b[0mcontext_vectorizer\u001b[0m\u001b[1;33m.\u001b[0m\u001b[0mfit_transform\u001b[0m\u001b[1;33m(\u001b[0m\u001b[0mdf\u001b[0m\u001b[1;33m[\u001b[0m\u001b[1;34m'cleaned_lowercase_nostop'\u001b[0m\u001b[1;33m]\u001b[0m\u001b[1;33m)\u001b[0m\u001b[1;33m\u001b[0m\u001b[1;33m\u001b[0m\u001b[0m\n",
      "\u001b[1;31mNameError\u001b[0m: name 'df' is not defined"
     ]
    }
   ],
   "source": [
    "ner_vectorizer = TfidfVectorizer()\n",
    "context_vectorizer = TfidfVectorizer()\n",
    "ner_tfidf = ner_vectorizer.fit_transform(df['ner_combined'])\n",
    "context_tfidf = context_vectorizer.fit_transform(df['cleaned_lowercase_nostop'])"
   ]
  },
  {
   "cell_type": "code",
   "execution_count": 48,
   "id": "beginning-craft",
   "metadata": {},
   "outputs": [],
   "source": [
    "def get_ner_matching_docs(query):\n",
    "    for_ner_matching = re.sub('[%s]' % re.escape(string.punctuation), '', query)\n",
    "    for_ner_matching = re.sub('\\s{2,}', \" \", for_ner_matching).lower()\n",
    "    for_ner_matching = ' '.join([word for word in for_ner_matching.split() if word not in stop_words])\n",
    "    \n",
    "    ner_matching_ids = get_similar_doc(ner_vectorizer, ner_tfidf, for_ner_matching)\n",
    "    \n",
    "    # to add: context tfidf\n",
    "    \n",
    "    return df.iloc[ner_matching_ids, df.columns.get_loc('context')]"
   ]
  },
  {
   "cell_type": "code",
   "execution_count": 91,
   "id": "serious-egyptian",
   "metadata": {},
   "outputs": [
    {
     "name": "stdout",
     "output_type": "stream",
     "text": [
      "16750    at certain times of the year, the queen mary 2, queen elizabeth and queen victoria may all visit southampton at the same time, in an event commonly called 'arrival of the three queens'.                                                                                                                                                                                                                                                                                                                                                                                                                                                                                                                                                                                                                                                                                                                                  \n",
      "21630    after the first world war, however, it became apparent that the number of mixed-race people was growing at a faster rate than the white population, and by 1930 fear of the \"half-caste menace\" undermining the white australia ideal from within was being taken as a serious concern. dr. cecil cook, the northern territory protector of natives, noted that:                                                                                                                                                                                                                                                                                                                                                                                                                                                                                                                                                           \n",
      "37151    during world war ii, the palace was bombed nine times, the most serious and publicised of which resulted in the destruction of the palace chapel in 1940. coverage of this event was played in cinemas all over the uk to show the common suffering of rich and poor. one bomb fell in the palace quadrangle while king george vi and queen elizabeth were in residence, and many windows were blown in and the chapel destroyed. war-time coverage of such incidents was severely restricted, however. the king and queen were filmed inspecting their bombed home, the smiling queen, as always, immaculately dressed in a hat and matching coat seemingly unbothered by the damage around her. it was at this time the queen famously declared: \"i'm glad we have been bombed. now i can look the east end in the face\". the royal family were seen as sharing their subjects' hardship, as the sunday graphic reported:\n",
      "Name: context, dtype: object\n"
     ]
    }
   ],
   "source": [
    "# print(get_ner_matching_docs('when was donald trump elected'))\n",
    "print(get_ner_matching_docs(\"Where did a protector put a notice because of Queen Victoria's lack of public appearances in March of 1864\"))"
   ]
  },
  {
   "cell_type": "code",
   "execution_count": 96,
   "id": "temporal-drinking",
   "metadata": {},
   "outputs": [
    {
     "name": "stdout",
     "output_type": "stream",
     "text": [
      "35079    between april 1877 and february 1878, she threatened five times to abdicate while pressuring disraeli to act against russia during the russo-turkish war, but her threats had no impact on the events or their conclusion with the congress of berlin. disraeli's expansionist foreign policy, which victoria endorsed, led to conflicts such as the anglo-zulu war and the second anglo-afghan war. \"if we are to maintain our position as a first-rate power\", she wrote, \"we must ... be prepared for attacks and wars, somewhere or other, continually.\" victoria saw the expansion of the british empire as civilising and benign, protecting native peoples from more aggressive powers or cruel rulers: \"it is not in our custom to annexe countries\", she said, \"unless we are obliged & forced to do so.\" to victoria's dismay, disraeli lost the 1880 general election, and gladstone returned as prime minister. when disraeli died the following year, she was blinded by \"fast falling tears\", and erected a memorial tablet \"placed by his grateful sovereign and friend, victoria r.i.\"\n",
      "34740    palmerston died in 1865, and after a brief ministry led by russell, derby returned to power. in 1866, victoria attended the state opening of parliament for the first time since albert's death. the following year she supported the passing of the reform act 1867 which doubled the electorate by extending the franchise to many urban working men, though she was not in favour of votes for women. derby resigned in 1868, to be replaced by benjamin disraeli, who charmed victoria. \"everyone likes flattery,\" he said, \"and when you come to royalty you should lay it on with a trowel.\" with the phrase \"we authors, ma'am\", he complimented her. disraeli's ministry only lasted a matter of months, and at the end of the year his liberal rival, william ewart gladstone, was appointed prime minister. victoria found gladstone's demeanour far less appealing; he spoke to her, she is thought to have complained, as though she were \"a public meeting rather than a woman\".                                                                                                         \n",
      "35135    in the 1874 general election, disraeli was returned to power. he passed the public worship regulation act 1874, which removed catholic rituals from the anglican liturgy and which victoria strongly supported. she preferred short, simple services, and personally considered herself more aligned with the presbyterian church of scotland than the episcopal church of england. he also pushed the royal titles act 1876 through parliament, so that victoria took the title \"empress of india\" from 1 may 1876. the new title was proclaimed at the delhi durbar of 1 january 1877.                                                                                                                                                                                                                                                                                                                                                                                                                                                                                                              \n",
      "Name: context, dtype: object\n"
     ]
    }
   ],
   "source": [
    "print(get_ner_matching_docs(\"Who did Victoria try to convince Disraeli  to act against during the Russo-Turkish war\"))"
   ]
  },
  {
   "cell_type": "code",
   "execution_count": null,
   "id": "prime-tobacco",
   "metadata": {},
   "outputs": [],
   "source": [
    "# def \n",
    "#     q1 = ner\n",
    "#     q2 = tfidf context\n",
    "    \n",
    "#     if overlap:\n",
    "#         return overlap\n",
    "#     else:\n",
    "        "
   ]
  },
  {
   "cell_type": "code",
   "execution_count": null,
   "id": "chicken-newsletter",
   "metadata": {},
   "outputs": [],
   "source": []
  },
  {
   "cell_type": "code",
   "execution_count": null,
   "id": "minute-museum",
   "metadata": {},
   "outputs": [],
   "source": []
  },
  {
   "cell_type": "code",
   "execution_count": null,
   "id": "after-publicity",
   "metadata": {},
   "outputs": [],
   "source": []
  },
  {
   "cell_type": "markdown",
   "id": "grave-brush",
   "metadata": {},
   "source": [
    "## TF-IF Context Querying"
   ]
  },
  {
   "cell_type": "code",
   "execution_count": null,
   "id": "catholic-excuse",
   "metadata": {},
   "outputs": [],
   "source": [
    "vectorizer = TfidfVectorizer()\n",
    "tfidf = vectorizer.fit_transform(df['cleaned_context'])"
   ]
  },
  {
   "cell_type": "code",
   "execution_count": null,
   "id": "pretty-endorsement",
   "metadata": {},
   "outputs": [],
   "source": [
    "print(tfidf.shape)"
   ]
  },
  {
   "cell_type": "code",
   "execution_count": 47,
   "id": "eligible-means",
   "metadata": {},
   "outputs": [],
   "source": [
    "def get_similar_doc(tfidfvectorizer, docs_tfidf, query):\n",
    "    \"\"\"\n",
    "    vectorizer: TfIdfVectorizer model\n",
    "    docs_tfidf: tfidf vectors for all docs\n",
    "    query: query doc\n",
    "\n",
    "    return: doc with highest tf-idf cosine similarity\n",
    "    \"\"\"\n",
    "    \n",
    "    query_tfidf = tfidfvectorizer.transform([query])\n",
    "    cosineSimilarities = cosine_similarity(query_tfidf, docs_tfidf).flatten()\n",
    "    cosineSimilarities = np.array(cosineSimilarities)\n",
    "    return cosineSimilarities.argsort()[-3:][::-1]\n",
    "\n",
    "def get_relevant_sentence(doc_ids, query):\n",
    "    docs = df.iloc[doc_ids, df.columns.get_loc('context')].apply(lambda x: [i.strip() for i in x.split('.') if len(i)>1])\n",
    "    sentences = []\n",
    "    for doc in docs:\n",
    "        for sentence in doc:\n",
    "            sentences.append(sentence)\n",
    "\n",
    "    vectorizer = S2vectorizer()\n",
    "    vectorizer.bert([query] + sentences)\n",
    "    vectors = vectorizer.vectors\n",
    "    query_vec, other_vec = vectors[0], vectors[1:]\n",
    "    \n",
    "    print(\"----- Sentences Retrieved: -----\")\n",
    "    for idx, sentence in enumerate(sentences):\n",
    "        print(f\"{idx}. {sentence}\")\n",
    "    \n",
    "    distances = distance.cdist([query_vec], other_vec, \"cosine\")[0]\n",
    "    min_index = np.argmin(distances)\n",
    "#     min_distance = distances[min_index]\n",
    "#     max_similarity = 1 - min_distance\n",
    "    return sentences[min_index]\n",
    "    \n",
    "def get_answer(query):\n",
    "    query = re.sub('[%s]' % re.escape(string.punctuation), '', query)\n",
    "    query = re.sub('\\s{2,}', \" \", query).lower()\n",
    "    most_similar_doc_ids = get_similar_doc(vectorizer, tfidf, query)\n",
    "    return get_relevant_sentence(most_similar_doc_ids, query)"
   ]
  },
  {
   "cell_type": "code",
   "execution_count": null,
   "id": "naked-nickel",
   "metadata": {},
   "outputs": [],
   "source": [
    "get_answer(\"when did the group release their multi-platinum second album The Writing's on the Wall?\")"
   ]
  },
  {
   "cell_type": "markdown",
   "id": "dirty-transport",
   "metadata": {},
   "source": [
    "## Gigi"
   ]
  },
  {
   "cell_type": "markdown",
   "id": "forty-guarantee",
   "metadata": {},
   "source": [
    "### infersent"
   ]
  },
  {
   "cell_type": "code",
   "execution_count": 115,
   "id": "continuing-luther",
   "metadata": {},
   "outputs": [],
   "source": [
    "def clean_lowercase_punc_nostop(text):\n",
    "    text = ' '.join([word for word in text.split() if word not in stop_words])\n",
    "#     text = re.sub('[%s]' % re.escape(string.punctuation), ' ', text)\n",
    "    text = re.sub('\\s{2,}', \" \", text)\n",
    "    text = unidecode(text)\n",
    "    return text.lower()"
   ]
  },
  {
   "cell_type": "code",
   "execution_count": 116,
   "id": "fallen-directory",
   "metadata": {},
   "outputs": [
    {
     "data": {
      "application/vnd.jupyter.widget-view+json": {
       "model_id": "0a28e3acbf4d441986f3140332c9ece8",
       "version_major": 2,
       "version_minor": 0
      },
      "text/plain": [
       "HBox(children=(FloatProgress(value=0.0, max=18877.0), HTML(value='')))"
      ]
     },
     "metadata": {},
     "output_type": "display_data"
    },
    {
     "name": "stdout",
     "output_type": "stream",
     "text": [
      "\n"
     ]
    }
   ],
   "source": [
    "df_infersent = pd.read_csv('../data/SQuAD_csv.csv', encoding='utf-8').loc[:, ['context']]\n",
    "df_infersent = df_infersent.drop_duplicates(subset=['context'])\n",
    "\n",
    "df_infersent['context'] = df_infersent['context'].apply(lambda x: str(x).lower())\n",
    "df_infersent['cleaned_lowercase_punc_nostop'] = df['context'].progress_apply(clean_lowercase_punc_nostop)"
   ]
  },
  {
   "cell_type": "code",
   "execution_count": 127,
   "id": "corresponding-services",
   "metadata": {},
   "outputs": [
    {
     "data": {
      "text/html": [
       "<div>\n",
       "<style scoped>\n",
       "    .dataframe tbody tr th:only-of-type {\n",
       "        vertical-align: middle;\n",
       "    }\n",
       "\n",
       "    .dataframe tbody tr th {\n",
       "        vertical-align: top;\n",
       "    }\n",
       "\n",
       "    .dataframe thead th {\n",
       "        text-align: right;\n",
       "    }\n",
       "</style>\n",
       "<table border=\"1\" class=\"dataframe\">\n",
       "  <thead>\n",
       "    <tr style=\"text-align: right;\">\n",
       "      <th></th>\n",
       "      <th>context</th>\n",
       "      <th>cleaned_lowercase_punc_nostop</th>\n",
       "    </tr>\n",
       "  </thead>\n",
       "  <tbody>\n",
       "    <tr>\n",
       "      <th>0</th>\n",
       "      <td>beyoncé giselle knowles-carter (/biːˈjɒnseɪ/ bee-yon-say) (born september 4, 1981) is an american singer, songwriter, record producer and actress. born and raised in houston, texas, she performed in various singing and dancing competitions as a child, and rose to fame in the late 1990s as lead singer of r&amp;b girl-group destiny's child. managed by her father, mathew knowles, the group became one of the world's best-selling girl groups of all time. their hiatus saw the release of beyoncé's debut album, dangerously in love (2003), which established her as a solo artist worldwide, earned five grammy awards and featured the billboard hot 100 number-one singles \"crazy in love\" and \"baby boy\".</td>\n",
       "      <td>beyonce giselle knowles-carter (/bi:'jansei/ bee-yon-say) (born september 4, 1981) american singer, songwriter, record producer actress. born raised houston, texas, performed various singing dancing competitions child, rose fame late 1990s lead singer r&amp;b girl-group destiny's child. managed father, mathew knowles, group became one world's best-selling girl groups time. hiatus saw release beyonce's debut album, dangerously love (2003), established solo artist worldwide, earned five grammy awards featured billboard hot 100 number-one singles \"crazy love\" \"baby boy\".</td>\n",
       "    </tr>\n",
       "    <tr>\n",
       "      <th>15</th>\n",
       "      <td>following the disbandment of destiny's child in june 2005, she released her second solo album, b'day (2006), which contained hits \"déjà vu\", \"irreplaceable\", and \"beautiful liar\". beyoncé also ventured into acting, with a golden globe-nominated performance in dreamgirls (2006), and starring roles in the pink panther (2006) and obsessed (2009). her marriage to rapper jay z and portrayal of etta james in cadillac records (2008) influenced her third album, i am... sasha fierce (2008), which saw the birth of her alter-ego sasha fierce and earned a record-setting six grammy awards in 2010, including song of the year for \"single ladies (put a ring on it)\". beyoncé took a hiatus from music in 2010 and took over management of her career; her fourth album 4 (2011) was subsequently mellower in tone, exploring 1970s funk, 1980s pop, and 1990s soul. her critically acclaimed fifth studio album, beyoncé (2013), was distinguished from previous releases by its experimental production and exploration of darker themes.</td>\n",
       "      <td>following disbandment destiny's child june 2005, released second solo album, b'day (2006), contained hits \"deja vu\", \"irreplaceable\", \"beautiful liar\". beyonce also ventured acting, golden globe-nominated performance dreamgirls (2006), starring roles pink panther (2006) obsessed (2009). marriage rapper jay z portrayal etta james cadillac records (2008) influenced third album, am... sasha fierce (2008), saw birth alter-ego sasha fierce earned record-setting six grammy awards 2010, including song year \"single ladies (put ring it)\". beyonce took hiatus music 2010 took management career; fourth album 4 (2011) subsequently mellower tone, exploring 1970s funk, 1980s pop, 1990s soul. critically acclaimed fifth studio album, beyonce (2013), distinguished previous releases experimental production exploration darker themes.</td>\n",
       "    </tr>\n",
       "    <tr>\n",
       "      <th>27</th>\n",
       "      <td>a self-described \"modern-day feminist\", beyoncé creates songs that are often characterized by themes of love, relationships, and monogamy, as well as female sexuality and empowerment. on stage, her dynamic, highly choreographed performances have led to critics hailing her as one of the best entertainers in contemporary popular music. throughout a career spanning 19 years, she has sold over 118 million records as a solo artist, and a further 60 million with destiny's child, making her one of the best-selling music artists of all time. she has won 20 grammy awards and is the most nominated woman in the award's history. the recording industry association of america recognized her as the top certified artist in america during the 2000s decade. in 2009, billboard named her the top radio songs artist of the decade, the top female artist of the 2000s and their artist of the millennium in 2011. time listed her among the 100 most influential people in the world in 2013 and 2014. forbes magazine also listed her as the most powerful female musician of 2015.</td>\n",
       "      <td>self-described \"modern-day feminist\", beyonce creates songs often characterized themes love, relationships, monogamy, well female sexuality empowerment. stage, dynamic, highly choreographed performances led critics hailing one best entertainers contemporary popular music. throughout career spanning 19 years, sold 118 million records solo artist, 60 million destiny's child, making one best-selling music artists time. 20 grammy awards nominated woman award's history. recording industry association america recognized top certified artist america 2000s decade. 2009, billboard named top radio songs artist decade, top female artist 2000s artist millennium 2011. time listed among 100 influential people world 2013 2014. forbes magazine also listed powerful female musician 2015.</td>\n",
       "    </tr>\n",
       "    <tr>\n",
       "      <th>39</th>\n",
       "      <td>beyoncé giselle knowles was born in houston, texas, to celestine ann \"tina\" knowles (née beyincé), a hairdresser and salon owner, and mathew knowles, a xerox sales manager. beyoncé's name is a tribute to her mother's maiden name. beyoncé's younger sister solange is also a singer and a former member of destiny's child. mathew is african-american, while tina is of louisiana creole descent (with african, native american, french, cajun, and distant irish and spanish ancestry). through her mother, beyoncé is a descendant of acadian leader joseph broussard. she was raised in a methodist household.</td>\n",
       "      <td>beyonce giselle knowles born houston, texas, celestine ann \"tina\" knowles (nee beyince), hairdresser salon owner, mathew knowles, xerox sales manager. beyonce's name tribute mother's maiden name. beyonce's younger sister solange also singer former member destiny's child. mathew african-american, tina louisiana creole descent (with african, native american, french, cajun, distant irish spanish ancestry). mother, beyonce descendant acadian leader joseph broussard. raised methodist household.</td>\n",
       "    </tr>\n",
       "    <tr>\n",
       "      <th>52</th>\n",
       "      <td>beyoncé attended st. mary's elementary school in fredericksburg, texas, where she enrolled in dance classes. her singing talent was discovered when dance instructor darlette johnson began humming a song and she finished it, able to hit the high-pitched notes. beyoncé's interest in music and performing continued after winning a school talent show at age seven, singing john lennon's \"imagine\" to beat 15/16-year-olds. in fall of 1990, beyoncé enrolled in parker elementary school, a music magnet school in houston, where she would perform with the school's choir. she also attended the high school for the performing and visual arts and later alief elsik high school. beyoncé was also a member of the choir at st. john's united methodist church as a soloist for two years.</td>\n",
       "      <td>beyonce attended st. mary's elementary school fredericksburg, texas, enrolled dance classes. singing talent discovered dance instructor darlette johnson began humming song finished it, able hit high-pitched notes. beyonce's interest music performing continued winning school talent show age seven, singing john lennon's \"imagine\" beat 15/16-year-olds. fall 1990, beyonce enrolled parker elementary school, music magnet school houston, would perform school's choir. also attended high school performing visual arts later alief elsik high school. beyonce also member choir st. john's united methodist church soloist two years.</td>\n",
       "    </tr>\n",
       "  </tbody>\n",
       "</table>\n",
       "</div>"
      ],
      "text/plain": [
       "                                                                                                                                                                                                                                                                                                                                                                                                                                                                                                                                                                                                                                                                                                                                                                                                                                                                                                                                                                                                                                                                                                   context                                                                                                                                                                                                                                                                                                                                                                                                                                                                                                                                                                                                                                                                                                                                                                                                                              cleaned_lowercase_punc_nostop\n",
       "0   beyoncé giselle knowles-carter (/biːˈjɒnseɪ/ bee-yon-say) (born september 4, 1981) is an american singer, songwriter, record producer and actress. born and raised in houston, texas, she performed in various singing and dancing competitions as a child, and rose to fame in the late 1990s as lead singer of r&b girl-group destiny's child. managed by her father, mathew knowles, the group became one of the world's best-selling girl groups of all time. their hiatus saw the release of beyoncé's debut album, dangerously in love (2003), which established her as a solo artist worldwide, earned five grammy awards and featured the billboard hot 100 number-one singles \"crazy in love\" and \"baby boy\".                                                                                                                                                                                                                                                                                                                                                                                  beyonce giselle knowles-carter (/bi:'jansei/ bee-yon-say) (born september 4, 1981) american singer, songwriter, record producer actress. born raised houston, texas, performed various singing dancing competitions child, rose fame late 1990s lead singer r&b girl-group destiny's child. managed father, mathew knowles, group became one world's best-selling girl groups time. hiatus saw release beyonce's debut album, dangerously love (2003), established solo artist worldwide, earned five grammy awards featured billboard hot 100 number-one singles \"crazy love\" \"baby boy\".                                                                                                                                                                                                                                                               \n",
       "15  following the disbandment of destiny's child in june 2005, she released her second solo album, b'day (2006), which contained hits \"déjà vu\", \"irreplaceable\", and \"beautiful liar\". beyoncé also ventured into acting, with a golden globe-nominated performance in dreamgirls (2006), and starring roles in the pink panther (2006) and obsessed (2009). her marriage to rapper jay z and portrayal of etta james in cadillac records (2008) influenced her third album, i am... sasha fierce (2008), which saw the birth of her alter-ego sasha fierce and earned a record-setting six grammy awards in 2010, including song of the year for \"single ladies (put a ring on it)\". beyoncé took a hiatus from music in 2010 and took over management of her career; her fourth album 4 (2011) was subsequently mellower in tone, exploring 1970s funk, 1980s pop, and 1990s soul. her critically acclaimed fifth studio album, beyoncé (2013), was distinguished from previous releases by its experimental production and exploration of darker themes.                                                following disbandment destiny's child june 2005, released second solo album, b'day (2006), contained hits \"deja vu\", \"irreplaceable\", \"beautiful liar\". beyonce also ventured acting, golden globe-nominated performance dreamgirls (2006), starring roles pink panther (2006) obsessed (2009). marriage rapper jay z portrayal etta james cadillac records (2008) influenced third album, am... sasha fierce (2008), saw birth alter-ego sasha fierce earned record-setting six grammy awards 2010, including song year \"single ladies (put ring it)\". beyonce took hiatus music 2010 took management career; fourth album 4 (2011) subsequently mellower tone, exploring 1970s funk, 1980s pop, 1990s soul. critically acclaimed fifth studio album, beyonce (2013), distinguished previous releases experimental production exploration darker themes.\n",
       "27  a self-described \"modern-day feminist\", beyoncé creates songs that are often characterized by themes of love, relationships, and monogamy, as well as female sexuality and empowerment. on stage, her dynamic, highly choreographed performances have led to critics hailing her as one of the best entertainers in contemporary popular music. throughout a career spanning 19 years, she has sold over 118 million records as a solo artist, and a further 60 million with destiny's child, making her one of the best-selling music artists of all time. she has won 20 grammy awards and is the most nominated woman in the award's history. the recording industry association of america recognized her as the top certified artist in america during the 2000s decade. in 2009, billboard named her the top radio songs artist of the decade, the top female artist of the 2000s and their artist of the millennium in 2011. time listed her among the 100 most influential people in the world in 2013 and 2014. forbes magazine also listed her as the most powerful female musician of 2015.  self-described \"modern-day feminist\", beyonce creates songs often characterized themes love, relationships, monogamy, well female sexuality empowerment. stage, dynamic, highly choreographed performances led critics hailing one best entertainers contemporary popular music. throughout career spanning 19 years, sold 118 million records solo artist, 60 million destiny's child, making one best-selling music artists time. 20 grammy awards nominated woman award's history. recording industry association america recognized top certified artist america 2000s decade. 2009, billboard named top radio songs artist decade, top female artist 2000s artist millennium 2011. time listed among 100 influential people world 2013 2014. forbes magazine also listed powerful female musician 2015.                                             \n",
       "39  beyoncé giselle knowles was born in houston, texas, to celestine ann \"tina\" knowles (née beyincé), a hairdresser and salon owner, and mathew knowles, a xerox sales manager. beyoncé's name is a tribute to her mother's maiden name. beyoncé's younger sister solange is also a singer and a former member of destiny's child. mathew is african-american, while tina is of louisiana creole descent (with african, native american, french, cajun, and distant irish and spanish ancestry). through her mother, beyoncé is a descendant of acadian leader joseph broussard. she was raised in a methodist household.                                                                                                                                                                                                                                                                                                                                                                                                                                                                                  beyonce giselle knowles born houston, texas, celestine ann \"tina\" knowles (nee beyince), hairdresser salon owner, mathew knowles, xerox sales manager. beyonce's name tribute mother's maiden name. beyonce's younger sister solange also singer former member destiny's child. mathew african-american, tina louisiana creole descent (with african, native american, french, cajun, distant irish spanish ancestry). mother, beyonce descendant acadian leader joseph broussard. raised methodist household.                                                                                                                                                                                                                                                                                                                                           \n",
       "52  beyoncé attended st. mary's elementary school in fredericksburg, texas, where she enrolled in dance classes. her singing talent was discovered when dance instructor darlette johnson began humming a song and she finished it, able to hit the high-pitched notes. beyoncé's interest in music and performing continued after winning a school talent show at age seven, singing john lennon's \"imagine\" to beat 15/16-year-olds. in fall of 1990, beyoncé enrolled in parker elementary school, a music magnet school in houston, where she would perform with the school's choir. she also attended the high school for the performing and visual arts and later alief elsik high school. beyoncé was also a member of the choir at st. john's united methodist church as a soloist for two years.                                                                                                                                                                                                                                                                                                   beyonce attended st. mary's elementary school fredericksburg, texas, enrolled dance classes. singing talent discovered dance instructor darlette johnson began humming song finished it, able hit high-pitched notes. beyonce's interest music performing continued winning school talent show age seven, singing john lennon's \"imagine\" beat 15/16-year-olds. fall 1990, beyonce enrolled parker elementary school, music magnet school houston, would perform school's choir. also attended high school performing visual arts later alief elsik high school. beyonce also member choir st. john's united methodist church soloist two years.                                                                                                                                                                                                         "
      ]
     },
     "execution_count": 127,
     "metadata": {},
     "output_type": "execute_result"
    }
   ],
   "source": [
    "df_infersent.head()"
   ]
  },
  {
   "cell_type": "code",
   "execution_count": 130,
   "id": "wanted-starter",
   "metadata": {},
   "outputs": [],
   "source": [
    "infersent_vectorizer = TfidfVectorizer()\n",
    "# infersent_tfidf = infersent_vectorizer.fit_transform(df['cleaned_lowercase_nostop'])\n",
    "infersent_tfidf = infersent_vectorizer.fit_transform(df_infersent['cleaned_lowercase_punc_nostop'])\n",
    "\n",
    "def cosine(u, v):\n",
    "    return np.dot(u, v) / (np.linalg.norm(u) * np.linalg.norm(v))\n",
    "\n",
    "def get_similar_doc_infersent(tfidfvectorizer, docs_tfidf, query):\n",
    "    \"\"\"\n",
    "    vectorizer: TfIdfVectorizer model\n",
    "    docs_tfidf: tfidf vectors for all docs\n",
    "    query: query doc\n",
    "\n",
    "    return: doc with highest tf-idf cosine similarity\n",
    "    \"\"\"\n",
    "    \n",
    "    query_tfidf = tfidfvectorizer.transform([query])\n",
    "    cosineSimilarities = cosine_similarity(query_tfidf, docs_tfidf).flatten()\n",
    "    cosineSimilarities = np.array(cosineSimilarities)\n",
    "    return cosineSimilarities.argsort()[-3:][::-1]\n",
    "\n",
    "def get_sentences(doc_ids):\n",
    "#     docs = df.iloc[doc_ids, df.columns.get_loc('cleaned_lowercase_nostop')].apply(lambda x: [i.strip() for i in x.split('.') if len(i)>1])\n",
    "    docs = df.iloc[doc_ids, df_infersent.columns.get_loc('cleaned_lowercase_punc_nostop')].apply(lambda x: [i.strip() for i in x.split('.') if len(i)>1])\n",
    "    sentences = []\n",
    "    sentences = []\n",
    "    for doc in docs:\n",
    "        for sentence in doc:\n",
    "            sentences.append(sentence)\n",
    "    return sentences\n",
    "\n",
    "def infersent(sentences, query_vec):\n",
    "    similarity = []\n",
    "    for sent in sentences:\n",
    "        sim = cosine(query_vec, model.encode([sent])[0])\n",
    "        similarity.append((sent, sim))\n",
    "\n",
    "    return similarity\n",
    "# .sort(key=lambda x: x[1], reverse=True)\n",
    "\n",
    "    \n",
    "def get_answer_infersent(query):\n",
    "    query = re.sub('[%s]' % re.escape(string.punctuation), '', query)\n",
    "#     query = re.sub('\\s{2,}', \" \", query).lower()\n",
    "    most_similar_doc_ids = get_similar_doc_infersent(infersent_vectorizer, infersent_tfidf, query)\n",
    "    print(df_infersent.iloc[most_similar_doc_ids, df_infersent.columns.get_loc('context')])\n",
    "    sentences = get_sentences(most_similar_doc_ids)\n",
    "    model.build_vocab(sentences, tokenize=True)\n",
    "    query_vec = model.encode(query)[0]\n",
    "    \n",
    "    answers = infersent(sentences, query_vec)\n",
    "#     print(sorted(answers, key=lambda x: x[1]))\n",
    "    return sorted(answers, key=lambda x: x[1], reverse=True)\n"
   ]
  },
  {
   "cell_type": "code",
   "execution_count": null,
   "id": "neither-framework",
   "metadata": {},
   "outputs": [],
   "source": [
    "# ! mkdir encoder\n",
    "# ! curl -Lo encoder/infersent2.pkl https://dl.fbaipublicfiles.com/infersent/infersent2.pkl\n",
    "  \n",
    "# ! mkdir GloVe\n",
    "# ! curl -Lo GloVe/glove.840B.300d.zip http://nlp.stanford.edu/data/glove.840B.300d.zip\n",
    "# ! unzip GloVe/glove.840B.300d.zip -d GloVe/"
   ]
  },
  {
   "cell_type": "code",
   "execution_count": 123,
   "id": "brutal-bacon",
   "metadata": {},
   "outputs": [],
   "source": [
    "from models import InferSent\n",
    "import torch\n",
    "\n",
    "V = 2\n",
    "MODEL_PATH = 'encoder/infersent%s.pkl' % V\n",
    "params_model = {'bsize': 64, 'word_emb_dim': 300, 'enc_lstm_dim': 2048,\n",
    "                'pool_type': 'max', 'dpout_model': 0.0, 'version': V}\n",
    "model = InferSent(params_model)\n",
    "model.load_state_dict(torch.load(MODEL_PATH))\n",
    "\n",
    "W2V_PATH = 'GloVe/glove.840B.300d.txt'\n",
    "model.set_w2v_path(W2V_PATH)"
   ]
  },
  {
   "cell_type": "code",
   "execution_count": 131,
   "id": "clear-anaheim",
   "metadata": {},
   "outputs": [
    {
     "name": "stdout",
     "output_type": "stream",
     "text": [
      "16750    at certain times of the year, the queen mary 2, queen elizabeth and queen victoria may all visit southampton at the same time, in an event commonly called 'arrival of the three queens'.                                                                                                                                                                                                                                                                                                                                                                                                                                                                                                                                                                                                                                                                                                      \n",
      "35150    through victoria's reign, the gradual establishment of a modern constitutional monarchy in britain continued. reforms of the voting system increased the power of the house of commons at the expense of the house of lords and the monarch. in 1867, walter bagehot wrote that the monarch only retained \"the right to be consulted, the right to encourage, and the right to warn\". as victoria's monarchy became more symbolic than political, it placed a strong emphasis on morality and family values, in contrast to the sexual, financial and personal scandals that had been associated with previous members of the house of hanover and which had discredited the monarchy. the concept of the \"family monarchy\", with which the burgeoning middle classes could identify, was solidified.                                                                                          \n",
      "34993    eleven days after orsini's assassination attempt in france, victoria's eldest daughter married prince frederick william of prussia in london. they had been betrothed since september 1855, when princess victoria was 14 years old; the marriage was delayed by the queen and prince albert until the bride was 17. the queen and albert hoped that their daughter and son-in-law would be a liberalising influence in the enlarging prussian state. victoria felt \"sick at heart\" to see her daughter leave england for germany; \"it really makes me shudder\", she wrote to princess victoria in one of her frequent letters, \"when i look round to all your sweet, happy, unconscious sisters, and think i must give them up too – one by one.\" almost exactly a year later, princess victoria gave birth to the queen's first grandchild, wilhelm, who would become the last german kaiser.\n",
      "Name: context, dtype: object\n",
      "Found 148(/149) words with w2v vectors\n",
      "Vocab size : 148\n"
     ]
    },
    {
     "data": {
      "text/plain": [
       "[('certain times year queen mary 2 queen elizabeth queen victoria may visit southampton time event commonly called arrival three queens',\n",
       "  0.03225669),\n",
       " ('victoria s reign gradual establishment modern constitutional monarchy britain continued reforms voting system increased power house commons expense house lords monarch 1867 walter bagehot wrote monarch retained the right consulted right encourage right warn victoria s monarchy became symbolic political placed strong emphasis morality family values contrast sexual financial personal scandals associated previous members house hanover discredited monarchy concept family monarchy burgeoning middle classes could identify solidified',\n",
       "  -0.093323655),\n",
       " ('eleven days orsini s assassination attempt france victoria s eldest daughter married prince frederick william prussia london betrothed since september 1855 princess victoria 14 years old marriage delayed queen prince albert bride 17 queen albert hoped daughter son in law would liberalising influence enlarging prussian state victoria felt sick heart see daughter leave england germany it really makes shudder wrote princess victoria one frequent letters when look round sweet happy unconscious sisters think must give - one one almost exactly year later princess victoria gave birth queen s first grandchild wilhelm would become last german kaiser',\n",
       "  -0.10141287)]"
      ]
     },
     "execution_count": 131,
     "metadata": {},
     "output_type": "execute_result"
    }
   ],
   "source": [
    "get_answer_infersent(\"What kind of monarchy was formed under Queen Victoria\")"
   ]
  },
  {
   "cell_type": "code",
   "execution_count": 133,
   "id": "material-camera",
   "metadata": {},
   "outputs": [
    {
     "name": "stdout",
     "output_type": "stream",
     "text": [
      "85934    the city is home to many monuments and memorials, most notably those along monument avenue. other monuments include the a.p. hill monument, the bill \"bojangles\" robinson monument in jackson ward, the christopher columbus monument near byrd park, and the confederate soldiers and sailors monument on libby hill. located near byrd park is the famous world war i memorial carillon, a 56-bell carillon tower. dedicated in 1956, the virginia war memorial is located on belvedere overlooking the river, and is a monument to virginians who died in battle in world war ii, the korean war, the vietnam war, the gulf war, the war in afghanistan, and the iraq war.                                                                                                                                                         \n",
      "3381     the statue of liberty national monument and ellis island immigration museum are managed by the national park service and are in both the states of new york and new jersey. they are joined in the harbor by governors island national monument, in new york. historic sites under federal management on manhattan island include castle clinton national monument; federal hall national memorial; theodore roosevelt birthplace national historic site; general grant national memorial (\"grant's tomb\"); african burial ground national monument; and hamilton grange national memorial. hundreds of private properties are listed on the national register of historic places or as a national historic landmark such as, for example, the stonewall inn in greenwich village as the catalyst of the modern gay rights movement.  \n",
      "52244    on june 14, 1987, about 5,000 people gathered again at freedom monument in riga, and laid flowers to commemorate the anniversary of stalin's mass deportation of latvians in 1941. this was the first large demonstration in the baltic republics to commemorate the anniversary of an event contrary to official soviet history. the authorities did not crack down on demonstrators, which encouraged more and larger demonstrations throughout the baltic states. the next major anniversary after the august 23 molotov pact demonstration was on november 18, the date of latvia’s independence in 1918. on november 18, 1987, hundreds of police and civilian militiamen cordoned off the central square to prevent any demonstration at freedom monument, but thousands lined the streets of riga in silent protest regardless.\n",
      "Name: context, dtype: object\n",
      "Found 169(/169) words with w2v vectors\n",
      "Vocab size : 169\n"
     ]
    },
    {
     "data": {
      "text/plain": [
       "[(\"june 14 1987 5 000 people gathered freedom monument riga laid flowers commemorate anniversary stalin s mass deportation latvians 1941 first large demonstration baltic republics commemorate anniversary event contrary official soviet history authorities crack demonstrators encouraged larger demonstrations throughout baltic states next major anniversary august 23 molotov pact demonstration november 18 date latvia's independence 1918 november 18 1987 hundreds police civilian militiamen cordoned central square prevent demonstration freedom monument thousands lined streets riga silent protest regardless\",\n",
       "  -0.12536578),\n",
       " ('statue liberty national monument ellis island immigration museum managed national park service states new york new jersey joined harbor governors island national monument new york historic sites federal management manhattan island include castle clinton national monument federal hall national memorial theodore roosevelt birthplace national historic site general grant national memorial grant s tomb african burial ground national monument hamilton grange national memorial hundreds private properties listed national register historic places national historic landmark as example stonewall inn greenwich village catalyst modern gay rights movement',\n",
       "  -0.12647843),\n",
       " ('city home many monuments memorials notably along monument avenue monuments include a p hill monument bill bojangles robinson monument jackson ward christopher columbus monument near byrd park confederate soldiers sailors monument libby hill located near byrd park famous world war memorial carillon 56 bell carillon tower dedicated 1956 virginia war memorial located belvedere overlooking river monument virginians died battle world war ii korean war vietnam war gulf war war afghanistan iraq war',\n",
       "  -0.13662307)]"
      ]
     },
     "execution_count": 133,
     "metadata": {},
     "output_type": "execute_result"
    }
   ],
   "source": [
    "get_answer_infersent(\"Where is Freedom Monument\")"
   ]
  },
  {
   "cell_type": "markdown",
   "id": "logical-anger",
   "metadata": {},
   "source": [
    "### trigrams tfidf"
   ]
  },
  {
   "cell_type": "code",
   "execution_count": 30,
   "id": "joint-welsh",
   "metadata": {},
   "outputs": [
    {
     "data": {
      "application/vnd.jupyter.widget-view+json": {
       "model_id": "a73a2ad57ae142ed9b0122b93ca6d3cb",
       "version_major": 2,
       "version_minor": 0
      },
      "text/plain": [
       "HBox(children=(FloatProgress(value=0.0, max=18877.0), HTML(value='')))"
      ]
     },
     "metadata": {},
     "output_type": "display_data"
    },
    {
     "name": "stdout",
     "output_type": "stream",
     "text": [
      "\n"
     ]
    }
   ],
   "source": [
    "df = pd.read_csv('../data/SQuAD_csv.csv', encoding='utf-8').loc[:, ['context']]\n",
    "df = df.drop_duplicates(subset=['context'])\n",
    "\n",
    "df['context'] = df['context'].apply(lambda x: str(x).lower())\n",
    "df['cleaned_lowercase_nostop'] = df['context'].progress_apply(clean_lowercase_nostop)"
   ]
  },
  {
   "cell_type": "code",
   "execution_count": 63,
   "id": "further-solution",
   "metadata": {},
   "outputs": [
    {
     "name": "stderr",
     "output_type": "stream",
     "text": [
      "IOPub data rate exceeded.\n",
      "The notebook server will temporarily stop sending output\n",
      "to the client in order to avoid crashing it.\n",
      "To change this limit, set the config variable\n",
      "`--NotebookApp.iopub_data_rate_limit`.\n",
      "\n",
      "Current values:\n",
      "NotebookApp.iopub_data_rate_limit=1000000.0 (bytes/sec)\n",
      "NotebookApp.rate_limit_window=3.0 (secs)\n",
      "\n"
     ]
    },
    {
     "name": "stdout",
     "output_type": "stream",
     "text": [
      "\n",
      "\n",
      "X1 : \n",
      " [[0 0 0 ... 0 0 0]\n",
      " [0 0 0 ... 0 0 0]\n",
      " [0 0 0 ... 0 0 0]\n",
      " ...\n",
      " [0 0 0 ... 0 0 0]\n",
      " [0 0 0 ... 0 0 0]\n",
      " [0 0 0 ... 0 0 0]]\n",
      "\n",
      "\n",
      "Scores : \n",
      " [[0. 0. 0. ... 0. 0. 0.]\n",
      " [0. 0. 0. ... 0. 0. 0.]\n",
      " [0. 0. 0. ... 0. 0. 0.]\n",
      " ...\n",
      " [0. 0. 0. ... 0. 0. 0.]\n",
      " [0. 0. 0. ... 0. 0. 0.]\n",
      " [0. 0. 0. ... 0. 0. 0.]]\n"
     ]
    }
   ],
   "source": [
    "# Getting trigrams  \n",
    "trigram_vectorizer = CountVectorizer(ngram_range = (3,3)) \n",
    "X1 = trigram_vectorizer.fit_transform(df['cleaned_lowercase_nostop'])  \n",
    "features = (trigram_vectorizer.get_feature_names()) \n",
    "print(\"\\n\\nFeatures : \\n\", features) \n",
    "print(\"\\n\\nX1 : \\n\", X1.toarray()) \n",
    "  \n",
    "# Applying TFIDF \n",
    "trigram_vectorizer = TfidfVectorizer(ngram_range = (3,3)) \n",
    "trigram_tfidf = trigram_vectorizer.fit_transform(df['cleaned_lowercase_nostop']) \n",
    "scores = (trigram_tfidf.toarray()) \n",
    "print(\"\\n\\nScores : \\n\", scores) "
   ]
  },
  {
   "cell_type": "code",
   "execution_count": 64,
   "id": "sweet-canal",
   "metadata": {},
   "outputs": [],
   "source": [
    "def get_similar_doc_trigram(tfidfvectorizer, docs_tfidf, query):\n",
    "    query_tfidf = tfidfvectorizer.transform([query])\n",
    "    cosineSimilarities = cosine_similarity(query_tfidf, docs_tfidf).flatten()\n",
    "    cosineSimilarities = np.array(cosineSimilarities)\n",
    "    return cosineSimilarities.argsort()[-3:][::-1]\n",
    "\n",
    "def get_trigram_matching_docs(query):\n",
    "    for_trigram_matching = re.sub('[%s]' % re.escape(string.punctuation), '', query)\n",
    "    for_trigram_matching = re.sub('\\s{2,}', \" \", for_trigram_matching).lower()\n",
    "    for_trigram_matching = ' '.join([word for word in for_trigram_matching.split() if word not in stop_words])\n",
    "    \n",
    "    trigram_matching_ids = get_similar_doc_trigram(trigram_vectorizer, trigram_tfidf, for_trigram_matching)\n",
    "    \n",
    "    return df.iloc[trigram_matching_ids, df.columns.get_loc('context')]"
   ]
  },
  {
   "cell_type": "code",
   "execution_count": 78,
   "id": "harmful-python",
   "metadata": {},
   "outputs": [
    {
     "name": "stdout",
     "output_type": "stream",
     "text": [
      "86816    kathmandu metropolitan city (kmc), in order to promote international relations has established an international relations secretariat (irc). kmc's first international relationship was established in 1975 with the city of eugene, oregon, united states. this activity has been further enhanced by establishing formal relationships with 8 other cities: motsumoto city of japan, rochester of the usa, yangon (formerly rangoon) of myanmar, xi'an of the people's republic of china, minsk of belarus, and pyongyang of the democratic republic of korea. kmc's constant endeavor is to enhance its interaction with saarc countries, other international agencies and many other major cities of the world to achieve better urban management and developmental programs for kathmandu.              \n",
      "28025    according to the writer of luke, mary was a relative of elizabeth, wife of the priest zechariah of the priestly division of abijah, who was herself part of the lineage of aaron and so of the tribe of levi.[luke 1:5;1:36] some of those who consider that the relationship with elizabeth was on the maternal side, consider that mary, like joseph, to whom she was betrothed, was of the house of david and so of the tribe of judah, and that the genealogy of jesus presented in luke 3 from nathan, third son of david and bathsheba, is in fact the genealogy of mary,[need quotation to verify] while the genealogy from solomon given in matthew 1 is that of joseph. (aaron's wife elisheba was of the tribe of judah, so all their descendants are from both levi and judah.)[num.1:7 & ex.6:23]\n",
      "27946    the fbi often works in conjunction with other federal agencies, including the u.s. coast guard (uscg) and u.s. customs and border protection (cbp) in seaport and airport security, and the national transportation safety board in investigating airplane crashes and other critical incidents. immigration and customs enforcement homeland security investigations (ice-hsi) has nearly the same amount of investigative man power as the fbi, and investigates the largest range of crimes. in the wake of the september 11 attacks, then-attorney general ashcroft assigned the fbi as the designated lead organization in terrorism investigations after the creation of the u.s. department of homeland security. ice-hsi and the fbi are both integral members of the joint terrorism task force.    \n",
      "Name: context, dtype: object\n"
     ]
    }
   ],
   "source": [
    "print(get_trigram_matching_docs(\"When did Beyonce leave Destiny's Child and become a solo singer\"))"
   ]
  },
  {
   "cell_type": "markdown",
   "id": "whole-luxury",
   "metadata": {},
   "source": [
    "### bigram"
   ]
  },
  {
   "cell_type": "code",
   "execution_count": 31,
   "id": "taken-albuquerque",
   "metadata": {},
   "outputs": [
    {
     "name": "stderr",
     "output_type": "stream",
     "text": [
      "IOPub data rate exceeded.\n",
      "The notebook server will temporarily stop sending output\n",
      "to the client in order to avoid crashing it.\n",
      "To change this limit, set the config variable\n",
      "`--NotebookApp.iopub_data_rate_limit`.\n",
      "\n",
      "Current values:\n",
      "NotebookApp.iopub_data_rate_limit=1000000.0 (bytes/sec)\n",
      "NotebookApp.rate_limit_window=3.0 (secs)\n",
      "\n"
     ]
    },
    {
     "name": "stdout",
     "output_type": "stream",
     "text": [
      "\n",
      "\n",
      "X1 : \n",
      " [[0 0 0 ... 0 0 0]\n",
      " [0 0 0 ... 0 0 0]\n",
      " [0 0 0 ... 0 0 0]\n",
      " ...\n",
      " [0 0 0 ... 0 0 0]\n",
      " [0 0 0 ... 0 0 0]\n",
      " [0 0 0 ... 0 0 0]]\n",
      "\n",
      "\n",
      "Scores : \n",
      " [[0. 0. 0. ... 0. 0. 0.]\n",
      " [0. 0. 0. ... 0. 0. 0.]\n",
      " [0. 0. 0. ... 0. 0. 0.]\n",
      " ...\n",
      " [0. 0. 0. ... 0. 0. 0.]\n",
      " [0. 0. 0. ... 0. 0. 0.]\n",
      " [0. 0. 0. ... 0. 0. 0.]]\n"
     ]
    }
   ],
   "source": [
    "# Getting trigrams  \n",
    "bigram_vectorizer = CountVectorizer(ngram_range = (1,2)) \n",
    "bigram_X1 = bigram_vectorizer.fit_transform(df['cleaned_lowercase_nostop'])  \n",
    "bigram_features = (bigram_vectorizer.get_feature_names()) \n",
    "print(\"\\n\\nFeatures : \\n\", bigram_features) \n",
    "print(\"\\n\\nX1 : \\n\", bigram_X1.toarray()) \n",
    "  \n",
    "# Applying TFIDF \n",
    "bigram_vectorizer = TfidfVectorizer(ngram_range = (1,2)) \n",
    "bigram_tfidf = bigram_vectorizer.fit_transform(df['cleaned_lowercase_nostop']) \n",
    "bigram_scores = (bigram_tfidf.toarray()) \n",
    "print(\"\\n\\nScores : \\n\", bigram_scores) "
   ]
  },
  {
   "cell_type": "code",
   "execution_count": 34,
   "id": "governmental-amsterdam",
   "metadata": {},
   "outputs": [],
   "source": [
    "def get_similar_doc_bigram(tfidfvectorizer, docs_tfidf, query):\n",
    "    query_tfidf = tfidfvectorizer.transform([query])\n",
    "    cosineSimilarities = cosine_similarity(query_tfidf, docs_tfidf).flatten()\n",
    "    cosineSimilarities = np.array(cosineSimilarities)\n",
    "    return cosineSimilarities.argsort()[-10:][::-1]\n",
    "\n",
    "def get_bigram_matching_docs(for_bigram_matching):\n",
    "#     for_bigram_matching = re.sub('[%s]' % re.escape(string.punctuation), '', query)\n",
    "#     for_bigram_matching = re.sub('\\s{2,}', \" \", for_bigram_matching).lower()\n",
    "#     for_bigram_matching = ' '.join([word for word in for_bigram_matching.split() if word not in stop_words])\n",
    "    \n",
    "    bigram_matching_ids = get_similar_doc_bigram(bigram_vectorizer, bigram_tfidf, for_bigram_matching)\n",
    "    \n",
    "    return df.iloc[bigram_matching_ids, df.columns.get_loc('context')]\n",
    "\n",
    "def get_bigram_answer(query):\n",
    "    for_bigram_matching = re.sub('[%s]' % re.escape(string.punctuation), '', query)\n",
    "    for_bigram_matching = re.sub('\\s{2,}', \" \", for_bigram_matching).lower()\n",
    "    for_bigram_matching = ' '.join([wordnet_lemmatizer.lemmatize(word) for word in for_bigram_matching.split() if word not in stop_words])\n",
    "#     for_bigram_matching = ' '.join([ps.stem(word) for word in for_bigram_matching.split() if word not in stop_words])\n",
    "    print(\"Question:\", query)\n",
    "    print(\"Processed question:\", for_bigram_matching)\n",
    "    print()\n",
    "    \n",
    "    contexts = get_bigram_matching_docs(for_bigram_matching)\n",
    "    \n",
    "    counter = 1\n",
    "    for context in contexts:\n",
    "        print(\"Context\", counter, \":\")\n",
    "        print(context)\n",
    "        print(\"Answer:\")\n",
    "        print(nlp2(question=query, context=context)['answer'])\n",
    "        print()\n",
    "        print(\"=========================\")\n",
    "        print()\n",
    "        counter += 1\n",
    "        "
   ]
  },
  {
   "cell_type": "code",
   "execution_count": 18,
   "id": "fancy-institution",
   "metadata": {},
   "outputs": [
    {
     "data": {
      "text/plain": [
       "'running'"
      ]
     },
     "execution_count": 18,
     "metadata": {},
     "output_type": "execute_result"
    }
   ],
   "source": [
    "wordnet_lemmatizer.lemmatize('running')"
   ]
  },
  {
   "cell_type": "code",
   "execution_count": 14,
   "id": "metric-viking",
   "metadata": {},
   "outputs": [
    {
     "data": {
      "text/plain": [
       "'cat'"
      ]
     },
     "execution_count": 14,
     "metadata": {},
     "output_type": "execute_result"
    }
   ],
   "source": [
    "wordnet_lemmatizer.lemmatize(\"cats\")"
   ]
  },
  {
   "cell_type": "code",
   "execution_count": 26,
   "id": "confident-onion",
   "metadata": {},
   "outputs": [
    {
     "data": {
      "text/plain": [
       "'run'"
      ]
     },
     "execution_count": 26,
     "metadata": {},
     "output_type": "execute_result"
    }
   ],
   "source": [
    "ps.stem('running')"
   ]
  },
  {
   "cell_type": "code",
   "execution_count": 35,
   "id": "important-sudan",
   "metadata": {},
   "outputs": [
    {
     "name": "stdout",
     "output_type": "stream",
     "text": [
      "Question: In what city and state did Beyonce grow up? \n",
      "Processed question: city state beyonce grow\n",
      "\n",
      "Context 1 :\n",
      "in the new yorker music critic jody rosen described beyoncé as \"the most important and compelling popular musician of the twenty-first century..... the result, the logical end point, of a century-plus of pop.\" when the guardian named her artist of the decade, llewyn-smith wrote, \"why beyoncé? [...] because she made not one but two of the decade's greatest singles, with crazy in love and single ladies (put a ring on it), not to mention her hits with destiny's child; and this was the decade when singles – particularly r&b singles – regained their status as pop's favourite medium. [...] [she] and not any superannuated rock star was arguably the greatest live performer of the past 10 years.\" in 2013, beyoncé made the time 100 list, baz luhrmann writing \"no one has that voice, no one moves the way she moves, no one can hold an audience the way she does... when beyoncé does an album, when beyoncé sings a song, when beyoncé does anything, it's an event, and it's broadly influential. right now, she is the heir-apparent diva of the usa — the reigning national voice.\" in 2014, beyoncé was listed again on the time 100 and also featured on the cover of the issue.\n",
      "Answer:\n",
      "2013\n",
      "\n",
      "=========================\n",
      "\n",
      "Context 2 :\n",
      "beyoncé's music is generally r&b, but she also incorporates pop, soul and funk into her songs. 4 demonstrated beyoncé's exploration of 90s-style r&b, as well as further use of soul and hip hop than compared to previous releases. while she almost exclusively releases english songs, beyoncé recorded several spanish songs for irreemplazable (re-recordings of songs from b'day for a spanish-language audience), and the re-release of b'day. to record these, beyoncé was coached phonetically by american record producer rudy perez.\n",
      "Answer:\n",
      "coached phonetically by american\n",
      "\n",
      "=========================\n",
      "\n",
      "Context 3 :\n",
      "beyoncé is believed to have first started a relationship with jay z after a collaboration on \"'03 bonnie & clyde\", which appeared on his seventh album the blueprint 2: the gift & the curse (2002). beyoncé appeared as jay z's girlfriend in the music video for the song, which would further fuel speculation of their relationship. on april 4, 2008, beyoncé and jay z were married without publicity. as of april 2014, the couple have sold a combined 300 million records together. the couple are known for their private relationship, although they have appeared to become more relaxed in recent years. beyoncé suffered a miscarriage in 2010 or 2011, describing it as \"the saddest thing\" she had ever endured. she returned to the studio and wrote music in order to cope with the loss. in april 2011, beyoncé and jay z traveled to paris in order to shoot the album cover for her 4, and unexpectedly became pregnant in paris.\n",
      "Answer:\n",
      "paris\n",
      "\n",
      "=========================\n",
      "\n",
      "Context 4 :\n",
      "beyoncé has worked with pepsi since 2002, and in 2004 appeared in a gladiator-themed commercial with britney spears, pink, and enrique iglesias. in 2012, beyoncé signed a $50 million deal to endorse pepsi. the center for science in the public interest (cspinet) wrote beyoncé an open letter asking her to reconsider the deal because of the unhealthiness of the product and to donate the proceeds to a medical organisation. nevertheless, netbase found that beyoncé's campaign was the most talked about endorsement in april 2013, with a 70 per cent positive audience response to the commercial and print ads.\n",
      "Answer:\n",
      "2002\n",
      "\n",
      "=========================\n",
      "\n",
      "Context 5 :\n",
      "beyoncé participated in george clooney and wyclef jean's hope for haiti now: a global benefit for earthquake relief telethon and was named the official face of the limited edition cfda \"fashion for haiti\" t-shirt, made by theory which raised a total of $1 million. on march 5, 2010, beyoncé and her mother tina opened the beyoncé cosmetology center at the brooklyn phoenix house, offering a seven-month cosmetology training course for men and women. in april 2011, beyoncé joined forces with us first lady michelle obama and the national association of broadcasters education foundation, to help boost the latter's campaign against child obesity by reworking her single \"get me bodied\". following the death of osama bin laden, beyoncé released her cover of the lee greenwood song \"god bless the usa\", as a charity single to help raise funds for the new york police and fire widows' and children's benefit fund.\n",
      "Answer:\n",
      "beyoncé\n",
      "\n",
      "=========================\n",
      "\n",
      "Context 6 :\n",
      "in july 2002, beyoncé continued her acting career playing foxxy cleopatra alongside mike myers in the comedy film, austin powers in goldmember, which spent its first weekend atop the us box office and grossed $73 million. beyoncé released \"work it out\" as the lead single from its soundtrack album which entered the top ten in the uk, norway, and belgium. in 2003, beyoncé starred opposite cuba gooding, jr., in the musical comedy the fighting temptations as lilly, a single mother whom gooding's character falls in love with. the film received mixed reviews from critics but grossed $30 million in the u.s. beyoncé released \"fighting temptation\" as the lead single from the film's soundtrack album, with missy elliott, mc lyte, and free which was also used to promote the film. another of beyoncé's contributions to the soundtrack, \"summertime\", fared better on the us charts.\n",
      "Answer:\n",
      "2002\n",
      "\n",
      "=========================\n",
      "\n",
      "Context 7 :\n",
      "beyoncé has worked with tommy hilfiger for the fragrances true star (singing a cover version of \"wishing on a star\") and true star gold; she also promoted emporio armani's diamonds fragrance in 2007. beyoncé launched her first official fragrance, heat in 2010. the commercial, which featured the 1956 song \"fever\", was shown after the water shed in the united kingdom as it begins with an image of beyoncé appearing to lie naked in a room. in february 2011, beyoncé launched her second fragrance, heat rush. beyoncé's third fragrance, pulse, was launched in september 2011. in 2013, the mrs. carter show limited edition version of heat was released. the six editions of heat are the world's best-selling celebrity fragrance line, with sales of over $400 million.\n",
      "Answer:\n",
      "united kingdom\n",
      "\n",
      "=========================\n",
      "\n",
      "Context 8 :\n",
      "beyoncé giselle knowles was born in houston, texas, to celestine ann \"tina\" knowles (née beyincé), a hairdresser and salon owner, and mathew knowles, a xerox sales manager. beyoncé's name is a tribute to her mother's maiden name. beyoncé's younger sister solange is also a singer and a former member of destiny's child. mathew is african-american, while tina is of louisiana creole descent (with african, native american, french, cajun, and distant irish and spanish ancestry). through her mother, beyoncé is a descendant of acadian leader joseph broussard. she was raised in a methodist household.\n",
      "Answer:\n",
      "houston, texas\n",
      "\n",
      "=========================\n",
      "\n",
      "Context 9 :\n",
      "around the second century bc the first-known city-states emerged in central myanmar. the city-states were founded as part of the southward migration by the tibeto-burman-speaking pyu city-states, the earliest inhabitants of myanmar of whom records are extant, from present-day yunnan. the pyu culture was heavily influenced by trade with india, importing buddhism as well as other cultural, architectural and political concepts which would have an enduring influence on later burmese culture and political organisation.\n",
      "Answer:\n",
      "myanmar\n",
      "\n",
      "=========================\n",
      "\n",
      "Context 10 :\n",
      "in 2005, beyoncé teamed up with house of brands, a shoe company, to produce a range of footwear for house of deréon. in january 2008, starwave mobile launched beyoncé fashion diva, a \"high-style\" mobile game with a social networking component, featuring the house of deréon collection. in july 2009, beyoncé and her mother launched a new junior apparel label, sasha fierce for deréon, for back-to-school selling. the collection included sportswear, outerwear, handbags, footwear, eyewear, lingerie and jewelry. it was available at department stores including macy's and dillard's, and specialty stores jimmy jazz and against all odds. on may 27, 2010, beyoncé teamed up with clothing store c&a to launch deréon by beyoncé at their stores in brazil. the collection included tailored blazers with padded shoulders, little black dresses, embroidered tops and shirts and bandage dresses.\n",
      "Answer:\n",
      "brazil\n",
      "\n",
      "=========================\n",
      "\n"
     ]
    }
   ],
   "source": [
    "get_bigram_answer(\"In what city and state did Beyonce grow up? \")"
   ]
  },
  {
   "cell_type": "code",
   "execution_count": 95,
   "id": "theoretical-cedar",
   "metadata": {},
   "outputs": [
    {
     "name": "stdout",
     "output_type": "stream",
     "text": [
      "35079    between april 1877 and february 1878, she threatened five times to abdicate while pressuring disraeli to act against russia during the russo-turkish war, but her threats had no impact on the events or their conclusion with the congress of berlin. disraeli's expansionist foreign policy, which victoria endorsed, led to conflicts such as the anglo-zulu war and the second anglo-afghan war. \"if we are to maintain our position as a first-rate power\", she wrote, \"we must ... be prepared for attacks and wars, somewhere or other, continually.\" victoria saw the expansion of the british empire as civilising and benign, protecting native peoples from more aggressive powers or cruel rulers: \"it is not in our custom to annexe countries\", she said, \"unless we are obliged & forced to do so.\" to victoria's dismay, disraeli lost the 1880 general election, and gladstone returned as prime minister. when disraeli died the following year, she was blinded by \"fast falling tears\", and erected a memorial tablet \"placed by his grateful sovereign and friend, victoria r.i.\"\n",
      "34740    palmerston died in 1865, and after a brief ministry led by russell, derby returned to power. in 1866, victoria attended the state opening of parliament for the first time since albert's death. the following year she supported the passing of the reform act 1867 which doubled the electorate by extending the franchise to many urban working men, though she was not in favour of votes for women. derby resigned in 1868, to be replaced by benjamin disraeli, who charmed victoria. \"everyone likes flattery,\" he said, \"and when you come to royalty you should lay it on with a trowel.\" with the phrase \"we authors, ma'am\", he complimented her. disraeli's ministry only lasted a matter of months, and at the end of the year his liberal rival, william ewart gladstone, was appointed prime minister. victoria found gladstone's demeanour far less appealing; he spoke to her, she is thought to have complained, as though she were \"a public meeting rather than a woman\".                                                                                                         \n",
      "28613    john was incensed about what he perceived as an abrogation of his customary right as monarch to influence the election. he complained both about the choice of langton as an individual, as john felt he was overly influenced by the capetian court in paris, and about the process as a whole. he barred langton from entering england and seized the lands of the archbishopric and other papal possessions. innocent set a commission in place to try to convince john to change his mind, but to no avail. innocent then placed an interdict on england in march 1208, prohibiting clergy from conducting religious services, with the exception of baptisms for the young, and confessions and absolutions for the dying.                                                                                                                                                                                                                                                                                                                                                                       \n",
      "Name: context, dtype: object\n"
     ]
    }
   ],
   "source": [
    "print(get_bigram_matching_docs(\"Who did Victoria try to convince Disraeli  to act against during the Russo-Turkish war\"))"
   ]
  },
  {
   "cell_type": "code",
   "execution_count": null,
   "id": "rapid-oxygen",
   "metadata": {},
   "outputs": [],
   "source": []
  }
 ],
 "metadata": {
  "kernelspec": {
   "display_name": "Python 3",
   "language": "python",
   "name": "python3"
  },
  "language_info": {
   "codemirror_mode": {
    "name": "ipython",
    "version": 3
   },
   "file_extension": ".py",
   "mimetype": "text/x-python",
   "name": "python",
   "nbconvert_exporter": "python",
   "pygments_lexer": "ipython3",
   "version": "3.8.5"
  }
 },
 "nbformat": 4,
 "nbformat_minor": 5
}
