{
 "cells": [
  {
   "cell_type": "code",
   "execution_count": 1,
   "id": "caring-friday",
   "metadata": {},
   "outputs": [],
   "source": [
    "import json "
   ]
  },
  {
   "cell_type": "code",
   "execution_count": 3,
   "id": "arranged-monster",
   "metadata": {},
   "outputs": [],
   "source": [
    "with open(\"stanford-coqa/train.json\") as f:\n",
    "    raw = json.loads(f.read())"
   ]
  },
  {
   "cell_type": "code",
   "execution_count": 4,
   "id": "chronic-wrapping",
   "metadata": {},
   "outputs": [],
   "source": [
    "data = raw['data']\n",
    "\n",
    "ARTICLE = 0\n",
    "PARAGRAPH = 4\n"
   ]
  },
  {
   "cell_type": "code",
   "execution_count": 5,
   "id": "electrical-captain",
   "metadata": {},
   "outputs": [
    {
     "data": {
      "text/plain": [
       "'Beyoncé attended St. Mary\\'s Elementary School in Fredericksburg, Texas, where she enrolled in dance classes. Her singing talent was discovered when dance instructor Darlette Johnson began humming a song and she finished it, able to hit the high-pitched notes. Beyoncé\\'s interest in music and performing continued after winning a school talent show at age seven, singing John Lennon\\'s \"Imagine\" to beat 15/16-year-olds. In fall of 1990, Beyoncé enrolled in Parker Elementary School, a music magnet school in Houston, where she would perform with the school\\'s choir. She also attended the High School for the Performing and Visual Arts and later Alief Elsik High School. Beyoncé was also a member of the choir at St. John\\'s United Methodist Church as a soloist for two years.'"
      ]
     },
     "execution_count": 5,
     "metadata": {},
     "output_type": "execute_result"
    }
   ],
   "source": [
    "data[ARTICLE][\"paragraphs\"][PARAGRAPH][\"context\"]"
   ]
  },
  {
   "cell_type": "code",
   "execution_count": 6,
   "id": "selective-gender",
   "metadata": {},
   "outputs": [
    {
     "data": {
      "text/plain": [
       "[{'question': 'What town did Beyonce go to school in?',\n",
       "  'id': '56be8a583aeaaa14008c9094',\n",
       "  'answers': [{'text': 'Fredericksburg', 'answer_start': 49}],\n",
       "  'is_impossible': False},\n",
       " {'question': \"Who was the first person to notice Beyonce's singing ability?\",\n",
       "  'id': '56be8a583aeaaa14008c9095',\n",
       "  'answers': [{'text': 'Darlette Johnson', 'answer_start': 165}],\n",
       "  'is_impossible': False},\n",
       " {'question': 'Beyonce moved to which town after she left her first elementary school?',\n",
       "  'id': '56be8a583aeaaa14008c9097',\n",
       "  'answers': [{'text': 'Houston', 'answer_start': 507}],\n",
       "  'is_impossible': False},\n",
       " {'question': \"Which of her teachers discovered Beyonce's musical talent?\",\n",
       "  'id': '56bf76ef3aeaaa14008c9664',\n",
       "  'answers': [{'text': 'dance instructor Darlette Johnson',\n",
       "    'answer_start': 148}],\n",
       "  'is_impossible': False},\n",
       " {'question': 'I which church was Beyonce  a member and soloist  in the choir?',\n",
       "  'id': '56bf76ef3aeaaa14008c9665',\n",
       "  'answers': [{'text': \"St. John's United Methodist Church\",\n",
       "    'answer_start': 711}],\n",
       "  'is_impossible': False},\n",
       " {'question': 'What type of school was Parker Elementary School?',\n",
       "  'id': '56bf76ef3aeaaa14008c9666',\n",
       "  'answers': [{'text': 'music magnet school', 'answer_start': 484}],\n",
       "  'is_impossible': False},\n",
       " {'question': 'Which song did Beyonce sing to win a competition at age 7?',\n",
       "  'id': '56bf76ef3aeaaa14008c9667',\n",
       "  'answers': [{'text': 'Imagine', 'answer_start': 385}],\n",
       "  'is_impossible': False},\n",
       " {'question': \"What city was Beyoncé's elementary school located in?\",\n",
       "  'id': '56d443ef2ccc5a1400d830db',\n",
       "  'answers': [{'text': 'Fredericksburg', 'answer_start': 49}],\n",
       "  'is_impossible': False},\n",
       " {'question': \"What was the name of Beyoncé's first dance instructor?\",\n",
       "  'id': '56d443ef2ccc5a1400d830dc',\n",
       "  'answers': [{'text': 'Darlette Johnson', 'answer_start': 165}],\n",
       "  'is_impossible': False},\n",
       " {'question': 'How old was Beyoncé when she won a school talent show?',\n",
       "  'id': '56d443ef2ccc5a1400d830dd',\n",
       "  'answers': [{'text': 'seven', 'answer_start': 355}],\n",
       "  'is_impossible': False},\n",
       " {'question': 'What choir did Beyoncé sing in for two years?',\n",
       "  'id': '56d443ef2ccc5a1400d830df',\n",
       "  'answers': [{'text': \"St. John's United Methodist Church\",\n",
       "    'answer_start': 711}],\n",
       "  'is_impossible': False}]"
      ]
     },
     "execution_count": 6,
     "metadata": {},
     "output_type": "execute_result"
    }
   ],
   "source": [
    "data[ARTICLE][\"paragraphs\"][PARAGRAPH][\"qas\"]"
   ]
  },
  {
   "cell_type": "code",
   "execution_count": 7,
   "id": "ranking-lotus",
   "metadata": {},
   "outputs": [
    {
     "data": {
      "text/plain": [
       "'Beyoncé'"
      ]
     },
     "execution_count": 7,
     "metadata": {},
     "output_type": "execute_result"
    }
   ],
   "source": [
    "data[ARTICLE][\"title\"]\n"
   ]
  },
  {
   "cell_type": "code",
   "execution_count": 8,
   "id": "formal-operation",
   "metadata": {},
   "outputs": [],
   "source": [
    "import pandas as pd"
   ]
  },
  {
   "cell_type": "code",
   "execution_count": 11,
   "id": "classical-bulgarian",
   "metadata": {},
   "outputs": [],
   "source": [
    "out = []\n",
    "\n",
    "for article in data:\n",
    "    \n",
    "    title = article[\"title\"]\n",
    "    \n",
    "    for paragraph in article[\"paragraphs\"]:\n",
    "        \n",
    "        context = paragraph[\"context\"]\n",
    "        \n",
    "        for qa in paragraph[\"qas\"]:\n",
    "            \n",
    "            question = qa[\"question\"]\n",
    "            qid = qa[\"id\"]\n",
    "            is_impossible = qa[\"is_impossible\"]\n",
    "        \n",
    "            for answer in qa[\"answers\"]:\n",
    "                answer_start = answer[\"answer_start\"]\n",
    "                answer_text = answer[\"text\"]\n",
    "        \n",
    "                out.append({\n",
    "                    \"title\": title,\n",
    "                    \"context\": context,\n",
    "                    \"question\": question,\n",
    "                    \"question_id\": qid,\n",
    "                    \"is_impossible\": is_impossible,\n",
    "                    \"answer_start\": answer_start,\n",
    "                    \"answer_text\": answer_text\n",
    "                })\n",
    "    \n",
    "pd.DataFrame(out).to_csv(\"data.csv\", index=False, sep=\"\\t\")"
   ]
  },
  {
   "cell_type": "code",
   "execution_count": null,
   "id": "empty-connectivity",
   "metadata": {},
   "outputs": [],
   "source": []
  },
  {
   "cell_type": "code",
   "execution_count": null,
   "id": "conceptual-therapy",
   "metadata": {},
   "outputs": [],
   "source": []
  }
 ],
 "metadata": {
  "kernelspec": {
   "display_name": "Python 3",
   "language": "python",
   "name": "python3"
  },
  "language_info": {
   "codemirror_mode": {
    "name": "ipython",
    "version": 3
   },
   "file_extension": ".py",
   "mimetype": "text/x-python",
   "name": "python",
   "nbconvert_exporter": "python",
   "pygments_lexer": "ipython3",
   "version": "3.9.1"
  }
 },
 "nbformat": 4,
 "nbformat_minor": 5
}
